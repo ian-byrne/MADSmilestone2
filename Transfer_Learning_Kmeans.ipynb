{
  "nbformat": 4,
  "nbformat_minor": 0,
  "metadata": {
    "colab": {
      "name": "Transfer Learning Kmeans.ipynb",
      "provenance": [],
      "collapsed_sections": [],
      "machine_shape": "hm",
      "authorship_tag": "ABX9TyNWzQY3bOuaeQMejmijWej9",
      "include_colab_link": true
    },
    "kernelspec": {
      "display_name": "Python 3",
      "name": "python3"
    },
    "language_info": {
      "name": "python"
    }
  },
  "cells": [
    {
      "cell_type": "markdown",
      "metadata": {
        "id": "view-in-github",
        "colab_type": "text"
      },
      "source": [
        "<a href=\"https://colab.research.google.com/github/ian-byrne/MADSmilestone2/blob/main/Transfer_Learning_Kmeans.ipynb\" target=\"_parent\"><img src=\"https://colab.research.google.com/assets/colab-badge.svg\" alt=\"Open In Colab\"/></a>"
      ]
    },
    {
      "cell_type": "code",
      "metadata": {
        "colab": {
          "base_uri": "https://localhost:8080/"
        },
        "id": "1bkxj5ev_zKj",
        "outputId": "fcd1e8ba-628a-4acf-f1af-6f1e4bdfe42a"
      },
      "source": [
        "# Clone the entire repo.\n",
        "!git clone -l -s https://github.com/ian-byrne/MADSmilestone2.git\n",
        "\n",
        "# Change directory into cloned repo\n",
        "%cd MADSmilestone2\n",
        "\n",
        "# List repo contents\n",
        "!ls"
      ],
      "execution_count": 1,
      "outputs": [
        {
          "output_type": "stream",
          "name": "stdout",
          "text": [
            "Cloning into 'MADSmilestone2'...\n",
            "warning: --local is ignored\n",
            "remote: Enumerating objects: 704, done.\u001b[K\n",
            "remote: Counting objects: 100% (704/704), done.\u001b[K\n",
            "remote: Compressing objects: 100% (597/597), done.\u001b[K\n",
            "remote: Total 704 (delta 379), reused 229 (delta 97), pack-reused 0\u001b[K\n",
            "Receiving objects: 100% (704/704), 6.72 MiB | 8.45 MiB/s, done.\n",
            "Resolving deltas: 100% (379/379), done.\n",
            "/content/MADSmilestone2\n",
            "Analysis.ipynb\t\tLabeling\t      README.md\n",
            "CNN2_scores.ipynb\tLoading\t\t      Supervised_CNN.ipynb\n",
            "Data\t\t\tModel_Datasets.ipynb  Transfer_Learning_Kmeans.ipynb\n",
            "dataloader_tests.ipynb\tmultimodel1.ipynb\n",
            "ImagePlayground\t\tmultimodel2.ipynb\n"
          ]
        }
      ]
    },
    {
      "cell_type": "code",
      "metadata": {
        "colab": {
          "base_uri": "https://localhost:8080/"
        },
        "id": "AlOtXXtK8so8",
        "outputId": "4bb34398-4103-4590-ec1e-e57239dd53cd"
      },
      "source": [
        "!pip install boto3 torchmetrics\n",
        "from tqdm import tqdm\n",
        "import boto3\n",
        "import io\n",
        "import logging\n",
        "import os\n",
        "import ast\n",
        "import torch\n",
        "import pandas as pd\n",
        "import numpy as np\n",
        "import matplotlib.pyplot as plt\n",
        "from PIL import Image\n",
        "from torch.utils.data import Dataset, DataLoader\n",
        "from tqdm import tqdm\n",
        "import Loading.load_data as ld\n",
        "\n",
        "\n",
        "# Pytroch Libraries\n",
        "import torch\n",
        "import torch.nn as nn\n",
        "import torch.nn.functional as F\n",
        "import torchvision\n",
        "import torchvision.transforms as transforms\n",
        "from torch.nn import Linear, ReLU, CrossEntropyLoss, Sequential, Conv2d, MaxPool2d, Module, Softmax, BatchNorm2d, Dropout\n",
        "from torch.optim import Adam, SGD\n",
        "from torch.optim import lr_scheduler\n",
        "from torch.optim.lr_scheduler import ReduceLROnPlateau\n",
        "from torch.utils.data import Dataset, DataLoader\n",
        "import torchvision.models as models\n",
        "import torchmetrics\n",
        "from torch.autograd import Variable\n",
        "import botocore\n",
        "\n",
        "import tempfile\n"
      ],
      "execution_count": 2,
      "outputs": [
        {
          "output_type": "stream",
          "name": "stdout",
          "text": [
            "Collecting boto3\n",
            "  Downloading boto3-1.18.48-py3-none-any.whl (131 kB)\n",
            "\u001b[K     |████████████████████████████████| 131 kB 4.3 MB/s \n",
            "\u001b[?25hCollecting torchmetrics\n",
            "  Downloading torchmetrics-0.5.1-py3-none-any.whl (282 kB)\n",
            "\u001b[K     |████████████████████████████████| 282 kB 44.0 MB/s \n",
            "\u001b[?25hCollecting jmespath<1.0.0,>=0.7.1\n",
            "  Downloading jmespath-0.10.0-py2.py3-none-any.whl (24 kB)\n",
            "Collecting s3transfer<0.6.0,>=0.5.0\n",
            "  Downloading s3transfer-0.5.0-py3-none-any.whl (79 kB)\n",
            "\u001b[K     |████████████████████████████████| 79 kB 8.5 MB/s \n",
            "\u001b[?25hCollecting botocore<1.22.0,>=1.21.48\n",
            "  Downloading botocore-1.21.48-py3-none-any.whl (7.9 MB)\n",
            "\u001b[K     |████████████████████████████████| 7.9 MB 46.5 MB/s \n",
            "\u001b[?25hRequirement already satisfied: python-dateutil<3.0.0,>=2.1 in /usr/local/lib/python3.7/dist-packages (from botocore<1.22.0,>=1.21.48->boto3) (2.8.2)\n",
            "Collecting urllib3<1.27,>=1.25.4\n",
            "  Downloading urllib3-1.26.7-py2.py3-none-any.whl (138 kB)\n",
            "\u001b[K     |████████████████████████████████| 138 kB 43.0 MB/s \n",
            "\u001b[?25hRequirement already satisfied: six>=1.5 in /usr/local/lib/python3.7/dist-packages (from python-dateutil<3.0.0,>=2.1->botocore<1.22.0,>=1.21.48->boto3) (1.15.0)\n",
            "Requirement already satisfied: packaging in /usr/local/lib/python3.7/dist-packages (from torchmetrics) (21.0)\n",
            "Requirement already satisfied: torch>=1.3.1 in /usr/local/lib/python3.7/dist-packages (from torchmetrics) (1.9.0+cu102)\n",
            "Requirement already satisfied: numpy>=1.17.2 in /usr/local/lib/python3.7/dist-packages (from torchmetrics) (1.19.5)\n",
            "Requirement already satisfied: typing-extensions in /usr/local/lib/python3.7/dist-packages (from torch>=1.3.1->torchmetrics) (3.7.4.3)\n",
            "Requirement already satisfied: pyparsing>=2.0.2 in /usr/local/lib/python3.7/dist-packages (from packaging->torchmetrics) (2.4.7)\n",
            "Installing collected packages: urllib3, jmespath, botocore, s3transfer, torchmetrics, boto3\n",
            "  Attempting uninstall: urllib3\n",
            "    Found existing installation: urllib3 1.24.3\n",
            "    Uninstalling urllib3-1.24.3:\n",
            "      Successfully uninstalled urllib3-1.24.3\n",
            "\u001b[31mERROR: pip's dependency resolver does not currently take into account all the packages that are installed. This behaviour is the source of the following dependency conflicts.\n",
            "requests 2.23.0 requires urllib3!=1.25.0,!=1.25.1,<1.26,>=1.21.1, but you have urllib3 1.26.7 which is incompatible.\n",
            "datascience 0.10.6 requires folium==0.2.1, but you have folium 0.8.3 which is incompatible.\u001b[0m\n",
            "Successfully installed boto3-1.18.48 botocore-1.21.48 jmespath-0.10.0 s3transfer-0.5.0 torchmetrics-0.5.1 urllib3-1.26.7\n"
          ]
        },
        {
          "output_type": "stream",
          "name": "stderr",
          "text": [
            "/usr/local/lib/python3.7/dist-packages/requests/__init__.py:91: RequestsDependencyWarning: urllib3 (1.26.7) or chardet (3.0.4) doesn't match a supported version!\n",
            "  RequestsDependencyWarning)\n"
          ]
        }
      ]
    },
    {
      "cell_type": "code",
      "metadata": {
        "colab": {
          "base_uri": "https://localhost:8080/"
        },
        "id": "2QsWRQUX6IeJ",
        "outputId": "f2a78c9a-e431-4b97-915c-5c7508100229"
      },
      "source": [
        "from google.colab import drive\n",
        "drive.mount('/content/gdrive')"
      ],
      "execution_count": 3,
      "outputs": [
        {
          "output_type": "stream",
          "name": "stdout",
          "text": [
            "Mounted at /content/gdrive\n"
          ]
        }
      ]
    },
    {
      "cell_type": "code",
      "metadata": {
        "id": "KJg73_9odYlp"
      },
      "source": [
        "# also import keys for aws connection\n",
        "from gdrive.MyDrive.Colab_Notebooks.clocks_aws_config import clockss3\n",
        "pubkey = clockss3['accessCode']\n",
        "seckey = clockss3['secretCode']\n",
        "client = boto3.client('s3', aws_access_key_id=pubkey, aws_secret_access_key=seckey)\n",
        "#response = client.list_buckets()"
      ],
      "execution_count": 4,
      "outputs": []
    },
    {
      "cell_type": "code",
      "metadata": {
        "id": "a587eJhXj6AN"
      },
      "source": [
        "path = '/content/MADSmilestone2/Data/Dictionaries/dementia_label_dicts/roundIdLabelDict.txt'\n",
        "cust_file = open(path, \"r\")\n",
        "#print(cust_file.readline())\n",
        "contents = cust_file.read() \n",
        "dictionarytr = ast.literal_eval(contents)\n",
        "cust_file.close()\n",
        "\n",
        "path1 = '/content/MADSmilestone2/Data/Dictionaries/dementia_label_dicts/val_dict_nhat.txt'\n",
        "cust_file = open(path1, \"r\")\n",
        "#print(cust_file.readline())\n",
        "contents = cust_file.read()\n",
        "dictionaryv = ast.literal_eval(contents)\n",
        "cust_file.close()\n",
        "\n",
        "path2 = '/content/MADSmilestone2/Data/Dictionaries/dementia_label_dicts/test_dict_nhat.txt'\n",
        "cust_file = open(path2, \"r\")\n",
        "#print(cust_file.readline())\n",
        "contents = cust_file.read()\n",
        "dictionaryts = ast.literal_eval(contents)\n",
        "cust_file.close()"
      ],
      "execution_count": 105,
      "outputs": []
    },
    {
      "cell_type": "code",
      "metadata": {
        "id": "jbMI4s9hk5QE"
      },
      "source": [
        "# Define some of the loader variables\n",
        "train_batch_size = 1\n",
        "val_batch = 4\n",
        "test_batch = 1\n",
        "#rgb_val = None\n",
        "rnd = 3\n",
        "\n",
        "normalize_ = 'False'\n",
        "numpy_ = 'False'"
      ],
      "execution_count": 122,
      "outputs": []
    },
    {
      "cell_type": "code",
      "metadata": {
        "id": "YAA3aUxbkiKO"
      },
      "source": [
        "class ResizedClocks():\n",
        "    #Resized clock drawing dataset\n",
        "\n",
        "    def __init__(self, round, round_labels, rgb = None, transform = None):\n",
        "        \n",
        "       # Args:\n",
        "           # round (int): Round to grab images from. \n",
        "           # values (list of tuples): Corresponding values for the round.\n",
        "        \n",
        "        self.round = round\n",
        "        self.vals = round_labels\n",
        "        self.client = boto3.client('s3', \n",
        "                                    aws_access_key_id=pubkey, \n",
        "                                    aws_secret_access_key=seckey)\n",
        "        self.transform = transform\n",
        "        self.rgb = rgb\n",
        "    \n",
        "    def __len__(self):\n",
        "        return len(self.vals)\n",
        "\n",
        "    #def get_labels(self, idx):\n",
        "        #return self.vals[idx][1]#self.vals[:, 1]\n",
        "\n",
        "    def __getitem__(self, idx):\n",
        "        spid = self.vals[idx][0]\n",
        "        label = torch.tensor(int(self.vals[idx][1]))\n",
        "        bucket = \"clockimages\" #\"test-bucket-clockids-aicrowd\"\n",
        "        obj_name = f\"NHATS_R{self.round}_ClockDrawings/{spid}.tif\" #f\"{self.round}_{spid}.tif\"\n",
        "        #filename = str(spid)+\".tif\"\n",
        "        temp = tempfile.NamedTemporaryFile()\n",
        "\n",
        "        try:\n",
        "          client.download_file(bucket, obj_name, temp.name)# filename)\n",
        "\n",
        "          im = Image.open(temp.name)#filename)\n",
        "\n",
        "          if self.rgb:\n",
        "            #print('rgb')\n",
        "            gray = im.convert('RGB')\n",
        "            \n",
        "          else:\n",
        "            #print('gray')\n",
        "            gray = im.convert('1')\n",
        "\n",
        "            \n",
        "          resized = gray.resize((284, 368))#160, 207))#(2560, 3312)) \n",
        "          #resized = gray.resize((512, 662)) \n",
        "          im_arr = np.float32(np.array(resized))#.astype(float)\n",
        "          \n",
        "\n",
        "          if self.transform:\n",
        "            im_arr = self.transform(im_arr)\n",
        "\n",
        "          #sample = {'image': im_arr, 'label': label}\n",
        "        \n",
        "          temp.close()\n",
        "\n",
        "          return im_arr, label\n",
        "          \n",
        "        except botocore.exceptions.ClientError as e:\n",
        "          return \n",
        "\n",
        "\n",
        "\n",
        "\n",
        "\n",
        "\n",
        "def collate_fn(batch):\n",
        "  \"\"\"From pytorch - way to bypass corrupt or non-existent data\"\"\"\n",
        "  batch = list(filter(lambda x: x is not None, batch))\n",
        "  return torch.utils.data.dataloader.default_collate(batch)\n",
        "\n",
        "\n",
        "\n",
        "\n",
        "\n",
        "# initialize transformation: data to tensor and normalize\n",
        "# Could probably resize using torch.transforms\n",
        "\n",
        "\n",
        "if normalize_ == 'True':\n",
        "  processes = transforms.Compose([\n",
        "          transforms.ToTensor(),\n",
        "          transforms.Normalize([0.485, 0.456, 0.406], [0.229, 0.224, 0.225])\n",
        "      ])\n",
        "  rgb_val = 'True'\n",
        "else:\n",
        "  processes = transforms.ToTensor()\n",
        "  rgb_val = None\n",
        "\n",
        "\n",
        "\n",
        "# Define which round to get data from\n",
        "if numpy_ == 'False':\n",
        "  # Get the data from S3 and perform transformations\n",
        "  train_set = ResizedClocks(rnd, dictionarytr[rnd], transform = processes, rgb = rgb_val)\n",
        "  val_set = ResizedClocks(rnd, dictionaryv[rnd], transform = processes, rgb = rgb_val)\n",
        "  test_set = ResizedClocks(rnd, dictionaryts[rnd], transform = processes, rgb = rgb_val)\n",
        "\n",
        "\n",
        "# Define Dataloaders for the network\n",
        "train_loader = torch.utils.data.DataLoader(train_set, batch_size = train_batch_size, shuffle = True, num_workers = 6, collate_fn=collate_fn) \n",
        "validate_loader = torch.utils.data.DataLoader(val_set, batch_size = val_batch, shuffle = True, num_workers = 6, collate_fn=collate_fn) #64, 8,1\n",
        "\n",
        "\n",
        "# For round 10, there are some corrupt data that when batched at size 1 is not taken\n",
        "# care of by the collate function, but Nonechucks library skips the missing data and \n",
        "# moves on, replacing that missing data index with the next piece of data\n",
        "# could probably just use this in place of collate for all the loading\n",
        "if rnd == 10:\n",
        "  !pip install nonechucks\n",
        "  import nonechucks as nc\n",
        "  test_set_safe = nc.SafeDataset(test_set)\n",
        "  test_loader = torch.utils.data.DataLoader(test_set_safe, batch_size = test_batch, shuffle = False)\n",
        "\n",
        "else:\n",
        "  test_loader = torch.utils.data.DataLoader(test_set, batch_size = test_batch, shuffle = False, collate_fn=collate_fn)"
      ],
      "execution_count": 123,
      "outputs": []
    },
    {
      "cell_type": "code",
      "metadata": {
        "id": "A6m6xdD8plDQ"
      },
      "source": [
        "#original size: 2560, 3312\n",
        "class ConvNet(nn.Module):\n",
        "  def __init__(self):\n",
        "    super(ConvNet, self).__init__()\n",
        "    \n",
        "    # without considering batch size: Input shape : (None,368, 284, 1) , parameters: (3*3*1*16+16) = 160\n",
        "    self.conv1 = nn.Conv2d(in_channels = 1, out_channels = 16, # one input channel gray scale, 16 filters out\n",
        "                            kernel_size = 3, stride = 1, padding = 1) #Out:(None,386, 284, 16). ### TRY kernel 7x7 padding 3\n",
        "    self.conv2 = nn.Conv2d(in_channels = 16, out_channels = 32, \n",
        "                          kernel_size = 3, stride = 1, padding = 1) #params: (3*3*16*32+32) = 4640                        \n",
        "    self.pool1 = nn.MaxPool2d(2, 2) #Out: (None, 184, 142, 32) \n",
        "    self.bn1 = nn.BatchNorm2d(32)\n",
        "\n",
        "    self.conv3 = nn.Conv2d(in_channels = 32, out_channels = 64, \n",
        "                          kernel_size = 3, stride = 1, padding = 1) #params: (3*3*16*32+32) = 4640    \n",
        "    self.conv4 = nn.Conv2d(in_channels = 64, out_channels = 64, \n",
        "                          kernel_size = 3, stride = 1, padding = 1) # params: (3*3*32*32+32) = 9248                    \n",
        "    self.pool2 = nn.MaxPool2d(2, 2) #Output shape = (None, 92, 71, 64) \n",
        "    self.bn2 = nn.BatchNorm2d(64)  \n",
        "\n",
        "    #self.conv5 = nn.Conv2d(in_channels = 64, out_channels = 128, \n",
        "                          #kernel_size = 3, stride = 1, padding = 1) # params: (3*3*32*32+32) = 9248 \n",
        "    self.conv6 = nn.Conv2d(in_channels = 64, out_channels = 128, \n",
        "                          kernel_size = 3, stride = 1, padding = 1) # params: (3*3*32*32+32) = 9248\n",
        "    self.pool3 = nn.MaxPool2d(2, 2) #Output shape = (None, 46, 35, 128) \n",
        "    self.bn3 = nn.BatchNorm2d(128)\n",
        "    self.do2 = nn.Dropout(0.3)\n",
        "                                   \n",
        "                             \n",
        "    # Fully connected layer\n",
        "    self.fc1 = nn.Linear(128*64*82,60) #most recent original size of: 512, 662 -->64 x 82\n",
        "    self.do3 = nn.Dropout(0.4) #40 % probability  \n",
        "    #self.fc3 = nn.Linear(60, 30)\n",
        "    self.fc2 = nn.Linear(60, 3) # left with 3 for the three classes                     \n",
        "\n",
        "\n",
        "\n",
        "  def forward(self, x):\n",
        "    x = self.bn1(self.pool1(F.relu(self.conv2(F.relu(self.conv1(x))))))\n",
        "    x = self.bn2(self.pool2(F.relu(self.conv4(F.relu(self.conv3(x))))))\n",
        "    #x = self.bn3(self.pool3(F.relu(self.conv6(F.relu(self.conv5(x))))))\n",
        "    x = self.bn3(self.pool3(F.relu(self.conv6((x)))))\n",
        "    x = self.do2(x)\n",
        "    x = x.view(x.size(0),128*64*82)\n",
        "    x = F.relu(self.fc1(x))\n",
        "    x = self.do3(x)\n",
        "    x = self.fc2(x)\n",
        "    return x              "
      ],
      "execution_count": null,
      "outputs": []
    },
    {
      "cell_type": "markdown",
      "metadata": {
        "id": "0rAWdxiWkyyU"
      },
      "source": [
        "# Resnet50 + KMeans"
      ]
    },
    {
      "cell_type": "code",
      "metadata": {
        "id": "r-b8Nx4kUrug",
        "colab": {
          "base_uri": "https://localhost:8080/"
        },
        "outputId": "a0f5e352-e0e3-4d9e-870d-987f7cf449c9"
      },
      "source": [
        "import torch\n",
        "import torchvision.models as models\n",
        "import torch.nn as nn\n",
        "# Set to GPU\n",
        "device = torch.device('cuda:0' if torch.cuda.is_available() else 'cpu')\n",
        "\n",
        "mod = 'conv'\n",
        "\n",
        "if mod == 'res':\n",
        "  model_ext = 'res7'\n",
        "  mPATH = '/content/gdrive/MyDrive/Colab Notebooks/Models/cnn_512_662.model{}'.format(model_ext)\n",
        "  model = models.resnet50()#'pretrained')\n",
        "  num_ftrs = model.fc.in_features\n",
        "  model.fc = nn.Linear(num_ftrs, 3)\n",
        "  model.load_state_dict(torch.load(mPATH))\n",
        "  model.to(device)\n",
        "  print(\"Res half data\")\n",
        "\n",
        "if mod == 'conv':\n",
        "  model_ext = '4_fix'\n",
        "  mPATH = '/content/gdrive/MyDrive/Colab Notebooks/Models/cnn_512_662.model{}'.format(model_ext)\n",
        "  model = ConvNet()\n",
        "  #model.load_state_dict(torch.load(mPATH, map_location=torch.device('cpu')))\n",
        "  model.load_state_dict(torch.load(mPATH))\n",
        "  model.to(device)\n",
        "  print(\"conv\")\n",
        "\n",
        "if mod == 'res50':\n",
        "  model = models.resnet50(pretrained = True)\n",
        "  num_ftrs = model.fc.in_features\n",
        "  model.fc = nn.Linear(num_ftrs, 3)\n",
        "  model = model.to(device)\n",
        "  print(\"res 50 pretrained\")"
      ],
      "execution_count": null,
      "outputs": [
        {
          "output_type": "stream",
          "name": "stdout",
          "text": [
            "conv\n"
          ]
        }
      ]
    },
    {
      "cell_type": "code",
      "metadata": {
        "colab": {
          "base_uri": "https://localhost:8080/"
        },
        "id": "xKfY7L8urOZT",
        "outputId": "1a9cb337-7919-4cbd-edee-1951f6f64e7e"
      },
      "source": [
        "model"
      ],
      "execution_count": null,
      "outputs": [
        {
          "output_type": "execute_result",
          "data": {
            "text/plain": [
              "ConvNet(\n",
              "  (conv1): Conv2d(1, 16, kernel_size=(3, 3), stride=(1, 1), padding=(1, 1))\n",
              "  (conv2): Conv2d(16, 32, kernel_size=(3, 3), stride=(1, 1), padding=(1, 1))\n",
              "  (pool1): MaxPool2d(kernel_size=2, stride=2, padding=0, dilation=1, ceil_mode=False)\n",
              "  (bn1): BatchNorm2d(32, eps=1e-05, momentum=0.1, affine=True, track_running_stats=True)\n",
              "  (conv3): Conv2d(32, 64, kernel_size=(3, 3), stride=(1, 1), padding=(1, 1))\n",
              "  (conv4): Conv2d(64, 64, kernel_size=(3, 3), stride=(1, 1), padding=(1, 1))\n",
              "  (pool2): MaxPool2d(kernel_size=2, stride=2, padding=0, dilation=1, ceil_mode=False)\n",
              "  (bn2): BatchNorm2d(64, eps=1e-05, momentum=0.1, affine=True, track_running_stats=True)\n",
              "  (conv6): Conv2d(64, 128, kernel_size=(3, 3), stride=(1, 1), padding=(1, 1))\n",
              "  (pool3): MaxPool2d(kernel_size=2, stride=2, padding=0, dilation=1, ceil_mode=False)\n",
              "  (bn3): BatchNorm2d(128, eps=1e-05, momentum=0.1, affine=True, track_running_stats=True)\n",
              "  (do2): Dropout(p=0.3, inplace=False)\n",
              "  (fc1): Linear(in_features=671744, out_features=60, bias=True)\n",
              "  (do3): Dropout(p=0.4, inplace=False)\n",
              "  (fc2): Linear(in_features=60, out_features=3, bias=True)\n",
              ")"
            ]
          },
          "metadata": {},
          "execution_count": 149
        }
      ]
    },
    {
      "cell_type": "code",
      "metadata": {
        "id": "Ij-c1MqHAFzc"
      },
      "source": [
        "import torch.nn as nn\n",
        "# Remove prediction layer (last fc layer)\n",
        "model_1 = nn.Sequential(*list(model.children())[:-3])"
      ],
      "execution_count": null,
      "outputs": []
    },
    {
      "cell_type": "code",
      "metadata": {
        "colab": {
          "base_uri": "https://localhost:8080/"
        },
        "id": "nPSmio_aA2RF",
        "outputId": "457f37c7-dbd7-442a-865e-7b76530c1dd5"
      },
      "source": [
        "# Use model for evaluation\n",
        "model_1.eval()"
      ],
      "execution_count": null,
      "outputs": [
        {
          "output_type": "execute_result",
          "data": {
            "text/plain": [
              "Sequential(\n",
              "  (0): Conv2d(1, 16, kernel_size=(3, 3), stride=(1, 1), padding=(1, 1))\n",
              "  (1): Conv2d(16, 32, kernel_size=(3, 3), stride=(1, 1), padding=(1, 1))\n",
              "  (2): MaxPool2d(kernel_size=2, stride=2, padding=0, dilation=1, ceil_mode=False)\n",
              "  (3): BatchNorm2d(32, eps=1e-05, momentum=0.1, affine=True, track_running_stats=True)\n",
              "  (4): Conv2d(32, 64, kernel_size=(3, 3), stride=(1, 1), padding=(1, 1))\n",
              "  (5): Conv2d(64, 64, kernel_size=(3, 3), stride=(1, 1), padding=(1, 1))\n",
              "  (6): MaxPool2d(kernel_size=2, stride=2, padding=0, dilation=1, ceil_mode=False)\n",
              "  (7): BatchNorm2d(64, eps=1e-05, momentum=0.1, affine=True, track_running_stats=True)\n",
              "  (8): Conv2d(64, 128, kernel_size=(3, 3), stride=(1, 1), padding=(1, 1))\n",
              "  (9): MaxPool2d(kernel_size=2, stride=2, padding=0, dilation=1, ceil_mode=False)\n",
              "  (10): BatchNorm2d(128, eps=1e-05, momentum=0.1, affine=True, track_running_stats=True)\n",
              "  (11): Dropout(p=0.3, inplace=False)\n",
              ")"
            ]
          },
          "metadata": {},
          "execution_count": 151
        }
      ]
    },
    {
      "cell_type": "code",
      "metadata": {
        "colab": {
          "base_uri": "https://localhost:8080/"
        },
        "id": "_GDqbInOVXbO",
        "outputId": "0d278bfe-f3e6-4f19-b1e3-093276406f3c"
      },
      "source": [
        "X = []\n",
        "\n",
        "for x, lb in tqdm(test_loader):\n",
        "  #output = feature_extractor(x).reshape(-1, 512) # output now has the features corresponding to input x\n",
        "  #print(output.shape)\n",
        "  #output_arr.copy_(output)\n",
        "  #out_arr.append(output)\n",
        "  x = x.to(device)\n",
        "  #ims.append(x)\n",
        "  #print(\"Image shape before model: \", im1.shape)\n",
        "  preds = model_1(x)\n",
        "  #print(\"preds shape after model: \", preds.shape)\n",
        "  X.append(preds.cpu())"
      ],
      "execution_count": null,
      "outputs": [
        {
          "output_type": "stream",
          "name": "stderr",
          "text": [
            "100%|██████████| 254/254 [01:57<00:00,  2.17it/s]\n"
          ]
        }
      ]
    },
    {
      "cell_type": "code",
      "metadata": {
        "colab": {
          "base_uri": "https://localhost:8080/"
        },
        "id": "oCrc8SzhOZXL",
        "outputId": "bb93be80-48fe-422a-e2c8-6862c1cc7700"
      },
      "source": [
        "X[0].shape"
      ],
      "execution_count": null,
      "outputs": [
        {
          "output_type": "execute_result",
          "data": {
            "text/plain": [
              "torch.Size([1, 128, 25, 20])"
            ]
          },
          "metadata": {},
          "execution_count": 155
        }
      ]
    },
    {
      "cell_type": "code",
      "metadata": {
        "colab": {
          "base_uri": "https://localhost:8080/"
        },
        "id": "AaI9qENXoBXV",
        "outputId": "fbcf4201-3293-408a-af99-5fc5ebd5b8aa"
      },
      "source": [
        "x_ = np.array([t.cpu().detach().numpy() for t in X])\n",
        "#x_ = np.array([t for t in X])\n",
        "print(\"shape: \", x_.shape)"
      ],
      "execution_count": null,
      "outputs": [
        {
          "output_type": "stream",
          "name": "stdout",
          "text": [
            "shape:  (254, 1, 128, 25, 20)\n"
          ]
        }
      ]
    },
    {
      "cell_type": "code",
      "metadata": {
        "colab": {
          "base_uri": "https://localhost:8080/"
        },
        "id": "c0L28x_VO4hN",
        "outputId": "721b86c6-6fab-47a5-9c5f-6abbeb5b385e"
      },
      "source": [
        "w = x_.reshape(x_.shape[0], -1)\n",
        "w.shape"
      ],
      "execution_count": null,
      "outputs": [
        {
          "output_type": "execute_result",
          "data": {
            "text/plain": [
              "(254, 64000)"
            ]
          },
          "metadata": {},
          "execution_count": 157
        }
      ]
    },
    {
      "cell_type": "code",
      "metadata": {
        "colab": {
          "base_uri": "https://localhost:8080/"
        },
        "id": "LEf9iFTxSaJK",
        "outputId": "2c69d6f7-eedb-4d94-cc8d-c7946ef74a25"
      },
      "source": [
        "from sklearn.decomposition import PCA\n",
        "# Make an instance of the Model\n",
        "variance = 0.98 #The higher the explained variance the more accurate the model will remain, but more dimensions will be present\n",
        "pca = PCA(variance)\n",
        "\n",
        "pca.fit(w) #fit the data according to our PCA instance\n",
        "print(\"Number of components before PCA  = \" + str(w.shape[1]))\n",
        "print(\"Number of components after PCA 0.98 = \" + str(pca.n_components_)) \n",
        "#dimension reduced from 784\n"
      ],
      "execution_count": null,
      "outputs": [
        {
          "output_type": "stream",
          "name": "stdout",
          "text": [
            "Number of components before PCA  = 64000\n",
            "Number of components after PCA 0.98 = 221\n"
          ]
        }
      ]
    },
    {
      "cell_type": "code",
      "metadata": {
        "colab": {
          "base_uri": "https://localhost:8080/"
        },
        "id": "u2fA1SXiS7pX",
        "outputId": "7dc8692c-d769-458b-c3cf-bbe7e6d59669"
      },
      "source": [
        "w_pca = pca.transform(w)\n",
        "print(\"Dim after PCA: \", w_pca.shape)"
      ],
      "execution_count": null,
      "outputs": [
        {
          "output_type": "stream",
          "name": "stdout",
          "text": [
            "Dim after PCA:  (254, 221)\n"
          ]
        }
      ]
    },
    {
      "cell_type": "code",
      "metadata": {
        "id": "TZB7kHJKPc1J"
      },
      "source": [
        "from sklearn.cluster import KMeans\n",
        "from sklearn.metrics import silhouette_score\n",
        "sil_score = []\n",
        "kl = []\n",
        "k_max = 9\n",
        "\n",
        "for k in range(2, k_max+1):\n",
        "  kmeans2 = KMeans(n_clusters = k).fit(w)\n",
        "  labels = kmeans2.labels_\n",
        "  sil_score.append(silhouette_score(w, labels, metric = 'euclidean'))\n",
        "  kl.append(k)"
      ],
      "execution_count": null,
      "outputs": []
    },
    {
      "cell_type": "code",
      "metadata": {
        "colab": {
          "base_uri": "https://localhost:8080/",
          "height": 307
        },
        "id": "0YyDD2knPkOb",
        "outputId": "e64d5e99-529a-4510-9617-42acf638b991"
      },
      "source": [
        "sil_name = 'cnn_7_sil.png'\n",
        "plt.plot(kl, sil_score)\n",
        "plt.ylabel('Silhoutte Score')\n",
        "plt.xlabel('Best K for KMeans')\n",
        "plt.title('fit to test round 7')\n",
        "plt.suptitle('Scratch CNN, trained on 100% dataset')\n",
        "#plt.title('Res trained on 50% dataset and fit to Round 7')\n",
        "plt.savefig('/content/gdrive/MyDrive/Colab Notebooks/model_charts/{}'.format(sil_name))\n",
        "plt.show()"
      ],
      "execution_count": null,
      "outputs": [
        {
          "output_type": "display_data",
          "data": {
            "image/png": "[encoded data removed]",
            "text/plain": [
              "<Figure size 432x288 with 1 Axes>"
            ]
          },
          "metadata": {
            "needs_background": "light"
          }
        }
      ]
    },
    {
      "cell_type": "code",
      "metadata": {
        "colab": {
          "base_uri": "https://localhost:8080/",
          "height": 431
        },
        "id": "A0GNmCpGPo6o",
        "outputId": "181aa9e2-1867-4fb8-d396-b9579a3d78de"
      },
      "source": [
        "elb_name = 'cnn_7_elb.png'\n",
        "cost =[]\n",
        "for i in range(1, 11):\n",
        "    KM = KMeans(n_clusters = i, max_iter = 500)\n",
        "    KM.fit(w)\n",
        "      \n",
        "    # calculates squared error\n",
        "    # for the clustered points\n",
        "    cost.append(KM.inertia_)     \n",
        "  \n",
        "# plot the cost against K values\n",
        "plt.figure(figsize = (8,6))\n",
        "plt.plot(range(1, 11), cost, color ='g', linewidth ='3')\n",
        "plt.title('trained on 100% dataset, fit to test round 7')\n",
        "plt.suptitle('Elbow Curve of Scratch CNN')\n",
        "#plt.title('Res trained on 50% dataset and fit to Round 7')\n",
        "plt.xlabel(\"K value\")\n",
        "plt.ylabel(\"Squared Error\")\n",
        "\n",
        "plt.savefig('/content/gdrive/MyDrive/Colab Notebooks/model_charts/{}'.format(elb_name))\n",
        "\n",
        "plt.show() # clear the plot\n",
        "# the point of the elbow is the \n",
        "# most optimal value for choosing k"
      ],
      "execution_count": null,
      "outputs": [
        {
          "output_type": "display_data",
          "data": {
            "image/png": "[encoded data removed]",
            "text/plain": [
              "<Figure size 576x432 with 1 Axes>"
            ]
          },
          "metadata": {
            "needs_background": "light"
          }
        }
      ]
    },
    {
      "cell_type": "code",
      "metadata": {
        "id": "aYwfH0KolMCk"
      },
      "source": [
        "\"\"\"model_ft = models.resnet18(pretrained=True)\n",
        "### strip the last layer\n",
        "feature_extractor = torch.nn.Sequential(*list(model_ft.children())[:-1])\n",
        "### check this works\n",
        "output_arr = torch.zeros(1,512)\n",
        "ims = []\n",
        "out_arr = []\"\"\"\n"
      ],
      "execution_count": null,
      "outputs": []
    },
    {
      "cell_type": "code",
      "metadata": {
        "id": "IlenJ2rBWwVZ"
      },
      "source": [
        "#print(\"new shape: \", x_test.reshape(-1, 207, 160, 3).shape) # 254 samples images of size 207 x 160 x 3\n",
        "#x_test[:1]"
      ],
      "execution_count": null,
      "outputs": []
    },
    {
      "cell_type": "markdown",
      "metadata": {
        "id": "RiIZUsepvvsY"
      },
      "source": [
        "# Apply optimal K with clustering for labeling"
      ]
    },
    {
      "cell_type": "code",
      "metadata": {
        "id": "RMI9NAVNvuzD",
        "outputId": "1c9d4aac-99b6-4e06-a800-c4073295734d",
        "colab": {
          "base_uri": "https://localhost:8080/"
        }
      },
      "source": [
        "x_trainK = []\n",
        "y_train = []\n",
        "# Pulling in data from round 3 to predict labels\n",
        "# Since we predicted optimal clusters with resnet50 trained on rounds 1, 5, 6, 7\n",
        "for x, lb in tqdm(train_loader):\n",
        "  x_trainK.append(x)\n",
        "  y_train.append(lb)"
      ],
      "execution_count": 124,
      "outputs": [
        {
          "output_type": "stream",
          "name": "stderr",
          "text": [
            "100%|██████████| 4455/4455 [05:26<00:00, 13.63it/s]\n"
          ]
        }
      ]
    },
    {
      "cell_type": "code",
      "metadata": {
        "id": "uzMEqyKXzBYh",
        "outputId": "fcb7c7a5-0aae-4d9f-fdd4-5583cd3ec584",
        "colab": {
          "base_uri": "https://localhost:8080/"
        }
      },
      "source": [
        "#y_train_ = np.array([t.numpy() for t in y_train])\n",
        "y_train_ = np.array(y_train)\n",
        "print(\"shape: \", (y_train_).shape)\n",
        "print(type(y_train_))\n",
        "y_train_"
      ],
      "execution_count": 125,
      "outputs": [
        {
          "output_type": "stream",
          "name": "stdout",
          "text": [
            "shape:  (4455,)\n",
            "<class 'numpy.ndarray'>\n"
          ]
        },
        {
          "output_type": "execute_result",
          "data": {
            "text/plain": [
              "array([2, 2, 2, ..., 2, 2, 2])"
            ]
          },
          "metadata": {},
          "execution_count": 125
        }
      ]
    },
    {
      "cell_type": "code",
      "metadata": {
        "id": "GEDM8daRxx1M",
        "outputId": "757509e9-5169-46d3-f01b-7fdfe080bcb4",
        "colab": {
          "base_uri": "https://localhost:8080/"
        }
      },
      "source": [
        "x_train_ = np.array([t.numpy() for t in x_trainK])\n",
        "print(\"shape: \", x_train_.shape)\n",
        "print(type(x_train_))\n",
        "x_train_[:1]"
      ],
      "execution_count": 126,
      "outputs": [
        {
          "output_type": "stream",
          "name": "stdout",
          "text": [
            "shape:  (4455, 1, 1, 368, 284)\n",
            "<class 'numpy.ndarray'>\n"
          ]
        },
        {
          "output_type": "execute_result",
          "data": {
            "text/plain": [
              "array([[[[[1., 1., 1., ..., 1., 1., 1.],\n",
              "          [1., 1., 1., ..., 1., 1., 1.],\n",
              "          [1., 1., 1., ..., 1., 1., 1.],\n",
              "          ...,\n",
              "          [1., 1., 1., ..., 1., 1., 1.],\n",
              "          [1., 1., 1., ..., 1., 1., 1.],\n",
              "          [1., 1., 1., ..., 1., 1., 1.]]]]], dtype=float32)"
            ]
          },
          "metadata": {},
          "execution_count": 126
        }
      ]
    },
    {
      "cell_type": "code",
      "metadata": {
        "id": "fFgTI7rxx16i",
        "outputId": "f8383d8c-be19-49c3-e11d-8d214db9b0e2",
        "colab": {
          "base_uri": "https://localhost:8080/"
        }
      },
      "source": [
        "X_train = x_train_.reshape(x_train_.shape[0], -1) # reshaped to # samples and flattened dims\n",
        "X_train.shape"
      ],
      "execution_count": 127,
      "outputs": [
        {
          "output_type": "execute_result",
          "data": {
            "text/plain": [
              "(4455, 104512)"
            ]
          },
          "metadata": {},
          "execution_count": 127
        }
      ]
    },
    {
      "cell_type": "code",
      "metadata": {
        "id": "2IujNYx435Za",
        "outputId": "89e35b6b-355d-4679-83e5-183a242d63ff",
        "colab": {
          "base_uri": "https://localhost:8080/"
        }
      },
      "source": [
        "from sklearn.cluster import KMeans\n",
        "kmeans = KMeans(n_clusters = 3, random_state = 0).fit(X_train)\n",
        "kmeans.labels_"
      ],
      "execution_count": 128,
      "outputs": [
        {
          "output_type": "execute_result",
          "data": {
            "text/plain": [
              "array([1, 1, 2, ..., 1, 2, 2], dtype=int32)"
            ]
          },
          "metadata": {},
          "execution_count": 128
        }
      ]
    },
    {
      "cell_type": "code",
      "metadata": {
        "id": "XzujGb7d8X0Z",
        "outputId": "7348ecc9-f284-4cb2-dded-88e977e97970",
        "colab": {
          "base_uri": "https://localhost:8080/"
        }
      },
      "source": [
        "kmeans.labels_.shape"
      ],
      "execution_count": 101,
      "outputs": [
        {
          "output_type": "execute_result",
          "data": {
            "text/plain": [
              "(2146,)"
            ]
          },
          "metadata": {},
          "execution_count": 101
        }
      ]
    },
    {
      "cell_type": "code",
      "metadata": {
        "id": "IdwrycO47H0v",
        "outputId": "43987f18-04c9-491f-a1b2-f89a46575939",
        "colab": {
          "base_uri": "https://localhost:8080/"
        }
      },
      "source": [
        "clusters = kmeans.fit_predict(X_train)\n",
        "kmeans.cluster_centers_.shape"
      ],
      "execution_count": 129,
      "outputs": [
        {
          "output_type": "execute_result",
          "data": {
            "text/plain": [
              "(3, 104512)"
            ]
          },
          "metadata": {},
          "execution_count": 129
        }
      ]
    },
    {
      "cell_type": "code",
      "metadata": {
        "id": "mhFPtc1C62gG",
        "outputId": "3669ab5c-9b7b-456c-fc7a-abda3eae85af",
        "colab": {
          "base_uri": "https://localhost:8080/",
          "height": 268
        }
      },
      "source": [
        "fig, ax = plt.subplots(1, 3, figsize=(11, 9))\n",
        "centers = kmeans.cluster_centers_.reshape(3, 368, 284)\n",
        "for axi, center in zip(ax.flat, centers):\n",
        "    axi.set(xticks=[], yticks=[])\n",
        "    axi.imshow(center, interpolation='nearest', cmap=plt.cm.binary)"
      ],
      "execution_count": 142,
      "outputs": [
        {
          "output_type": "display_data",
          "data": {
            "image/png": "[encoded data removed]",
            "text/plain": [
              "<Figure size 792x648 with 3 Axes>"
            ]
          },
          "metadata": {}
        }
      ]
    },
    {
      "cell_type": "code",
      "metadata": {
        "id": "ELUOXu6j-Hed",
        "outputId": "72ec6b59-67cd-4ac9-bb8b-d4ad8ef9ae1c",
        "colab": {
          "base_uri": "https://localhost:8080/"
        }
      },
      "source": [
        "from scipy.stats import mode\n",
        "from sklearn.metrics import accuracy_score\n",
        "\n",
        "\n",
        "labels = np.zeros_like(clusters)\n",
        "for i in range(3):\n",
        "    mask = (clusters == i)\n",
        "    labels[mask] = mode(y_train_[mask])[0]\n",
        "\n",
        "\n",
        "accuracy_score(y_train_, labels)\n"
      ],
      "execution_count": 130,
      "outputs": [
        {
          "output_type": "execute_result",
          "data": {
            "text/plain": [
              "0.8837261503928171"
            ]
          },
          "metadata": {},
          "execution_count": 130
        }
      ]
    },
    {
      "cell_type": "markdown",
      "metadata": {
        "id": "Guv2Y8RcAP5U"
      },
      "source": [
        "Using NHATS label for round 3 was only 37% (0.37258782780801586) accurate compared to cluster labels \n",
        "\n",
        "Using the Hybrid data, the label system was only 37% compared to kmeans clustering (0.37418452935694313)\n",
        "\n",
        "ai crowd round 3 labels scored 88% (0.8837261503928171) compared to the kmeans cluster"
      ]
    },
    {
      "cell_type": "code",
      "metadata": {
        "id": "uyZdygGkFIjT",
        "outputId": "75952a2a-31b4-4d58-8f30-829b27e2a9ee",
        "colab": {
          "base_uri": "https://localhost:8080/",
          "height": 846
        }
      },
      "source": [
        "#y_pred = kmeans.predict(X_train)\n",
        "fig = plt.figure(figsize = (15,15))\n",
        "ax = fig.add_subplot(111, projection='3d')\n",
        "plt.scatter(X_train[clusters == 0,0],X_train[clusters == 0,1],s = 50, c = 'green', label = \"cluster 1\")\n",
        "plt.scatter(X_train[clusters == 1,0],X_train[clusters == 1,1],s = 50, c = 'blue', label = \"cluster 2\")\n",
        "plt.scatter(X_train[clusters == 2,0],X_train[clusters == 2,1],s = 50, c = 'pink', label = \"cluster 3\")\n",
        "plt.scatter(kmeans.cluster_centers_[:,0],kmeans.cluster_centers_[:,1], s = 100, c = \"red\", label = \"centroids\")\n",
        "plt.legend()\n",
        "plt.show()"
      ],
      "execution_count": 137,
      "outputs": [
        {
          "output_type": "display_data",
          "data": {
            "image/png": "[encoded data removed]",
            "text/plain": [
              "<Figure size 1080x1080 with 1 Axes>"
            ]
          },
          "metadata": {
            "needs_background": "light"
          }
        }
      ]
    },
    {
      "cell_type": "code",
      "metadata": {
        "id": "Zk4R7J2K6Rbk",
        "outputId": "3d574b72-971d-4402-ea7d-0cae773bc2bf",
        "colab": {
          "base_uri": "https://localhost:8080/"
        }
      },
      "source": [
        "len(X_train[:, 1])"
      ],
      "execution_count": 62,
      "outputs": [
        {
          "output_type": "execute_result",
          "data": {
            "text/plain": [
              "2021"
            ]
          },
          "metadata": {},
          "execution_count": 62
        }
      ]
    },
    {
      "cell_type": "code",
      "metadata": {
        "id": "VbRTziVN5jXS",
        "outputId": "ae0245fb-f312-4282-8e73-cacdcd5e9e16",
        "colab": {
          "base_uri": "https://localhost:8080/"
        }
      },
      "source": [
        "y_pred"
      ],
      "execution_count": 53,
      "outputs": [
        {
          "output_type": "execute_result",
          "data": {
            "text/plain": [
              "array([2, 2, 2, ..., 0, 2, 2], dtype=int32)"
            ]
          },
          "metadata": {},
          "execution_count": 53
        }
      ]
    },
    {
      "cell_type": "markdown",
      "metadata": {
        "id": "5odr_oB1dk6y"
      },
      "source": [
        "# With Keras"
      ]
    },
    {
      "cell_type": "code",
      "metadata": {
        "colab": {
          "base_uri": "https://localhost:8080/"
        },
        "id": "poSPnQBmiOfr",
        "outputId": "a29bb3df-19e6-4734-96d3-835e7f2df58d"
      },
      "source": [
        "keras_x = []\n",
        "\n",
        "for xk, _ in tqdm(test_loader):\n",
        "  keras_x.append(xk)"
      ],
      "execution_count": null,
      "outputs": [
        {
          "name": "stderr",
          "output_type": "stream",
          "text": [
            "100%|██████████| 254/254 [02:15<00:00,  1.87it/s]\n"
          ]
        }
      ]
    },
    {
      "cell_type": "code",
      "metadata": {
        "colab": {
          "base_uri": "https://localhost:8080/"
        },
        "id": "WzowqjfHHu-c",
        "outputId": "e800d917-0db1-4466-adfa-81f706e43072"
      },
      "source": [
        "print(\"shape of keras_x: \", keras_x[0].shape)\n",
        "karr = np.array([t.cpu().detach().numpy() for t in keras_x])\n",
        "print(\"shape: \", karr.shape)\n",
        "im1= karr.reshape(len(keras_x), -1, 3)\n",
        "print('shape: ', im1.shape)\n",
        "print(\"dtype: \", im1.dtype)\n",
        "print(\"type: \", type(im1))\n",
        "\n",
        "img1 = Image.fromarray(im1, 'RGB')\n",
        "im_arr2 = np.float32(np.array(img1))\n",
        "im_arr2.shape"
      ],
      "execution_count": null,
      "outputs": [
        {
          "name": "stdout",
          "output_type": "stream",
          "text": [
            "shape of keras_x:  torch.Size([1, 3, 207, 160])\n",
            "shape:  (254, 1, 3, 207, 160)\n",
            "shape:  (254, 33120, 3)\n",
            "dtype:  float32\n",
            "type:  <class 'numpy.ndarray'>\n"
          ]
        },
        {
          "data": {
            "text/plain": [
              "(254, 33120, 3)"
            ]
          },
          "execution_count": 10,
          "metadata": {},
          "output_type": "execute_result"
        }
      ]
    },
    {
      "cell_type": "code",
      "metadata": {
        "colab": {
          "base_uri": "https://localhost:8080/"
        },
        "id": "1u9biOO3jPtX",
        "outputId": "2bcad149-2a49-4c80-aca3-f677dcf7837a"
      },
      "source": [
        "import tensorflow as tf \n",
        "model_keras = tf.keras.applications.MobileNetV2(include_top=False,\n",
        "weights= 'imagenet', input_shape=(207, 160, 3))\n",
        "\n",
        "print(\"Image shape before model: \", im_arr2.shape)\n",
        "predictions1 = model_keras.predict(im_arr2.reshape(-1, 207, 160, 3))\n",
        "print(\"preds shape after model: \", predictions1.shape)"
      ],
      "execution_count": null,
      "outputs": [
        {
          "name": "stdout",
          "output_type": "stream",
          "text": [
            "WARNING:tensorflow:`input_shape` is undefined or non-square, or `rows` is not in [96, 128, 160, 192, 224]. Weights for input shape (224, 224) will be loaded as the default.\n",
            "Image shape before model:  (254, 33120, 3)\n",
            "preds shape after model:  (254, 7, 5, 1280)\n"
          ]
        }
      ]
    },
    {
      "cell_type": "code",
      "metadata": {
        "colab": {
          "base_uri": "https://localhost:8080/"
        },
        "id": "D_fwz4phkAIN",
        "outputId": "19239515-01e6-4940-d971-cb3754999bfd"
      },
      "source": [
        "pred_images1 = predictions1.reshape(im_arr2.shape[0], -1)\n",
        "print(\"Shape of prediction images: \", pred_images1.shape)"
      ],
      "execution_count": null,
      "outputs": [
        {
          "name": "stdout",
          "output_type": "stream",
          "text": [
            "Shape of prediction images:  (254, 44800)\n"
          ]
        }
      ]
    },
    {
      "cell_type": "code",
      "metadata": {
        "id": "nhgx0XKEXUt0"
      },
      "source": [
        "from sklearn.cluster import KMeans\n",
        "from sklearn.metrics import silhouette_score\n",
        "sil_score = []\n",
        "kl = []\n",
        "k_max = 9\n",
        "\n",
        "for k in range(2, k_max+1):\n",
        "  kmeans2 = KMeans(n_clusters = k).fit(pred_images1)\n",
        "  labels = kmeans2.labels_\n",
        "  sil_score.append(silhouette_score(pred_images1, labels, metric = 'euclidean'))\n",
        "  kl.append(k)"
      ],
      "execution_count": null,
      "outputs": []
    },
    {
      "cell_type": "code",
      "metadata": {
        "colab": {
          "base_uri": "https://localhost:8080/",
          "height": 264
        },
        "id": "CjqaCNUv8Fp-",
        "outputId": "4cb71e0b-30e0-4223-8494-27b75a08d46c"
      },
      "source": [
        "plt.plot(kl, sil_score)\n",
        "plt.ylabel('Silhoutte Score')\n",
        "plt.ylabel('K')\n",
        "plt.show()"
      ],
      "execution_count": null,
      "outputs": [
        {
          "data": {
            "image/png": "[encoded data removed]",
            "text/plain": [
              "<Figure size 432x288 with 1 Axes>"
            ]
          },
          "metadata": {},
          "output_type": "display_data"
        }
      ]
    },
    {
      "cell_type": "code",
      "metadata": {
        "colab": {
          "base_uri": "https://localhost:8080/",
          "height": 290
        },
        "id": "ZLXi6VbD-WlO",
        "outputId": "d7acbf5f-3d22-4467-e6ae-d2bf1b343024"
      },
      "source": [
        "cost =[]\n",
        "for i in range(1, 11):\n",
        "    KM = KMeans(n_clusters = i, max_iter = 500)\n",
        "    KM.fit(pred_images1)\n",
        "      \n",
        "    # calculates squared error\n",
        "    # for the clustered points\n",
        "    cost.append(KM.inertia_)     \n",
        "  \n",
        "# plot the cost against K values\n",
        "plt.plot(range(1, 11), cost, color ='g', linewidth ='3')\n",
        "plt.xlabel(\"Value of K\")\n",
        "plt.ylabel(\"Sqaured Error (Cost)\")\n",
        "plt.show() # clear the plot\n",
        "  \n",
        "# the point of the elbow is the \n",
        "# most optimal value for choosing k"
      ],
      "execution_count": null,
      "outputs": [
        {
          "data": {
            "image/png": "[encoded data removed]",
            "text/plain": [
              "<Figure size 432x288 with 1 Axes>"
            ]
          },
          "metadata": {},
          "output_type": "display_data"
        }
      ]
    },
    {
      "cell_type": "markdown",
      "metadata": {
        "id": "YKOXit-fXV0-"
      },
      "source": [
        "# Other ways to extract features from modela\n",
        "\n",
        "---\n",
        "\n",
        "\n"
      ]
    },
    {
      "cell_type": "code",
      "metadata": {
        "id": "a6WdsXGnuCnO"
      },
      "source": [
        "samples = len(ims)  # Amount of samples to take from input path\n",
        "\n",
        "vec_length = 512  # Using resnet-18 as default\n",
        "# Matrix to hold the image vectors\n",
        "vec_mat = np.zeros((samples, vec_length))\n",
        "\n",
        "for index, i in enumerate(test_loader):\n",
        "    x = i[0]\n",
        "    vec = feature_extractor(x).reshape(-1, 512)\n",
        "    vec_mat[index, :] = vec.detach().numpy()"
      ],
      "execution_count": null,
      "outputs": []
    },
    {
      "cell_type": "code",
      "metadata": {
        "colab": {
          "base_uri": "https://localhost:8080/"
        },
        "id": "XuSpEXJFuwrO",
        "outputId": "eabb75cc-95e4-4b94-d9e2-363adc5fb382"
      },
      "source": [
        "vec_mat.shape # Each image feature vectors"
      ],
      "execution_count": null,
      "outputs": [
        {
          "data": {
            "text/plain": [
              "(254, 512)"
            ]
          },
          "execution_count": 94,
          "metadata": {},
          "output_type": "execute_result"
        }
      ]
    },
    {
      "cell_type": "code",
      "metadata": {
        "id": "XcLjGQY3vhiV"
      },
      "source": [
        "from sklearn.decomposition import PCA\n",
        "less_features = PCA(n_components=2).fit_transform(vec_mat)\n"
      ],
      "execution_count": null,
      "outputs": []
    },
    {
      "cell_type": "markdown",
      "metadata": {
        "id": "kBKNdCWR8Qdv"
      },
      "source": [
        "# Using data stored in numpy files - testing ground for Keras\n",
        "\n",
        "\n"
      ]
    },
    {
      "cell_type": "code",
      "metadata": {
        "id": "8IjQoJenaK9y"
      },
      "source": [
        "\"\"\"convert_data = 'False'\n",
        "if convert_data == \"True\":\n",
        "  tr_im_path = \"/content/gdrive/MyDrive/Colab Notebooks/numpy_files/Dementia_label_data/balanced_training.npy\"\n",
        "  tr_lb_path = \"/content/gdrive/MyDrive/Colab Notebooks/numpy_files/Dementia_label_data/balanced_train_labels.npy\"\n",
        "  val_im_path = \"/content/gdrive/MyDrive/Colab Notebooks/numpy_files/Dementia_label_data/val_im_nobal.npy\"\n",
        "  val_lb_path = \"/content/gdrive/MyDrive/Colab Notebooks/numpy_files/Dementia_label_data/val_labels_im_nobal.npy\"\n",
        "  tst_im_path = \"/content/gdrive/MyDrive/Colab Notebooks/numpy_files/Dementia_label_data/test_im_nobal.npy\"\n",
        "  tst_lb_path = \"/content/gdrive/MyDrive/Colab Notebooks/numpy_files/Dementia_label_data/val_labels_im_nobal.npy\"\n",
        "\n",
        "  training_data, y_train_tensor = ld.load_np_files(tr_im_path, tr_lb_path)\n",
        "  validation_data, y_val_tensor = ld.load_np_files(val_im_path, val_lb_path)\n",
        "  test_data, y_test_tensor = ld.load_np_files(tst_im_path, tst_lb_path)\n",
        "\n",
        "  train_data = list(zip(*training_data))\n",
        "  X_train = np.asarray(train_data[0])\n",
        "  y_train = np.asarray(train_data[1])\n",
        "\n",
        "  val_data = list(zip(*validation_data))\n",
        "  X_val = np.asarray(val_data[0])\n",
        "  y_val = np.asarray(val_data[1])\n",
        "\n",
        "\n",
        "  t_data = list(zip(*test_data))\n",
        "  X_test = np.asarray(t_data[0])\n",
        "  y_test = np.asarray(t_data[1])\n",
        "\n",
        "  with open('/content/gdrive/MyDrive/Colab Notebooks/numpy_files/Dementia_label_data/train', 'wb') as f:\n",
        "    np.save(f, X_train)\n",
        "  with open('/content/gdrive/MyDrive/Colab Notebooks/numpy_files/Dementia_label_data/train_y', 'wb') as f:\n",
        "    np.save(f, y_train)\n",
        "  with open('/content/gdrive/MyDrive/Colab Notebooks/numpy_files/Dementia_label_data/val', 'wb') as f:\n",
        "    np.save(f, X_val)\n",
        "  with open('/content/gdrive/MyDrive/Colab Notebooks/numpy_files/Dementia_label_data/val_y', 'wb') as f:\n",
        "    np.save(f, y_val)\n",
        "  with open('/content/gdrive/MyDrive/Colab Notebooks/numpy_files/Dementia_label_data/test', 'wb') as f:\n",
        "    np.save(f, X_test)\n",
        "  with open('/content/gdrive/MyDrive/Colab Notebooks/numpy_files/Dementia_label_data/test_y', 'wb') as f:\n",
        "    np.save(f, y_test)\n",
        "  \"\"\"\n",
        "#else:\n",
        "  # load data\n",
        "  #with open('/content/gdrive/MyDrive/Colab Notebooks/numpy_files/Dementia_label_data/train', 'rb') as f:\n",
        "    #train_set = np.load(f)\n",
        "  #with open('/content/gdrive/MyDrive/Colab Notebooks/numpy_files/Dementia_label_data/train_y', 'rb') as f:\n",
        "    #train_y = np.load(f)\n",
        "with open('/content/gdrive/MyDrive/Colab Notebooks/numpy_files/Dementia_label_data/val', 'rb') as f:\n",
        "  val_set = np.load(f)\n",
        "with open('/content/gdrive/MyDrive/Colab Notebooks/numpy_files/Dementia_label_data/val_y', 'rb') as f:#\n",
        "  val_y = np.load(f)\n",
        "with open('/content/gdrive/MyDrive/Colab Notebooks/numpy_files/Dementia_label_data/test', 'rb') as f:\n",
        "  test_set = np.load(f)\n",
        "with open('/content/gdrive/MyDrive/Colab Notebooks/numpy_files/Dementia_label_data/test_y', 'rb') as f:\n",
        "  test_y = np.load(f)"
      ],
      "execution_count": null,
      "outputs": []
    },
    {
      "cell_type": "code",
      "metadata": {
        "colab": {
          "base_uri": "https://localhost:8080/"
        },
        "id": "Wap_t-zSbf-g",
        "outputId": "e601dc89-1664-4d5b-ad16-a3657d4389f8"
      },
      "source": [
        "\"\"\"print(train_set.shape)\n",
        "print(train_y.shape)\"\"\"\n",
        "print(val_set.shape)\n",
        "print(val_y.shape)\n",
        "print(test_set.shape)\n",
        "print(test_y.shape)2541"
      ],
      "execution_count": null,
      "outputs": [
        {
          "name": "stdout",
          "output_type": "stream",
          "text": [
            "(2541, 1, 368, 284)\n",
            "(2541,)\n"
          ]
        }
      ]
    },
    {
      "cell_type": "code",
      "metadata": {
        "colab": {
          "base_uri": "https://localhost:8080/"
        },
        "id": "rIOzk-EidJk3",
        "outputId": "302f1fdb-b16c-4b29-febc-27b71bef7f22"
      },
      "source": [
        "images = test_set.reshape(len(test_set), -1)\n",
        "images.shape"
      ],
      "execution_count": null,
      "outputs": [
        {
          "data": {
            "text/plain": [
              "(2541, 104512)"
            ]
          },
          "execution_count": 85,
          "metadata": {},
          "output_type": "execute_result"
        }
      ]
    },
    {
      "cell_type": "code",
      "metadata": {
        "colab": {
          "base_uri": "https://localhost:8080/"
        },
        "id": "5qlCohVgm0qc",
        "outputId": "a33b1d6c-30fa-4075-885d-9e4bfdda7691"
      },
      "source": [
        "img = Image.fromarray(images, 'RGB')\n",
        "im_arr = np.float32(np.array(img))\n",
        "im_arr.shape"
      ],
      "execution_count": null,
      "outputs": [
        {
          "data": {
            "text/plain": [
              "(2541, 104512, 3)"
            ]
          },
          "execution_count": 163,
          "metadata": {},
          "output_type": "execute_result"
        }
      ]
    },
    {
      "cell_type": "code",
      "metadata": {
        "colab": {
          "base_uri": "https://localhost:8080/"
        },
        "id": "L0XCuLOsgAMA",
        "outputId": "def91469-14e9-499c-995b-0f04d3cdb0a0"
      },
      "source": [
        "import tensorflow as tf \n",
        "model = tf.keras.applications.MobileNetV2(include_top=False, weights='imagenet', input_shape=(368, 284,3))\n",
        "print(\"imr shape: \", im_arr.shape)\n",
        "predictions = model.predict(im_arr.reshape(-1, 368, 284,3))\n",
        "#pred_images = predictions.reshape(im_arr.shape[0], -1)\n",
        "predictions.shape"
      ],
      "execution_count": null,
      "outputs": [
        {
          "name": "stdout",
          "output_type": "stream",
          "text": [
            "WARNING:tensorflow:`input_shape` is undefined or non-square, or `rows` is not in [96, 128, 160, 192, 224]. Weights for input shape (224, 224) will be loaded as the default.\n",
            "imr shape:  (2541, 104512, 3)\n"
          ]
        },
        {
          "data": {
            "text/plain": [
              "(2541, 12, 9, 1280)"
            ]
          },
          "execution_count": 164,
          "metadata": {},
          "output_type": "execute_result"
        }
      ]
    },
    {
      "cell_type": "code",
      "metadata": {
        "colab": {
          "base_uri": "https://localhost:8080/"
        },
        "id": "zNJWOga0dkym",
        "outputId": "8a6b08c0-c8f0-4b5f-9dfe-e4eb535fd4e6"
      },
      "source": [
        "pred_images = predictions.reshape(im_arr.shape[0], -1)\n",
        "pred_images.shape"
      ],
      "execution_count": null,
      "outputs": [
        {
          "data": {
            "text/plain": [
              "(2541, 138240)"
            ]
          },
          "execution_count": 165,
          "metadata": {},
          "output_type": "execute_result"
        }
      ]
    },
    {
      "cell_type": "code",
      "metadata": {
        "id": "uDA05B-Sncce"
      },
      "source": [
        "from sklearn.cluster import KMeans\n",
        "from sklearn.metrics import silhouette_score\n",
        "sil = []\n",
        "kl = []\n",
        "kmax = 10\n",
        "\n",
        "for k in range(2, kmax+1):\n",
        "  kmeans2 = KMeans(n_clusters = k).fit(pred_images)\n",
        "  labels = kmeans2.labels_\n",
        "  sil.append(silhouette_score(pred_images, labels, metric = 'euclidean'))\n",
        "  kl.append(k)"
      ],
      "execution_count": null,
      "outputs": []
    },
    {
      "cell_type": "code",
      "metadata": {
        "colab": {
          "base_uri": "https://localhost:8080/",
          "height": 264
        },
        "id": "auvD_lbsnsQY",
        "outputId": "afea1d72-bb34-450d-f32f-6c6ec414f866"
      },
      "source": [
        "plt.plot(kl, sil)\n",
        "plt.ylabel('Silhoutte Score')\n",
        "plt.ylabel('K')\n",
        "plt.show()"
      ],
      "execution_count": null,
      "outputs": [
        {
          "data": {
            "image/png": "[encoded data removed]",
            "text/plain": [
              "<Figure size 432x288 with 1 Axes>"
            ]
          },
          "metadata": {},
          "output_type": "display_data"
        }
      ]
    },
    {
      "cell_type": "markdown",
      "metadata": {
        "id": "TqVVqLEWUmqr"
      },
      "source": [
        "# Logistic Regression"
      ]
    },
    {
      "cell_type": "code",
      "metadata": {
        "colab": {
          "base_uri": "https://localhost:8080/"
        },
        "id": "X3IlbB9EwJTM",
        "outputId": "a6323f17-c81a-4234-839e-fd99d655a3b0"
      },
      "source": [
        " model = models.resnet50(pretrained=True)\n",
        "\n",
        " # extact feature layer\n",
        " layer = model._modules.get('avgpool')\n",
        " layer"
      ],
      "execution_count": null,
      "outputs": [
        {
          "data": {
            "text/plain": [
              "AdaptiveAvgPool2d(output_size=(1, 1))"
            ]
          },
          "execution_count": 126,
          "metadata": {},
          "output_type": "execute_result"
        }
      ]
    },
    {
      "cell_type": "code",
      "metadata": {
        "id": "ssfbkqTVUr2i"
      },
      "source": [
        "from sklearn.linear_model import LogisticRegression\n",
        "from sklearn.metrics import accuracy_score\n",
        "clf = LogisticRegression(solver = 'lbfgs')"
      ],
      "execution_count": null,
      "outputs": []
    },
    {
      "cell_type": "code",
      "metadata": {
        "id": "k9RQi8M6cGQ6"
      },
      "source": [
        "val = val_set.reshape(2544,1*368*284)\n",
        "test = test_set.reshape(2541,1*368*284)"
      ],
      "execution_count": null,
      "outputs": []
    },
    {
      "cell_type": "code",
      "metadata": {
        "colab": {
          "base_uri": "https://localhost:8080/"
        },
        "id": "TEuYt0s-Ur8L",
        "outputId": "c44e30c2-e126-443f-d7ea-6356e1bdcfb7"
      },
      "source": [
        "# fit the model\n",
        "clf.fit(val, val_y.ravel())\n",
        "\n",
        "# prediction for training dataset\n",
        "train_pred = clf.predict(val)\n",
        "\n",
        "# prediction for testing dataset\n",
        "test_pred = clf.predict(test)"
      ],
      "execution_count": null,
      "outputs": [
        {
          "name": "stderr",
          "output_type": "stream",
          "text": [
            "/usr/local/lib/python3.7/dist-packages/sklearn/linear_model/_logistic.py:940: ConvergenceWarning: lbfgs failed to converge (status=1):\n",
            "STOP: TOTAL NO. of ITERATIONS REACHED LIMIT.\n",
            "\n",
            "Increase the number of iterations (max_iter) or scale the data as shown in:\n",
            "    https://scikit-learn.org/stable/modules/preprocessing.html\n",
            "Please also refer to the documentation for alternative solver options:\n",
            "    https://scikit-learn.org/stable/modules/linear_model.html#logistic-regression\n",
            "  extra_warning_msg=_LOGISTIC_SOLVER_CONVERGENCE_MSG)\n"
          ]
        }
      ]
    },
    {
      "cell_type": "code",
      "metadata": {
        "colab": {
          "base_uri": "https://localhost:8080/"
        },
        "id": "2gzfHuy4UsAb",
        "outputId": "eb955a75-a587-45d9-80ee-f6c9f74a441b"
      },
      "source": [
        "print('Accuracy score for Training Dataset = ', accuracy_score(train_pred, val_y))\n",
        "print('Accuracy score for Testing Dataset = ', accuracy_score(test_pred, test_y))"
      ],
      "execution_count": null,
      "outputs": [
        {
          "name": "stdout",
          "output_type": "stream",
          "text": [
            "Accuracy score for Training Dataset =  0.9386792452830188\n",
            "Accuracy score for Testing Dataset =  0.602125147579693\n"
          ]
        }
      ]
    },
    {
      "cell_type": "code",
      "metadata": {
        "colab": {
          "base_uri": "https://localhost:8080/"
        },
        "id": "36-g4w1-dRbg",
        "outputId": "aceeb425-6e9b-4ff6-8ee9-f3f558b8687c"
      },
      "source": [
        "print('Confusion Matrix - Training Dataset')\n",
        "print(pd.crosstab(val_y.ravel(), train_pred, rownames = ['True'], colnames = ['Predicted'], margins = True))"
      ],
      "execution_count": null,
      "outputs": [
        {
          "name": "stdout",
          "output_type": "stream",
          "text": [
            "Confusion Matrix - Training Dataset\n",
            "Predicted    0    1     2   All\n",
            "True                           \n",
            "0          536    5    48   589\n",
            "1            9  177    38   224\n",
            "2           35   21  1675  1731\n",
            "All        580  203  1761  2544\n"
          ]
        }
      ]
    },
    {
      "cell_type": "code",
      "metadata": {
        "colab": {
          "base_uri": "https://localhost:8080/"
        },
        "id": "dY_Z9l3IdqVv",
        "outputId": "47ed0196-2abd-4c39-c316-c3ba72b20973"
      },
      "source": [
        "print('Confusion Matrix - Testing Dataset')\n",
        "print(pd.crosstab(test_y.ravel(), test_pred.ravel(), rownames = ['True'], colnames = ['Predicted'], margins = True))"
      ],
      "execution_count": null,
      "outputs": [
        {
          "name": "stdout",
          "output_type": "stream",
          "text": [
            "Confusion Matrix - Testing Dataset\n",
            "Predicted    0    1     2   All\n",
            "True                           \n",
            "0           88   27   474   589\n",
            "1           35    9   180   224\n",
            "2          228   67  1433  1728\n",
            "All        351  103  2087  2541\n"
          ]
        }
      ]
    },
    {
      "cell_type": "code",
      "metadata": {
        "colab": {
          "base_uri": "https://localhost:8080/"
        },
        "id": "jjrimcOvd2tB",
        "outputId": "b4400193-c162-4198-c67e-6d9005668e22"
      },
      "source": [
        "from imblearn.over_sampling import SMOTE\n",
        "sm = SMOTE(random_state = 33)"
      ],
      "execution_count": null,
      "outputs": [
        {
          "name": "stderr",
          "output_type": "stream",
          "text": [
            "/usr/local/lib/python3.7/dist-packages/sklearn/externals/six.py:31: FutureWarning: The module is deprecated in version 0.21 and will be removed in version 0.23 since we've dropped support for Python 2.7. Please rely on the official version of six (https://pypi.org/project/six/).\n",
            "  \"(https://pypi.org/project/six/).\", FutureWarning)\n",
            "/usr/local/lib/python3.7/dist-packages/sklearn/utils/deprecation.py:144: FutureWarning: The sklearn.neighbors.base module is  deprecated in version 0.22 and will be removed in version 0.24. The corresponding classes / functions should instead be imported from sklearn.neighbors. Anything that cannot be imported from sklearn.neighbors is now part of the private API.\n",
            "  warnings.warn(message, FutureWarning)\n"
          ]
        }
      ]
    },
    {
      "cell_type": "code",
      "metadata": {
        "colab": {
          "base_uri": "https://localhost:8080/"
        },
        "id": "XCp0-LEfd8UD",
        "outputId": "4854c922-6a56-4401-b1be-a0f2c031b798"
      },
      "source": [
        "X_train_new, y_train_new = sm.fit_sample(val, val_y.ravel())"
      ],
      "execution_count": null,
      "outputs": [
        {
          "name": "stderr",
          "output_type": "stream",
          "text": [
            "/usr/local/lib/python3.7/dist-packages/sklearn/utils/deprecation.py:87: FutureWarning: Function safe_indexing is deprecated; safe_indexing is deprecated in version 0.22 and will be removed in version 0.24.\n",
            "  warnings.warn(msg, category=FutureWarning)\n",
            "/usr/local/lib/python3.7/dist-packages/sklearn/utils/deprecation.py:87: FutureWarning: Function safe_indexing is deprecated; safe_indexing is deprecated in version 0.22 and will be removed in version 0.24.\n",
            "  warnings.warn(msg, category=FutureWarning)\n"
          ]
        }
      ]
    },
    {
      "cell_type": "code",
      "metadata": {
        "colab": {
          "base_uri": "https://localhost:8080/",
          "height": 280
        },
        "id": "pfAmwOsVeFKs",
        "outputId": "81caf9dc-f7ca-4bd0-b838-bae23c170977"
      },
      "source": [
        "# observe that data has been balanced\n",
        "pd.Series(y_train_new).value_counts().plot.bar()"
      ],
      "execution_count": null,
      "outputs": [
        {
          "data": {
            "text/plain": [
              "<matplotlib.axes._subplots.AxesSubplot at 0x7fc5f74969d0>"
            ]
          },
          "execution_count": 61,
          "metadata": {},
          "output_type": "execute_result"
        },
        {
          "data": {
            "image/png": "[encoded data removed]",
            "text/plain": [
              "<Figure size 432x288 with 1 Axes>"
            ]
          },
          "metadata": {},
          "output_type": "display_data"
        }
      ]
    },
    {
      "cell_type": "code",
      "metadata": {
        "id": "oKB0WUnOfUHp"
      },
      "source": [
        "#fit the model\n",
        "clf.fit(X_train_new, y_train_new)\n",
        "\n",
        "# prediction for Training data\n",
        "train_pred_sm = clf.predict(X_train_new)\n"
      ],
      "execution_count": null,
      "outputs": []
    },
    {
      "cell_type": "code",
      "metadata": {
        "id": "NXgZdM8zf9gt"
      },
      "source": [
        "# prediction for Testing data\n",
        "test_pred_sm = clf.predict(test)"
      ],
      "execution_count": null,
      "outputs": []
    },
    {
      "cell_type": "code",
      "metadata": {
        "colab": {
          "base_uri": "https://localhost:8080/"
        },
        "id": "UeA8EHhOfcJg",
        "outputId": "59242250-7644-48fc-aadb-95b50eb50bde"
      },
      "source": [
        "print('Accuracy score for Training Dataset = ', accuracy_score(train_pred_sm, y_train_new))\n",
        "print('Accuracy score for Testing Dataset = ', accuracy_score(test_pred_sm, test_y))\n",
        "\n",
        "\n",
        "print('Confusion Matrix - Training Dataset')\n",
        "print(pd.crosstab(y_train_new, train_pred_sm, rownames = ['True'], colnames = ['Predicted'], margins = True))"
      ],
      "execution_count": null,
      "outputs": [
        {
          "name": "stdout",
          "output_type": "stream",
          "text": [
            "Accuracy score for Training Dataset =  0.9616791835162719\n",
            "Accuracy score for Testing Dataset =  0.6092089728453365\n",
            "Confusion Matrix - Training Dataset\n",
            "Predicted     0     1     2   All\n",
            "True                             \n",
            "0          1634    11    86  1731\n",
            "1             6  1676    49  1731\n",
            "2            26    21  1684  1731\n",
            "All        1666  1708  1819  5193\n"
          ]
        }
      ]
    },
    {
      "cell_type": "code",
      "metadata": {
        "colab": {
          "base_uri": "https://localhost:8080/"
        },
        "id": "fvQ5cJ-Af2Mj",
        "outputId": "7e4a3a00-04a6-444c-f01c-677b5d19d167"
      },
      "source": [
        "print('Confusion Matrix - Testing Dataset')\n",
        "print(pd.crosstab(test_y.ravel(), test_pred_sm, rownames = ['True'], colnames = ['Predicted'], margins = True))\n"
      ],
      "execution_count": null,
      "outputs": [
        {
          "name": "stdout",
          "output_type": "stream",
          "text": [
            "Confusion Matrix - Testing Dataset\n",
            "Predicted    0    1     2   All\n",
            "True                           \n",
            "0           59   20   510   589\n",
            "1           28   16   180   224\n",
            "2          165   90  1473  1728\n",
            "All        252  126  2163  2541\n"
          ]
        }
      ]
    },
    {
      "cell_type": "code",
      "metadata": {
        "colab": {
          "base_uri": "https://localhost:8080/",
          "height": 278
        },
        "id": "ABGMZCx_gwmc",
        "outputId": "b70e380a-9e7f-4d5a-a990-e4b98a7a2256"
      },
      "source": [
        "from sklearn.metrics import confusion_matrix\n",
        "import seaborn as sns\n",
        "confusion_matrix_df = pd.DataFrame(confusion_matrix(test_y, test_pred_sm))#.rename(columns=idx2class, index=idx2class)\n",
        "sns.heatmap(confusion_matrix_df, annot=True, fmt=\".2f\", cmap='BuGn')\n",
        "plt.xlabel(\"prediction\")\n",
        "plt.ylabel(\"label (ground truth)\")\n",
        "#plt.savefig('/content/gdrive/MyDrive/Colab Notebooks/model_charts/CMTX{}.png'.format(extension_))\n",
        "plt.show()"
      ],
      "execution_count": null,
      "outputs": [
        {
          "data": {
            "image/png": "[encoded data removed]",
            "text/plain": [
              "<Figure size 432x288 with 2 Axes>"
            ]
          },
          "metadata": {},
          "output_type": "display_data"
        }
      ]
    }
  ]
}