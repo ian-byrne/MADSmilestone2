{
  "nbformat": 4,
  "nbformat_minor": 0,
  "metadata": {
    "colab": {
      "name": "ian_testingground.ipynb",
      "provenance": [],
      "machine_shape": "hm",
      "authorship_tag": "ABX9TyPbvQ4OWtoxkA7juPQtZa50",
      "include_colab_link": true
    },
    "kernelspec": {
      "name": "python3",
      "display_name": "Python 3"
    },
    "language_info": {
      "name": "python"
    }
  },
  "cells": [
    {
      "cell_type": "markdown",
      "metadata": {
        "id": "view-in-github",
        "colab_type": "text"
      },
      "source": [
        "<a href=\"https://colab.research.google.com/github/ian-byrne/MADSmilestone2/blob/main/ian_testingground.ipynb\" target=\"_parent\"><img src=\"https://colab.research.google.com/assets/colab-badge.svg\" alt=\"Open In Colab\"/></a>"
      ]
    },
    {
      "cell_type": "markdown",
      "metadata": {
        "id": "_FHXitU9O83I"
      },
      "source": [
        "# Notebook used to test project ideas\n",
        "Author: Ian Byrne\n",
        "\n",
        "Email: ianbyrne@umich.edu"
      ]
    },
    {
      "cell_type": "markdown",
      "metadata": {
        "id": "irLLerGdPTMA"
      },
      "source": [
        "### Reading in data stream"
      ]
    },
    {
      "cell_type": "code",
      "metadata": {
        "id": "B8dwTbQ7OzIy",
        "colab": {
          "base_uri": "https://localhost:8080/"
        },
        "outputId": "68429293-e3ce-4048-d676-d5e5d0234ccd"
      },
      "source": [
        "# Clone the entire repo.\n",
        "!git clone -l -s https://github.com/ian-byrne/MADSmilestone2.git\n",
        "\n",
        "# Change directory into cloned repo\n",
        "%cd MADSmilestone2\n",
        "\n",
        "# List repo contents\n",
        "!ls"
      ],
      "execution_count": 2,
      "outputs": [
        {
          "output_type": "stream",
          "text": [
            "Cloning into 'MADSmilestone2'...\n",
            "warning: --local is ignored\n",
            "remote: Enumerating objects: 164, done.\u001b[K\n",
            "remote: Counting objects: 100% (164/164), done.\u001b[K\n",
            "remote: Compressing objects: 100% (139/139), done.\u001b[K\n",
            "remote: Total 164 (delta 75), reused 66 (delta 19), pack-reused 0\u001b[K\n",
            "Receiving objects: 100% (164/164), 666.95 KiB | 11.70 MiB/s, done.\n",
            "Resolving deltas: 100% (75/75), done.\n",
            "/content/MADSmilestone2\n",
            "ian_testingground.ipynb  Images.ipynb  Images.py  Labeling  Loading  README.md\n"
          ],
          "name": "stdout"
        }
      ]
    },
    {
      "cell_type": "markdown",
      "metadata": {
        "id": "-mkkO8YaO5HB"
      },
      "source": [
        "Load imports as necessary"
      ]
    },
    {
      "cell_type": "code",
      "metadata": {
        "id": "E9fdnaFI8YdU"
      },
      "source": [
        "import ast\n",
        "import pandas as pd\n",
        "import numpy as np\n",
        "import Loading.load_data as loading\n",
        "import torch\n",
        "from torch.utils.data import Dataset, DataLoader"
      ],
      "execution_count": 3,
      "outputs": []
    },
    {
      "cell_type": "markdown",
      "metadata": {
        "id": "Ak7hl4Wik1SC"
      },
      "source": [
        "Dataframe containing spid, description of clock, diagnosis, round"
      ]
    },
    {
      "cell_type": "code",
      "metadata": {
        "id": "7OQpCe-i8ckr"
      },
      "source": [
        "rounds_df = loading.load_data()\n",
        "rounds_df.to_csv(\"round_data.csv\", index = False)"
      ],
      "execution_count": 4,
      "outputs": []
    },
    {
      "cell_type": "code",
      "metadata": {
        "colab": {
          "base_uri": "https://localhost:8080/",
          "height": 204
        },
        "id": "OeeB1TJqjbSV",
        "outputId": "6f191655-ea52-4214-cd5b-1137aa36a3cb"
      },
      "source": [
        "rounds_df.head()"
      ],
      "execution_count": 5,
      "outputs": [
        {
          "output_type": "execute_result",
          "data": {
            "text/html": [
              "<div>\n",
              "<style scoped>\n",
              "    .dataframe tbody tr th:only-of-type {\n",
              "        vertical-align: middle;\n",
              "    }\n",
              "\n",
              "    .dataframe tbody tr th {\n",
              "        vertical-align: top;\n",
              "    }\n",
              "\n",
              "    .dataframe thead th {\n",
              "        text-align: right;\n",
              "    }\n",
              "</style>\n",
              "<table border=\"1\" class=\"dataframe\">\n",
              "  <thead>\n",
              "    <tr style=\"text-align: right;\">\n",
              "      <th></th>\n",
              "      <th>spid</th>\n",
              "      <th>cg1dclkdraw</th>\n",
              "      <th>hc1disescn9</th>\n",
              "      <th>round</th>\n",
              "    </tr>\n",
              "  </thead>\n",
              "  <tbody>\n",
              "    <tr>\n",
              "      <th>0</th>\n",
              "      <td>10000003.0</td>\n",
              "      <td>3 Mildly distorted depiction of a clock</td>\n",
              "      <td>2 NO</td>\n",
              "      <td>1</td>\n",
              "    </tr>\n",
              "    <tr>\n",
              "      <th>1</th>\n",
              "      <td>10000004.0</td>\n",
              "      <td>3 Mildly distorted depiction of a clock</td>\n",
              "      <td>2 NO</td>\n",
              "      <td>1</td>\n",
              "    </tr>\n",
              "    <tr>\n",
              "      <th>2</th>\n",
              "      <td>10000005.0</td>\n",
              "      <td>3 Mildly distorted depiction of a clock</td>\n",
              "      <td>2 NO</td>\n",
              "      <td>1</td>\n",
              "    </tr>\n",
              "    <tr>\n",
              "      <th>3</th>\n",
              "      <td>10000006.0</td>\n",
              "      <td>4 Reasonably accurate depiction of a clock</td>\n",
              "      <td>2 NO</td>\n",
              "      <td>1</td>\n",
              "    </tr>\n",
              "    <tr>\n",
              "      <th>4</th>\n",
              "      <td>10000007.0</td>\n",
              "      <td>-2 Proxy says cannot ask SP</td>\n",
              "      <td>2 NO</td>\n",
              "      <td>1</td>\n",
              "    </tr>\n",
              "  </tbody>\n",
              "</table>\n",
              "</div>"
            ],
            "text/plain": [
              "         spid                                 cg1dclkdraw hc1disescn9  round\n",
              "0  10000003.0     3 Mildly distorted depiction of a clock        2 NO      1\n",
              "1  10000004.0     3 Mildly distorted depiction of a clock        2 NO      1\n",
              "2  10000005.0     3 Mildly distorted depiction of a clock        2 NO      1\n",
              "3  10000006.0  4 Reasonably accurate depiction of a clock        2 NO      1\n",
              "4  10000007.0                 -2 Proxy says cannot ask SP        2 NO      1"
            ]
          },
          "metadata": {},
          "execution_count": 5
        }
      ]
    },
    {
      "cell_type": "code",
      "metadata": {
        "id": "je2HcD5mv2kk"
      },
      "source": [
        "file = open(\"Labeling/roundIdLabelDict.txt\", \"r\")\n",
        "\n",
        "contents = file.read()\n",
        "round_dict = ast.literal_eval(contents)"
      ],
      "execution_count": 6,
      "outputs": []
    },
    {
      "cell_type": "code",
      "metadata": {
        "colab": {
          "base_uri": "https://localhost:8080/"
        },
        "id": "9kw7zqfLwYsW",
        "outputId": "e585a9c1-7467-4161-b03d-b495af4dd44f"
      },
      "source": [
        "len(round_dict[1])"
      ],
      "execution_count": 7,
      "outputs": [
        {
          "output_type": "execute_result",
          "data": {
            "text/plain": [
              "6913"
            ]
          },
          "metadata": {},
          "execution_count": 7
        }
      ]
    },
    {
      "cell_type": "markdown",
      "metadata": {
        "id": "78m3bZ50k_DO"
      },
      "source": [
        "Custom data set, idea:\n",
        "- take in the dataframe from the rounds_df\n",
        "- utiilize the spid number and the round number to call S3 dynamically and retrieve the correct URL for the .tif image\n",
        "- tbd: any transforms to be done on the images to prepare for learning\n",
        "    - Can likely ultilize this to loop through the large images and convert to smaller images and then save them to a new directory/ or locally to make the data more manageable \n",
        "- Should return the image in tensor format and the label (diagnosis)"
      ]
    },
    {
      "cell_type": "code",
      "metadata": {
        "colab": {
          "base_uri": "https://localhost:8080/",
          "height": 130
        },
        "id": "IZbcJd2_jpWa",
        "outputId": "f582c931-fe2b-4d97-815d-fd6bdcdf61f4"
      },
      "source": [
        "class ClockImages(Dataset):\n",
        "    \"\"\"Original large format clock drawing dataset\"\"\"\n",
        "\n",
        "    def __init__(self, csv_file, bucket):\n",
        "        \"\"\"\n",
        "        Args:\n",
        "            csv_file (string): Path to the clocks label data.\n",
        "            bucket (string): URL for the root S3 bucket containing the .tif images.\n",
        "        \"\"\"\n",
        "        self.clocks_frame = pd.read_csv(\"round_data.csv\")\n",
        "        self.bucket = bucket\n",
        "\n",
        "\n",
        "    def __len__(self):\n",
        "        return len(self.clocks_frame)\n",
        "\n",
        "    \n",
        "    def __getitem__(self, idx):\n",
        "        file_name = f\"NHATS_R\"\n",
        "        full_url = bucket + file_name\n",
        "        return sample\n"
      ],
      "execution_count": 8,
      "outputs": [
        {
          "output_type": "error",
          "ename": "SyntaxError",
          "evalue": "ignored",
          "traceback": [
            "\u001b[0;36m  File \u001b[0;32m\"<ipython-input-8-3074a73b1b00>\"\u001b[0;36m, line \u001b[0;32m19\u001b[0m\n\u001b[0;31m    file_name = f\"NHATS_R{clocks_frame[idx][\"\"]}\"\u001b[0m\n\u001b[0m               ^\u001b[0m\n\u001b[0;31mSyntaxError\u001b[0m\u001b[0;31m:\u001b[0m f-string: mismatched '(', '{', or '['\n"
          ]
        }
      ]
    },
    {
      "cell_type": "code",
      "metadata": {
        "id": "vh9L1KaDsRo4"
      },
      "source": [
        "url = 'https://clockimages.s3.us-west-1.amazonaws.com/NHATS_R' + str(\n",
        "                    id) + '_ClockDrawings/' + value + '.tif'"
      ],
      "execution_count": null,
      "outputs": []
    }
  ]
}