{
  "nbformat": 4,
  "nbformat_minor": 0,
  "metadata": {
    "colab": {
      "name": "ian_testingground.ipynb",
      "provenance": [],
      "machine_shape": "hm",
      "authorship_tag": "ABX9TyO1ywN72MPt9ypVwiiwaw9p",
      "include_colab_link": true
    },
    "kernelspec": {
      "name": "python3",
      "display_name": "Python 3"
    },
    "language_info": {
      "name": "python"
    }
  },
  "cells": [
    {
      "cell_type": "markdown",
      "metadata": {
        "id": "view-in-github",
        "colab_type": "text"
      },
      "source": [
        "<a href=\"https://colab.research.google.com/github/ian-byrne/MADSmilestone2/blob/main/ian_testingground.ipynb\" target=\"_parent\"><img src=\"https://colab.research.google.com/assets/colab-badge.svg\" alt=\"Open In Colab\"/></a>"
      ]
    },
    {
      "cell_type": "markdown",
      "metadata": {
        "id": "_FHXitU9O83I"
      },
      "source": [
        "# Notebook used to test project ideas\n",
        "Author: Ian Byrne\n",
        "\n",
        "Email: ianbyrne@umich.edu"
      ]
    },
    {
      "cell_type": "code",
      "metadata": {
        "colab": {
          "base_uri": "https://localhost:8080/"
        },
        "id": "s66tCBE_zjyN",
        "outputId": "99a3f952-abef-4576-8e2c-016e13168045"
      },
      "source": [
        "from google.colab import drive\n",
        "\n",
        "drive.mount('/content/gdrive')"
      ],
      "execution_count": 1,
      "outputs": [
        {
          "output_type": "stream",
          "text": [
            "Drive already mounted at /content/gdrive; to attempt to forcibly remount, call drive.mount(\"/content/gdrive\", force_remount=True).\n"
          ],
          "name": "stdout"
        }
      ]
    },
    {
      "cell_type": "markdown",
      "metadata": {
        "id": "irLLerGdPTMA"
      },
      "source": [
        "## Reading in data stream"
      ]
    },
    {
      "cell_type": "code",
      "metadata": {
        "id": "B8dwTbQ7OzIy",
        "colab": {
          "base_uri": "https://localhost:8080/"
        },
        "outputId": "6038a0aa-0021-4c0e-9cdb-4f3b3d1619f9"
      },
      "source": [
        "# Clone the entire repo.\n",
        "!git clone -l -s https://github.com/ian-byrne/MADSmilestone2.git\n",
        "\n",
        "# Change directory into cloned repo\n",
        "%cd MADSmilestone2\n",
        "\n",
        "# List repo contents\n",
        "# !ls"
      ],
      "execution_count": 2,
      "outputs": [
        {
          "output_type": "stream",
          "text": [
            "fatal: destination path 'MADSmilestone2' already exists and is not an empty directory.\n",
            "/content/MADSmilestone2\n"
          ],
          "name": "stdout"
        }
      ]
    },
    {
      "cell_type": "code",
      "metadata": {
        "colab": {
          "base_uri": "https://localhost:8080/"
        },
        "id": "ctWtsqEXsjPy",
        "outputId": "034cf21f-a109-484d-b36c-09cd5c8dfb8e"
      },
      "source": [
        "!ls"
      ],
      "execution_count": 3,
      "outputs": [
        {
          "output_type": "stream",
          "text": [
            "Cleaning_labeling.ipynb  Images.ipynb  Labeling  README.md\n",
            "ian_testingground.ipynb  Images.py     Loading\n"
          ],
          "name": "stdout"
        }
      ]
    },
    {
      "cell_type": "markdown",
      "metadata": {
        "id": "-mkkO8YaO5HB"
      },
      "source": [
        "Load imports as necessary"
      ]
    },
    {
      "cell_type": "code",
      "metadata": {
        "colab": {
          "base_uri": "https://localhost:8080/"
        },
        "id": "sAXWlRmy6jC1",
        "outputId": "eaf54647-57b6-48ff-9901-f0def068d55c"
      },
      "source": [
        "!pip install boto3"
      ],
      "execution_count": 4,
      "outputs": [
        {
          "output_type": "stream",
          "text": [
            "Requirement already satisfied: boto3 in /usr/local/lib/python3.7/dist-packages (1.18.32)\n",
            "Requirement already satisfied: botocore<1.22.0,>=1.21.32 in /usr/local/lib/python3.7/dist-packages (from boto3) (1.21.32)\n",
            "Requirement already satisfied: s3transfer<0.6.0,>=0.5.0 in /usr/local/lib/python3.7/dist-packages (from boto3) (0.5.0)\n",
            "Requirement already satisfied: jmespath<1.0.0,>=0.7.1 in /usr/local/lib/python3.7/dist-packages (from boto3) (0.10.0)\n",
            "Requirement already satisfied: python-dateutil<3.0.0,>=2.1 in /usr/local/lib/python3.7/dist-packages (from botocore<1.22.0,>=1.21.32->boto3) (2.8.2)\n",
            "Requirement already satisfied: urllib3<1.27,>=1.25.4 in /usr/local/lib/python3.7/dist-packages (from botocore<1.22.0,>=1.21.32->boto3) (1.26.6)\n",
            "Requirement already satisfied: six>=1.5 in /usr/local/lib/python3.7/dist-packages (from python-dateutil<3.0.0,>=2.1->botocore<1.22.0,>=1.21.32->boto3) (1.15.0)\n"
          ],
          "name": "stdout"
        }
      ]
    },
    {
      "cell_type": "code",
      "metadata": {
        "id": "E9fdnaFI8YdU",
        "colab": {
          "base_uri": "https://localhost:8080/"
        },
        "outputId": "30ee2634-5bfc-4f0e-a2db-baf303096311"
      },
      "source": [
        "import ast\n",
        "import boto3\n",
        "import pandas as pd\n",
        "import numpy as np\n",
        "from PIL import Image\n",
        "import Loading.load_data as loading\n",
        "import torch\n",
        "from torch.utils.data import Dataset, DataLoader"
      ],
      "execution_count": 5,
      "outputs": [
        {
          "output_type": "stream",
          "text": [
            "/usr/local/lib/python3.7/dist-packages/requests/__init__.py:91: RequestsDependencyWarning: urllib3 (1.26.6) or chardet (3.0.4) doesn't match a supported version!\n",
            "  RequestsDependencyWarning)\n"
          ],
          "name": "stderr"
        }
      ]
    },
    {
      "cell_type": "markdown",
      "metadata": {
        "id": "vAURx7JF99EM"
      },
      "source": [
        " Connect to S3 using the python client boto3\n",
        " - Access keys are loaded from clockss3 which is contained within my loacl google drive. "
      ]
    },
    {
      "cell_type": "code",
      "metadata": {
        "id": "nJcVl3JC0uSA"
      },
      "source": [
        "# also import keys for aws connection\n",
        "from gdrive.MyDrive.Colab_Notebooks.clocks_aws_config import clockss3\n",
        "pubkey = clockss3['accessCode']\n",
        "seckey = clockss3['secretCode']"
      ],
      "execution_count": 9,
      "outputs": []
    },
    {
      "cell_type": "code",
      "metadata": {
        "id": "jb4bPSzl7El5"
      },
      "source": [
        "client = boto3.client('s3', aws_access_key_id=pubkey, aws_secret_access_key=seckey)\n",
        "response = client.list_buckets()\n",
        "# response['Buckets']"
      ],
      "execution_count": 10,
      "outputs": []
    },
    {
      "cell_type": "code",
      "metadata": {
        "colab": {
          "base_uri": "https://localhost:8080/"
        },
        "id": "1ASfdDJm9oUi",
        "outputId": "76476c91-ae2f-45f6-fbac-f99384ac5213"
      },
      "source": [
        "s3 = boto3.resource('s3', aws_access_key_id=pubkey, aws_secret_access_key=seckey)\n",
        "list(s3.buckets.all())"
      ],
      "execution_count": 66,
      "outputs": [
        {
          "output_type": "execute_result",
          "data": {
            "text/plain": [
              "[s3.Bucket(name='aws-cloudtrail-logs-598991111123-85ddbc5c'),\n",
              " s3.Bucket(name='clockdrawingbattery'),\n",
              " s3.Bucket(name='clockdrawingimages'),\n",
              " s3.Bucket(name='clockdrawingimages1'),\n",
              " s3.Bucket(name='clockdrawingimages2'),\n",
              " s3.Bucket(name='clockdrawingimages3'),\n",
              " s3.Bucket(name='clockimages'),\n",
              " s3.Bucket(name='healthyhomes591')]"
            ]
          },
          "metadata": {},
          "execution_count": 66
        }
      ]
    },
    {
      "cell_type": "code",
      "metadata": {
        "id": "Q-rQP07XtEdA"
      },
      "source": [
        "bucket = s3.Bucket('clockdrawingimages1')"
      ],
      "execution_count": 16,
      "outputs": []
    },
    {
      "cell_type": "code",
      "metadata": {
        "colab": {
          "base_uri": "https://localhost:8080/"
        },
        "id": "5INSK_rltii7",
        "outputId": "b0d30a99-f200-477c-94fa-219521eff004"
      },
      "source": [
        "list(bucket.objects.all())[0:5]"
      ],
      "execution_count": 17,
      "outputs": [
        {
          "output_type": "execute_result",
          "data": {
            "text/plain": [
              "[s3.ObjectSummary(bucket_name='clockdrawingimages1', key='10000003.tif'),\n",
              " s3.ObjectSummary(bucket_name='clockdrawingimages1', key='10000004.tif'),\n",
              " s3.ObjectSummary(bucket_name='clockdrawingimages1', key='10000005.tif'),\n",
              " s3.ObjectSummary(bucket_name='clockdrawingimages1', key='10000006.tif'),\n",
              " s3.ObjectSummary(bucket_name='clockdrawingimages1', key='10000008.tif')]"
            ]
          },
          "metadata": {},
          "execution_count": 17
        }
      ]
    },
    {
      "cell_type": "markdown",
      "metadata": {
        "id": "Ak7hl4Wik1SC"
      },
      "source": [
        "~~Import dataframe containing spid, description of clock, diagnosis, round~~\n",
        "\n",
        "Import the text file containing the dictionary of rounds and their spids and lebels. \n",
        "- Transform into a nested list to make loops easier. "
      ]
    },
    {
      "cell_type": "code",
      "metadata": {
        "id": "7OQpCe-i8ckr"
      },
      "source": [
        "# rounds_df = loading.load_data()\n",
        "# rounds_df.to_csv(\"round_data.csv\", index = False)\n",
        "# rounds_df.head()"
      ],
      "execution_count": 18,
      "outputs": []
    },
    {
      "cell_type": "code",
      "metadata": {
        "id": "je2HcD5mv2kk"
      },
      "source": [
        "file = open(\"Labeling/roundIdLabelDict.txt\", \"r\")\n",
        "\n",
        "contents = file.read()\n",
        "round_dict = ast.literal_eval(contents)"
      ],
      "execution_count": 19,
      "outputs": []
    },
    {
      "cell_type": "code",
      "metadata": {
        "id": "OFOZFwmTTfes"
      },
      "source": [
        "test_dict = {1: [('10000003', 2)], \n",
        "             2: [('10000940', 2)], \n",
        "             3: [('10011363', 1)], \n",
        "             4: [('10010317', 1)]}"
      ],
      "execution_count": 20,
      "outputs": []
    },
    {
      "cell_type": "code",
      "metadata": {
        "colab": {
          "base_uri": "https://localhost:8080/"
        },
        "id": "3XOAWiVjV0ij",
        "outputId": "25732382-1f3b-4f89-f419-cdec0c77e512"
      },
      "source": [
        "for tup in test_dict[1]:\n",
        "    print(type(tup[0]), tup[1])"
      ],
      "execution_count": 45,
      "outputs": [
        {
          "output_type": "stream",
          "text": [
            "<class 'str'> 2\n"
          ],
          "name": "stdout"
        }
      ]
    },
    {
      "cell_type": "markdown",
      "metadata": {
        "id": "78m3bZ50k_DO"
      },
      "source": [
        "### Custom data set, idea:\n",
        "- take in the dataframe from the rounds_df\n",
        "- utiilize the spid number and the round number to call S3 dynamically and retrieve the correct URL for the .tif image\n",
        "- tbd: any transforms to be done on the images to prepare for learning\n",
        "    - Can likely ultilize this to loop through the large images and convert to smaller images and then save them to a new directory/ or locally to make the data more manageable \n",
        "- Should return the image in tensor format and the label (diagnosis)"
      ]
    },
    {
      "cell_type": "code",
      "metadata": {
        "id": "IZbcJd2_jpWa"
      },
      "source": [
        "class ClockImages(Dataset):\n",
        "    \"\"\"Original large format clock drawing dataset\"\"\"\n",
        "\n",
        "    def __init__(self, round, round_labels):\n",
        "        \"\"\"\n",
        "        Args:\n",
        "            round (int): Round to grab images from. \n",
        "            values (list of tuples): Corresponding values for the round.\n",
        "        \"\"\"\n",
        "        self.round = round\n",
        "        self.vals = round_labels\n",
        "        self.client = boto3.client('s3', aws_access_key_id=pubkey, aws_secret_access_key=seckey)\n",
        "\n",
        "\n",
        "    def __len__(self):\n",
        "        return len(self.vals)\n",
        "\n",
        "    \n",
        "    def __getitem__(self, idx):\n",
        "        spid = self.vals[idx][0]\n",
        "        label = self.vals[idx][1]\n",
        "        bucket = f\"clockdrawingimages{self.round}\"\n",
        "        obj_name = f\"{spid}.tif\"\n",
        "        \n",
        "        client.download_file(bucket, obj_name, obj_name)\n",
        "\n",
        "        im = Image.open(obj_name)\n",
        "        im = np.array(im)\n",
        "        small_im = im.resize(207, 160)\n",
        "\n",
        "        sample = {'image': im, 'label': label}\n",
        "\n",
        "        return sample\n",
        "\n"
      ],
      "execution_count": 79,
      "outputs": []
    },
    {
      "cell_type": "code",
      "metadata": {
        "colab": {
          "base_uri": "https://localhost:8080/"
        },
        "id": "u6mDot-yvipw",
        "outputId": "020bfdad-cbb8-4b05-b361-575ac1bee243"
      },
      "source": [
        "data = ClockImages(1, test_dict[1])\n",
        "print(data.round)\n",
        "print(data.vals)\n",
        "print(data.vals[0][0])\n",
        "print(data.vals[0][1])\n",
        "\n",
        "# should be equivalent to obj_name\n",
        "print(\"\\n\",type(f\"{data.vals[0][0]}.tif\"))\n",
        "print(f\"{data.vals[0][0]}.tif\")"
      ],
      "execution_count": 80,
      "outputs": [
        {
          "output_type": "stream",
          "text": [
            "1\n",
            "[('10000003', 2)]\n",
            "10000003\n",
            "2\n",
            "\n",
            " <class 'str'>\n",
            "10000003.tif\n"
          ],
          "name": "stdout"
        }
      ]
    },
    {
      "cell_type": "code",
      "metadata": {
        "colab": {
          "base_uri": "https://localhost:8080/"
        },
        "id": "A1MqKNzw23ir",
        "outputId": "f001e28f-6aaf-4648-d916-2858f3b682bd"
      },
      "source": [
        "clock_dataloader = torch.utils.data.DataLoader(dataset=data)\n",
        "for sample in clock_dataloader:\n",
        "    print(sample) # idk what this will output but if it works it should output something\n",
        "    print(sample['image'].size())"
      ],
      "execution_count": 82,
      "outputs": [
        {
          "output_type": "stream",
          "text": [
            "{'image': tensor([[[True, True, True,  ..., True, True, True],\n",
            "         [True, True, True,  ..., True, True, True],\n",
            "         [True, True, True,  ..., True, True, True],\n",
            "         ...,\n",
            "         [True, True, True,  ..., True, True, True],\n",
            "         [True, True, True,  ..., True, True, True],\n",
            "         [True, True, True,  ..., True, True, True]]]), 'label': tensor([2])}\n",
            "torch.Size([1, 207, 160])\n"
          ],
          "name": "stdout"
        }
      ]
    },
    {
      "cell_type": "code",
      "metadata": {
        "id": "vh9L1KaDsRo4"
      },
      "source": [
        "# url = 'https://clockimages.s3.us-west-1.amazonaws.com/NHATS_R' + str(\n",
        "#                     id) + '_ClockDrawings/' + value + '.tif'"
      ],
      "execution_count": 23,
      "outputs": []
    },
    {
      "cell_type": "code",
      "metadata": {
        "id": "3QR-bsW7viM5"
      },
      "source": [
        ""
      ],
      "execution_count": null,
      "outputs": []
    }
  ]
}