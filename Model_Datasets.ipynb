{
  "nbformat": 4,
  "nbformat_minor": 0,
  "metadata": {
    "colab": {
      "name": "Model_Datasets.ipynb",
      "provenance": [],
      "authorship_tag": "ABX9TyO1Qnw6ZEOLTIwKRN8gGwYx",
      "include_colab_link": true
    },
    "kernelspec": {
      "name": "python3",
      "display_name": "Python 3"
    },
    "language_info": {
      "name": "python"
    }
  },
  "cells": [
    {
      "cell_type": "markdown",
      "metadata": {
        "id": "view-in-github",
        "colab_type": "text"
      },
      "source": [
        "<a href=\"https://colab.research.google.com/github/ian-byrne/MADSmilestone2/blob/main/Model_Datasets.ipynb\" target=\"_parent\"><img src=\"https://colab.research.google.com/assets/colab-badge.svg\" alt=\"Open In Colab\"/></a>"
      ]
    },
    {
      "cell_type": "markdown",
      "metadata": {
        "id": "3Xw6XDnTLRfG"
      },
      "source": [
        "# Create the datasets for model training, validation and testing\n",
        "\n",
        "In this notebook we will load in the the dataframes created from Cleaning_Labeling notebook to help create our balanced datasets for Supervised Learning and Unsupervised Learning. \n",
        "\n",
        "### Steps:\n",
        "- Load in csv data\n",
        "- Create dictionaries to map round, ID and labels to the image data stored in the S3 bucket clockimages.\n",
        "- Split the data in Train, Validation and Test datasets\n",
        "- Balance the final training datasets\n",
        "\n",
        "### Outputs:\n",
        "  #### Dictionaries:\n",
        "  ***Dictionaries that ultimately <u>WERE NOT</u> used in creating the final datasets for model input:***\n",
        "\n",
        "- A dictionary utilizing the AI Crowd dementia labeling system that consists of the Rounds, SPIDs, and dementia labels 0 - 2. \n",
        "  - ***roundIdLabelDict.txt*** - Ultimately, this dictionary was not used in creating the final datasets for model input. \n",
        "- A dictionary utilizing the hybrid AI Crowd and NHATs combined labeling system that consists of Rounds, SPIDs, and labels 0-2.\n",
        "  - ***customLabelDict.txt*** - Ultimately, this dictionary was not used in creating the final datasets for model input. \n",
        "- A dictionary using data from the cleaned_nhat_data.csv using data from columns 'round', 'spid' and 'cg1dclkdraw.' The column 'cg1dclkdraw' are the labels 0 - 5.\n",
        "  - ***clockScoreDict.txt*** - Ultimately, this dictionary was not used in creating the final datasets for model input. \n",
        " \n",
        "\n",
        " ***Dictionaries that <u>WERE</u> used in creating the final datasets for model input:***\n",
        "- A group of dictionaries randomly split with a ratio of 90-5-5%. Data comes from the hybrid AI Crowd and NHATs combined labeling system that consists of Rounds, SPIDs, and Labels 0-2. After balancing the training set, the ratio of each dataset is ~78-11-11%: \n",
        "  - **train_dict_bal.txt** - Balanced dataset dictionary containing 4000 samples from each class (0-2) randomly sampled across all rounds (1 - 10), totaling 24,000 data points. \n",
        "  - **val_dict_nobal.txt** - Unbalanced dataset dictionary containing 2569 randomly sampled data points. \n",
        "  - **test_dict_nobal.txt** - Unbalanced dataset dictionary containing 2569 randomly sampled data points.\n",
        "\n",
        "- A group of dictionaries randomly split with a ratio of 90-5-5%. Data comes from the cleaned_nhat_data.csv and utilizes the columns 'round', 'spid' and 'cg1dclkdraw.' The column 'cg1dclkdraw' are the labels 0 - 5. After balancing the training set, the ratio of each dataset is ~78-11-11%: \n",
        "  - **tr_scor_dict_bal.txt** - Balanced dataset dictionary containing 4000 samples from each class (0-2) randomly sampled across all rounds (1 - 10), totaling 24,000 data points. \n",
        "  - **val_scor_dict_nobal.txt** - Unbalanced dataset dictionary containing 2569 randomly sampled data points. \n",
        "  - **tst_scor_dict_nobal.txt** - Unbalanced dataset dictionary containing 2569 randomly sampled data points.\n",
        "\n",
        "### Special Libraries:\n",
        "- **Labeling.splitting as split_ to call split_data()**, which is a custom splitting function that utilizes Sklearn's train_test_split. It takes in the dataframe, first value split on the test set, second value split on the validation set, and the column label name as a string. \n",
        "- **Labeling.label_data as ld to call get_ids()**, which is a custom function that creates a dictionary that takes in a dataframe and the column target labels. Outputs a dictionary where the keys are the rounds and the value is a list of tuples. The tuples contain the unique SPIDs for that round and label value. "
      ]
    },
    {
      "cell_type": "code",
      "metadata": {
        "colab": {
          "base_uri": "https://localhost:8080/"
        },
        "id": "R43G-mR46t_x",
        "outputId": "43b0c5fd-19f1-4699-d23a-1e037c12e3e8"
      },
      "source": [
        "# Mount Google Drive\n",
        "from google.colab import drive\n",
        "drive.mount('/content/gdrive')"
      ],
      "execution_count": 1,
      "outputs": [
        {
          "output_type": "stream",
          "name": "stdout",
          "text": [
            "Mounted at /content/gdrive\n"
          ]
        }
      ]
    },
    {
      "cell_type": "code",
      "metadata": {
        "colab": {
          "base_uri": "https://localhost:8080/"
        },
        "id": "a7uLd_Eu6v_9",
        "outputId": "69cb3476-14a0-452a-fe9b-26e96c90e0aa"
      },
      "source": [
        "# Clone the entire repo.\n",
        "!git clone -l -s https://github.com/ian-byrne/MADSmilestone2.git\n",
        "\n",
        "# Change directory into cloned repo\n",
        "%cd MADSmilestone2\n",
        "\n",
        "# List repo contents\n",
        "#!ls"
      ],
      "execution_count": 2,
      "outputs": [
        {
          "output_type": "stream",
          "name": "stdout",
          "text": [
            "Cloning into 'MADSmilestone2'...\n",
            "warning: --local is ignored\n",
            "remote: Enumerating objects: 543, done.\u001b[K\n",
            "remote: Counting objects: 100% (543/543), done.\u001b[K\n",
            "remote: Compressing objects: 100% (444/444), done.\u001b[K\n",
            "remote: Total 543 (delta 301), reused 216 (delta 91), pack-reused 0\u001b[K\n",
            "Receiving objects: 100% (543/543), 4.16 MiB | 5.94 MiB/s, done.\n",
            "Resolving deltas: 100% (301/301), done.\n",
            "/content/MADSmilestone2\n"
          ]
        }
      ]
    },
    {
      "cell_type": "code",
      "metadata": {
        "id": "8p55GAOiT5Rh"
      },
      "source": [
        "from sklearn.model_selection import train_test_split\n",
        "import Labeling.splitting as split_\n",
        "import Labeling.label_data as ld\n",
        "import matplotlib.pyplot as plt\n",
        "import pandas as pd"
      ],
      "execution_count": 17,
      "outputs": []
    },
    {
      "cell_type": "code",
      "metadata": {
        "id": "K1j_KaMQLMyP"
      },
      "source": [
        "# Load the dataframes to create the dictionaries\n",
        "ai_label_df = pd.read_csv('Data/labeld_ai_df.csv')\n",
        "hybrid_label_df = pd.read_csv('Data/hybrid_label_df.csv')\n",
        "nhat_label_df = pd.read_csv('Data/cleaned_nhat_data.csv')"
      ],
      "execution_count": 5,
      "outputs": []
    },
    {
      "cell_type": "markdown",
      "metadata": {
        "id": "SN0CCk7AUCdk"
      },
      "source": [
        "## Get Individual participant IDs and labels per round\n",
        "- useful for pulling in exact images per round\n",
        "- create text file to store dictionary\n",
        "\n",
        "- create one dictionary file for AI Crowd method of labeling\n",
        "- create final custom label dictionary (using NHAT and AI crowd labeling)\n",
        "- create one dictionary file using clock drawing score as labels"
      ]
    },
    {
      "cell_type": "code",
      "metadata": {
        "colab": {
          "base_uri": "https://localhost:8080/"
        },
        "id": "JoMq7uBu7qB0",
        "outputId": "b40f3441-6453-43f9-c327-015445b5ed74"
      },
      "source": [
        "print(ai_label_df['round'].value_counts(), len(ai_label_df)) # AI CROWD\n",
        "print(nhat_label_df['round'].value_counts(), len(nhat_label_df)) # NHATS\n",
        "print(hybrid_label_df['round'].value_counts(), len(hybrid_label_df)) # COMBO AI and NHATS\n",
        "print(nhat_label_df['cg1dclkdraw'].value_counts())"
      ],
      "execution_count": 6,
      "outputs": [
        {
          "output_type": "stream",
          "name": "stdout",
          "text": [
            "5     7067\n",
            "1     6913\n",
            "6     5993\n",
            "2     5501\n",
            "7     5255\n",
            "8     4657\n",
            "3     4455\n",
            "9     4183\n",
            "10    3797\n",
            "4     3671\n",
            "Name: round, dtype: int64 51492\n",
            "5     7067\n",
            "1     6918\n",
            "6     5997\n",
            "2     5504\n",
            "7     5256\n",
            "8     4658\n",
            "3     4459\n",
            "9     4186\n",
            "4     3671\n",
            "10    3645\n",
            "Name: round, dtype: int64 51361\n",
            "5     7067\n",
            "1     6918\n",
            "6     5997\n",
            "2     5504\n",
            "7     5256\n",
            "8     4658\n",
            "3     4459\n",
            "9     4186\n",
            "4     3671\n",
            "10    3645\n",
            "Name: round, dtype: int64 51361\n",
            "4.0    19046\n",
            "5.0    12901\n",
            "3.0    11210\n",
            "2.0     5905\n",
            "1.0     1812\n",
            "0.0      487\n",
            "Name: cg1dclkdraw, dtype: int64\n"
          ]
        }
      ]
    },
    {
      "cell_type": "code",
      "metadata": {
        "id": "BIVGHFnI7-ZJ"
      },
      "source": [
        "# get round, id, label for AI crowd method\n",
        "ids_ai = ld.get_ids(ai_label_df, 'label')\n",
        "\n",
        "# Writing dictionary to text file for AI Crowd method of labeling\n",
        "try:\n",
        "    id_file = open('roundIdLabelDict.txt', 'wt')\n",
        "    id_file.write(str(ids_ai))\n",
        "    id_file.close()\n",
        "  \n",
        "except:\n",
        "    print(\"Unable to write to file\")"
      ],
      "execution_count": null,
      "outputs": []
    },
    {
      "cell_type": "code",
      "metadata": {
        "id": "uEuDn9E-8HBa"
      },
      "source": [
        "# get round, id, label for nhat, AI methods and custom method combined\n",
        "id_custom = ld.get_ids(hybrid_label_df, 'label')\n",
        "\n",
        "# Writing dictionary to text file for custom labeling\n",
        "try:\n",
        "    id_file = open('customLabelDict.txt', 'wt')\n",
        "    id_file.write(str(id_custom))\n",
        "    id_file.close()\n",
        "  \n",
        "except:\n",
        "    print(\"Unable to write to file\")"
      ],
      "execution_count": null,
      "outputs": []
    },
    {
      "cell_type": "code",
      "metadata": {
        "id": "cDkiurUz8J13"
      },
      "source": [
        "# get round, id, clockdrawing (cg1dclkdraw) score (as labels)\n",
        "clock_score = ld.get_ids(nhat_label_df, 'cg1dclkdraw')\n",
        "\n",
        "# Writing dictionary to text file for custom four combo labeling\n",
        "try:\n",
        "    id_file = open('Data/clockScoreDict.txt', 'wt')\n",
        "    id_file.write(str(clock_score))\n",
        "    id_file.close()\n",
        "  \n",
        "except:\n",
        "    print(\"Unable to write to file\")"
      ],
      "execution_count": null,
      "outputs": []
    },
    {
      "cell_type": "markdown",
      "metadata": {
        "id": "07PgTLom9guu"
      },
      "source": [
        "# Split the hybrid labeled data and check balance\n",
        "- Create dictionaries of the split data for model output using dementia labels and clock score labels.\n",
        "- Splitting on 90, 5, 5"
      ]
    },
    {
      "cell_type": "code",
      "metadata": {
        "colab": {
          "base_uri": "https://localhost:8080/",
          "height": 931
        },
        "id": "JdM1OasO9ea_",
        "outputId": "c02b6b83-e719-4c37-d575-b21bfbd8576c"
      },
      "source": [
        "# Splitting 90% train, 10% testing (first float value)\n",
        "# Splitting testing in half for a final 90-5-5 train test validation (second float val)\n",
        "train, val, test = split_.split_data(hybrid_label_df, 0.1, .5, 'label')"
      ],
      "execution_count": 14,
      "outputs": [
        {
          "output_type": "stream",
          "name": "stdout",
          "text": [
            "length of training set:  46224\n",
            "length of validation set:  2569\n",
            "length of test set:  2568\n",
            "Total length:  51361\n",
            "Train data: \n",
            "\n"
          ]
        },
        {
          "output_type": "display_data",
          "data": {
            "image/png": "[encoded data removed]",
            "text/plain": [
              "<Figure size 432x288 with 1 Axes>"
            ]
          },
          "metadata": {
            "needs_background": "light"
          }
        },
        {
          "output_type": "stream",
          "name": "stdout",
          "text": [
            "Val data: \n",
            "\n"
          ]
        },
        {
          "output_type": "display_data",
          "data": {
            "image/png": "[encoded data removed]",
            "text/plain": [
              "<Figure size 432x288 with 1 Axes>"
            ]
          },
          "metadata": {
            "needs_background": "light"
          }
        },
        {
          "output_type": "stream",
          "name": "stdout",
          "text": [
            "Test data: \n",
            "\n"
          ]
        },
        {
          "output_type": "display_data",
          "data": {
            "image/png": "[encoded data removed]",
            "text/plain": [
              "<Figure size 432x288 with 1 Axes>"
            ]
          },
          "metadata": {
            "needs_background": "light"
          }
        }
      ]
    },
    {
      "cell_type": "markdown",
      "metadata": {
        "id": "196yEJRy-oR0"
      },
      "source": [
        "## Sampling and Balancing the Training Set Only\n",
        "- Undersample the majority classes (0 and 2) \n",
        "- Oversample the minority class (1) \n",
        "- End up with a data split of 24,000 training examples, ~2500 Test and ~2500 Validation examples\n",
        "- Create dictionaries for each Training, Test, and Validation data sets"
      ]
    },
    {
      "cell_type": "code",
      "metadata": {
        "colab": {
          "base_uri": "https://localhost:8080/",
          "height": 333
        },
        "id": "EPwQZaHJ-naK",
        "outputId": "fd045edc-a189-4e09-9924-29e7ff9ffb42"
      },
      "source": [
        "train_zero_samp = train[train['label'] == 0].sample(n = 8000, random_state = 42)\n",
        "train_one_samp = train[train['label'] == 1].sample(n = 8000, replace = True, random_state = 42)\n",
        "train_two_samp = train[train['label'] == 2].sample(n = 8000, random_state = 42)\n",
        "balanced_train = train_zero_samp.append(train_one_samp).append(train_two_samp)\n",
        "\n",
        "plt.hist(balanced_train.label)"
      ],
      "execution_count": 11,
      "outputs": [
        {
          "output_type": "execute_result",
          "data": {
            "text/plain": [
              "(array([8000.,    0.,    0.,    0.,    0., 8000.,    0.,    0.,    0.,\n",
              "        8000.]),\n",
              " array([0. , 0.2, 0.4, 0.6, 0.8, 1. , 1.2, 1.4, 1.6, 1.8, 2. ]),\n",
              " <a list of 10 Patch objects>)"
            ]
          },
          "metadata": {},
          "execution_count": 11
        },
        {
          "output_type": "display_data",
          "data": {
            "image/png": "[encoded data removed]",
            "text/plain": [
              "<Figure size 432x288 with 1 Axes>"
            ]
          },
          "metadata": {
            "needs_background": "light"
          }
        }
      ]
    },
    {
      "cell_type": "code",
      "metadata": {
        "id": "JuOiCZC2-j1P"
      },
      "source": [
        "# Create Training dictionary\n",
        "train_dict_bal = ld.get_ids(balanced_train, 'label')\n",
        "\n",
        "# Writing dictionary to text file for training\n",
        "try:\n",
        "    id_file = open('train_dict_bal.txt', 'wt')\n",
        "    id_file.write(str(train_dict_bal))\n",
        "    id_file.close()\n",
        "  \n",
        "except:\n",
        "    print(\"Unable to write to file\")\n"
      ],
      "execution_count": null,
      "outputs": []
    },
    {
      "cell_type": "code",
      "metadata": {
        "id": "z7Sysjj9_WHp"
      },
      "source": [
        "# Create Validation dictionary\n",
        "val_dict_nobal = ld.get_ids(val, 'label')\n",
        "\n",
        "# Writing dictionary to text file for validation\n",
        "try:\n",
        "    id_file = open('val_dict_nobal.txt', 'wt')\n",
        "    id_file.write(str(val_dict_nobal))\n",
        "    id_file.close()\n",
        "  \n",
        "except:\n",
        "    print(\"Unable to write to file\")"
      ],
      "execution_count": null,
      "outputs": []
    },
    {
      "cell_type": "code",
      "metadata": {
        "id": "FkZb5fDq_Zbe"
      },
      "source": [
        "# Create Test dictionary\n",
        "test_dict_nobal = ld.get_ids(test, 'label')\n",
        "\n",
        "# Writing dictionary to text file for testing\n",
        "try:\n",
        "    id_file = open('test_dict_nobal.txt', 'wt')\n",
        "    id_file.write(str(test_dict_nobal))\n",
        "    id_file.close()\n",
        "  \n",
        "except:\n",
        "    print(\"Unable to write to file\")"
      ],
      "execution_count": null,
      "outputs": []
    },
    {
      "cell_type": "markdown",
      "metadata": {
        "id": "-WrEpM3u_eSQ"
      },
      "source": [
        "# Develop Score Dataframe and Dictionaries for Model Inputs \n",
        "- This is using the dataframe with clock scores as labels\n",
        "- Train test split with a 90-5-5 ratio\n",
        "- Balance training set to end up with close to 80-10-10 ratio split between train, test, validation\n",
        "- Upsample label class 0 and 1; downsample label classes 2-5\n",
        "- Create dictionaries of all train, val, test datasets"
      ]
    },
    {
      "cell_type": "code",
      "metadata": {
        "colab": {
          "base_uri": "https://localhost:8080/",
          "height": 419
        },
        "id": "y3L_eRyQ_q8-",
        "outputId": "401ad5a4-e6ff-4477-849d-cb35f68f2856"
      },
      "source": [
        "# Keep desired columns\n",
        "score_df = nhat_label_df[['spid', \"cg1dclkdraw\", 'round']]\n",
        "score_df"
      ],
      "execution_count": 12,
      "outputs": [
        {
          "output_type": "execute_result",
          "data": {
            "text/html": [
              "<div>\n",
              "<style scoped>\n",
              "    .dataframe tbody tr th:only-of-type {\n",
              "        vertical-align: middle;\n",
              "    }\n",
              "\n",
              "    .dataframe tbody tr th {\n",
              "        vertical-align: top;\n",
              "    }\n",
              "\n",
              "    .dataframe thead th {\n",
              "        text-align: right;\n",
              "    }\n",
              "</style>\n",
              "<table border=\"1\" class=\"dataframe\">\n",
              "  <thead>\n",
              "    <tr style=\"text-align: right;\">\n",
              "      <th></th>\n",
              "      <th>spid</th>\n",
              "      <th>cg1dclkdraw</th>\n",
              "      <th>round</th>\n",
              "    </tr>\n",
              "  </thead>\n",
              "  <tbody>\n",
              "    <tr>\n",
              "      <th>0</th>\n",
              "      <td>10000003</td>\n",
              "      <td>3.0</td>\n",
              "      <td>1</td>\n",
              "    </tr>\n",
              "    <tr>\n",
              "      <th>1</th>\n",
              "      <td>10000004</td>\n",
              "      <td>3.0</td>\n",
              "      <td>1</td>\n",
              "    </tr>\n",
              "    <tr>\n",
              "      <th>2</th>\n",
              "      <td>10000005</td>\n",
              "      <td>3.0</td>\n",
              "      <td>1</td>\n",
              "    </tr>\n",
              "    <tr>\n",
              "      <th>3</th>\n",
              "      <td>10000006</td>\n",
              "      <td>4.0</td>\n",
              "      <td>1</td>\n",
              "    </tr>\n",
              "    <tr>\n",
              "      <th>4</th>\n",
              "      <td>10000008</td>\n",
              "      <td>2.0</td>\n",
              "      <td>1</td>\n",
              "    </tr>\n",
              "    <tr>\n",
              "      <th>...</th>\n",
              "      <td>...</td>\n",
              "      <td>...</td>\n",
              "      <td>...</td>\n",
              "    </tr>\n",
              "    <tr>\n",
              "      <th>51356</th>\n",
              "      <td>20007107</td>\n",
              "      <td>5.0</td>\n",
              "      <td>10</td>\n",
              "    </tr>\n",
              "    <tr>\n",
              "      <th>51357</th>\n",
              "      <td>20007109</td>\n",
              "      <td>4.0</td>\n",
              "      <td>10</td>\n",
              "    </tr>\n",
              "    <tr>\n",
              "      <th>51358</th>\n",
              "      <td>20007110</td>\n",
              "      <td>5.0</td>\n",
              "      <td>10</td>\n",
              "    </tr>\n",
              "    <tr>\n",
              "      <th>51359</th>\n",
              "      <td>20007111</td>\n",
              "      <td>5.0</td>\n",
              "      <td>10</td>\n",
              "    </tr>\n",
              "    <tr>\n",
              "      <th>51360</th>\n",
              "      <td>20007112</td>\n",
              "      <td>5.0</td>\n",
              "      <td>10</td>\n",
              "    </tr>\n",
              "  </tbody>\n",
              "</table>\n",
              "<p>51361 rows × 3 columns</p>\n",
              "</div>"
            ],
            "text/plain": [
              "           spid  cg1dclkdraw  round\n",
              "0      10000003          3.0      1\n",
              "1      10000004          3.0      1\n",
              "2      10000005          3.0      1\n",
              "3      10000006          4.0      1\n",
              "4      10000008          2.0      1\n",
              "...         ...          ...    ...\n",
              "51356  20007107          5.0     10\n",
              "51357  20007109          4.0     10\n",
              "51358  20007110          5.0     10\n",
              "51359  20007111          5.0     10\n",
              "51360  20007112          5.0     10\n",
              "\n",
              "[51361 rows x 3 columns]"
            ]
          },
          "metadata": {},
          "execution_count": 12
        }
      ]
    },
    {
      "cell_type": "code",
      "metadata": {
        "colab": {
          "base_uri": "https://localhost:8080/",
          "height": 384
        },
        "id": "hk5RjXyI_dMZ",
        "outputId": "d4c17f3d-0c6b-45b0-edc8-ad14bbdc076d"
      },
      "source": [
        "plt.hist(score_df['cg1dclkdraw'])\n",
        "plt.show()\n",
        "score_df['cg1dclkdraw'].value_counts()"
      ],
      "execution_count": 13,
      "outputs": [
        {
          "output_type": "display_data",
          "data": {
            "image/png": "[encoded data removed]",
            "text/plain": [
              "<Figure size 432x288 with 1 Axes>"
            ]
          },
          "metadata": {
            "needs_background": "light"
          }
        },
        {
          "output_type": "execute_result",
          "data": {
            "text/plain": [
              "4.0    19046\n",
              "5.0    12901\n",
              "3.0    11210\n",
              "2.0     5905\n",
              "1.0     1812\n",
              "0.0      487\n",
              "Name: cg1dclkdraw, dtype: int64"
            ]
          },
          "metadata": {},
          "execution_count": 13
        }
      ]
    },
    {
      "cell_type": "code",
      "metadata": {
        "colab": {
          "base_uri": "https://localhost:8080/",
          "height": 931
        },
        "id": "3L4sN6tCAKpc",
        "outputId": "5d92c4cb-3019-4ebf-963b-fc8fa26648ad"
      },
      "source": [
        "# Get training data, val, test split \n",
        "# Return as a dataframe of each before rebalancing the training set. \n",
        "\n",
        "train, val, test = split_.split_data(score_df, 0.1, .5, 'cg1dclkdraw')"
      ],
      "execution_count": 15,
      "outputs": [
        {
          "output_type": "stream",
          "name": "stdout",
          "text": [
            "length of training set:  46224\n",
            "length of validation set:  2569\n",
            "length of test set:  2568\n",
            "Total length:  51361\n",
            "Train data: \n",
            "\n"
          ]
        },
        {
          "output_type": "display_data",
          "data": {
            "image/png": "[encoded data removed]",
            "text/plain": [
              "<Figure size 432x288 with 1 Axes>"
            ]
          },
          "metadata": {
            "needs_background": "light"
          }
        },
        {
          "output_type": "stream",
          "name": "stdout",
          "text": [
            "Val data: \n",
            "\n"
          ]
        },
        {
          "output_type": "display_data",
          "data": {
            "image/png": "[encoded data removed]",
            "text/plain": [
              "<Figure size 432x288 with 1 Axes>"
            ]
          },
          "metadata": {
            "needs_background": "light"
          }
        },
        {
          "output_type": "stream",
          "name": "stdout",
          "text": [
            "Test data: \n",
            "\n"
          ]
        },
        {
          "output_type": "display_data",
          "data": {
            "image/png": "[encoded data removed]",
            "text/plain": [
              "<Figure size 432x288 with 1 Axes>"
            ]
          },
          "metadata": {
            "needs_background": "light"
          }
        }
      ]
    },
    {
      "cell_type": "code",
      "metadata": {
        "colab": {
          "base_uri": "https://localhost:8080/",
          "height": 333
        },
        "id": "5MQsAwHWA7Ga",
        "outputId": "875ee27b-d0f6-4d0b-8d93-5e94ee710d9e"
      },
      "source": [
        "# Balancing the training dataset by upsampling the labels 0 and 1\n",
        "# Downsampling labels 2-5\n",
        "\n",
        "train_zero_samp = train[train['cg1dclkdraw'] == 0.].sample(n = 4000, replace = True, random_state = 42)\n",
        "train_one_samp = train[train['cg1dclkdraw'] == 1.].sample(n = 4000, replace = True, random_state = 42)\n",
        "train_two_samp = train[train['cg1dclkdraw'] == 2.].sample(n = 4000, random_state = 42)\n",
        "train_thre_samp = train[train['cg1dclkdraw'] == 3.].sample(n = 4000, random_state = 42)\n",
        "train_fr_samp = train[train['cg1dclkdraw'] == 4.].sample(n = 4000, random_state = 42)\n",
        "train_fv_samp = train[train['cg1dclkdraw'] == 5.].sample(n = 4000, random_state = 42)\n",
        "balanced_train = train_zero_samp.append(train_one_samp).append(train_two_samp).append(train_thre_samp).append(train_fr_samp).append(train_fv_samp)\n",
        "\n",
        "plt.hist(balanced_train.cg1dclkdraw)"
      ],
      "execution_count": 16,
      "outputs": [
        {
          "output_type": "execute_result",
          "data": {
            "text/plain": [
              "(array([4000.,    0., 4000.,    0., 4000.,    0., 4000.,    0., 4000.,\n",
              "        4000.]),\n",
              " array([0. , 0.5, 1. , 1.5, 2. , 2.5, 3. , 3.5, 4. , 4.5, 5. ]),\n",
              " <a list of 10 Patch objects>)"
            ]
          },
          "metadata": {},
          "execution_count": 16
        },
        {
          "output_type": "display_data",
          "data": {
            "image/png": "[encoded data removed]",
            "text/plain": [
              "<Figure size 432x288 with 1 Axes>"
            ]
          },
          "metadata": {
            "needs_background": "light"
          }
        }
      ]
    },
    {
      "cell_type": "code",
      "metadata": {
        "id": "V2KsXdgkBPY5"
      },
      "source": [
        "# Create Training dictionary\n",
        "tr_scor_dict_bal = ld.get_ids(balanced_train, 'cg1dclkdraw')\n",
        "\n",
        "# Writing dictionary to text file for training\n",
        "try:\n",
        "    id_file = open('tr_scor_dict_bal.txt', 'wt')\n",
        "    id_file.write(str(tr_scor_dict_bal))\n",
        "    id_file.close()\n",
        "  \n",
        "except:\n",
        "    print(\"Unable to write to file\")"
      ],
      "execution_count": null,
      "outputs": []
    },
    {
      "cell_type": "code",
      "metadata": {
        "id": "6p9ZxXkeBVLO"
      },
      "source": [
        "# Create Validation dictionary\n",
        "val_scor_dict_nobal = ld.get_ids(val, 'cg1dclkdraw')\n",
        "\n",
        "# Writing dictionary to text file for Validation\n",
        "try:\n",
        "    id_file = open('val_scor_dict_nobal.txt', 'wt')\n",
        "    id_file.write(str(val_scor_dict_nobal))\n",
        "    id_file.close()\n",
        "  \n",
        "except:\n",
        "    print(\"Unable to write to file\")"
      ],
      "execution_count": null,
      "outputs": []
    },
    {
      "cell_type": "code",
      "metadata": {
        "id": "KRgLk2XcBXyj"
      },
      "source": [
        "# Create testing dictionary\n",
        "tst_scor_dict_nobal = ld.get_ids(test, 'cg1dclkdraw')\n",
        "\n",
        "# Writing dictionary to text file for testing\n",
        "try:\n",
        "    id_file = open('tst_scor_dict_nobal.txt', 'wt')\n",
        "    id_file.write(str(tst_scor_dict_nobal))\n",
        "    id_file.close()\n",
        "  \n",
        "except:\n",
        "    print(\"Unable to write to file\")"
      ],
      "execution_count": null,
      "outputs": []
    },
    {
      "cell_type": "code",
      "metadata": {
        "colab": {
          "base_uri": "https://localhost:8080/"
        },
        "id": "85FohtNPBYcz",
        "outputId": "5f22333f-5bca-4560-9f85-17b380b0099e"
      },
      "source": [
        "print('fin')"
      ],
      "execution_count": 18,
      "outputs": [
        {
          "output_type": "stream",
          "name": "stdout",
          "text": [
            "fin\n"
          ]
        }
      ]
    }
  ]
}