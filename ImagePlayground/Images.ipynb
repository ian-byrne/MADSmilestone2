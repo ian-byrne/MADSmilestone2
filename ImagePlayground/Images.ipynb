{
  "nbformat": 4,
  "nbformat_minor": 0,
  "metadata": {
    "colab": {
      "name": "Images.ipynb",
      "provenance": [],
      "include_colab_link": true
    },
    "kernelspec": {
      "name": "python3",
      "display_name": "Python 3"
    },
    "language_info": {
      "name": "python"
    }
  },
  "cells": [
    {
      "cell_type": "markdown",
      "metadata": {
        "id": "view-in-github",
        "colab_type": "text"
      },
      "source": [
        "<a href=\"https://colab.research.google.com/github/ian-byrne/MADSmilestone2/blob/main/ImagePlayground/Images.ipynb\" target=\"_parent\"><img src=\"https://colab.research.google.com/assets/colab-badge.svg\" alt=\"Open In Colab\"/></a>"
      ]
    },
    {
      "cell_type": "code",
      "metadata": {
        "id": "h9sukXLSAVye",
        "colab": {
          "base_uri": "https://localhost:8080/"
        },
        "outputId": "55d33bab-b80f-4e8f-9f03-238a993ee9a0"
      },
      "source": [
        "# Clone the entire repo.\n",
        "!git clone -l -s https://github.com/ian-byrne/MADSmilestone2.git\n",
        "\n",
        "# Change directory into cloned repo\n",
        "%cd MADSmilestone2\n",
        "\n",
        "# List repo contents\n",
        "!ls"
      ],
      "execution_count": 1,
      "outputs": [
        {
          "output_type": "stream",
          "name": "stdout",
          "text": [
            "Cloning into 'MADSmilestone2'...\n",
            "warning: --local is ignored\n",
            "remote: Enumerating objects: 610, done.\u001b[K\n",
            "remote: Counting objects: 100% (610/610), done.\u001b[K\n",
            "remote: Compressing objects: 100% (504/504), done.\u001b[K\n",
            "remote: Total 610 (delta 333), reused 230 (delta 97), pack-reused 0\u001b[K\n",
            "Receiving objects: 100% (610/610), 4.76 MiB | 7.12 MiB/s, done.\n",
            "Resolving deltas: 100% (333/333), done.\n",
            "/content/MADSmilestone2\n",
            "Data\t\t\t Loading\t       README.md\n",
            "ian_testingground.ipynb  Model_Datasets.ipynb  Supervised\n",
            "ImagePlayground\t\t multimodel1.ipynb     Supervised_CNN.ipynb\n",
            "Labeling\t\t multimodel.ipynb\n"
          ]
        }
      ]
    },
    {
      "cell_type": "code",
      "metadata": {
        "id": "P6KKO2EbmFvY"
      },
      "source": [
        "#!rm -rf "
      ],
      "execution_count": null,
      "outputs": []
    },
    {
      "cell_type": "code",
      "metadata": {
        "id": "EZiPijjnAPrP"
      },
      "source": [
        "import numpy as np\n",
        "import matplotlib.pyplot as plt\n",
        "import io\n",
        "import requests\n",
        "from PIL import Image\n",
        "import ImagePlayground.Images as Images # Contains functions: get_images_test(), get_coordinates(), viz_image()\n",
        "import ast"
      ],
      "execution_count": 6,
      "outputs": []
    },
    {
      "cell_type": "code",
      "metadata": {
        "id": "-5dka6mI2i7E"
      },
      "source": [
        "# Read round, id, label dictionary file\n",
        "\n",
        "path = '/content/MADSmilestone2/Data/Dictionaries/dementia_label_dicts/customLabelDict.txt'\n",
        "cust_file = open(path, \"r\")\n",
        "#print(cust_file.readline())\n",
        "contents = cust_file.read()\n",
        "dictionary = ast.literal_eval(contents)\n",
        "cust_file.close()"
      ],
      "execution_count": 7,
      "outputs": []
    },
    {
      "cell_type": "code",
      "metadata": {
        "id": "fjKtZqXXNJSo"
      },
      "source": [
        "def get_images_test():\n",
        "    counter = 0\n",
        "    store_images = []\n",
        "    image_data = []\n",
        "\n",
        "    for id, array in dictionary.items():\n",
        "        for value in array:\n",
        "            if counter < 1:\n",
        "                url = 'https://clockimages.s3.us-west-1.amazonaws.com/NHATS_R' + str(\n",
        "                    id) + '_ClockDrawings/' + value[0] + '.tif'\n",
        "\n",
        "                response = requests.get(url)  # , stream = True)\n",
        "                f = io.BytesIO(response.content)\n",
        "                im_pil = Image.open(f)\n",
        "                resize = im_pil.resize((512, 662)) \n",
        "                imarray1 = np.array(resize)\n",
        "                # imarray = np.logical_not(np.array(im)).astype(int) #bool to int, inverts values\n",
        "                # store_images.append(imarray1)\n",
        "                image_data.append(get_coordinates(imarray1))  # , imarray1.shape[0], imarray1.shape[1]))\n",
        "                viz_image(imarray1, im_pil)\n",
        "                counter += 1\n",
        "\n",
        "    return image_data\n",
        "\n",
        "\n",
        "def get_coordinates(data):#, height, width):\n",
        "  image = data\n",
        "  image_array = []\n",
        "\n",
        "  #for y in range(0, height):\n",
        "    #for x in range(0, width):\n",
        "      #if image[y][x] == False:\n",
        "        #image_array.append((y, x))\n",
        "  image_array = np.where(image == False) #np.argwhere( image == False)\n",
        "  return image_array\n",
        "\n",
        "\n",
        "def viz_image(image, image_pil):\n",
        "  print(\"shape: \", image.shape)\n",
        "  plt.figure(figsize=(9,11))\n",
        "  # revert\n",
        "  im2 = Image.fromarray(np.array(image))\n",
        "  plt.imshow(im2)\n",
        "  plt.show()\n",
        "\n"
      ],
      "execution_count": 26,
      "outputs": []
    },
    {
      "cell_type": "code",
      "metadata": {
        "id": "Ivi9MaApPqi-",
        "outputId": "0bbbe6b4-a324-4243-d983-e8e8b46affca",
        "colab": {
          "base_uri": "https://localhost:8080/",
          "height": 700
        }
      },
      "source": [
        "get_images_test()"
      ],
      "execution_count": 27,
      "outputs": [
        {
          "output_type": "stream",
          "name": "stdout",
          "text": [
            "shape:  (662, 512)\n"
          ]
        },
        {
          "output_type": "display_data",
          "data": {
            "image/png": "[encoded data removed]",
            "text/plain": [
              "<Figure size 648x792 with 1 Axes>"
            ]
          },
          "metadata": {
            "needs_background": "light"
          }
        },
        {
          "output_type": "execute_result",
          "data": {
            "text/plain": [
              "[(array([ 46,  46,  46, ..., 661, 661, 661]),\n",
              "  array([100, 109, 110, ..., 192, 193, 194]))]"
            ]
          },
          "metadata": {},
          "execution_count": 27
        }
      ]
    },
    {
      "cell_type": "code",
      "metadata": {
        "id": "dPLr7FDlPu1T"
      },
      "source": [
        ""
      ],
      "execution_count": null,
      "outputs": []
    }
  ]
}