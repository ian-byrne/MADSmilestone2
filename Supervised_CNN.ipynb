{
  "nbformat": 4,
  "nbformat_minor": 0,
  "metadata": {
    "colab": {
      "name": "Supervised_CNN.ipynb",
      "provenance": [],
      "collapsed_sections": [],
      "authorship_tag": "ABX9TyPITFIpm8tYoZKWZ047ixdS",
      "include_colab_link": true
    },
    "kernelspec": {
      "name": "python3",
      "display_name": "Python 3"
    },
    "language_info": {
      "name": "python"
    }
  },
  "cells": [
    {
      "cell_type": "markdown",
      "metadata": {
        "id": "view-in-github",
        "colab_type": "text"
      },
      "source": [
        "<a href=\"https://colab.research.google.com/github/ian-byrne/MADSmilestone2/blob/main/Supervised_CNN.ipynb\" target=\"_parent\"><img src=\"https://colab.research.google.com/assets/colab-badge.svg\" alt=\"Open In Colab\"/></a>"
      ]
    },
    {
      "cell_type": "markdown",
      "metadata": {
        "id": "oa6L-qwlfHPf"
      },
      "source": [
        "# Supervised Learning: Clock Drawing Image Classification with Convolutional Neural Networks\n",
        "### Stacey Beck and Ian Byrne\n",
        "\n",
        "- Split data into sets of Training (x = image arrays ; y = labels), Test (~10% image arrays), and Validation (~10% of the Training). \n",
        "- Build CNN using Pytorch for Training and Test:\n",
        "  - Specify CUDA\n",
        "  - 2D convolution, Normalization (for faster training), Non-linear Activation Function (ex. RELU), Max Pooling (downsampling to reduce learned parameters).\n",
        "  - Define Layers \n",
        "  - Build Forward and backward pass\n",
        "  - Define optimizer (due to many - deep - nodes) ex) ADAM\n",
        "  - Calculate Loss (BCE)\n",
        "  - Calculate Accuracy, Precision, Recall (Confusion Matrix)\n",
        "  - Plot ROC and print Confusion Matrix\n",
        "\n"
      ]
    },
    {
      "cell_type": "code",
      "metadata": {
        "id": "Vyb41FhW8vNP"
      },
      "source": [
        ""
      ],
      "execution_count": null,
      "outputs": []
    },
    {
      "cell_type": "code",
      "metadata": {
        "colab": {
          "base_uri": "https://localhost:8080/"
        },
        "id": "Eoct7Or8ezZq",
        "outputId": "a36fb5cd-d9b6-4674-c0aa-bf13a797093d"
      },
      "source": [
        "# Clone the entire repo.\n",
        "!git clone -l -s https://github.com/ian-byrne/MADSmilestone2.git\n",
        "\n",
        "# Change directory into cloned repo\n",
        "%cd MADSmilestone2\n",
        "\n",
        "# List repo contents\n",
        "#!ls"
      ],
      "execution_count": 2,
      "outputs": [
        {
          "output_type": "stream",
          "name": "stdout",
          "text": [
            "fatal: destination path 'MADSmilestone2' already exists and is not an empty directory.\n",
            "/content/MADSmilestone2\n"
          ]
        }
      ]
    },
    {
      "cell_type": "code",
      "metadata": {
        "id": "XtH9tfFdQepN"
      },
      "source": [
        "import numpy as np\n",
        "import pandas as pd\n",
        "import matplotlib.pyplot as plt\n",
        "import io\n",
        "import requests\n",
        "from PIL import Image\n",
        "import ast\n",
        "import Images\n",
        "from tqdm import tqdm"
      ],
      "execution_count": 3,
      "outputs": []
    },
    {
      "cell_type": "code",
      "metadata": {
        "id": "fM_UbzqNogPC"
      },
      "source": [
        "#!rm -rf /content/MADSmilestone2"
      ],
      "execution_count": null,
      "outputs": []
    },
    {
      "cell_type": "code",
      "metadata": {
        "id": "U8QJAPeJfGK4"
      },
      "source": [
        "# Read round, id, label dictionary file\n",
        "\n",
        "cust_file = open(\"Data/customLabelDict.txt\", \"r\")\n",
        "#print(cust_file.readline())\n",
        "contents = cust_file.read()\n",
        "dictionary = ast.literal_eval(contents)\n",
        "cust_file.close()"
      ],
      "execution_count": 4,
      "outputs": []
    },
    {
      "cell_type": "code",
      "metadata": {
        "colab": {
          "base_uri": "https://localhost:8080/",
          "height": 368
        },
        "id": "m85-tqwo_J0w",
        "outputId": "14d09028-c4f9-4c1f-8ff4-57353bdc9c63"
      },
      "source": [
        "# This portion is part of my test code\n",
        "byteImgIO = io.BytesIO()\n",
        "byteImg = Image.open('https://test-bucket-clockids-aicrowd.s3.us-west-1.amazonaws.com/1_10000003.tif')\n",
        "byteImg.save(byteImgIO, \"tif\")\n",
        "byteImgIO.seek(0)\n",
        "byteImg = byteImgIO.read()\n",
        "\n",
        "\n",
        "# Non test code\n",
        "dataBytesIO = io.BytesIO(byteImg)\n",
        "Image.open(dataBytesIO)"
      ],
      "execution_count": 8,
      "outputs": [
        {
          "output_type": "error",
          "ename": "FileNotFoundError",
          "evalue": "ignored",
          "traceback": [
            "\u001b[0;31m---------------------------------------------------------------------------\u001b[0m",
            "\u001b[0;31mFileNotFoundError\u001b[0m                         Traceback (most recent call last)",
            "\u001b[0;32m<ipython-input-8-ed28161f3340>\u001b[0m in \u001b[0;36m<module>\u001b[0;34m()\u001b[0m\n\u001b[1;32m      1\u001b[0m \u001b[0;31m# This portion is part of my test code\u001b[0m\u001b[0;34m\u001b[0m\u001b[0;34m\u001b[0m\u001b[0;34m\u001b[0m\u001b[0m\n\u001b[1;32m      2\u001b[0m \u001b[0mbyteImgIO\u001b[0m \u001b[0;34m=\u001b[0m \u001b[0mio\u001b[0m\u001b[0;34m.\u001b[0m\u001b[0mBytesIO\u001b[0m\u001b[0;34m(\u001b[0m\u001b[0;34m)\u001b[0m\u001b[0;34m\u001b[0m\u001b[0;34m\u001b[0m\u001b[0m\n\u001b[0;32m----> 3\u001b[0;31m \u001b[0mbyteImg\u001b[0m \u001b[0;34m=\u001b[0m \u001b[0mImage\u001b[0m\u001b[0;34m.\u001b[0m\u001b[0mopen\u001b[0m\u001b[0;34m(\u001b[0m\u001b[0;34m'https://test-bucket-clockids-aicrowd.s3.us-west-1.amazonaws.com/1_10000003.tif'\u001b[0m\u001b[0;34m)\u001b[0m\u001b[0;34m\u001b[0m\u001b[0;34m\u001b[0m\u001b[0m\n\u001b[0m\u001b[1;32m      4\u001b[0m \u001b[0mbyteImg\u001b[0m\u001b[0;34m.\u001b[0m\u001b[0msave\u001b[0m\u001b[0;34m(\u001b[0m\u001b[0mbyteImgIO\u001b[0m\u001b[0;34m,\u001b[0m \u001b[0;34m\"tif\"\u001b[0m\u001b[0;34m)\u001b[0m\u001b[0;34m\u001b[0m\u001b[0;34m\u001b[0m\u001b[0m\n\u001b[1;32m      5\u001b[0m \u001b[0mbyteImgIO\u001b[0m\u001b[0;34m.\u001b[0m\u001b[0mseek\u001b[0m\u001b[0;34m(\u001b[0m\u001b[0;36m0\u001b[0m\u001b[0;34m)\u001b[0m\u001b[0;34m\u001b[0m\u001b[0;34m\u001b[0m\u001b[0m\n",
            "\u001b[0;32m/usr/local/lib/python3.7/dist-packages/PIL/Image.py\u001b[0m in \u001b[0;36mopen\u001b[0;34m(fp, mode)\u001b[0m\n\u001b[1;32m   2841\u001b[0m \u001b[0;34m\u001b[0m\u001b[0m\n\u001b[1;32m   2842\u001b[0m     \u001b[0;32mif\u001b[0m \u001b[0mfilename\u001b[0m\u001b[0;34m:\u001b[0m\u001b[0;34m\u001b[0m\u001b[0;34m\u001b[0m\u001b[0m\n\u001b[0;32m-> 2843\u001b[0;31m         \u001b[0mfp\u001b[0m \u001b[0;34m=\u001b[0m \u001b[0mbuiltins\u001b[0m\u001b[0;34m.\u001b[0m\u001b[0mopen\u001b[0m\u001b[0;34m(\u001b[0m\u001b[0mfilename\u001b[0m\u001b[0;34m,\u001b[0m \u001b[0;34m\"rb\"\u001b[0m\u001b[0;34m)\u001b[0m\u001b[0;34m\u001b[0m\u001b[0;34m\u001b[0m\u001b[0m\n\u001b[0m\u001b[1;32m   2844\u001b[0m         \u001b[0mexclusive_fp\u001b[0m \u001b[0;34m=\u001b[0m \u001b[0;32mTrue\u001b[0m\u001b[0;34m\u001b[0m\u001b[0;34m\u001b[0m\u001b[0m\n\u001b[1;32m   2845\u001b[0m \u001b[0;34m\u001b[0m\u001b[0m\n",
            "\u001b[0;31mFileNotFoundError\u001b[0m: [Errno 2] No such file or directory: 'https://test-bucket-clockids-aicrowd.s3.us-west-1.amazonaws.com/1_10000003.tif'"
          ]
        }
      ]
    },
    {
      "cell_type": "code",
      "metadata": {
        "id": "fV8qowHrj5Kk"
      },
      "source": [
        "def get_images_test(id_rounds):\n",
        "    counter = 0\n",
        "    store_images = []\n",
        "    #image_data = []\n",
        "    label_arr = []\n",
        "\n",
        "    for id, array in tqdm(id_rounds.items()):\n",
        "        for value in array:\n",
        "            if counter < 40:\n",
        "                url = 'https://clockimages.s3.us-west-1.amazonaws.com/NHATS_R' + str(\n",
        "                    id) + '_ClockDrawings/' + value[0] + '.tif'\n",
        "                #url = 'https://test-bucket-clockids-aicrowd.s3.us-west-1.amazonaws.com/1_'+ value[0] + '.tif'\n",
        "                # Open files and convert to work with Image in PIL\n",
        "                response = requests.get(url)  # , stream = True)\n",
        "                f = io.BytesIO(response.content)\n",
        "                im_pil = Image.open(f)\n",
        "\n",
        "                # Resize pil image files\n",
        "                #resized = im_pil.resize((im_pil.width // 9, im_pil.height // 9))\n",
        "                resized = im_pil.resize((284,368))\n",
        "                imarray1 = np.array(resized)\n",
        "\n",
        "                #imarray = np.logical_not(np.array(im)).astype(int) #bool to int, inverts values\n",
        "                #image_data.append(get_coordinates(imarray1))  # , imarray1.shape[0], imarray1.shape[1]))\n",
        "\n",
        "                #Store the np array images into a list\n",
        "                store_images.append(imarray1)\n",
        "\n",
        "                #print(\"round: \", id)\n",
        "\n",
        "                #Visualize the resized images\n",
        "                #viz_image(imarray1, resized, value[0], value[1])\n",
        "                \n",
        "                # Store corresponding labels\n",
        "                label_arr.append(value[1])\n",
        "                \n",
        "                counter += 1\n",
        "\n",
        "    return store_images, label_arr\n",
        "\n",
        "\n",
        "\n",
        "\n",
        "def viz_image(image, resized, value0, value1):\n",
        "  print(\"shape: \", image.shape)\n",
        "  print(\"spid: \", value0)\n",
        "  print(\"label: \", value1)\n",
        "\n",
        "  # revert\n",
        "  im2 = Image.fromarray(np.array(resized))\n",
        "  plt.imshow(im2)\n",
        "  plt.show()"
      ],
      "execution_count": 95,
      "outputs": []
    },
    {
      "cell_type": "code",
      "metadata": {
        "id": "MyUTQpR5kKh5",
        "colab": {
          "base_uri": "https://localhost:8080/"
        },
        "outputId": "aa14aa30-d90b-450b-9bef-05611951b09d"
      },
      "source": [
        "x, y = get_images_test(dictionary)"
      ],
      "execution_count": 96,
      "outputs": [
        {
          "output_type": "stream",
          "name": "stderr",
          "text": [
            "100%|██████████| 10/10 [00:14<00:00,  1.50s/it]\n"
          ]
        }
      ]
    },
    {
      "cell_type": "code",
      "metadata": {
        "colab": {
          "base_uri": "https://localhost:8080/"
        },
        "id": "P8XCDeIdWYWu",
        "outputId": "c120c49d-f6b2-4259-b41b-bc572f6780df"
      },
      "source": [
        "X = np.array(x)\n",
        "X.shape\n",
        "\n",
        "\n",
        "\n"
      ],
      "execution_count": 101,
      "outputs": [
        {
          "output_type": "execute_result",
          "data": {
            "text/plain": [
              "(40, 368, 284)"
            ]
          },
          "metadata": {},
          "execution_count": 101
        }
      ]
    },
    {
      "cell_type": "code",
      "metadata": {
        "colab": {
          "base_uri": "https://localhost:8080/",
          "height": 286
        },
        "id": "xGD41P6Q5xfr",
        "outputId": "774cc3d5-0e0d-406a-81d8-1f1bdbaa55cb"
      },
      "source": [
        "plt.imshow(X[10])"
      ],
      "execution_count": 104,
      "outputs": [
        {
          "output_type": "execute_result",
          "data": {
            "text/plain": [
              "<matplotlib.image.AxesImage at 0x7f3cd9b56310>"
            ]
          },
          "metadata": {},
          "execution_count": 104
        },
        {
          "output_type": "display_data",
          "data": {
            "image/png": "[encoded data removed]",
            "text/plain": [
              "<Figure size 432x288 with 1 Axes>"
            ]
          },
          "metadata": {
            "needs_background": "light"
          }
        }
      ]
    },
    {
      "cell_type": "code",
      "metadata": {
        "colab": {
          "base_uri": "https://localhost:8080/"
        },
        "id": "Kc_mXH11UsOZ",
        "outputId": "35f277da-1326-4c3e-b37a-baeebe55acd9"
      },
      "source": [
        "# split into train and val\n",
        "ratio_val = 0.1\n",
        "ratio_test = 0.1\n",
        "\n",
        "# Get Train and Test split\n",
        "X_split, X_test, y_split, y_test = train_test_split(X, y, test_size = ratio_test, random_state = 6) \n",
        "\n",
        "# Adjust remaining ratio for even split\n",
        "ratio_remaining = 1 - ratio_test #.11111\n",
        "ratio_val_ad = ratio_val / ratio_remaining \n",
        "\n",
        "# Get Train and Val split\n",
        "X_train, X_val, y_train, y_val = train_test_split(X_split, y_split, test_size = ratio_val_ad, random_state = 6)\n",
        "\n",
        "#Final Variables:\n",
        "X_train\n",
        "X_val\n",
        "X_test\n",
        "#----\n",
        "y_train\n",
        "y_val\n",
        "y_test"
      ],
      "execution_count": 109,
      "outputs": [
        {
          "output_type": "execute_result",
          "data": {
            "text/plain": [
              "[2, 2, 0, 2]"
            ]
          },
          "metadata": {},
          "execution_count": 109
        }
      ]
    },
    {
      "cell_type": "code",
      "metadata": {
        "id": "pTKzGGrTZcdP"
      },
      "source": [
        "# Create classes for training data, test data \n",
        "# So far using one batch\n",
        "\n",
        "class Helper():\n",
        "  \n",
        "  def __init__(self):\n",
        "    self.i = 0\n",
        "\n",
        "    # create batches  \n",
        "    #self.train_batch = [#split X_train into batches]\n",
        "    #self.val_batch = [#validation batch]\n",
        "    #self.test_batch = [#test batch]\n",
        "\n",
        "    self.training_images = None\n",
        "    self.training_labels = None\n",
        "\n",
        "    self.val_images = None\n",
        "    self.val_labels = None\n",
        "\n",
        "    self.test_images = None\n",
        "    self.test_labels = None\n",
        "  \n",
        "\n",
        "  def get_images(self):\n",
        "\n",
        "    print(\"set up images for training, val, test\")\n",
        "\n",
        "    self.training_images = np.array(self.training_images)\n",
        "    train_len = len(self.training_images)\n",
        "\n",
        "    self.val_images = np.array(self.val_images)\n",
        "    val_len = len(self.val_images)\n",
        "\n",
        "    self.test_images = np.array(self.test_images)\n",
        "    test_len = len(self.test_images)\n",
        "\n",
        "\n",
        "\n",
        "  def next_batch(self, batch_size):\n",
        "    x = self.training_images[self.i:self.i+batch_size].reshape(batch_size,368, 284) #resize to length of batch\n",
        "    y = self.training_labels[self.i:self.i+batch_size]\n",
        "    self.i = (self.i + batch_size) % len(self.training_images)\n",
        "    return x , y \n"
      ],
      "execution_count": 110,
      "outputs": []
    },
    {
      "cell_type": "code",
      "metadata": {
        "id": "uAoV1boOkf2i"
      },
      "source": [
        ""
      ],
      "execution_count": null,
      "outputs": []
    }
  ]
}