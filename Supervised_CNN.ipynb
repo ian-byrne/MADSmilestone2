{
  "nbformat": 4,
  "nbformat_minor": 0,
  "metadata": {
    "colab": {
      "name": "Supervised_CNN.ipynb",
      "provenance": [],
      "collapsed_sections": [],
      "machine_shape": "hm",
      "mount_file_id": "10WdpyFVm5G8J5AJrHPelKDpmooAreyPw",
      "authorship_tag": "ABX9TyMKBfA9umGaiJAoo3xLZRmE",
      "include_colab_link": true
    },
    "kernelspec": {
      "display_name": "Python 3",
      "name": "python3"
    },
    "language_info": {
      "name": "python"
    },
    "accelerator": "GPU"
  },
  "cells": [
    {
      "cell_type": "markdown",
      "metadata": {
        "id": "view-in-github",
        "colab_type": "text"
      },
      "source": [
        "<a href=\"https://colab.research.google.com/github/ian-byrne/MADSmilestone2/blob/main/Supervised_CNN.ipynb\" target=\"_parent\"><img src=\"https://colab.research.google.com/assets/colab-badge.svg\" alt=\"Open In Colab\"/></a>"
      ]
    },
    {
      "cell_type": "markdown",
      "metadata": {
        "id": "oa6L-qwlfHPf"
      },
      "source": [
        "# Supervised Learning: Clock Drawing Image Classification with Convolutional Neural Networks\n",
        "### Stacey Beck and Ian Byrne\n",
        "\n",
        "- Split data into sets of Training (x = image arrays ; y = labels), Test (~10% image arrays), and Validation (~10% of the Training). \n",
        "- Build CNN using Pytorch for Training and Test:\n",
        "  - Specify CUDA\n",
        "  - 2D convolution, Normalization (for faster training), Non-linear Activation Function (ex. RELU), Max Pooling (downsampling to reduce learned parameters).\n",
        "  - Define Layers \n",
        "  - Build Forward and backward pass\n",
        "  - Define optimizer (due to many - deep - nodes) ex) ADAM\n",
        "  - Calculate Loss (BCE)\n",
        "  - Calculate Accuracy, Precision, Recall (Confusion Matrix)\n",
        "  - Plot ROC and print Confusion Matrix\n",
        "\n"
      ]
    },
    {
      "cell_type": "code",
      "metadata": {
        "colab": {
          "base_uri": "https://localhost:8080/"
        },
        "id": "MKcEhDBuf5ow",
        "outputId": "58ff2892-d9f2-4e46-c514-61e5c5b6ba09"
      },
      "source": [
        "from google.colab import drive\n",
        "drive.mount('/content/gdrive')"
      ],
      "execution_count": 1,
      "outputs": [
        {
          "output_type": "stream",
          "name": "stdout",
          "text": [
            "Mounted at /content/gdrive\n"
          ]
        }
      ]
    },
    {
      "cell_type": "code",
      "metadata": {
        "colab": {
          "base_uri": "https://localhost:8080/"
        },
        "id": "Eoct7Or8ezZq",
        "outputId": "35c28daf-d73e-4d7d-8a90-12689c85ab80"
      },
      "source": [
        "# Clone the entire repo.\n",
        "!git clone -l -s https://github.com/ian-byrne/MADSmilestone2.git\n",
        "\n",
        "# Change directory into cloned repo\n",
        "%cd MADSmilestone2\n",
        "\n",
        "# List repo contents\n",
        "#!ls"
      ],
      "execution_count": 2,
      "outputs": [
        {
          "output_type": "stream",
          "name": "stdout",
          "text": [
            "Cloning into 'MADSmilestone2'...\n",
            "warning: --local is ignored\n",
            "remote: Enumerating objects: 574, done.\u001b[K\n",
            "remote: Counting objects: 100% (574/574), done.\u001b[K\n",
            "remote: Compressing objects: 100% (473/473), done.\u001b[K\n",
            "remote: Total 574 (delta 318), reused 219 (delta 92), pack-reused 0\u001b[K\n",
            "Receiving objects: 100% (574/574), 4.21 MiB | 6.36 MiB/s, done.\n",
            "Resolving deltas: 100% (318/318), done.\n",
            "/content/MADSmilestone2\n"
          ]
        }
      ]
    },
    {
      "cell_type": "code",
      "metadata": {
        "colab": {
          "base_uri": "https://localhost:8080/"
        },
        "id": "XtH9tfFdQepN",
        "outputId": "b2e4c348-81c5-4b8a-8e77-5bee58b87d79"
      },
      "source": [
        "!pip install torchmetrics\n",
        "\n",
        "# General Libraries\n",
        "import pandas as pd\n",
        "import numpy as np\n",
        "\n",
        "# Custom Libraries\n",
        "import Loading.load_data as ld\n",
        "import ImagePlayground.Images\n",
        "\n",
        "# Pytroch Libraries\n",
        "import torch\n",
        "import torch.nn as nn\n",
        "import torch.nn.functional as F\n",
        "import torchvision\n",
        "import torchvision.transforms as transforms\n",
        "from torch.nn import Linear, ReLU, CrossEntropyLoss, Sequential, Conv2d, MaxPool2d, Module, Softmax, BatchNorm2d, Dropout\n",
        "from torch.optim import Adam, SGD\n",
        "\n",
        "# To Evaluate model\n",
        "from tqdm import tqdm\n",
        "import torchmetrics\n",
        "from torchmetrics import ConfusionMatrix\n",
        "from sklearn.metrics import multilabel_confusion_matrix\n",
        "from sklearn.metrics import plot_confusion_matrix\n",
        "from sklearn.metrics import confusion_matrix\n",
        "from sklearn.metrics import classification_report\n",
        "\n",
        "# To visualize model\n",
        "import matplotlib.pyplot as plt\n",
        "import seaborn as sns\n",
        "from PIL import Image\n",
        "from skimage.io import imread\n",
        "\n",
        "# To split the data\n",
        "from sklearn.model_selection import train_test_split"
      ],
      "execution_count": 3,
      "outputs": [
        {
          "output_type": "stream",
          "name": "stdout",
          "text": [
            "Collecting torchmetrics\n",
            "  Downloading torchmetrics-0.5.1-py3-none-any.whl (282 kB)\n",
            "\u001b[?25l\r\u001b[K     |█▏                              | 10 kB 32.5 MB/s eta 0:00:01\r\u001b[K     |██▎                             | 20 kB 37.8 MB/s eta 0:00:01\r\u001b[K     |███▌                            | 30 kB 41.3 MB/s eta 0:00:01\r\u001b[K     |████▋                           | 40 kB 27.4 MB/s eta 0:00:01\r\u001b[K     |█████▉                          | 51 kB 16.9 MB/s eta 0:00:01\r\u001b[K     |███████                         | 61 kB 18.1 MB/s eta 0:00:01\r\u001b[K     |████████                        | 71 kB 16.3 MB/s eta 0:00:01\r\u001b[K     |█████████▎                      | 81 kB 18.1 MB/s eta 0:00:01\r\u001b[K     |██████████▍                     | 92 kB 13.7 MB/s eta 0:00:01\r\u001b[K     |███████████▋                    | 102 kB 14.9 MB/s eta 0:00:01\r\u001b[K     |████████████▊                   | 112 kB 14.9 MB/s eta 0:00:01\r\u001b[K     |██████████████                  | 122 kB 14.9 MB/s eta 0:00:01\r\u001b[K     |███████████████                 | 133 kB 14.9 MB/s eta 0:00:01\r\u001b[K     |████████████████▏               | 143 kB 14.9 MB/s eta 0:00:01\r\u001b[K     |█████████████████▍              | 153 kB 14.9 MB/s eta 0:00:01\r\u001b[K     |██████████████████▌             | 163 kB 14.9 MB/s eta 0:00:01\r\u001b[K     |███████████████████▊            | 174 kB 14.9 MB/s eta 0:00:01\r\u001b[K     |████████████████████▉           | 184 kB 14.9 MB/s eta 0:00:01\r\u001b[K     |██████████████████████          | 194 kB 14.9 MB/s eta 0:00:01\r\u001b[K     |███████████████████████▏        | 204 kB 14.9 MB/s eta 0:00:01\r\u001b[K     |████████████████████████▎       | 215 kB 14.9 MB/s eta 0:00:01\r\u001b[K     |█████████████████████████▌      | 225 kB 14.9 MB/s eta 0:00:01\r\u001b[K     |██████████████████████████▋     | 235 kB 14.9 MB/s eta 0:00:01\r\u001b[K     |███████████████████████████▉    | 245 kB 14.9 MB/s eta 0:00:01\r\u001b[K     |█████████████████████████████   | 256 kB 14.9 MB/s eta 0:00:01\r\u001b[K     |██████████████████████████████  | 266 kB 14.9 MB/s eta 0:00:01\r\u001b[K     |███████████████████████████████▎| 276 kB 14.9 MB/s eta 0:00:01\r\u001b[K     |████████████████████████████████| 282 kB 14.9 MB/s \n",
            "\u001b[?25hRequirement already satisfied: numpy>=1.17.2 in /usr/local/lib/python3.7/dist-packages (from torchmetrics) (1.19.5)\n",
            "Requirement already satisfied: torch>=1.3.1 in /usr/local/lib/python3.7/dist-packages (from torchmetrics) (1.9.0+cu102)\n",
            "Requirement already satisfied: packaging in /usr/local/lib/python3.7/dist-packages (from torchmetrics) (21.0)\n",
            "Requirement already satisfied: typing-extensions in /usr/local/lib/python3.7/dist-packages (from torch>=1.3.1->torchmetrics) (3.7.4.3)\n",
            "Requirement already satisfied: pyparsing>=2.0.2 in /usr/local/lib/python3.7/dist-packages (from packaging->torchmetrics) (2.4.7)\n",
            "Installing collected packages: torchmetrics\n",
            "Successfully installed torchmetrics-0.5.1\n"
          ]
        }
      ]
    },
    {
      "cell_type": "code",
      "metadata": {
        "id": "fM_UbzqNogPC"
      },
      "source": [
        "#!rm -rf /content/MADSmilestone2"
      ],
      "execution_count": null,
      "outputs": []
    },
    {
      "cell_type": "markdown",
      "metadata": {
        "id": "o5jwtXk7qv9-"
      },
      "source": [
        "# Build CNN Model using Pytorch\n"
      ]
    },
    {
      "cell_type": "markdown",
      "metadata": {
        "id": "4nKizV2h4lMH"
      },
      "source": [
        "### Building and Training\n",
        "Architecture choices influenced from: \n",
        "\n",
        "https://www.analyticsvidhya.com/blog/2018/12/guide-convolutional-neural-network-cnn/\n",
        "\n",
        "https://medium.datadriveninvestor.com/five-powerful-cnn-architectures-b939c9ddd57b\n",
        "\n",
        "https://towardsdatascience.com/how-does-sparse-convolution-work-3257a0a8fd1"
      ]
    },
    {
      "cell_type": "code",
      "metadata": {
        "id": "7OOYf4s0smrq"
      },
      "source": [
        "# Define some of the hyperparameters and training variables\n",
        "#epochs = 2\n",
        "batch_size = 25\n",
        "learning_rate = .001\n",
        "kernel_size = 3\n",
        "stride = 1\n",
        "padding = 1 #2*floor(3/2)\n",
        "#activation function"
      ],
      "execution_count": 4,
      "outputs": []
    },
    {
      "cell_type": "code",
      "metadata": {
        "colab": {
          "base_uri": "https://localhost:8080/"
        },
        "id": "Ypf_eiS8Eghk",
        "outputId": "e43f85e2-c341-4d72-bc38-0f09bd4fd044"
      },
      "source": [
        "# Load numpy array files, add dimension of 1 for gray scale, and zip images and labels \n",
        "# get zipped im label and separate label tensors\n",
        "tr_im_path = \"Dementia_label_data/balanced_training.npy\"\n",
        "tr_lb_path = \"Dementia_label_data/balanced_train_labels.npy\"\n",
        "val_im_path = \"Dementia_label_data/val_im_nobal.npy\"\n",
        "val_lb_path = \"Dementia_label_data/val_labels_im_nobal.npy\"\n",
        "tst_im_path = \"Dementia_label_data/test_im_nobal.npy\"\n",
        "tst_lb_path = \"Dementia_label_data/val_labels_im_nobal.npy\"\n",
        "\n",
        "training_data, y_train_tensor = ld.load_np_files(tr_im_path, tr_lb_path)\n",
        "#validation_data, y_val_tensor = ld.load_np_files(val_im_path, val_lb_path)\n",
        "test_data, y_test_tensor = ld.load_np_files(tst_im_path, tst_lb_path)\n"
      ],
      "execution_count": 5,
      "outputs": [
        {
          "output_type": "stream",
          "name": "stdout",
          "text": [
            "(23535, 1, 368, 284)\n",
            "(2541, 1, 368, 284)\n"
          ]
        }
      ]
    },
    {
      "cell_type": "code",
      "metadata": {
        "id": "g2hFuyx32XJa"
      },
      "source": [
        "# Get image data and label tensors\n",
        "train_loader = torch.utils.data.DataLoader(training_data, batch_size = batch_size, shuffle = True) \n",
        "#validate_loader = torch.utils.data.DataLoader(validation_data, batch_size = batch_size, shuffle = True)\n",
        "test_loader = torch.utils.data.DataLoader(test_data, batch_size = batch_size, shuffle = True)\n",
        "\n",
        "\n",
        "#Labels \n",
        "classes = (0, 1, 2)"
      ],
      "execution_count": 6,
      "outputs": []
    },
    {
      "cell_type": "code",
      "metadata": {
        "colab": {
          "base_uri": "https://localhost:8080/",
          "height": 265
        },
        "id": "RhabT4VULYLp",
        "outputId": "cf816814-bc0a-4c94-c9f5-2f7dcf6cb2c5"
      },
      "source": [
        "def imshow(img):\n",
        "    img = img / 2 + 0.5     # unnormalize\n",
        "    npimg = img.numpy()\n",
        "    plt.figure(figsize=(8,10))\n",
        "    plt.imshow(np.transpose(npimg, (1, 2, 0)))\n",
        "    plt.show()\n",
        "\n",
        "\n",
        "# get some random training images\n",
        "dataiter = iter(train_loader)\n",
        "images, labels = dataiter.next()\n",
        "#print(images.size())\n",
        "print(images.type())\n",
        "#images = images.unsqueeze(1)\n",
        "print(images.size())\n",
        "# show images\n",
        "imshow(torchvision.utils.make_grid(images, nrow = 4))\n",
        "# print labels\n",
        "print('Labels:')\n",
        "print('          '.join('%5s' % classes[labels[j]] for j in range(batch_size)))\n",
        "\n",
        "#Printing as RGB, just using basic pytorch dataloader likely converting to rbg"
      ],
      "execution_count": null,
      "outputs": [
        {
          "name": "stdout",
          "output_type": "stream",
          "text": [
            "torch.LongTensor\n",
            "torch.Size([4, 1, 368, 284])\n"
          ]
        },
        {
          "data": {
            "image/png": "[encoded data removed]",
            "text/plain": [
              "<Figure size 576x720 with 1 Axes>"
            ]
          },
          "metadata": {},
          "output_type": "display_data"
        },
        {
          "name": "stdout",
          "output_type": "stream",
          "text": [
            "Labels:\n",
            "    2              2              0              0\n"
          ]
        }
      ]
    },
    {
      "cell_type": "code",
      "metadata": {
        "colab": {
          "base_uri": "https://localhost:8080/",
          "height": 1000
        },
        "id": "I5xpaSNBrNR5",
        "outputId": "9da583a9-8e31-4939-ff73-cb102e0f4269"
      },
      "source": [
        "# Set to GPU\n",
        "device = torch.device('cuda:0' if torch.cuda.is_available() else 'cpu')\n",
        "#torch.backends.cudnn.benchmark = True\n",
        "\n",
        "\n",
        "\n",
        "\n",
        "class ConvNet(nn.Module):\n",
        "  def __init__(self):\n",
        "    super(ConvNet, self).__init__()\n",
        "    # without considering batch size: Input shape : (None,368, 284, 1) , parameters: (3*3*1*16+16) = 160\n",
        "    self.conv1 = nn.Conv2d(in_channels = 1, out_channels = 16, # one input channel gray scale, 16 filters out\n",
        "                            kernel_size = 3, stride = 1, padding = 1) #Out:(None,386, 284, 16)\n",
        "\n",
        "    #Normalize each output to help w/ faster learning                       \n",
        "    self.bn1 = nn.BatchNorm2d(16)\n",
        "    self.pool1 = nn.MaxPool2d(2, 2) #Out: (None, 184, 142, 16)\n",
        "    self.conv2 = nn.Conv2d(in_channels = 16, out_channels = 32, \n",
        "                          kernel_size = 3, stride = 1, padding = 1) #params: (3*3*16*32+32) = 4640    \n",
        "    self.conv3 = nn.Conv2d(in_channels = 32, out_channels = 32, \n",
        "                          kernel_size = 3, stride = 1, padding = 1) # params: (3*3*32*32+32) = 9248                     \n",
        "    self.bn2 = nn.BatchNorm2d(32) \n",
        "    self.pool2 = nn.MaxPool2d(2, 2) #Output shape = (None, 92, 71, 32)\n",
        "                            \n",
        "    # Flatten\n",
        "    self.fc1 = nn.Linear(32*92*71,120)\n",
        "    self.fc2 = nn.Linear(120, 30)\n",
        "    self.fc3 = nn.Linear(30, 3) # left with 3 for the three classes\n",
        "\n",
        "\n",
        "\n",
        "\n",
        "\n",
        "\n",
        "  def forward(self, x):\n",
        "    x = self.pool1(self.bn1(F.relu(self.conv1(x))))\n",
        "    x = self.pool2(self.bn2(F.relu(self.conv3(F.relu(self.conv2(x))))))\n",
        "    x = x.view(x.size(0),32*92*71)\n",
        "    x = F.relu(self.fc1(x))\n",
        "    x = F.relu(self.fc2(x))\n",
        "    x = self.fc3(x)\n",
        "\n",
        "    return x\n",
        "\n",
        "\n",
        "\n",
        "train_on_gpu = torch.cuda.is_available()\n",
        "\n",
        "if train_on_gpu:\n",
        "    print(\"CUDA is available! Training on GPU...\")\n",
        "else:\n",
        "    print(\"CUDA is not available. Training on CPU...\")\n",
        "\n",
        "\n",
        "# Create model object \n",
        "model = ConvNet().to(float).to(device)\n",
        "if torch.cuda.is_available():\n",
        "    model.cuda()\n",
        "    print('available')\n",
        "\n",
        "#for param in model.parameters():\n",
        "  #print(str(param.data.numpy().shape)+'\\n')\n",
        "  #print(\"weights fc1: \", model.fc1.weight)\n",
        "  #print(\"weights fc3: \", model.fc3.weight)\n",
        "\n",
        "# Loss function\n",
        "criterion = nn.CrossEntropyLoss().to(device)\n",
        "\n",
        "#Optimizer (can use SGD or ADAM)\n",
        "optimizer = torch.optim.SGD(model.parameters(), lr = learning_rate)#, momentum = 0.9) #or ADAM/ momentum\n",
        "acc = 0 # accuracy\n",
        "#epoch = 0 # training episodes\n",
        "n_total_steps = len(train_loader) \n",
        "\n",
        "\n",
        "\n",
        "\n",
        "\n",
        "\n",
        "def train_model(epochs):\n",
        "  # set model in training mode (recommended)\n",
        "  model.train()\n",
        "  for epoch in tqdm(range(epochs)):\n",
        "    losses = []\n",
        "    running_loss = 0.0\n",
        "    num_times = 0\n",
        "    for i, (images, labels) in enumerate(train_loader, 0):\n",
        "      images = images.to(float).to(device) # for GPU support\n",
        "      labels = labels.to(device) \n",
        "\n",
        "      # sets gradients to 0 to prevent interference with previous epoch\n",
        "      optimizer.zero_grad()\n",
        "\n",
        "      # Forward pass through NN\n",
        "      outputs = model(images.to(float))\n",
        "      loss = criterion(outputs, labels)\n",
        "\n",
        "      # Backward pass, updating weights\n",
        "      loss.backward()\n",
        "      optimizer.step()\n",
        "      #print(model.fc1.weight.detach().numpy())\n",
        "\n",
        "      # Statistics \n",
        "      running_loss += loss.item()\n",
        "      # Track every 100th loss:\n",
        "      if i % 100 == 0:\n",
        "        losses.append(loss.item())\n",
        "        num_times = num_times + 1\n",
        "\n",
        "      # print every 500th batch\n",
        "      if i % 500 == 0:\n",
        "        #print(\"epoch: {} loss: {}\".format(i, loss))\n",
        "        print('[%d %d] loss %.4f'% (epoch + 1, i + 1, running_loss/500))\n",
        "        running_loss = 0.0\n",
        "\n",
        "    print(\"\\nFinished training Epoch {}\\n\".format(epoch + 1))\n",
        "    # Calculate the accuracy and save the model state  \n",
        "    accuracy()\n",
        "\n",
        "    # Plot the loss\n",
        "    plt.plot([i for i in range(num_times)],losses, label = 'epoch' + str(epoch))\n",
        "    plt.legend(loc = 1, mode = 'expanded', shadow = True, ncol = 2)\n",
        "  plt.show()\n",
        "\n",
        "  los_chart(losses)\n",
        "\n",
        "\n",
        "\n",
        "\n",
        "\n",
        "\n",
        "\n",
        "def los_chart(losses):\n",
        "  plt.plot(losses)\n",
        "  plt.title('loss vs epochs')\n",
        "  plt.xlabel('epochs')\n",
        "  plt.ylabel('loss')\n",
        "  plt.show()\n",
        "\n",
        "\n",
        "\n",
        "\n",
        "\n",
        "\n",
        "\n",
        "\n",
        "def accuracy():\n",
        "  model.eval()\n",
        "  # Calculate performance\n",
        "  correct = 0\n",
        "  total = 0\n",
        "  accuracy = 0\n",
        "  with torch.set_grad_enabled(False):\n",
        "      #model.to(float)\n",
        "      for batches in test_loader:\n",
        "        x_test, y_test = batches\n",
        "        x_test = x_test.to(float).to(device)\n",
        "        y_test = y_test.to(float).to(device)\n",
        "        y_pred = model(x_test)\n",
        "        _,y_pred = torch.max(y_pred.data, 1)# returns strongest label val and index\n",
        "        total += y_test.size(0)\n",
        "        #print(y_pred.size())\n",
        "        #print(y_test.size())\n",
        "      \n",
        "        correct += (y_pred == y_test).sum().item()\n",
        "        accuracy = (correct/total) * 100\n",
        "      \n",
        "      \n",
        "      print('Accuracy = '+str(accuracy))\n",
        "\n",
        "\n",
        "\n",
        "\n",
        "\n",
        "\n",
        "\n",
        "\n",
        "\n",
        "\n",
        "\n",
        "\n",
        "\n",
        "\n",
        "\n",
        "if __name__ == '__main__':\n",
        "  train_model(20)\n",
        "\n",
        "\n",
        "\n",
        "\n",
        "\n",
        "\n",
        "\n",
        "\n",
        "\n",
        "\n",
        "\n"
      ],
      "execution_count": 8,
      "outputs": [
        {
          "output_type": "stream",
          "name": "stdout",
          "text": [
            "CUDA is available! Training on GPU...\n",
            "available\n"
          ]
        },
        {
          "output_type": "stream",
          "name": "stderr",
          "text": [
            "\r  0%|          | 0/20 [00:00<?, ?it/s]"
          ]
        },
        {
          "output_type": "stream",
          "name": "stdout",
          "text": [
            "[1 1] loss 0.0022\n",
            "[1 501] loss 1.0786\n",
            "\n",
            "Finished training Epoch 1\n",
            "\n"
          ]
        },
        {
          "output_type": "stream",
          "name": "stderr",
          "text": [
            "\r  5%|▌         | 1/20 [01:10<22:10, 70.04s/it]"
          ]
        },
        {
          "output_type": "stream",
          "name": "stdout",
          "text": [
            "Accuracy = 24.911452184179456\n",
            "[2 1] loss 0.0021\n",
            "[2 501] loss 0.9860\n",
            "\n",
            "Finished training Epoch 2\n",
            "\n"
          ]
        },
        {
          "output_type": "stream",
          "name": "stderr",
          "text": [
            "\r 10%|█         | 2/20 [02:14<19:56, 66.49s/it]"
          ]
        },
        {
          "output_type": "stream",
          "name": "stdout",
          "text": [
            "Accuracy = 36.599763872491145\n",
            "[3 1] loss 0.0016\n",
            "[3 501] loss 0.7521\n",
            "\n",
            "Finished training Epoch 3\n",
            "\n"
          ]
        },
        {
          "output_type": "stream",
          "name": "stderr",
          "text": [
            "\r 15%|█▌        | 3/20 [03:18<18:30, 65.34s/it]"
          ]
        },
        {
          "output_type": "stream",
          "name": "stdout",
          "text": [
            "Accuracy = 41.83392365210547\n",
            "[4 1] loss 0.0009\n",
            "[4 501] loss 0.4379\n",
            "\n",
            "Finished training Epoch 4\n",
            "\n"
          ]
        },
        {
          "output_type": "stream",
          "name": "stderr",
          "text": [
            "\r 20%|██        | 4/20 [04:21<17:16, 64.79s/it]"
          ]
        },
        {
          "output_type": "stream",
          "name": "stdout",
          "text": [
            "Accuracy = 49.39000393545848\n",
            "[5 1] loss 0.0006\n",
            "[5 501] loss 0.1895\n",
            "\n",
            "Finished training Epoch 5\n",
            "\n"
          ]
        },
        {
          "output_type": "stream",
          "name": "stderr",
          "text": [
            "\r 25%|██▌       | 5/20 [05:26<16:07, 64.53s/it]"
          ]
        },
        {
          "output_type": "stream",
          "name": "stdout",
          "text": [
            "Accuracy = 40.85005903187721\n",
            "[6 1] loss 0.0003\n",
            "[6 501] loss 0.0629\n",
            "\n",
            "Finished training Epoch 6\n",
            "\n"
          ]
        },
        {
          "output_type": "stream",
          "name": "stderr",
          "text": [
            "\r 30%|███       | 6/20 [06:30<15:02, 64.45s/it]"
          ]
        },
        {
          "output_type": "stream",
          "name": "stdout",
          "text": [
            "Accuracy = 40.92876820149547\n",
            "[7 1] loss 0.0001\n",
            "[7 501] loss 0.0286\n",
            "\n",
            "Finished training Epoch 7\n",
            "\n"
          ]
        },
        {
          "output_type": "stream",
          "name": "stderr",
          "text": [
            "\r 35%|███▌      | 7/20 [07:34<13:56, 64.33s/it]"
          ]
        },
        {
          "output_type": "stream",
          "name": "stdout",
          "text": [
            "Accuracy = 38.52813852813853\n",
            "[8 1] loss 0.0000\n",
            "[8 501] loss 0.0112\n",
            "\n",
            "Finished training Epoch 8\n",
            "\n"
          ]
        },
        {
          "output_type": "stream",
          "name": "stderr",
          "text": [
            "\r 40%|████      | 8/20 [08:38<12:51, 64.26s/it]"
          ]
        },
        {
          "output_type": "stream",
          "name": "stdout",
          "text": [
            "Accuracy = 40.023612750885476\n",
            "[9 1] loss 0.0000\n",
            "[9 501] loss 0.0072\n",
            "\n",
            "Finished training Epoch 9\n",
            "\n"
          ]
        },
        {
          "output_type": "stream",
          "name": "stderr",
          "text": [
            "\r 45%|████▌     | 9/20 [09:42<11:46, 64.22s/it]"
          ]
        },
        {
          "output_type": "stream",
          "name": "stdout",
          "text": [
            "Accuracy = 41.99134199134199\n",
            "[10 1] loss 0.0000\n",
            "[10 501] loss 0.0028\n",
            "\n",
            "Finished training Epoch 10\n",
            "\n"
          ]
        },
        {
          "output_type": "stream",
          "name": "stderr",
          "text": [
            "\r 50%|█████     | 10/20 [10:46<10:41, 64.16s/it]"
          ]
        },
        {
          "output_type": "stream",
          "name": "stdout",
          "text": [
            "Accuracy = 40.22038567493113\n",
            "[11 1] loss 0.0000\n",
            "[11 501] loss 0.0010\n",
            "\n",
            "Finished training Epoch 11\n",
            "\n"
          ]
        },
        {
          "output_type": "stream",
          "name": "stderr",
          "text": [
            "\r 55%|█████▌    | 11/20 [11:50<09:37, 64.14s/it]"
          ]
        },
        {
          "output_type": "stream",
          "name": "stdout",
          "text": [
            "Accuracy = 40.65328610783156\n",
            "[12 1] loss 0.0000\n",
            "[12 501] loss 0.0005\n",
            "\n",
            "Finished training Epoch 12\n",
            "\n"
          ]
        },
        {
          "output_type": "stream",
          "name": "stderr",
          "text": [
            "\r 60%|██████    | 12/20 [12:54<08:32, 64.09s/it]"
          ]
        },
        {
          "output_type": "stream",
          "name": "stdout",
          "text": [
            "Accuracy = 41.086186540731994\n",
            "[13 1] loss 0.0000\n",
            "[13 501] loss 0.0004\n",
            "\n",
            "Finished training Epoch 13\n",
            "\n"
          ]
        },
        {
          "output_type": "stream",
          "name": "stderr",
          "text": [
            "\r 65%|██████▌   | 13/20 [13:58<07:28, 64.05s/it]"
          ]
        },
        {
          "output_type": "stream",
          "name": "stdout",
          "text": [
            "Accuracy = 40.85005903187721\n",
            "[14 1] loss 0.0000\n",
            "[14 501] loss 0.0003\n",
            "\n",
            "Finished training Epoch 14\n",
            "\n"
          ]
        },
        {
          "output_type": "stream",
          "name": "stderr",
          "text": [
            "\r 70%|███████   | 14/20 [15:02<06:24, 64.03s/it]"
          ]
        },
        {
          "output_type": "stream",
          "name": "stdout",
          "text": [
            "Accuracy = 40.53522235340417\n",
            "[15 1] loss 0.0000\n",
            "[15 501] loss 0.0003\n",
            "\n",
            "Finished training Epoch 15\n",
            "\n"
          ]
        },
        {
          "output_type": "stream",
          "name": "stderr",
          "text": [
            "\r 75%|███████▌  | 15/20 [16:06<05:20, 64.02s/it]"
          ]
        },
        {
          "output_type": "stream",
          "name": "stdout",
          "text": [
            "Accuracy = 40.65328610783156\n",
            "[16 1] loss 0.0000\n",
            "[16 501] loss 0.0002\n",
            "\n",
            "Finished training Epoch 16\n",
            "\n"
          ]
        },
        {
          "output_type": "stream",
          "name": "stderr",
          "text": [
            "\r 80%|████████  | 16/20 [17:10<04:16, 64.02s/it]"
          ]
        },
        {
          "output_type": "stream",
          "name": "stdout",
          "text": [
            "Accuracy = 40.456513183785916\n",
            "[17 1] loss 0.0000\n",
            "[17 501] loss 0.0002\n",
            "\n",
            "Finished training Epoch 17\n",
            "\n"
          ]
        },
        {
          "output_type": "stream",
          "name": "stderr",
          "text": [
            "\r 85%|████████▌ | 17/20 [18:14<03:12, 64.02s/it]"
          ]
        },
        {
          "output_type": "stream",
          "name": "stdout",
          "text": [
            "Accuracy = 40.456513183785916\n",
            "[18 1] loss 0.0000\n",
            "[18 501] loss 0.0002\n",
            "\n",
            "Finished training Epoch 18\n",
            "\n"
          ]
        },
        {
          "output_type": "stream",
          "name": "stderr",
          "text": [
            "\r 90%|█████████ | 18/20 [19:18<02:08, 64.02s/it]"
          ]
        },
        {
          "output_type": "stream",
          "name": "stdout",
          "text": [
            "Accuracy = 40.41715859897678\n",
            "[19 1] loss 0.0000\n",
            "[19 501] loss 0.0002\n",
            "\n",
            "Finished training Epoch 19\n",
            "\n"
          ]
        },
        {
          "output_type": "stream",
          "name": "stderr",
          "text": [
            "\r 95%|█████████▌| 19/20 [20:22<01:04, 64.01s/it]"
          ]
        },
        {
          "output_type": "stream",
          "name": "stdout",
          "text": [
            "Accuracy = 40.181031090122\n",
            "[20 1] loss 0.0000\n",
            "[20 501] loss 0.0001\n",
            "\n",
            "Finished training Epoch 20\n",
            "\n"
          ]
        },
        {
          "output_type": "stream",
          "name": "stderr",
          "text": [
            "100%|██████████| 20/20 [21:26<00:00, 64.34s/it]"
          ]
        },
        {
          "output_type": "stream",
          "name": "stdout",
          "text": [
            "Accuracy = 40.25974025974026\n"
          ]
        },
        {
          "output_type": "stream",
          "name": "stderr",
          "text": [
            "\n"
          ]
        },
        {
          "output_type": "display_data",
          "data": {
            "image/png": "[encoded data removed]",
            "text/plain": [
              "<Figure size 432x288 with 1 Axes>"
            ]
          },
          "metadata": {
            "needs_background": "light"
          }
        },
        {
          "output_type": "display_data",
          "data": {
            "image/png": "[encoded data removed]",
            "text/plain": [
              "<Figure size 432x288 with 1 Axes>"
            ]
          },
          "metadata": {
            "needs_background": "light"
          }
        }
      ]
    },
    {
      "cell_type": "markdown",
      "metadata": {
        "id": "c4OOWwEWrW2-"
      },
      "source": [
        "## Create Confusion Matrix"
      ]
    },
    {
      "cell_type": "code",
      "metadata": {
        "colab": {
          "base_uri": "https://localhost:8080/",
          "height": 626
        },
        "id": "sqFocqbleiaR",
        "outputId": "18bde3f6-acd7-4e99-d1f1-730b59d46405"
      },
      "source": [
        "def conf_matrix(model, loader):\n",
        "  model.eval()\n",
        "  all_preds = torch.tensor([])\n",
        "  with torch.set_grad_enabled(False):\n",
        "    for batch in loader:\n",
        "      x_test, y_test = batch\n",
        "      x_test = x_test.to(float).to(device)\n",
        "      y_test = y_test.to(float).to(device)\n",
        "      preds = model(x_test)\n",
        "      # concatenates all predictions per batch into one list\n",
        "      all_preds = torch.cat((all_preds.cpu(), preds.cpu()),dim = 0) \n",
        "  \n",
        "  print(all_preds.size())\n",
        "  print(y_test_tensor.size())\n",
        "  print(y_test.size())\n",
        "  print(y_train_tensor.size())\n",
        "  return all_preds\n",
        "\n",
        "\n",
        "\n",
        "\n",
        "\n",
        "\n",
        "def plot_conf_matrix(matrix, class_names, session):\n",
        "  df_cm = pd.DataFrame(matrix.numpy(), class_names, class_names)\n",
        "  df_cm.to_csv(\"/content/gdrive/MyDrive/Colab Notebooks/model_charts/conf_matrix_{}\".format(session))\n",
        "  plt.figure(figsize = (9,6))\n",
        "  sns.heatmap(df_cm, annot=True, fmt=\".2f\", cmap='BuGn')\n",
        "  plt.xlabel(\"prediction\")\n",
        "  plt.ylabel(\"label (ground truth)\")\n",
        "  plt.show()\n",
        "\n",
        "\n",
        "\n",
        "\n",
        "\n",
        "\n",
        "\n",
        "all_pred = conf_matrix(model, train_loader)\n",
        "confmat = ConfusionMatrix(num_classes = 3)\n",
        "cmtx = confmat(all_pred, y_train_tensor)\n",
        "class_names = [\"Possible Dementia\", \"Likely Dementia\", \"No Dementia\"]\n",
        "class_vals = [0,1,2]\n",
        "plot_conf_matrix(cmtx, class_names, 1)\n",
        "from sklearn.metrics import classification_report, confusion_matrix\n",
        "print(classification_report(y_train_tensor, all_pred.argmax(axis=1), class_vals))"
      ],
      "execution_count": 9,
      "outputs": [
        {
          "output_type": "stream",
          "name": "stdout",
          "text": [
            "torch.Size([23535, 3])\n",
            "torch.Size([2544])\n",
            "torch.Size([10])\n",
            "torch.Size([23535])\n"
          ]
        },
        {
          "output_type": "display_data",
          "data": {
            "image/png": "[encoded data removed]",
            "text/plain": [
              "<Figure size 648x432 with 2 Axes>"
            ]
          },
          "metadata": {
            "needs_background": "light"
          }
        },
        {
          "output_type": "stream",
          "name": "stdout",
          "text": [
            "              precision    recall  f1-score   support\n",
            "\n",
            "           0       0.33      0.33      0.33      7881\n",
            "           1       0.33      0.33      0.33      7695\n",
            "           2       0.34      0.34      0.34      7959\n",
            "\n",
            "    accuracy                           0.33     23535\n",
            "   macro avg       0.33      0.33      0.33     23535\n",
            "weighted avg       0.33      0.33      0.33     23535\n",
            "\n"
          ]
        }
      ]
    },
    {
      "cell_type": "code",
      "metadata": {
        "colab": {
          "base_uri": "https://localhost:8080/"
        },
        "id": "grWhUCAe1mgo",
        "outputId": "42714c25-570b-4e12-db65-958fce44ffe7"
      },
      "source": [
        "from sklearn.metrics import classification_report, confusion_matrix\n",
        "print(classification_report(y_train_tensor, all_pred.argmax(axis=1), class_vals))"
      ],
      "execution_count": 10,
      "outputs": [
        {
          "output_type": "stream",
          "name": "stdout",
          "text": [
            "              precision    recall  f1-score   support\n",
            "\n",
            "           0       0.33      0.33      0.33      7881\n",
            "           1       0.33      0.33      0.33      7695\n",
            "           2       0.34      0.34      0.34      7959\n",
            "\n",
            "    accuracy                           0.33     23535\n",
            "   macro avg       0.33      0.33      0.33     23535\n",
            "weighted avg       0.33      0.33      0.33     23535\n",
            "\n"
          ]
        }
      ]
    },
    {
      "cell_type": "markdown",
      "metadata": {
        "id": "SKR_i_oebCi2"
      },
      "source": [
        "## Save the GPU CNN Model\n",
        "Also includes loading on GPU"
      ]
    },
    {
      "cell_type": "code",
      "metadata": {
        "id": "jTEwjKcbbAlJ"
      },
      "source": [
        "# Save GPU model\n",
        "model_name = 'model_cnn.checkpoint2'\n",
        "PATH = \"/content/gdrive/MyDrive/Colab Notebooks/Models/{}\".format(model_name)\n",
        "torch.save(model.state_dict(), PATH)"
      ],
      "execution_count": 11,
      "outputs": []
    },
    {
      "cell_type": "code",
      "metadata": {
        "id": "wm-xL-D6bcp6"
      },
      "source": [
        "# Load GPU model\n",
        "device = torch.device(\"cuda\")\n",
        "model = TheModelClass(*args, **kwargs)\n",
        "model.load_state_dict(torch.load(PATH))\n",
        "model.to(device)"
      ],
      "execution_count": null,
      "outputs": []
    },
    {
      "cell_type": "code",
      "metadata": {
        "colab": {
          "base_uri": "https://localhost:8080/"
        },
        "id": "xpmo6Db1qVuZ",
        "outputId": "bb2ad1ad-4e16-4caf-aea7-1deaefd24d10"
      },
      "source": [
        "# Calculate a Confusion Matrix of all the data\n",
        "train_preds = get_all_preds(model, train_loader)\n",
        "preds_correct = get_num_correct(train_preds, y_train_tensor)\n",
        "print(\"total correct: \", preds_correct)\n",
        "print(\"Accuracy_p: \", (preds_correct/len(training_data))*100)"
      ],
      "execution_count": null,
      "outputs": [
        {
          "name": "stdout",
          "output_type": "stream",
          "text": [
            "total correct:  27692\n",
            "Accuracy_p:  67.39516658959819\n"
          ]
        }
      ]
    }
  ]
}