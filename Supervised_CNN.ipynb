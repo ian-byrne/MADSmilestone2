{
  "nbformat": 4,
  "nbformat_minor": 0,
  "metadata": {
    "colab": {
      "name": "Supervised_CNN.ipynb",
      "provenance": [],
      "collapsed_sections": [],
      "mount_file_id": "10WdpyFVm5G8J5AJrHPelKDpmooAreyPw",
      "authorship_tag": "ABX9TyOOU+lK3XuapKeiuPpv3tch",
      "include_colab_link": true
    },
    "kernelspec": {
      "name": "python3",
      "display_name": "Python 3"
    },
    "language_info": {
      "name": "python"
    }
  },
  "cells": [
    {
      "cell_type": "markdown",
      "metadata": {
        "id": "view-in-github",
        "colab_type": "text"
      },
      "source": [
        "<a href=\"https://colab.research.google.com/github/ian-byrne/MADSmilestone2/blob/main/Supervised_CNN.ipynb\" target=\"_parent\"><img src=\"https://colab.research.google.com/assets/colab-badge.svg\" alt=\"Open In Colab\"/></a>"
      ]
    },
    {
      "cell_type": "markdown",
      "metadata": {
        "id": "oa6L-qwlfHPf"
      },
      "source": [
        "# Supervised Learning: Clock Drawing Image Classification with Convolutional Neural Networks\n",
        "### Stacey Beck and Ian Byrne\n",
        "\n",
        "- Split data into sets of Training (x = image arrays ; y = labels), Test (~10% image arrays), and Validation (~10% of the Training). \n",
        "- Build CNN using Pytorch for Training and Test:\n",
        "  - Specify CUDA\n",
        "  - 2D convolution, Normalization (for faster training), Non-linear Activation Function (ex. RELU), Max Pooling (downsampling to reduce learned parameters).\n",
        "  - Define Layers \n",
        "  - Build Forward and backward pass\n",
        "  - Define optimizer (due to many - deep - nodes) ex) ADAM\n",
        "  - Calculate Loss (BCE)\n",
        "  - Calculate Accuracy, Precision, Recall (Confusion Matrix)\n",
        "  - Plot ROC and print Confusion Matrix\n",
        "\n"
      ]
    },
    {
      "cell_type": "code",
      "metadata": {
        "colab": {
          "base_uri": "https://localhost:8080/"
        },
        "id": "Eoct7Or8ezZq",
        "outputId": "8f6a1097-2aab-438b-8e48-53bbfdd0058c"
      },
      "source": [
        "# Clone the entire repo.\n",
        "!git clone -l -s https://github.com/ian-byrne/MADSmilestone2.git\n",
        "\n",
        "# Change directory into cloned repo\n",
        "%cd MADSmilestone2\n",
        "\n",
        "# List repo contents\n",
        "#!ls"
      ],
      "execution_count": 1,
      "outputs": [
        {
          "output_type": "stream",
          "name": "stdout",
          "text": [
            "Cloning into 'MADSmilestone2'...\n",
            "warning: --local is ignored\n",
            "remote: Enumerating objects: 382, done.\u001b[K\n",
            "remote: Counting objects: 100% (382/382), done.\u001b[K\n",
            "remote: Compressing objects: 100% (316/316), done.\u001b[K\n",
            "remote: Total 382 (delta 210), reused 143 (delta 60), pack-reused 0\u001b[K\n",
            "Receiving objects: 100% (382/382), 3.02 MiB | 4.81 MiB/s, done.\n",
            "Resolving deltas: 100% (210/210), done.\n",
            "/content/MADSmilestone2\n"
          ]
        }
      ]
    },
    {
      "cell_type": "code",
      "metadata": {
        "id": "XtH9tfFdQepN"
      },
      "source": [
        "import numpy as np\n",
        "import pandas as pd\n",
        "import matplotlib.pyplot as plt\n",
        "import io\n",
        "import requests\n",
        "from PIL import Image\n",
        "import ast\n",
        "import Images\n",
        "from tqdm import tqdm"
      ],
      "execution_count": 42,
      "outputs": []
    },
    {
      "cell_type": "code",
      "metadata": {
        "id": "fM_UbzqNogPC"
      },
      "source": [
        "#!rm -rf /content/MADSmilestone2"
      ],
      "execution_count": 43,
      "outputs": []
    },
    {
      "cell_type": "code",
      "metadata": {
        "id": "U8QJAPeJfGK4"
      },
      "source": [
        "# Read round, id, label dictionary file\n",
        "\n",
        "cust_file = open(\"Data/customLabelDict.txt\", \"r\")\n",
        "#print(cust_file.readline())\n",
        "contents = cust_file.read()\n",
        "dictionary = ast.literal_eval(contents)\n",
        "cust_file.close()"
      ],
      "execution_count": 44,
      "outputs": []
    },
    {
      "cell_type": "code",
      "metadata": {
        "id": "fV8qowHrj5Kk"
      },
      "source": [
        "def get_images_test(id_rounds):\n",
        "    counter = 0\n",
        "    store_images = []\n",
        "    #image_data = []\n",
        "    label_arr = []\n",
        "\n",
        "    for id, array in tqdm(id_rounds.items()):\n",
        "        for value in array:\n",
        "            if counter < 40:\n",
        "                url = 'https://clockimages.s3.us-west-1.amazonaws.com/NHATS_R' + str(\n",
        "                    id) + '_ClockDrawings/' + value[0] + '.tif'\n",
        "                #url = 'https://test-bucket-clockids-aicrowd.s3.us-west-1.amazonaws.com/1_'+ value[0] + '.tif'\n",
        "                # Open files and convert to work with Image in PIL\n",
        "                response = requests.get(url)  # , stream = True)\n",
        "                f = io.BytesIO(response.content)\n",
        "                im_pil = Image.open(f)\n",
        "\n",
        "                # Resize pil image files\n",
        "                #resized = im_pil.resize((im_pil.width // 9, im_pil.height // 9))\n",
        "                resized = im_pil.resize((284,368))\n",
        "                imarray1 = np.array(resized)\n",
        "                \n",
        "                imarray1 = np.array(imarray1).astype(int)\n",
        "                #imarray = np.logical_not(np.array(im)).astype(int) #bool to int, inverts values\n",
        "                #image_data.append(get_coordinates(imarray1))  # , imarray1.shape[0], imarray1.shape[1]))\n",
        "\n",
        "                #Store the np array images into a list\n",
        "                store_images.append(imarray1)\n",
        "\n",
        "                #print(\"round: \", id)\n",
        "\n",
        "                #Visualize the resized images\n",
        "                #viz_image(imarray1, resized, value[0], value[1])\n",
        "                \n",
        "                # Store corresponding labels\n",
        "                label_arr.append(value[1])\n",
        "                \n",
        "                counter += 1\n",
        "\n",
        "    return store_images, label_arr\n",
        "\n",
        "\n",
        "\n",
        "\n",
        "def viz_image(image, resized, value0, value1):\n",
        "  print(\"shape: \", image.shape)\n",
        "  print(\"spid: \", value0)\n",
        "  print(\"label: \", value1)\n",
        "\n",
        "  # revert\n",
        "  im2 = Image.fromarray(image)\n",
        "  plt.imshow(im2)\n",
        "  plt.show()"
      ],
      "execution_count": 45,
      "outputs": []
    },
    {
      "cell_type": "code",
      "metadata": {
        "id": "MyUTQpR5kKh5",
        "colab": {
          "base_uri": "https://localhost:8080/"
        },
        "outputId": "aad40fff-2833-44e9-eb73-4eb3bfa6653b"
      },
      "source": [
        "x, y = get_images_test(dictionary)"
      ],
      "execution_count": 46,
      "outputs": [
        {
          "output_type": "stream",
          "name": "stderr",
          "text": [
            "100%|██████████| 10/10 [00:14<00:00,  1.43s/it]\n"
          ]
        }
      ]
    },
    {
      "cell_type": "code",
      "metadata": {
        "colab": {
          "base_uri": "https://localhost:8080/"
        },
        "id": "P8XCDeIdWYWu",
        "outputId": "1ca3d635-8722-47e6-ef79-394d3c50d694"
      },
      "source": [
        "X = np.array(x)\n",
        "# Need to add that extra dimension for grayscale depth of 1 channel\n",
        "X = np.expand_dims(X, 1)\n",
        "X.shape\n",
        "\n",
        "\n",
        "\n"
      ],
      "execution_count": 47,
      "outputs": [
        {
          "output_type": "execute_result",
          "data": {
            "text/plain": [
              "(40, 1, 368, 284)"
            ]
          },
          "metadata": {},
          "execution_count": 47
        }
      ]
    },
    {
      "cell_type": "code",
      "metadata": {
        "colab": {
          "base_uri": "https://localhost:8080/",
          "height": 286
        },
        "id": "xGD41P6Q5xfr",
        "outputId": "bb130a0c-06b5-43ff-a3a2-faacd82a8dda"
      },
      "source": [
        "plt.imshow(X[0])"
      ],
      "execution_count": 27,
      "outputs": [
        {
          "output_type": "execute_result",
          "data": {
            "text/plain": [
              "<matplotlib.image.AxesImage at 0x7f6d5e5d0210>"
            ]
          },
          "metadata": {},
          "execution_count": 27
        },
        {
          "output_type": "display_data",
          "data": {
            "image/png": "[encoded data removed]",
            "text/plain": [
              "<Figure size 432x288 with 1 Axes>"
            ]
          },
          "metadata": {
            "needs_background": "light"
          }
        }
      ]
    },
    {
      "cell_type": "markdown",
      "metadata": {
        "id": "o5jwtXk7qv9-"
      },
      "source": [
        "# Build CNN Model using Pytorch\n"
      ]
    },
    {
      "cell_type": "code",
      "metadata": {
        "id": "WZYMHscwqu7D"
      },
      "source": [
        "import torch\n",
        "import torch.nn as nn\n",
        "import torch.nn.functional as F\n",
        "import torchvision\n",
        "import torchvision.transforms as transforms\n",
        "import numpy as np\n",
        "import matplotlib.pyplot as plt\n",
        "from sklearn.model_selection import train_test_split"
      ],
      "execution_count": 28,
      "outputs": []
    },
    {
      "cell_type": "markdown",
      "metadata": {
        "id": "4nKizV2h4lMH"
      },
      "source": [
        "### Building and Training\n",
        "Architecture choices influenced from: \n",
        "\n",
        "https://www.analyticsvidhya.com/blog/2018/12/guide-convolutional-neural-network-cnn/\n",
        "\n",
        "https://medium.datadriveninvestor.com/five-powerful-cnn-architectures-b939c9ddd57b\n",
        "\n",
        "https://towardsdatascience.com/how-does-sparse-convolution-work-3257a0a8fd1"
      ]
    },
    {
      "cell_type": "code",
      "metadata": {
        "id": "Ypf_eiS8Eghk"
      },
      "source": [
        "# Define some of the hyperparameters\n",
        "#num_epochs = 100\n",
        "batch_size = 4\n",
        "learning_rate = .001\n",
        "kernel_size = 3\n",
        "stride = 1\n",
        "padding = 1 #2*floor(3/2)\n",
        "#activation function\n",
        "\n",
        "#Get Data\n",
        "# double split to get validation and test\n",
        "ratio_val = 0.1\n",
        "ratio_test = 0.1\n",
        "\n",
        "# Get Train and Test split\n",
        "X_split, X_test, y_split, y_test = train_test_split(X, y, test_size = ratio_test, random_state = 6) \n",
        "\n",
        "# Adjust remaining ratio for even split\n",
        "ratio_remaining = 1 - ratio_test #.11111\n",
        "ratio_val_ad = ratio_val / ratio_remaining \n",
        "\n",
        "# Get Train and Val split\n",
        "X_train, X_val, y_train, y_val = train_test_split(X_split, y_split, test_size = ratio_val_ad, random_state = 6)\n",
        "\n",
        "# No need to normalize\n",
        "\n",
        "# Zip image data and labels together\n",
        "training_data = [(x, y) for x, y in zip(X_train, y_train)]\n",
        "validation_data = [(x,y) for x, y in zip(X_val, y_val)]\n",
        "test_data = [(x,y) for x, y in zip(X_test, y_test)]\n",
        "\n",
        "\n",
        "# Variables for X - X_train, X_val, X_test\n",
        "#Variables for y - y_train, y_val, y_test\n",
        "\n",
        "train_loader = torch.utils.data.DataLoader(training_data, batch_size = batch_size, shuffle = True) \n",
        "validate_loader = torch.utils.data.DataLoader(validation_data, batch_size = batch_size, shuffle = True)\n",
        "test_loader = torch.utils.data.DataLoader(test_data, batch_size = batch_size, shuffle = True)\n",
        "\n",
        "#Labels \n",
        "classes = (0, 1, 2)\n",
        "\n"
      ],
      "execution_count": 39,
      "outputs": []
    },
    {
      "cell_type": "code",
      "metadata": {
        "colab": {
          "base_uri": "https://localhost:8080/",
          "height": 228
        },
        "id": "RhabT4VULYLp",
        "outputId": "0e939672-19be-481b-909c-4c1c47a38579"
      },
      "source": [
        "def imshow(img):\n",
        "    img = img / 2 + 0.5     # unnormalize\n",
        "    npimg = img.numpy()\n",
        "    plt.imshow(np.transpose(npimg, (1, 2, 0)))\n",
        "    plt.show()\n",
        "\n",
        "\n",
        "# get some random training images\n",
        "dataiter = iter(train_loader)\n",
        "images, labels = dataiter.next()\n",
        "#print(images.size())\n",
        "print(images.type())\n",
        "#images = images.unsqueeze(1)\n",
        "print(images.size())\n",
        "# show images\n",
        "imshow(torchvision.utils.make_grid(images, nrow = 4))\n",
        "# print labels\n",
        "print('Labels:')\n",
        "print(' '.join('%5s' % classes[labels[j]] for j in range(batch_size)))\n",
        "\n",
        "#Printing as RGB, just using basic pytorch dataloader likely converting to rbg"
      ],
      "execution_count": 48,
      "outputs": [
        {
          "output_type": "stream",
          "name": "stdout",
          "text": [
            "torch.LongTensor\n",
            "torch.Size([4, 1, 368, 284])\n"
          ]
        },
        {
          "output_type": "display_data",
          "data": {
            "image/png": "[encoded data removed]",
            "text/plain": [
              "<Figure size 432x288 with 1 Axes>"
            ]
          },
          "metadata": {
            "needs_background": "light"
          }
        },
        {
          "output_type": "stream",
          "name": "stdout",
          "text": [
            "Labels:\n",
            "    2     0     2     2\n"
          ]
        }
      ]
    },
    {
      "cell_type": "code",
      "metadata": {
        "id": "ylMGjzUI6BpY"
      },
      "source": [
        ""
      ],
      "execution_count": null,
      "outputs": []
    },
    {
      "cell_type": "code",
      "metadata": {
        "colab": {
          "base_uri": "https://localhost:8080/",
          "height": 809
        },
        "id": "I5xpaSNBrNR5",
        "outputId": "3911e59b-706b-4c48-86d6-e0452d54b86f"
      },
      "source": [
        "from torch.nn.modules.activation import ReLU\n",
        "# Set to GPU\n",
        "device = torch.device('cuda' if torch.cuda.is_available() else 'cpu')\n",
        "\n",
        "\n",
        "class ConvNet(nn.Module):\n",
        "  def __init__(self):\n",
        "    super(ConvNet, self).__init__()\n",
        "    # without considering batch size: Input shape : (None,368, 284, 1) , parameters: (3*3*1*16+16) = 160\n",
        "    self.conv1 = nn.Conv2d(in_channels = 1, out_channels = 16, # one input channel gray scale, 16 filters out\n",
        "                            kernel_size = 3, stride = 1, padding = 1) #Out:(None,368, 284, 16)\n",
        "\n",
        "    #Normalize each output to help w/ faster learning                       \n",
        "    self.bn1 = nn.BatchNorm2d(16)\n",
        "    self.pool1 = nn.MaxPool2d(2, 2) #Out: (None, 184, 142, 16)\n",
        "    self.conv2 = nn.Conv2d(in_channels = 16, out_channels = 32, \n",
        "                          kernel_size = 3, stride = 1, padding = 1) #Out: (None, 184, 142, 32), params: (3*3*16*32+32) = 4640                         \n",
        "    self.bn2 = nn.BatchNorm2d(32) \n",
        "    self.pool2 = nn.MaxPool2d(2, 2) #Output shape = (None, 92, 71, 32)\n",
        "    # Flatten\n",
        "    self.fc1 = nn.Linear(32*92*71,120)\n",
        "    self.fc2 = nn.Linear(120, 30)\n",
        "    self.fc3 = nn.Linear(30, 3) # left with 3 for the three classes\n",
        "\n",
        "\n",
        "  def forward(self, x):\n",
        "    x = self.pool1(self.bn1(F.relu(self.conv1(x))))\n",
        "    x = self.pool2(self.bn2(F.relu(self.conv2(x))))\n",
        "    x = x.view(-1,32*92*71)\n",
        "    x = F.relu(self.fc1(x))\n",
        "    x = F.relu(self.fc2(x))\n",
        "    x = self.fc3(x)\n",
        "\n",
        "    return x\n",
        "\n",
        "\n",
        "# Create model object \n",
        "model = ConvNet().to(device)\n",
        "for param in model.parameters():\n",
        "  print(str(param.data.numpy().shape)+'\\n')\n",
        "\n",
        "# Loss function\n",
        "criterion = nn.CrossEntropyLoss()\n",
        "\n",
        "#Optimizer (can use SGD or ADAM)\n",
        "optimizer = torch.optim.SGD(model.parameters(), lr = learning_rate) #or ADAM/ momentum\n",
        "acc = 0 # accuracy\n",
        "epoch = 0 # training episodes\n",
        "n_total_steps = len(train_loader) \n",
        "\n",
        "def train_model(epochs):\n",
        "  # set model in training mode (recommended)\n",
        "  model.train()\n",
        "  for epoch in range(epochs):\n",
        "    losses = []\n",
        "    closs = 0\n",
        "    num_times = 0\n",
        "    for i, (images, labels) in enumerate(train_loader, 0):\n",
        "      images = images.float().to(device) # for GPU support\n",
        "      label = labels.float().to(device)\n",
        "\n",
        "      # Forward pass through NN\n",
        "      outputs = model(images)\n",
        "      loss = criterion(outputs, labels)\n",
        "\n",
        "      closs+= loss.item()\n",
        "\n",
        "      # Backward pass, updating weights\n",
        "      optimizer.zero_grad() # sets gradients to 0 to prevent interference with previous epoch\n",
        "      loss.backward()\n",
        "      optimizer.step()\n",
        "\n",
        "      # Track every 100th loss:\n",
        "      if i % 100 == 0:\n",
        "        losses.append(loss.item())\n",
        "        num_times = num_times + 1\n",
        "\n",
        "\n",
        "      # print every 1000th time\n",
        "      if i % 1000 == 0:\n",
        "        print('[%d %d] loss %.4f'% (epoch + 1, i + 1, closs/1000))\n",
        "        closs = 0\n",
        "    # Calculate the accuract and save the model state  \n",
        "    accuracy()\n",
        "\n",
        "    # Plot the loss\n",
        "    plt.plot(losses, label = 'epoch' + str(epoch))\n",
        "    plt.legend(loc = 1, mode = 'expanded', shadow = True, ncol = 2)\n",
        "  plt.show()\n",
        "\n",
        "def accuracy():\n",
        "  # set the model to evaluation mode\n",
        "  model.eval()\n",
        "  # Calculate performance\n",
        "  correct = 0\n",
        "  total = 0\n",
        "  accuracy = 0\n",
        "  for batches in test_loader:\n",
        "    images, labels = batches\n",
        "    prediction = model(images.float())\n",
        "    _,prediction = torch.max(prediction.data, 1)# returns max val and index\n",
        "    total += labels.size(0)\n",
        "    correct +=(prediction == labels).sum().item()\n",
        "\n",
        "    accuracy = (correct/total) * 100\n",
        "  print('Accuracy = '+str(accuracy))\n",
        "\n",
        "\n",
        "if __name__ == '__main__':\n",
        "  train_model(2)\n",
        "\n",
        "\n",
        "\n",
        "\n",
        "\n",
        "\n",
        "\n",
        "\n",
        "\n",
        "\n",
        "\n"
      ],
      "execution_count": 56,
      "outputs": [
        {
          "output_type": "stream",
          "name": "stdout",
          "text": [
            "(16, 1, 3, 3)\n",
            "\n",
            "(16,)\n",
            "\n",
            "(16,)\n",
            "\n",
            "(16,)\n",
            "\n",
            "(32, 16, 3, 3)\n",
            "\n",
            "(32,)\n",
            "\n",
            "(32,)\n",
            "\n",
            "(32,)\n",
            "\n",
            "(120, 209024)\n",
            "\n",
            "(120,)\n",
            "\n",
            "(30, 120)\n",
            "\n",
            "(30,)\n",
            "\n",
            "(3, 30)\n",
            "\n",
            "(3,)\n",
            "\n",
            "[1 1] loss 0.0010\n",
            "Accuracy = 75.0\n",
            "[2 1] loss 0.0011\n",
            "Accuracy = 75.0\n"
          ]
        },
        {
          "output_type": "display_data",
          "data": {
            "image/png": "[encoded data removed]",
            "text/plain": [
              "<Figure size 432x288 with 1 Axes>"
            ]
          },
          "metadata": {
            "needs_background": "light"
          }
        }
      ]
    },
    {
      "cell_type": "markdown",
      "metadata": {
        "id": "hro3o1RxxrQn"
      },
      "source": [
        "#Build CNN when not using pytorch's DataLoader class"
      ]
    },
    {
      "cell_type": "code",
      "metadata": {
        "id": "pTKzGGrTZcdP"
      },
      "source": [
        "# Create classes for training data, test data \n",
        "# So far using one batch\n",
        "\n",
        "class Helper():\n",
        "  \n",
        "  def __init__(self):\n",
        "    self.i = 0\n",
        "\n",
        "    # create batches  \n",
        "    #self.train_batch = [#split X_train into batches]\n",
        "    #self.val_batch = [#validation batch]\n",
        "    #self.test_batch = [#test batch]\n",
        "\n",
        "    self.training_images = None\n",
        "    self.training_labels = None\n",
        "\n",
        "    self.val_images = None\n",
        "    self.val_labels = None\n",
        "\n",
        "    self.test_images = None\n",
        "    self.test_labels = None\n",
        "  \n",
        "\n",
        "  def get_images(self):\n",
        "\n",
        "    print(\"set up images for training, val, test\")\n",
        "\n",
        "    self.training_images = np.array(self.training_images)\n",
        "    train_len = len(self.training_images)\n",
        "\n",
        "    self.val_images = np.array(self.val_images)\n",
        "    val_len = len(self.val_images)\n",
        "\n",
        "    self.test_images = np.array(self.test_images)\n",
        "    test_len = len(self.test_images)\n",
        "\n",
        "\n",
        "\n",
        "  def next_batch(self, batch_size):\n",
        "    x = self.training_images[self.i:self.i+batch_size].reshape(batch_size,368, 284) #resize to length of batch\n",
        "    y = self.training_labels[self.i:self.i+batch_size]\n",
        "    self.i = (self.i + batch_size) % len(self.training_images)\n",
        "    return x , y \n"
      ],
      "execution_count": 110,
      "outputs": []
    },
    {
      "cell_type": "code",
      "metadata": {
        "id": "uAoV1boOkf2i"
      },
      "source": [
        ""
      ],
      "execution_count": null,
      "outputs": []
    }
  ]
}