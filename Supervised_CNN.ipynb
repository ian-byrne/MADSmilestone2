{
  "nbformat": 4,
  "nbformat_minor": 0,
  "metadata": {
    "colab": {
      "name": "copy_Supervised_CNN.ipynb",
      "provenance": [],
      "collapsed_sections": [],
      "machine_shape": "hm",
      "mount_file_id": "10WdpyFVm5G8J5AJrHPelKDpmooAreyPw",
      "authorship_tag": "ABX9TyNIv/obWqltQyFNSfRt7Z23",
      "include_colab_link": true
    },
    "kernelspec": {
      "display_name": "Python 3",
      "name": "python3"
    },
    "language_info": {
      "name": "python"
    },
    "accelerator": "GPU"
  },
  "cells": [
    {
      "cell_type": "markdown",
      "metadata": {
        "id": "view-in-github",
        "colab_type": "text"
      },
      "source": [
        "<a href=\"https://colab.research.google.com/github/ian-byrne/MADSmilestone2/blob/main/Supervised_CNN.ipynb\" target=\"_parent\"><img src=\"https://colab.research.google.com/assets/colab-badge.svg\" alt=\"Open In Colab\"/></a>"
      ]
    },
    {
      "cell_type": "markdown",
      "metadata": {
        "id": "oa6L-qwlfHPf"
      },
      "source": [
        "# Supervised Learning: Clock Drawing Image Classification with Convolutional Neural Networks\n",
        "### Stacey Beck and Ian Byrne\n",
        "\n",
        "- Split data into sets of Training (x = image arrays ; y = labels), Test (~10% image arrays), and Validation (~10% of the Training). \n",
        "- Build CNN using Pytorch for Training and Test:\n",
        "  - Specify CUDA\n",
        "  - 2D convolution, Normalization (for faster training), Non-linear Activation Function (ex. RELU), Max Pooling (downsampling to reduce learned parameters).\n",
        "  - Define Layers \n",
        "  - Build Forward and backward pass\n",
        "  - Define optimizer (due to many - deep - nodes) ex) ADAM\n",
        "  - Calculate Loss (BCE)\n",
        "  - Calculate Accuracy, Precision, Recall (Confusion Matrix)\n",
        "  - Plot ROC and print Confusion Matrix\n",
        "\n"
      ]
    },
    {
      "cell_type": "code",
      "metadata": {
        "colab": {
          "base_uri": "https://localhost:8080/"
        },
        "id": "MKcEhDBuf5ow",
        "outputId": "e174e840-61e2-4fab-b968-4cf80af1f073"
      },
      "source": [
        "from google.colab import drive\n",
        "drive.mount('/content/gdrive')"
      ],
      "execution_count": 1,
      "outputs": [
        {
          "output_type": "stream",
          "name": "stdout",
          "text": [
            "Mounted at /content/gdrive\n"
          ]
        }
      ]
    },
    {
      "cell_type": "code",
      "metadata": {
        "colab": {
          "base_uri": "https://localhost:8080/"
        },
        "id": "Eoct7Or8ezZq",
        "outputId": "728503b0-06f7-45c7-94e7-3df84fe90934"
      },
      "source": [
        "# Clone the entire repo.\n",
        "!git clone -l -s https://github.com/ian-byrne/MADSmilestone2.git\n",
        "\n",
        "# Change directory into cloned repo\n",
        "%cd MADSmilestone2\n",
        "\n",
        "# List repo contents\n",
        "#!ls"
      ],
      "execution_count": 2,
      "outputs": [
        {
          "output_type": "stream",
          "name": "stdout",
          "text": [
            "Cloning into 'MADSmilestone2'...\n",
            "warning: --local is ignored\n",
            "remote: Enumerating objects: 586, done.\u001b[K\n",
            "remote: Counting objects: 100% (586/586), done.\u001b[K\n",
            "remote: Compressing objects: 100% (485/485), done.\u001b[K\n",
            "remote: Total 586 (delta 322), reused 219 (delta 92), pack-reused 0\u001b[K\n",
            "Receiving objects: 100% (586/586), 4.49 MiB | 5.20 MiB/s, done.\n",
            "Resolving deltas: 100% (322/322), done.\n",
            "/content/MADSmilestone2\n"
          ]
        }
      ]
    },
    {
      "cell_type": "code",
      "metadata": {
        "colab": {
          "base_uri": "https://localhost:8080/"
        },
        "id": "XtH9tfFdQepN",
        "outputId": "16ff87e1-135b-46b6-ec27-f2135ac48dc9"
      },
      "source": [
        "!pip install torchmetrics\n",
        "\n",
        "# General Libraries\n",
        "import pandas as pd\n",
        "import numpy as np\n",
        "\n",
        "# Custom Libraries\n",
        "import Loading.load_data as ld\n",
        "import ImagePlayground.Images\n",
        "\n",
        "# Pytroch Libraries\n",
        "import torch\n",
        "import torch.nn as nn\n",
        "import torch.nn.functional as F\n",
        "import torchvision\n",
        "import torchvision.transforms as transforms\n",
        "from torch.nn import Linear, ReLU, CrossEntropyLoss, Sequential, Conv2d, MaxPool2d, Module, Softmax, BatchNorm2d, Dropout\n",
        "from torch.optim import Adam, SGD\n",
        "\n",
        "# To Evaluate model\n",
        "from tqdm import tqdm\n",
        "import torchmetrics\n",
        "from torchmetrics import ConfusionMatrix\n",
        "from sklearn.metrics import multilabel_confusion_matrix\n",
        "from sklearn.metrics import plot_confusion_matrix\n",
        "from sklearn.metrics import confusion_matrix\n",
        "from sklearn.metrics import classification_report\n",
        "\n",
        "# To visualize model\n",
        "import matplotlib.pyplot as plt\n",
        "import seaborn as sns\n",
        "from PIL import Image\n",
        "from skimage.io import imread\n",
        "\n",
        "# To split the data\n",
        "from sklearn.model_selection import train_test_split"
      ],
      "execution_count": 3,
      "outputs": [
        {
          "output_type": "stream",
          "name": "stdout",
          "text": [
            "Collecting torchmetrics\n",
            "  Downloading torchmetrics-0.5.1-py3-none-any.whl (282 kB)\n",
            "\u001b[?25l\r\u001b[K     |█▏                              | 10 kB 32.0 MB/s eta 0:00:01\r\u001b[K     |██▎                             | 20 kB 41.5 MB/s eta 0:00:01\r\u001b[K     |███▌                            | 30 kB 36.3 MB/s eta 0:00:01\r\u001b[K     |████▋                           | 40 kB 23.0 MB/s eta 0:00:01\r\u001b[K     |█████▉                          | 51 kB 17.8 MB/s eta 0:00:01\r\u001b[K     |███████                         | 61 kB 16.8 MB/s eta 0:00:01\r\u001b[K     |████████                        | 71 kB 16.8 MB/s eta 0:00:01\r\u001b[K     |█████████▎                      | 81 kB 18.6 MB/s eta 0:00:01\r\u001b[K     |██████████▍                     | 92 kB 17.4 MB/s eta 0:00:01\r\u001b[K     |███████████▋                    | 102 kB 16.2 MB/s eta 0:00:01\r\u001b[K     |████████████▊                   | 112 kB 16.2 MB/s eta 0:00:01\r\u001b[K     |██████████████                  | 122 kB 16.2 MB/s eta 0:00:01\r\u001b[K     |███████████████                 | 133 kB 16.2 MB/s eta 0:00:01\r\u001b[K     |████████████████▏               | 143 kB 16.2 MB/s eta 0:00:01\r\u001b[K     |█████████████████▍              | 153 kB 16.2 MB/s eta 0:00:01\r\u001b[K     |██████████████████▌             | 163 kB 16.2 MB/s eta 0:00:01\r\u001b[K     |███████████████████▊            | 174 kB 16.2 MB/s eta 0:00:01\r\u001b[K     |████████████████████▉           | 184 kB 16.2 MB/s eta 0:00:01\r\u001b[K     |██████████████████████          | 194 kB 16.2 MB/s eta 0:00:01\r\u001b[K     |███████████████████████▏        | 204 kB 16.2 MB/s eta 0:00:01\r\u001b[K     |████████████████████████▎       | 215 kB 16.2 MB/s eta 0:00:01\r\u001b[K     |█████████████████████████▌      | 225 kB 16.2 MB/s eta 0:00:01\r\u001b[K     |██████████████████████████▋     | 235 kB 16.2 MB/s eta 0:00:01\r\u001b[K     |███████████████████████████▉    | 245 kB 16.2 MB/s eta 0:00:01\r\u001b[K     |█████████████████████████████   | 256 kB 16.2 MB/s eta 0:00:01\r\u001b[K     |██████████████████████████████  | 266 kB 16.2 MB/s eta 0:00:01\r\u001b[K     |███████████████████████████████▎| 276 kB 16.2 MB/s eta 0:00:01\r\u001b[K     |████████████████████████████████| 282 kB 16.2 MB/s \n",
            "\u001b[?25hRequirement already satisfied: numpy>=1.17.2 in /usr/local/lib/python3.7/dist-packages (from torchmetrics) (1.19.5)\n",
            "Requirement already satisfied: packaging in /usr/local/lib/python3.7/dist-packages (from torchmetrics) (21.0)\n",
            "Requirement already satisfied: torch>=1.3.1 in /usr/local/lib/python3.7/dist-packages (from torchmetrics) (1.9.0+cu102)\n",
            "Requirement already satisfied: typing-extensions in /usr/local/lib/python3.7/dist-packages (from torch>=1.3.1->torchmetrics) (3.7.4.3)\n",
            "Requirement already satisfied: pyparsing>=2.0.2 in /usr/local/lib/python3.7/dist-packages (from packaging->torchmetrics) (2.4.7)\n",
            "Installing collected packages: torchmetrics\n",
            "Successfully installed torchmetrics-0.5.1\n"
          ]
        }
      ]
    },
    {
      "cell_type": "code",
      "metadata": {
        "id": "fM_UbzqNogPC"
      },
      "source": [
        "#!rm -rf /content/MADSmilestone2"
      ],
      "execution_count": null,
      "outputs": []
    },
    {
      "cell_type": "markdown",
      "metadata": {
        "id": "o5jwtXk7qv9-"
      },
      "source": [
        "# Build CNN Model using Pytorch\n"
      ]
    },
    {
      "cell_type": "markdown",
      "metadata": {
        "id": "4nKizV2h4lMH"
      },
      "source": [
        "### Building and Training\n",
        "Architecture choices influenced from: \n",
        "\n",
        "https://www.analyticsvidhya.com/blog/2018/12/guide-convolutional-neural-network-cnn/\n",
        "\n",
        "https://medium.datadriveninvestor.com/five-powerful-cnn-architectures-b939c9ddd57b\n",
        "\n",
        "https://towardsdatascience.com/how-does-sparse-convolution-work-3257a0a8fd1"
      ]
    },
    {
      "cell_type": "code",
      "metadata": {
        "id": "7OOYf4s0smrq"
      },
      "source": [
        "# Define some of the hyperparameters and training variables\n",
        "#epochs = 2\n",
        "#batch_size = 25\n",
        "learning_rate = 1e-3\n",
        "kernel_size = 3\n",
        "stride = 1\n",
        "padding = 1 #2*floor(3/2)\n",
        "\n",
        "accuracy_stats = {\n",
        "    'train': [],\n",
        "    'val': []\n",
        "}\n",
        "\n",
        "loss_stats = {\n",
        "    'train': [],\n",
        "    'val': []\n",
        "}\n",
        "#activation function"
      ],
      "execution_count": 4,
      "outputs": []
    },
    {
      "cell_type": "code",
      "metadata": {
        "colab": {
          "base_uri": "https://localhost:8080/"
        },
        "id": "Ypf_eiS8Eghk",
        "outputId": "a16fc7c2-ceb8-4e48-e340-021f1215e4e5"
      },
      "source": [
        "# Load numpy array files, add dimension of 1 for gray scale, and zip images and labels \n",
        "# get zipped im label and separate label tensors\n",
        "tr_im_path = \"Dementia_label_data/balanced_training.npy\"\n",
        "tr_lb_path = \"Dementia_label_data/balanced_train_labels.npy\"\n",
        "val_im_path = \"Dementia_label_data/val_im_nobal.npy\"\n",
        "val_lb_path = \"Dementia_label_data/val_labels_im_nobal.npy\"\n",
        "tst_im_path = \"Dementia_label_data/test_im_nobal.npy\"\n",
        "tst_lb_path = \"Dementia_label_data/val_labels_im_nobal.npy\"\n",
        "\n",
        "training_data, y_train_tensor = ld.load_np_files(tr_im_path, tr_lb_path)\n",
        "validation_data, y_val_tensor = ld.load_np_files(val_im_path, val_lb_path)\n",
        "test_data, y_test_tensor = ld.load_np_files(tst_im_path, tst_lb_path)\n"
      ],
      "execution_count": 5,
      "outputs": [
        {
          "output_type": "stream",
          "name": "stdout",
          "text": [
            "(23535, 1, 368, 284)\n",
            "(2544, 1, 368, 284)\n",
            "(2541, 1, 368, 284)\n"
          ]
        }
      ]
    },
    {
      "cell_type": "code",
      "metadata": {
        "id": "g2hFuyx32XJa"
      },
      "source": [
        "# Get image data and label tensors\n",
        "train_loader = torch.utils.data.DataLoader(training_data, batch_size = 64, shuffle = True, num_workers = 6) \n",
        "validate_loader = torch.utils.data.DataLoader(validation_data, batch_size = 8, shuffle = False, num_workers = 6) #64, 8, 1\n",
        "test_loader = torch.utils.data.DataLoader(test_data, batch_size = 1, shuffle = False)\n",
        "\n",
        "\n",
        "#Labels \n",
        "classes = (0, 1, 2)"
      ],
      "execution_count": 6,
      "outputs": []
    },
    {
      "cell_type": "code",
      "metadata": {
        "colab": {
          "base_uri": "https://localhost:8080/",
          "height": 265
        },
        "id": "RhabT4VULYLp",
        "outputId": "cf816814-bc0a-4c94-c9f5-2f7dcf6cb2c5"
      },
      "source": [
        "def imshow(img):\n",
        "    img = img / 2 + 0.5     # unnormalize\n",
        "    npimg = img.numpy()\n",
        "    plt.figure(figsize=(8,10))\n",
        "    plt.imshow(np.transpose(npimg, (1, 2, 0)))\n",
        "    plt.show()\n",
        "\n",
        "\n",
        "# get some random training images\n",
        "dataiter = iter(train_loader)\n",
        "images, labels = dataiter.next()\n",
        "#print(images.size())\n",
        "print(images.type())\n",
        "#images = images.unsqueeze(1)\n",
        "print(images.size())\n",
        "# show images\n",
        "imshow(torchvision.utils.make_grid(images, nrow = 4))\n",
        "# print labels\n",
        "print('Labels:')\n",
        "print('          '.join('%5s' % classes[labels[j]] for j in range(batch_size)))\n",
        "\n",
        "#Printing as RGB, just using basic pytorch dataloader likely converting to rbg"
      ],
      "execution_count": null,
      "outputs": [
        {
          "name": "stdout",
          "output_type": "stream",
          "text": [
            "torch.LongTensor\n",
            "torch.Size([4, 1, 368, 284])\n"
          ]
        },
        {
          "data": {
            "image/png": "[encoded data removed]",
            "text/plain": [
              "<Figure size 576x720 with 1 Axes>"
            ]
          },
          "metadata": {},
          "output_type": "display_data"
        },
        {
          "name": "stdout",
          "output_type": "stream",
          "text": [
            "Labels:\n",
            "    2              2              0              0\n"
          ]
        }
      ]
    },
    {
      "cell_type": "code",
      "metadata": {
        "colab": {
          "base_uri": "https://localhost:8080/"
        },
        "id": "I5xpaSNBrNR5",
        "outputId": "3b0ddb59-c053-4012-a2cc-dc7839c427d8"
      },
      "source": [
        "# Set to GPU\n",
        "device = torch.device('cuda:0' if torch.cuda.is_available() else 'cpu')\n",
        "#torch.backends.cudnn.benchmark = True\n",
        "\n",
        "\n",
        "\n",
        "\n",
        "class ConvNet(nn.Module):\n",
        "  def __init__(self):\n",
        "    super(ConvNet, self).__init__()\n",
        "    # without considering batch size: Input shape : (None,368, 284, 1) , parameters: (3*3*1*16+16) = 160\n",
        "    self.conv1 = nn.Conv2d(in_channels = 1, out_channels = 16, # one input channel gray scale, 16 filters out\n",
        "                            kernel_size = 3, stride = 1, padding = 1) #Out:(None,386, 284, 16)\n",
        "    self.conv2 = nn.Conv2d(in_channels = 16, out_channels = 32, \n",
        "                          kernel_size = 3, stride = 1, padding = 1) #params: (3*3*16*32+32) = 4640                        \n",
        "    self.pool1 = nn.MaxPool2d(2, 2) #Out: (None, 184, 142, 32)\n",
        "    self.bn1 = nn.BatchNorm2d(32)\n",
        "\n",
        "    self.conv3 = nn.Conv2d(in_channels = 32, out_channels = 64, \n",
        "                          kernel_size = 3, stride = 1, padding = 1) #params: (3*3*16*32+32) = 4640    \n",
        "    self.conv4 = nn.Conv2d(in_channels = 64, out_channels = 64, \n",
        "                          kernel_size = 3, stride = 1, padding = 1) # params: (3*3*32*32+32) = 9248                     \n",
        "    self.pool2 = nn.MaxPool2d(2, 2) #Output shape = (None, 92, 71, 64)\n",
        "    self.bn2 = nn.BatchNorm2d(64) \n",
        "\n",
        "    self.conv5 = nn.Conv2d(in_channels = 64, out_channels = 128, \n",
        "                          kernel_size = 3, stride = 1, padding = 1) # params: (3*3*32*32+32) = 9248 \n",
        "    self.conv6 = nn.Conv2d(in_channels = 128, out_channels = 128, \n",
        "                          kernel_size = 3, stride = 1, padding = 1) # params: (3*3*32*32+32) = 9248\n",
        "    self.pool3 = nn.MaxPool2d(2, 2) #Output shape = (None, 46, 35, 128)\n",
        "    self.bn3 = nn.BatchNorm2d(128)\n",
        "\n",
        "                             \n",
        "    # Fully connected layer\n",
        "    self.fc1 = nn.Linear(128*46*35,3)\n",
        "    #self.fc2 = nn.Linear(120, 60)\n",
        "    #self.fc3 = nn.Linear(60, 30)\n",
        "    #self.fc4 = nn.Linear(30, 3) # left with 3 for the three classes                     \n",
        "\n",
        "\n",
        "\n",
        "  def forward(self, x):\n",
        "    x = self.bn1(self.pool1(F.relu(self.conv2(F.relu(self.conv1(x))))))\n",
        "    x = self.bn2(self.pool2(F.relu(self.conv4(F.relu(self.conv3(x))))))\n",
        "    x = self.bn3(self.pool3(F.relu(self.conv6(F.relu(self.conv5(x))))))\n",
        "    x = x.view(x.size(0),128*46*35)\n",
        "    x = self.fc1(x)\n",
        "\n",
        "\n",
        "    return x                        \n",
        "    \n",
        "\n",
        "\n",
        "\n",
        "\n",
        "# Create model object \n",
        "model = ConvNet()\n",
        "if torch.cuda.is_available():\n",
        "    model = model.to(float).cuda()\n",
        "    print('Model training on GPU')\n",
        "else:\n",
        "    print(\"CUDA is not available. Training on CPU...\")\n",
        "\n",
        "#for param in model.parameters():\n",
        "  #print(str(param.data.numpy().shape)+'\\n')\n",
        "  #print(\"weights fc1: \", model.fc1.weight)\n",
        "\n",
        "# Loss function\n",
        "criterion = nn.CrossEntropyLoss(reduction=\"mean\")\n",
        "\n",
        "# Optimizer (can use SGD or ADAM)\n",
        "#optimizer = torch.optim.Adam(model.parameters(), lr = learning_rate)#, momentum = 0.9) #or ADAM/ momentum\n",
        "optimizer = torch.optim.SGD(model.parameters(), lr = learning_rate, momentum = 0.9) #or ADAM/ momentum\n",
        "\n",
        "\n",
        "print(model)\n",
        "\n",
        "\n",
        "\n",
        "\n",
        "\n",
        "\n",
        "def train_val_model(epochs):\n",
        "  for epoch in range(1, epochs + 1):\n",
        "\n",
        "    # TRAINING ********************************\n",
        "    train_epoch_loss = 0\n",
        "    train_epoch_acc = 0\n",
        "\n",
        "    # set model in training mode (recommended)\n",
        "    model.train()\n",
        "\n",
        "    \n",
        "    # Double check\n",
        "    tr_run_loss=0\n",
        "    tr_correct=0\n",
        "    tr_total=0\n",
        "    train_accu = []\n",
        "    train_losses = []\n",
        "    \n",
        "    print('\\nEpoch$ : %d'%epoch)\n",
        "    for x_train_batch, y_train_batch in tqdm(train_loader):\n",
        "      x_train_batch = x_train_batch.to(float).to(device) # for GPU support\n",
        "      y_train_batch = y_train_batch.to(device) \n",
        "\n",
        "      #print(x_train_batch.shape)\n",
        "\n",
        "      # sets gradients to 0 to prevent interference with previous epoch\n",
        "      optimizer.zero_grad()\n",
        "\n",
        "      # Forward pass through NN\n",
        "      y_train_pred = model(x_train_batch)#.to(float))\n",
        "      train_loss = criterion(y_train_pred, y_train_batch)\n",
        "      train_acc = accuracy(y_train_pred, y_train_batch)\n",
        "\n",
        "      # Backward pass, updating weights\n",
        "      train_loss.backward()\n",
        "      optimizer.step()\n",
        "\n",
        "      # Statistics\n",
        "      train_epoch_loss += train_loss.item()\n",
        "      train_epoch_acc += train_acc.item()\n",
        "\n",
        "      # Double check scores\n",
        "      tr_run_loss += train_loss.item()\n",
        "     \n",
        "      _, predicted = y_train_pred.max(1)\n",
        "      tr_total += y_train_batch.size(0)\n",
        "      tr_correct += predicted.eq(y_train_batch).sum().item()\n",
        "       \n",
        "    tr_loss = tr_run_loss/len(train_loader)\n",
        "    accu = 100.*tr_correct/tr_total\n",
        "   \n",
        "    train_accu.append(accu)\n",
        "    train_losses.append(tr_loss)\n",
        "    print('Train Loss: %.3f | Train Accuracy: %.3f'%(tr_loss,accu))\n",
        "\n",
        "\n",
        "\n",
        "    # VALIDATION****************************************   \n",
        "    \n",
        "    with torch.set_grad_enabled(False):\n",
        "      val_epoch_loss = 0\n",
        "      val_epoch_acc = 0\n",
        "\n",
        "      # Double check\n",
        "      val_run_loss=0\n",
        "      val_correct=0\n",
        "      val_total=0\n",
        "      val_accu = []\n",
        "      val_losses = []\n",
        "\n",
        "\n",
        "      model.eval()\n",
        "      for x_val_batch, y_val_batch in validate_loader:\n",
        "      \n",
        "        x_val_batch =  x_val_batch.to(float).to(device)\n",
        "        y_val_batch = y_val_batch.to(device)\n",
        "            \n",
        "        # Forward pass\n",
        "        y_val_pred = model(x_val_batch)   \n",
        "        val_loss = criterion(y_val_pred, y_val_batch)\n",
        "        val_acc = accuracy(y_val_pred, y_val_batch)\n",
        "            \n",
        "        val_epoch_loss += val_loss.item()\n",
        "        val_epoch_acc += val_acc.item()\n",
        "\n",
        "        # Double check\n",
        "        \n",
        "        val_run_loss += val_loss.item()\n",
        "     \n",
        "        _, predictedv = y_val_pred.max(1)\n",
        "        val_total += y_train_batch.size(0)\n",
        "        val_correct += predictedv.eq(y_val_batch).sum().item()\n",
        "       \n",
        "      vl_loss = val_run_loss/len(validate_loader)\n",
        "      accuv = 100.*val_correct/val_total\n",
        "   \n",
        "      val_accu.append(accuv)\n",
        "      val_losses.append(vl_loss)\n",
        "      print('Validation Loss: %.3f | Validation Accuracy: %.3f'%(vl_loss,accuv))\n",
        "\n",
        "\n",
        "    loss_stats['train'].append(train_epoch_loss/len(train_loader))\n",
        "    loss_stats['val'].append(val_epoch_loss/len(validate_loader))\n",
        "    accuracy_stats['train'].append(train_epoch_acc/len(train_loader))\n",
        "    accuracy_stats['val'].append(val_epoch_acc/len(validate_loader))\n",
        "                              \n",
        "    \n",
        "    print(f'Epoch {epoch+0:03}: Train Loss: {train_epoch_loss/len(train_loader):.5f} | Val Loss: {val_epoch_loss/len(validate_loader):.5f}') \n",
        "    print(f'Train Acc: {train_epoch_acc/len(train_loader):.3f} | Val Acc: {val_epoch_acc/len(validate_loader):.3f}')\n",
        "\n",
        "      # Forward pass through NN\n",
        "      #outputs = model(images.to(float))\n",
        "      #loss = criterion(outputs, labels)\n",
        "\n",
        "      # Backward pass, updating weights\n",
        "      #loss.backward()\n",
        "      #optimizer.step()\n",
        "      #print(model.fc1.weight.detach().numpy())\n",
        "\n",
        "      # Statistics \n",
        "      #running_loss += loss.item()\n",
        "      # Track every 100th loss:\n",
        "      #if i % 100 == 0:\n",
        "        #losses.append(loss.item())\n",
        "        #num_times = num_times + 1\n",
        "\n",
        "      # print every 500th batch\n",
        "      #if i % 500 == 0:\n",
        "        #print(\"epoch: {} loss: {}\".format(i, loss))\n",
        "        #print('[%d %d] loss %.4f'% (epoch + 1, i + 1, running_loss/500))\n",
        "        #running_loss = 0.0\n",
        "\n",
        "    #print(\"\\nFinished training Epoch {}\\n\".format(epoch + 1))\n",
        "  \n",
        "\n",
        "    # Plot the loss\n",
        "    #plt.plot([i for i in range(num_times)],losses, label = 'epoch' + str(epoch))\n",
        "    #plt.legend(loc = 1, mode = 'expanded', shadow = True, ncol = 2)\n",
        "  #plt.show()\n",
        "\n",
        "  #los_chart(losses)\n",
        "\n",
        "\n",
        "\n",
        "\n",
        "\n",
        "\n",
        "\"\"\"\n",
        "def los_chart(losses):\n",
        "  plt.plot(losses)\n",
        "  plt.title('loss vs epochs')\n",
        "  plt.xlabel('epochs')\n",
        "  plt.ylabel('loss')\n",
        "  plt.show()\n",
        "\"\"\"\n",
        "\n",
        "\n",
        "\n",
        "\n",
        "\n",
        "\n",
        "\n",
        "def accuracy(y_pred, y_test):\n",
        "  y_pred_softmax = torch.log_softmax(y_pred, dim = 1)\n",
        "  _, y_pred_prob = torch.max(y_pred_softmax, dim = 1)\n",
        "  \n",
        "  #y_preds = y_pred.argmax(dim=1)\n",
        "\n",
        "  correct_pred = (y_pred_prob == y_test).float()\n",
        "  #print(\"correct sum: \", correct_pred.sum())\n",
        "  #print('correct total length: ', len(correct_pred))\n",
        "  #print(correct_pred)\n",
        "  acc = correct_pred.sum() / len(correct_pred)\n",
        "  \n",
        "  #acc = correct_pred.sum().float() / float( y_test.size(0) )\n",
        "\n",
        "  acc = torch.round(acc * 100)\n",
        "\n",
        "  return acc\n",
        "\n",
        "\n",
        "\n",
        "  \"\"\"\n",
        "  model.eval()\n",
        "  # Calculate performance\n",
        "  correct = 0\n",
        "  total = 0\n",
        "  accuracy = 0\n",
        "  with torch.set_grad_enabled(False):\n",
        "      #model.to(float)\n",
        "      for batches in test_loader:\n",
        "        x_test, y_test = batches\n",
        "        x_test = x_test.to(float).to(device)\n",
        "        y_test = y_test.to(float).to(device)\n",
        "        y_pred = model(x_test)\n",
        "        _,y_pred = torch.max(y_pred.data, 1)# returns strongest label val and index\n",
        "        total += y_test.size(0)\n",
        "        #print(y_pred.size())\n",
        "        #print(y_test.size())\n",
        "      \n",
        "        correct += (y_pred == y_test).sum().item()\n",
        "        accuracy = (correct/total) * 100\n",
        "      \n",
        "      \n",
        "      print('Accuracy = '+str(accuracy))\"\"\"\n",
        "\n",
        "\n",
        "\"\"\"# TESTING****************************************   \n",
        "    with torch.set_grad_enabled(False):\n",
        "        \n",
        "        tst_epoch_loss = 0\n",
        "        tst_epoch_acc = 0\n",
        "        \n",
        "        model.eval()\n",
        "        for x_tst_batch, y_tst_batch in test_loader:\n",
        "            x_tst_batch = x_tst_batch.to(float).to(device) # for GPU support\n",
        "            y_tst_batch = y_tst_batch.to(device)\n",
        "            \n",
        "            # Forward pass\n",
        "            y_tst_pred = model(x_tst_batch)\n",
        "            tst_loss = criterion(y_tst_pred, y_tst_batch)\n",
        "            tst_acc = accuracy(y_tst_pred, y_tst_batch)\n",
        "            \n",
        "            tst_epoch_loss += tst_loss.item()\n",
        "            tst_epoch_acc += tst_acc.item()\"\"\"\n",
        "\n",
        "\n",
        "\n",
        "\n",
        "\n",
        "\n",
        "\n",
        "\n",
        "\n",
        "\n",
        "\n",
        "\n",
        "if __name__ == '__main__':\n",
        "  train_val_model(20)\n",
        "\n",
        "\n",
        "\n",
        "\n",
        "\n",
        "\n",
        "\n",
        "\n",
        "\n",
        "\n",
        "\n"
      ],
      "execution_count": 7,
      "outputs": [
        {
          "output_type": "stream",
          "name": "stdout",
          "text": [
            "Model training on GPU\n",
            "ConvNet(\n",
            "  (conv1): Conv2d(1, 16, kernel_size=(3, 3), stride=(1, 1), padding=(1, 1))\n",
            "  (conv2): Conv2d(16, 32, kernel_size=(3, 3), stride=(1, 1), padding=(1, 1))\n",
            "  (pool1): MaxPool2d(kernel_size=2, stride=2, padding=0, dilation=1, ceil_mode=False)\n",
            "  (bn1): BatchNorm2d(32, eps=1e-05, momentum=0.1, affine=True, track_running_stats=True)\n",
            "  (conv3): Conv2d(32, 64, kernel_size=(3, 3), stride=(1, 1), padding=(1, 1))\n",
            "  (conv4): Conv2d(64, 64, kernel_size=(3, 3), stride=(1, 1), padding=(1, 1))\n",
            "  (pool2): MaxPool2d(kernel_size=2, stride=2, padding=0, dilation=1, ceil_mode=False)\n",
            "  (bn2): BatchNorm2d(64, eps=1e-05, momentum=0.1, affine=True, track_running_stats=True)\n",
            "  (conv5): Conv2d(64, 128, kernel_size=(3, 3), stride=(1, 1), padding=(1, 1))\n",
            "  (conv6): Conv2d(128, 128, kernel_size=(3, 3), stride=(1, 1), padding=(1, 1))\n",
            "  (pool3): MaxPool2d(kernel_size=2, stride=2, padding=0, dilation=1, ceil_mode=False)\n",
            "  (bn3): BatchNorm2d(128, eps=1e-05, momentum=0.1, affine=True, track_running_stats=True)\n",
            "  (fc1): Linear(in_features=206080, out_features=3, bias=True)\n",
            ")\n",
            "\n",
            "Epoch$ : 1\n"
          ]
        },
        {
          "output_type": "stream",
          "name": "stderr",
          "text": [
            "\r  0%|          | 0/368 [00:00<?, ?it/s]/usr/local/lib/python3.7/dist-packages/torch/nn/functional.py:718: UserWarning: Named tensors and all their associated APIs are an experimental feature and subject to change. Please do not use them for anything important until they are released as stable. (Triggered internally at  /pytorch/c10/core/TensorImpl.h:1156.)\n",
            "  return torch.max_pool2d(input, kernel_size, stride, padding, dilation, ceil_mode)\n",
            "100%|██████████| 368/368 [03:29<00:00,  1.76it/s]"
          ]
        },
        {
          "output_type": "stream",
          "name": "stdout",
          "text": [
            "Train Loss: 4.197 | Train Accuracy: 39.099\n"
          ]
        },
        {
          "output_type": "stream",
          "name": "stderr",
          "text": [
            "\n"
          ]
        },
        {
          "output_type": "stream",
          "name": "stdout",
          "text": [
            "Validation Loss: 1.578 | Validation Accuracy: 8.531\n",
            "Epoch 001: Train Loss: 4.19721 | Val Loss: 1.57792\n",
            "Train Acc: 39.193 | Val Acc: 50.135\n",
            "\n",
            "Epoch$ : 2\n"
          ]
        },
        {
          "output_type": "stream",
          "name": "stderr",
          "text": [
            "100%|██████████| 368/368 [03:28<00:00,  1.77it/s]"
          ]
        },
        {
          "output_type": "stream",
          "name": "stdout",
          "text": [
            "Train Loss: 1.381 | Train Accuracy: 47.674\n"
          ]
        },
        {
          "output_type": "stream",
          "name": "stderr",
          "text": [
            "\n"
          ]
        },
        {
          "output_type": "stream",
          "name": "stdout",
          "text": [
            "Validation Loss: 1.333 | Validation Accuracy: 6.985\n",
            "Epoch 002: Train Loss: 1.38105 | Val Loss: 1.33286\n",
            "Train Acc: 47.674 | Val Acc: 41.069\n",
            "\n",
            "Epoch$ : 3\n"
          ]
        },
        {
          "output_type": "stream",
          "name": "stderr",
          "text": [
            "100%|██████████| 368/368 [03:27<00:00,  1.77it/s]"
          ]
        },
        {
          "output_type": "stream",
          "name": "stdout",
          "text": [
            "Train Loss: 0.970 | Train Accuracy: 55.653\n"
          ]
        },
        {
          "output_type": "stream",
          "name": "stderr",
          "text": [
            "\n"
          ]
        },
        {
          "output_type": "stream",
          "name": "stdout",
          "text": [
            "Validation Loss: 1.213 | Validation Accuracy: 7.280\n",
            "Epoch 003: Train Loss: 0.97035 | Val Loss: 1.21255\n",
            "Train Acc: 55.620 | Val Acc: 42.777\n",
            "\n",
            "Epoch$ : 4\n"
          ]
        },
        {
          "output_type": "stream",
          "name": "stderr",
          "text": [
            "100%|██████████| 368/368 [03:28<00:00,  1.77it/s]"
          ]
        },
        {
          "output_type": "stream",
          "name": "stdout",
          "text": [
            "Train Loss: 0.846 | Train Accuracy: 61.411\n"
          ]
        },
        {
          "output_type": "stream",
          "name": "stderr",
          "text": [
            "\n"
          ]
        },
        {
          "output_type": "stream",
          "name": "stdout",
          "text": [
            "Validation Loss: 1.127 | Validation Accuracy: 8.176\n",
            "Epoch 004: Train Loss: 0.84638 | Val Loss: 1.12676\n",
            "Train Acc: 61.370 | Val Acc: 48.028\n",
            "\n",
            "Epoch$ : 5\n"
          ]
        },
        {
          "output_type": "stream",
          "name": "stderr",
          "text": [
            "100%|██████████| 368/368 [03:28<00:00,  1.77it/s]"
          ]
        },
        {
          "output_type": "stream",
          "name": "stdout",
          "text": [
            "Train Loss: 0.759 | Train Accuracy: 66.735\n"
          ]
        },
        {
          "output_type": "stream",
          "name": "stderr",
          "text": [
            "\n"
          ]
        },
        {
          "output_type": "stream",
          "name": "stdout",
          "text": [
            "Validation Loss: 1.249 | Validation Accuracy: 7.166\n",
            "Epoch 005: Train Loss: 0.75932 | Val Loss: 1.24861\n",
            "Train Acc: 66.696 | Val Acc: 42.160\n",
            "\n",
            "Epoch$ : 6\n"
          ]
        },
        {
          "output_type": "stream",
          "name": "stderr",
          "text": [
            "100%|██████████| 368/368 [03:29<00:00,  1.76it/s]"
          ]
        },
        {
          "output_type": "stream",
          "name": "stdout",
          "text": [
            "Train Loss: 0.703 | Train Accuracy: 70.070\n"
          ]
        },
        {
          "output_type": "stream",
          "name": "stderr",
          "text": [
            "\n"
          ]
        },
        {
          "output_type": "stream",
          "name": "stdout",
          "text": [
            "Validation Loss: 1.186 | Validation Accuracy: 8.136\n",
            "Epoch 006: Train Loss: 0.70280 | Val Loss: 1.18615\n",
            "Train Acc: 70.049 | Val Acc: 47.836\n",
            "\n",
            "Epoch$ : 7\n"
          ]
        },
        {
          "output_type": "stream",
          "name": "stderr",
          "text": [
            "100%|██████████| 368/368 [03:29<00:00,  1.76it/s]"
          ]
        },
        {
          "output_type": "stream",
          "name": "stdout",
          "text": [
            "Train Loss: 0.654 | Train Accuracy: 72.390\n"
          ]
        },
        {
          "output_type": "stream",
          "name": "stderr",
          "text": [
            "\n"
          ]
        },
        {
          "output_type": "stream",
          "name": "stdout",
          "text": [
            "Validation Loss: 1.174 | Validation Accuracy: 8.363\n",
            "Epoch 007: Train Loss: 0.65362 | Val Loss: 1.17404\n",
            "Train Acc: 72.386 | Val Acc: 49.157\n",
            "\n",
            "Epoch$ : 8\n"
          ]
        },
        {
          "output_type": "stream",
          "name": "stderr",
          "text": [
            "100%|██████████| 368/368 [03:29<00:00,  1.76it/s]"
          ]
        },
        {
          "output_type": "stream",
          "name": "stdout",
          "text": [
            "Train Loss: 0.605 | Train Accuracy: 75.007\n"
          ]
        },
        {
          "output_type": "stream",
          "name": "stderr",
          "text": [
            "\n"
          ]
        },
        {
          "output_type": "stream",
          "name": "stdout",
          "text": [
            "Validation Loss: 1.566 | Validation Accuracy: 6.316\n",
            "Epoch 008: Train Loss: 0.60498 | Val Loss: 1.56606\n",
            "Train Acc: 75.011 | Val Acc: 37.138\n",
            "\n",
            "Epoch$ : 9\n"
          ]
        },
        {
          "output_type": "stream",
          "name": "stderr",
          "text": [
            "100%|██████████| 368/368 [03:28<00:00,  1.77it/s]"
          ]
        },
        {
          "output_type": "stream",
          "name": "stdout",
          "text": [
            "Train Loss: 0.562 | Train Accuracy: 77.455\n"
          ]
        },
        {
          "output_type": "stream",
          "name": "stderr",
          "text": [
            "\n"
          ]
        },
        {
          "output_type": "stream",
          "name": "stdout",
          "text": [
            "Validation Loss: 1.329 | Validation Accuracy: 7.828\n",
            "Epoch 009: Train Loss: 0.56159 | Val Loss: 1.32912\n",
            "Train Acc: 77.478 | Val Acc: 46.031\n",
            "\n",
            "Epoch$ : 10\n"
          ]
        },
        {
          "output_type": "stream",
          "name": "stderr",
          "text": [
            "100%|██████████| 368/368 [03:29<00:00,  1.76it/s]"
          ]
        },
        {
          "output_type": "stream",
          "name": "stdout",
          "text": [
            "Train Loss: 0.525 | Train Accuracy: 79.091\n"
          ]
        },
        {
          "output_type": "stream",
          "name": "stderr",
          "text": [
            "\n"
          ]
        },
        {
          "output_type": "stream",
          "name": "stdout",
          "text": [
            "Validation Loss: 1.998 | Validation Accuracy: 5.540\n",
            "Epoch 010: Train Loss: 0.52540 | Val Loss: 1.99819\n",
            "Train Acc: 79.114 | Val Acc: 32.553\n",
            "\n",
            "Epoch$ : 11\n"
          ]
        },
        {
          "output_type": "stream",
          "name": "stderr",
          "text": [
            "100%|██████████| 368/368 [03:29<00:00,  1.76it/s]"
          ]
        },
        {
          "output_type": "stream",
          "name": "stdout",
          "text": [
            "Train Loss: 0.484 | Train Accuracy: 80.854\n"
          ]
        },
        {
          "output_type": "stream",
          "name": "stderr",
          "text": [
            "\n"
          ]
        },
        {
          "output_type": "stream",
          "name": "stdout",
          "text": [
            "Validation Loss: 1.503 | Validation Accuracy: 7.607\n",
            "Epoch 011: Train Loss: 0.48370 | Val Loss: 1.50300\n",
            "Train Acc: 80.897 | Val Acc: 44.730\n",
            "\n",
            "Epoch$ : 12\n"
          ]
        },
        {
          "output_type": "stream",
          "name": "stderr",
          "text": [
            "100%|██████████| 368/368 [03:29<00:00,  1.76it/s]"
          ]
        },
        {
          "output_type": "stream",
          "name": "stdout",
          "text": [
            "Train Loss: 0.441 | Train Accuracy: 82.787\n"
          ]
        },
        {
          "output_type": "stream",
          "name": "stderr",
          "text": [
            "\n"
          ]
        },
        {
          "output_type": "stream",
          "name": "stdout",
          "text": [
            "Validation Loss: 1.575 | Validation Accuracy: 7.634\n",
            "Epoch 012: Train Loss: 0.44135 | Val Loss: 1.57520\n",
            "Train Acc: 82.832 | Val Acc: 44.877\n",
            "\n",
            "Epoch$ : 13\n"
          ]
        },
        {
          "output_type": "stream",
          "name": "stderr",
          "text": [
            "100%|██████████| 368/368 [03:29<00:00,  1.76it/s]"
          ]
        },
        {
          "output_type": "stream",
          "name": "stdout",
          "text": [
            "Train Loss: 0.402 | Train Accuracy: 84.695\n"
          ]
        },
        {
          "output_type": "stream",
          "name": "stderr",
          "text": [
            "\n"
          ]
        },
        {
          "output_type": "stream",
          "name": "stdout",
          "text": [
            "Validation Loss: 1.555 | Validation Accuracy: 8.731\n",
            "Epoch 013: Train Loss: 0.40176 | Val Loss: 1.55471\n",
            "Train Acc: 84.755 | Val Acc: 51.292\n",
            "\n",
            "Epoch$ : 14\n"
          ]
        },
        {
          "output_type": "stream",
          "name": "stderr",
          "text": [
            "100%|██████████| 368/368 [03:29<00:00,  1.76it/s]"
          ]
        },
        {
          "output_type": "stream",
          "name": "stdout",
          "text": [
            "Train Loss: 0.361 | Train Accuracy: 86.492\n"
          ]
        },
        {
          "output_type": "stream",
          "name": "stderr",
          "text": [
            "\n"
          ]
        },
        {
          "output_type": "stream",
          "name": "stdout",
          "text": [
            "Validation Loss: 1.750 | Validation Accuracy: 7.842\n",
            "Epoch 014: Train Loss: 0.36119 | Val Loss: 1.75017\n",
            "Train Acc: 86.568 | Val Acc: 46.094\n",
            "\n",
            "Epoch$ : 15\n"
          ]
        },
        {
          "output_type": "stream",
          "name": "stderr",
          "text": [
            "100%|██████████| 368/368 [03:29<00:00,  1.76it/s]"
          ]
        },
        {
          "output_type": "stream",
          "name": "stdout",
          "text": [
            "Train Loss: 0.322 | Train Accuracy: 88.209\n"
          ]
        },
        {
          "output_type": "stream",
          "name": "stderr",
          "text": [
            "\n"
          ]
        },
        {
          "output_type": "stream",
          "name": "stdout",
          "text": [
            "Validation Loss: 2.005 | Validation Accuracy: 7.333\n",
            "Epoch 015: Train Loss: 0.32169 | Val Loss: 2.00457\n",
            "Train Acc: 88.291 | Val Acc: 43.123\n",
            "\n",
            "Epoch$ : 16\n"
          ]
        },
        {
          "output_type": "stream",
          "name": "stderr",
          "text": [
            "100%|██████████| 368/368 [03:29<00:00,  1.76it/s]"
          ]
        },
        {
          "output_type": "stream",
          "name": "stdout",
          "text": [
            "Train Loss: 0.288 | Train Accuracy: 89.747\n"
          ]
        },
        {
          "output_type": "stream",
          "name": "stderr",
          "text": [
            "\n"
          ]
        },
        {
          "output_type": "stream",
          "name": "stdout",
          "text": [
            "Validation Loss: 2.039 | Validation Accuracy: 7.601\n",
            "Epoch 016: Train Loss: 0.28821 | Val Loss: 2.03878\n",
            "Train Acc: 89.802 | Val Acc: 44.679\n",
            "\n",
            "Epoch$ : 17\n"
          ]
        },
        {
          "output_type": "stream",
          "name": "stderr",
          "text": [
            "100%|██████████| 368/368 [03:29<00:00,  1.75it/s]"
          ]
        },
        {
          "output_type": "stream",
          "name": "stdout",
          "text": [
            "Train Loss: 0.266 | Train Accuracy: 90.571\n"
          ]
        },
        {
          "output_type": "stream",
          "name": "stderr",
          "text": [
            "\n"
          ]
        },
        {
          "output_type": "stream",
          "name": "stdout",
          "text": [
            "Validation Loss: 2.426 | Validation Accuracy: 6.818\n",
            "Epoch 017: Train Loss: 0.26573 | Val Loss: 2.42622\n",
            "Train Acc: 90.620 | Val Acc: 40.079\n",
            "\n",
            "Epoch$ : 18\n"
          ]
        },
        {
          "output_type": "stream",
          "name": "stderr",
          "text": [
            "100%|██████████| 368/368 [03:29<00:00,  1.76it/s]"
          ]
        },
        {
          "output_type": "stream",
          "name": "stdout",
          "text": [
            "Train Loss: 0.242 | Train Accuracy: 91.332\n"
          ]
        },
        {
          "output_type": "stream",
          "name": "stderr",
          "text": [
            "\n"
          ]
        },
        {
          "output_type": "stream",
          "name": "stdout",
          "text": [
            "Validation Loss: 2.451 | Validation Accuracy: 7.373\n",
            "Epoch 018: Train Loss: 0.24212 | Val Loss: 2.45140\n",
            "Train Acc: 91.356 | Val Acc: 43.333\n",
            "\n",
            "Epoch$ : 19\n"
          ]
        },
        {
          "output_type": "stream",
          "name": "stderr",
          "text": [
            "100%|██████████| 368/368 [03:29<00:00,  1.75it/s]"
          ]
        },
        {
          "output_type": "stream",
          "name": "stdout",
          "text": [
            "Train Loss: 0.201 | Train Accuracy: 93.219\n"
          ]
        },
        {
          "output_type": "stream",
          "name": "stderr",
          "text": [
            "\n"
          ]
        },
        {
          "output_type": "stream",
          "name": "stdout",
          "text": [
            "Validation Loss: 2.242 | Validation Accuracy: 7.594\n",
            "Epoch 019: Train Loss: 0.20073 | Val Loss: 2.24185\n",
            "Train Acc: 93.223 | Val Acc: 44.651\n",
            "\n",
            "Epoch$ : 20\n"
          ]
        },
        {
          "output_type": "stream",
          "name": "stderr",
          "text": [
            "100%|██████████| 368/368 [03:29<00:00,  1.76it/s]"
          ]
        },
        {
          "output_type": "stream",
          "name": "stdout",
          "text": [
            "Train Loss: 0.168 | Train Accuracy: 94.468\n"
          ]
        },
        {
          "output_type": "stream",
          "name": "stderr",
          "text": [
            "\n"
          ]
        },
        {
          "output_type": "stream",
          "name": "stdout",
          "text": [
            "Validation Loss: 2.830 | Validation Accuracy: 7.126\n",
            "Epoch 020: Train Loss: 0.16839 | Val Loss: 2.83048\n",
            "Train Acc: 94.424 | Val Acc: 41.947\n"
          ]
        }
      ]
    },
    {
      "cell_type": "markdown",
      "metadata": {
        "id": "rHUjtLim2mdN"
      },
      "source": [
        "# Visualize the Training and Validation\n"
      ]
    },
    {
      "cell_type": "code",
      "metadata": {
        "colab": {
          "base_uri": "https://localhost:8080/",
          "height": 475
        },
        "id": "wv3SoFHj2ssM",
        "outputId": "ef841071-a4dd-4fe0-9421-cfce644845e5"
      },
      "source": [
        "# Create dataframes\n",
        "train_val_acc_df = pd.DataFrame.from_dict(accuracy_stats).reset_index().melt(id_vars=['index']).rename(columns={\"index\":\"epochs\"})\n",
        "train_val_loss_df = pd.DataFrame.from_dict(loss_stats).reset_index().melt(id_vars=['index']).rename(columns={\"index\":\"epochs\"})\n",
        "train_val_acc_df.to_csv('/content/gdrive/MyDrive/Colab Notebooks/acc_loss/acc.csv', index = False)\n",
        "train_val_loss_df.to_csv('/content/gdrive/MyDrive/Colab Notebooks/acc_loss/loss.csv', index = False)\n",
        "# Plot the dataframes\n",
        "fig, axes = plt.subplots(nrows=1, ncols=2, figsize=(20,7))\n",
        "sns.lineplot(data=train_val_acc_df, x = \"epochs\", y=\"value\", hue=\"variable\",  ax=axes[0]).set_title('Train-Val Accuracy/Epoch')\n",
        "sns.lineplot(data=train_val_loss_df, x = \"epochs\", y=\"value\", hue=\"variable\", ax=axes[1]).set_title('Train-Val Loss/Epoch')"
      ],
      "execution_count": 8,
      "outputs": [
        {
          "output_type": "execute_result",
          "data": {
            "text/plain": [
              "Text(0.5, 1.0, 'Train-Val Loss/Epoch')"
            ]
          },
          "metadata": {},
          "execution_count": 8
        },
        {
          "output_type": "display_data",
          "data": {
            "image/png": "[encoded data removed]",
            "text/plain": [
              "<Figure size 1440x504 with 2 Axes>"
            ]
          },
          "metadata": {
            "needs_background": "light"
          }
        }
      ]
    },
    {
      "cell_type": "markdown",
      "metadata": {
        "id": "ITYjyxcK2a9P"
      },
      "source": [
        "# Evaluate the model using Test Set"
      ]
    },
    {
      "cell_type": "code",
      "metadata": {
        "id": "xdzh8eja2abl"
      },
      "source": [
        "all_pred = []\n",
        "all_preds = torch.tensor([])\n",
        "y_test = torch.tensor([])\n",
        "with torch.set_grad_enabled(False):\n",
        "  model.eval()\n",
        "  for x_test_batch, y_test_batch in test_loader:\n",
        "    x_test_batch = x_test_batch.to(float).to(device)\n",
        "    y_test_pred = model(x_test_batch)\n",
        "    _, y_pred_probs = torch.max(y_test_pred, dim = 1)\n",
        "    all_pred.append(y_pred_probs.cpu().numpy())\n",
        "    all_preds = torch.cat((all_preds.cpu(), y_pred_probs.cpu()),dim = 0)\n",
        "    y_test = torch.cat((y_test, y_test_batch), dim = 0) \n",
        "\n",
        "#all_preds = [a.squeeze().tolist() for a in all_preds]"
      ],
      "execution_count": 12,
      "outputs": []
    },
    {
      "cell_type": "markdown",
      "metadata": {
        "id": "c4OOWwEWrW2-"
      },
      "source": [
        "## Create Confusion Matrix"
      ]
    },
    {
      "cell_type": "code",
      "metadata": {
        "colab": {
          "base_uri": "https://localhost:8080/",
          "height": 279
        },
        "id": "4p5AR_Ecifn9",
        "outputId": "ed5d7ea7-2456-4a7a-f598-a4d8962f1729"
      },
      "source": [
        "confusion_matrix_df = pd.DataFrame(confusion_matrix(y_test, all_pred))#.rename(columns=idx2class, index=idx2class)\n",
        "sns.heatmap(confusion_matrix_df, annot=True, fmt=\".2f\", cmap='BuGn')\n",
        "plt.xlabel(\"prediction\")\n",
        "plt.ylabel(\"label (ground truth)\")\n",
        "plt.show()"
      ],
      "execution_count": 13,
      "outputs": [
        {
          "output_type": "display_data",
          "data": {
            "image/png": "[encoded data removed]",
            "text/plain": [
              "<Figure size 432x288 with 2 Axes>"
            ]
          },
          "metadata": {
            "needs_background": "light"
          }
        }
      ]
    },
    {
      "cell_type": "code",
      "metadata": {
        "colab": {
          "base_uri": "https://localhost:8080/"
        },
        "id": "sqFocqbleiaR",
        "outputId": "155c52f4-7c9c-4116-b6de-d3228b1a9126"
      },
      "source": [
        "\"\"\"def conf_matrix(model, loader):\n",
        "  model.eval()\n",
        "  all_preds = torch.tensor([])\n",
        "  with torch.set_grad_enabled(False):\n",
        "    for batch in loader:\n",
        "      x_test, y_test = batch\n",
        "      x_test = x_test.to(float).to(device)\n",
        "      y_test = y_test.to(float).to(device)\n",
        "      preds = model(x_test)\n",
        "      # concatenates all predictions per batch into one list\n",
        "      all_preds = torch.cat((all_preds.cpu(), preds.cpu()),dim = 0) \n",
        "  \n",
        "  print(all_preds.size())\n",
        "  print(y_test_tensor.size())\n",
        "  print(y_test.size())\n",
        "  print(y_train_tensor.size())\n",
        "  return all_preds\"\"\"\n",
        "\n",
        "\n",
        "\n",
        "\n",
        "\n",
        "\n",
        "def plot_conf_matrix(matrix, class_names, session):\n",
        "  df_cm = pd.DataFrame(matrix, class_names, class_names) #matrix.numpy()\n",
        "  df_cm.to_csv(\"/content/gdrive/MyDrive/Colab Notebooks/model_charts/conf_matrix_{}\".format(session))\n",
        "  plt.figure(figsize = (9,6))\n",
        "  sns.heatmap(df_cm, annot=True, fmt=\".2f\", cmap='BuGn')\n",
        "  plt.xlabel(\"prediction\")\n",
        "  plt.ylabel(\"label (ground truth)\")\n",
        "  plt.show()\n",
        "\n",
        "\n",
        "\n",
        "\n",
        "\n",
        "\n",
        "from sklearn.metrics import classification_report, confusion_matrix\n",
        "#all_pred = conf_matrix(model, train_loader)\n",
        "#confmat = ConfusionMatrix(num_classes = 3)\n",
        "#cmtx = confmat(y_train_tensor.cpu().numpy(), all_preds)\n",
        "#cmtx = confmat(y_test, all_pred)\n",
        "class_names = [\"Possible Dementia\", \"Likely Dementia\", \"No Dementia\"]\n",
        "class_vals = [0,1,2]\n",
        "#plot_conf_matrix(cmtx, class_names, 2)\n",
        "print(classification_report(y_test, all_pred, class_vals))\n",
        "#print(classification_report(y_train_tensor.numpy(), all_preds, class_vals))\n",
        "#print(classification_report(y_train_tensor, all_pred.argmax(axis=1), class_vals))"
      ],
      "execution_count": 14,
      "outputs": [
        {
          "output_type": "stream",
          "name": "stdout",
          "text": [
            "              precision    recall  f1-score   support\n",
            "\n",
            "           0       0.24      0.49      0.32       589\n",
            "           1       0.09      0.17      0.11       224\n",
            "           2       0.67      0.35      0.46      1728\n",
            "\n",
            "    accuracy                           0.36      2541\n",
            "   macro avg       0.33      0.34      0.30      2541\n",
            "weighted avg       0.52      0.36      0.39      2541\n",
            "\n"
          ]
        }
      ]
    },
    {
      "cell_type": "markdown",
      "metadata": {
        "id": "qhz6gXGHpcMB"
      },
      "source": [
        "# Plot ROC curve"
      ]
    },
    {
      "cell_type": "code",
      "metadata": {
        "colab": {
          "base_uri": "https://localhost:8080/",
          "height": 514
        },
        "id": "x60-gRpfuydb",
        "outputId": "3eec802c-accf-442f-9ebc-b3b636915a7a"
      },
      "source": [
        "import matplotlib.pyplot as plt \n",
        "from sklearn.preprocessing import LabelBinarizer\n",
        "from sklearn.metrics import roc_curve, auc, roc_auc_score\n",
        "\n",
        "\n",
        "target= [0, 1, 2]\n",
        "\n",
        "# set plot figure size\n",
        "fig, c_ax = plt.subplots(1,1, figsize = (12, 8))\n",
        "\n",
        "# function for scoring roc auc score for multi-class\n",
        "def multiclass_roc_auc_score(y_test1, all_pred1, average=\"macro\"):\n",
        "    lb = LabelBinarizer()\n",
        "    lb.fit(y_test1)\n",
        "    y_test1 = lb.transform(y_test1)\n",
        "    all_pred1 = lb.transform(all_pred1)\n",
        "\n",
        "    for (idx, c_label) in enumerate(target):\n",
        "        fpr, tpr, thresholds = roc_curve(y_test1[:,idx].astype(int), all_pred1[:,idx])\n",
        "        c_ax.plot(fpr, tpr, label = '%s (AUC:%0.2f)'  % (c_label, auc(fpr, tpr)))\n",
        "    c_ax.plot(fpr, fpr, 'b-', label = 'Random Guessing')\n",
        "    return roc_auc_score(y_test1, all_pred1, average=average)\n",
        "\n",
        "\n",
        "print('ROC AUC score:', multiclass_roc_auc_score(y_test, all_pred))\n",
        "\n",
        "c_ax.legend()\n",
        "c_ax.set_xlabel('False Positive Rate')\n",
        "c_ax.set_ylabel('True Positive Rate')\n",
        "plt.show()"
      ],
      "execution_count": 15,
      "outputs": [
        {
          "output_type": "stream",
          "name": "stdout",
          "text": [
            "ROC AUC score: 0.49970949363033507\n"
          ]
        },
        {
          "output_type": "display_data",
          "data": {
            "image/png": "[encoded data removed]",
            "text/plain": [
              "<Figure size 864x576 with 1 Axes>"
            ]
          },
          "metadata": {
            "needs_background": "light"
          }
        }
      ]
    },
    {
      "cell_type": "code",
      "metadata": {
        "colab": {
          "base_uri": "https://localhost:8080/",
          "height": 295
        },
        "id": "P8DS8yc9YMQg",
        "outputId": "34b991a8-9298-4f0b-9cc9-90aa2fcb81ae"
      },
      "source": [
        "# precision recall curve\n",
        "from sklearn.preprocessing import label_binarize\n",
        "\n",
        "# Use label_binarize to be multi-label like settings\n",
        "y = y_test.numpy()\n",
        "Y = label_binarize(y, classes=[0, 1, 2])\n",
        "Y_pred = label_binarize(all_pred, classes=[0, 1, 2])\n",
        "n_classes = Y.shape[1]\n",
        "\n",
        "precision = dict()\n",
        "recall = dict()\n",
        "for i in range(n_classes):\n",
        "    precision[i], recall[i], _ = precision_recall_curve(Y[:, i],\n",
        "                                                        Y_pred[:, i])\n",
        "    plt.plot(recall[i], precision[i], lw=2, label='class {}'.format(i))\n",
        "    \n",
        "plt.xlabel(\"recall\")\n",
        "plt.ylabel(\"precision\")\n",
        "plt.legend(loc=\"best\")\n",
        "plt.title(\"precision vs. recall curve\")\n",
        "plt.show()"
      ],
      "execution_count": 71,
      "outputs": [
        {
          "output_type": "display_data",
          "data": {
            "image/png": "[encoded data removed]",
            "text/plain": [
              "<Figure size 432x288 with 1 Axes>"
            ]
          },
          "metadata": {
            "needs_background": "light"
          }
        }
      ]
    },
    {
      "cell_type": "markdown",
      "metadata": {
        "id": "SKR_i_oebCi2"
      },
      "source": [
        "## Save the GPU CNN Model\n",
        "Also includes loading on GPU"
      ]
    },
    {
      "cell_type": "code",
      "metadata": {
        "id": "jTEwjKcbbAlJ"
      },
      "source": [
        "# Save GPU model\n",
        "model_name = 'model_cnn.91821'\n",
        "PATH = \"/content/gdrive/MyDrive/Colab Notebooks/Models/{}\".format(model_name)\n",
        "torch.save(model.state_dict(), PATH)"
      ],
      "execution_count": 44,
      "outputs": []
    },
    {
      "cell_type": "code",
      "metadata": {
        "id": "wm-xL-D6bcp6"
      },
      "source": [
        "# Load GPU model\n",
        "device = torch.device(\"cuda\")\n",
        "model = TheModelClass(*args, **kwargs)\n",
        "model.load_state_dict(torch.load(PATH))\n",
        "model.to(device)"
      ],
      "execution_count": null,
      "outputs": []
    },
    {
      "cell_type": "code",
      "metadata": {
        "colab": {
          "base_uri": "https://localhost:8080/"
        },
        "id": "xpmo6Db1qVuZ",
        "outputId": "bb2ad1ad-4e16-4caf-aea7-1deaefd24d10"
      },
      "source": [
        "# Calculate a Confusion Matrix of all the data\n",
        "train_preds = get_all_preds(model, train_loader)\n",
        "preds_correct = get_num_correct(train_preds, y_train_tensor)\n",
        "print(\"total correct: \", preds_correct)\n",
        "print(\"Accuracy_p: \", (preds_correct/len(training_data))*100)"
      ],
      "execution_count": null,
      "outputs": [
        {
          "name": "stdout",
          "output_type": "stream",
          "text": [
            "total correct:  27692\n",
            "Accuracy_p:  67.39516658959819\n"
          ]
        }
      ]
    }
  ]
}