{
 "nbformat": 4,
 "nbformat_minor": 0,
 "metadata": {
  "colab": {
   "name": "Loading_Rounds_data.ipynb",
   "provenance": [],
   "collapsed_sections": [],
   "machine_shape": "hm",
   "include_colab_link": true
  },
  "kernelspec": {
   "name": "python3",
   "display_name": "Python 3"
  },
  "language_info": {
   "name": "python"
  },
  "pycharm": {
   "stem_cell": {
    "cell_type": "raw",
    "source": [],
    "metadata": {
     "collapsed": false
    }
   }
  }
 },
 "cells": [
  {
   "cell_type": "markdown",
   "metadata": {
    "id": "view-in-github",
    "colab_type": "text"
   },
   "source": [
    "<a href=\"https://colab.research.google.com/github/ian-byrne/MADSmilestone2/blob/main/Loading/Loading_Rounds_data.ipynb\" target=\"_parent\"><img src=\"https://colab.research.google.com/assets/colab-badge.svg\" alt=\"Open In Colab\"/></a>"
   ]
  },
  {
   "cell_type": "markdown",
   "metadata": {
    "id": "jJv-oziaqOJN"
   },
   "source": [
    "This project is inspired by the AI Crowd Challenge: https://www.aicrowd.com/challenges/addi-alzheimers-detection-challenge\n",
    "\n",
    "Data from NHATs: https://nhats.org/researcher/data-access\n",
    "\n",
    "\n",
    "Meta file crosswalk: https://www.nhats.org/sites/default/files/2021-07/NHATS_R10_Final_Crosswalk_between_Instruments_and_Codebook.pdf\n",
    "\n",
    "User Guide: https://www.nhats.org/sites/default/files/2021-07/NHATS_User_Guide_R10_Final_Release.pdf"
   ]
  },
  {
   "cell_type": "code",
   "metadata": {
    "colab": {
     "base_uri": "https://localhost:8080/"
    },
    "id": "yZvpOMW9m2Uj",
    "outputId": "68e860a4-286e-46ab-8305-fa991a47a9d6"
   },
   "source": [
    "# Clone the entire repo.\n",
    "!git clone -l -s https://github.com/ian-byrne/MADSmilestone2.git\n",
    "\n",
    "# Change directory into cloned repo\n",
    "%cd MADSmilestone2\n",
    "\n",
    "# List repo contents\n",
    "!ls"
   ],
   "execution_count": null,
   "outputs": [
    {
     "output_type": "stream",
     "text": [
      "fatal: destination path 'MADSmilestone2' already exists and is not an empty directory.\n",
      "/content/MADSmilestone2\n",
      "clean_rounds.py\t\t    Labeling\t\t       __pycache__\n",
      "Exploration_Cleaning.ipynb  load_data.py\t       README.md\n",
      "ian_testingground.ipynb     Loading_Rounds_data.ipynb  round_data.csv\n"
     ],
     "name": "stdout"
    }
   ]
  },
  {
   "cell_type": "code",
   "metadata": {
    "id": "FBv7Le5m6dsB"
   },
   "source": [
    "import pandas as pd\n",
    "import numpy as np\n",
    "import load_data as loading\n"
   ],
   "execution_count": null,
   "outputs": []
  },
  {
   "cell_type": "code",
   "metadata": {
    "id": "7zhRZUv98qB1"
   },
   "source": [
    "rounds_df = loading.load_data()\n",
    "rounds_df.to_csv(\"round_data.csv\", index = False)\n",
    "\n",
    "hats_rounds_df = loading.hats_load_data()\n",
    "hats_rounds_df.to_csv(\"hats_round_data.csv\", index = False)"
   ],
   "execution_count": null,
   "outputs": []
  }
 ]
}