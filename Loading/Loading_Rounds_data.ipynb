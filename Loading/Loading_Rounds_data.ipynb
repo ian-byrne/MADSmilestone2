{
 "nbformat": 4,
 "nbformat_minor": 0,
 "metadata": {
  "colab": {
   "name": "Loading_Rounds_data.ipynb",
   "provenance": [],
   "collapsed_sections": [],
   "machine_shape": "hm",
   "include_colab_link": true
  },
  "kernelspec": {
   "name": "python3",
   "display_name": "Python 3"
  },
  "language_info": {
   "name": "python"
  },
  "pycharm": {
   "stem_cell": {
    "cell_type": "raw",
    "source": [],
    "metadata": {
     "collapsed": false
    }
   }
  }
 },
 "cells": [
  {
   "cell_type": "markdown",
   "metadata": {
    "id": "view-in-github",
    "colab_type": "text"
   },
   "source": [
    "<a href=\"https://colab.research.google.com/github/ian-byrne/MADSmilestone2/blob/main/Loading_Rounds_data.ipynb\" target=\"_parent\"><img src=\"https://colab.research.google.com/assets/colab-badge.svg\" alt=\"Open In Colab\"/></a>"
   ]
  },
  {
   "cell_type": "markdown",
   "metadata": {
    "id": "jJv-oziaqOJN"
   },
   "source": [
    "This project is inspired by the AI Crowd Challenge: https://www.aicrowd.com/challenges/addi-alzheimers-detection-challenge\n",
    "\n",
    "Data from NHATs: https://nhats.org/researcher/data-access\n",
    "\n",
    "\n",
    "Meta file crosswalk: https://www.nhats.org/sites/default/files/2021-07/NHATS_R10_Final_Crosswalk_between_Instruments_and_Codebook.pdf\n",
    "\n",
    "User Guide: https://www.nhats.org/sites/default/files/2021-07/NHATS_User_Guide_R10_Final_Release.pdf"
   ]
  },
  {
   "cell_type": "code",
   "metadata": {
    "colab": {
     "base_uri": "https://localhost:8080/"
    },
    "id": "yZvpOMW9m2Uj",
    "outputId": "7c4fc519-cdb6-4e43-8e2b-29a25aa3e8ad"
   },
   "source": [
    "# Clone the entire repo.\n",
    "!git clone -l -s https://github.com/ian-byrne/MADSmilestone2.git\n",
    "\n",
    "# Change directory into cloned repo\n",
    "%cd MADSmilestone2\n",
    "\n",
    "# List repo contents\n",
    "!ls"
   ],
   "execution_count": null,
   "outputs": [
    {
     "output_type": "stream",
     "text": [
      "Cloning into 'MADSmilestone2'...\n",
      "warning: --local is ignored\n",
      "remote: Enumerating objects: 79, done.\u001b[K\n",
      "remote: Counting objects: 100% (79/79), done.\u001b[K\n",
      "remote: Compressing objects: 100% (69/69), done.\u001b[K\n",
      "remote: Total 79 (delta 34), reused 22 (delta 7), pack-reused 0\u001b[K\n",
      "Unpacking objects: 100% (79/79), done.\n",
      "/content/MADSmilestone2\n",
      "clean_rounds.py\t\t    Labeling\t\t       README.md\n",
      "Exploration_Cleaning.ipynb  load_data.py\t       round_data.csv\n",
      "ian_testingground.ipynb     Loading_Rounds_data.ipynb\n"
     ],
     "name": "stdout"
    }
   ]
  },
  {
   "cell_type": "code",
   "metadata": {
    "id": "FBv7Le5m6dsB"
   },
   "source": [
    "import pandas as pd\n",
    "import numpy as np\n",
    "import Loading.load_data as loading\n"
   ],
   "execution_count": null,
   "outputs": []
  },
  {
   "cell_type": "code",
   "metadata": {
    "id": "7zhRZUv98qB1",
    "pycharm": {
     "name": "#%%\n"
    }
   },
   "source": [
    "rounds_df = loading.load_data()\n",
    "rounds_df.to_csv(\"round_data.csv\", index = False)\n"
   ],
   "execution_count": null,
   "outputs": []
  }
 ]
}