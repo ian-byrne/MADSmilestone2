{
  "nbformat": 4,
  "nbformat_minor": 0,
  "metadata": {
    "colab": {
      "name": "Cleaning_labeling.ipynb",
      "provenance": [],
      "authorship_tag": "ABX9TyO3Jp+MNFb/kfdxp6Iz+s33",
      "include_colab_link": true
    },
    "kernelspec": {
      "name": "python3",
      "display_name": "Python 3"
    },
    "language_info": {
      "name": "python"
    }
  },
  "cells": [
    {
      "cell_type": "markdown",
      "metadata": {
        "id": "view-in-github",
        "colab_type": "text"
      },
      "source": [
        "<a href=\"https://colab.research.google.com/github/ian-byrne/MADSmilestone2/blob/main/Labeling/Cleaning_labeling.ipynb\" target=\"_parent\"><img src=\"https://colab.research.google.com/assets/colab-badge.svg\" alt=\"Open In Colab\"/></a>"
      ]
    },
    {
      "cell_type": "code",
      "metadata": {
        "colab": {
          "base_uri": "https://localhost:8080/"
        },
        "id": "zGUytMofhoYc",
        "outputId": "0633ae88-3e7a-431d-a8b6-063fbc1ced8f"
      },
      "source": [
        "# Clone the entire repo.\n",
        "!git clone -l -s https://github.com/ian-byrne/MADSmilestone2.git\n",
        "\n",
        "# Change directory into cloned repo\n",
        "%cd MADSmilestone2\n",
        "\n",
        "# List repo contents\n",
        "!ls"
      ],
      "execution_count": 1,
      "outputs": [
        {
          "output_type": "stream",
          "text": [
            "Cloning into 'MADSmilestone2'...\n",
            "warning: --local is ignored\n",
            "remote: Enumerating objects: 139, done.\u001b[K\n",
            "remote: Counting objects: 100% (139/139), done.\u001b[K\n",
            "remote: Compressing objects: 100% (116/116), done.\u001b[K\n",
            "remote: Total 139 (delta 60), reused 59 (delta 17), pack-reused 0\u001b[K\n",
            "Receiving objects: 100% (139/139), 607.26 KiB | 2.33 MiB/s, done.\n",
            "Resolving deltas: 100% (60/60), done.\n",
            "/content/MADSmilestone2\n",
            "ian_testingground.ipynb  Images.ipynb  Images.py  Labeling  Loading  README.md\n"
          ],
          "name": "stdout"
        }
      ]
    },
    {
      "cell_type": "code",
      "metadata": {
        "id": "6mzXP-69htRa"
      },
      "source": [
        "#!rm -rf /content/MADSmilestone2/MADSmilestone2/MADSmilestone2"
      ],
      "execution_count": null,
      "outputs": []
    },
    {
      "cell_type": "code",
      "metadata": {
        "colab": {
          "base_uri": "https://localhost:8080/",
          "height": 487
        },
        "id": "Oun-rTP7hxaV",
        "outputId": "21b63fc2-05b6-40e2-f8f8-9526ecc7bcbe"
      },
      "source": [
        "import pandas as pd\n",
        "import numpy as np\n",
        "import Labeling.clean_rounds as cr\n",
        "import Labeling.label_data as ld\n",
        "import matplotlib.pyplot as plt\n",
        "\n",
        "\n",
        "\n",
        "# Load Rounds data\n",
        "rounds = pd.read_csv('Loading/round_data.csv')\n",
        "rounds"
      ],
      "execution_count": 3,
      "outputs": [
        {
          "output_type": "execute_result",
          "data": {
            "text/html": [
              "<div>\n",
              "<style scoped>\n",
              "    .dataframe tbody tr th:only-of-type {\n",
              "        vertical-align: middle;\n",
              "    }\n",
              "\n",
              "    .dataframe tbody tr th {\n",
              "        vertical-align: top;\n",
              "    }\n",
              "\n",
              "    .dataframe thead th {\n",
              "        text-align: right;\n",
              "    }\n",
              "</style>\n",
              "<table border=\"1\" class=\"dataframe\">\n",
              "  <thead>\n",
              "    <tr style=\"text-align: right;\">\n",
              "      <th></th>\n",
              "      <th>spid</th>\n",
              "      <th>cg1dclkdraw</th>\n",
              "      <th>hc1disescn9</th>\n",
              "      <th>round</th>\n",
              "    </tr>\n",
              "  </thead>\n",
              "  <tbody>\n",
              "    <tr>\n",
              "      <th>0</th>\n",
              "      <td>10000003.0</td>\n",
              "      <td>3 Mildly distorted depiction of a clock</td>\n",
              "      <td>2 NO</td>\n",
              "      <td>1</td>\n",
              "    </tr>\n",
              "    <tr>\n",
              "      <th>1</th>\n",
              "      <td>10000004.0</td>\n",
              "      <td>3 Mildly distorted depiction of a clock</td>\n",
              "      <td>2 NO</td>\n",
              "      <td>1</td>\n",
              "    </tr>\n",
              "    <tr>\n",
              "      <th>2</th>\n",
              "      <td>10000005.0</td>\n",
              "      <td>3 Mildly distorted depiction of a clock</td>\n",
              "      <td>2 NO</td>\n",
              "      <td>1</td>\n",
              "    </tr>\n",
              "    <tr>\n",
              "      <th>3</th>\n",
              "      <td>10000006.0</td>\n",
              "      <td>4 Reasonably accurate depiction of a clock</td>\n",
              "      <td>2 NO</td>\n",
              "      <td>1</td>\n",
              "    </tr>\n",
              "    <tr>\n",
              "      <th>4</th>\n",
              "      <td>10000007.0</td>\n",
              "      <td>-2 Proxy says cannot ask SP</td>\n",
              "      <td>2 NO</td>\n",
              "      <td>1</td>\n",
              "    </tr>\n",
              "    <tr>\n",
              "      <th>...</th>\n",
              "      <td>...</td>\n",
              "      <td>...</td>\n",
              "      <td>...</td>\n",
              "      <td>...</td>\n",
              "    </tr>\n",
              "    <tr>\n",
              "      <th>25851</th>\n",
              "      <td>10000493.0</td>\n",
              "      <td>-2 Proxy says cannot ask SP</td>\n",
              "      <td>7 PREVIOUSLY REPORTED</td>\n",
              "      <td>4</td>\n",
              "    </tr>\n",
              "    <tr>\n",
              "      <th>25852</th>\n",
              "      <td>10004106.0</td>\n",
              "      <td>4 Reasonably accurate depiction of a clock</td>\n",
              "      <td>2 NO</td>\n",
              "      <td>4</td>\n",
              "    </tr>\n",
              "    <tr>\n",
              "      <th>25853</th>\n",
              "      <td>10007223.0</td>\n",
              "      <td>3 Mildly distorted depiction of a clock</td>\n",
              "      <td>2 NO</td>\n",
              "      <td>4</td>\n",
              "    </tr>\n",
              "    <tr>\n",
              "      <th>25854</th>\n",
              "      <td>10011759.0</td>\n",
              "      <td>-1 Inapplicable</td>\n",
              "      <td>-9 Missing</td>\n",
              "      <td>4</td>\n",
              "    </tr>\n",
              "    <tr>\n",
              "      <th>25855</th>\n",
              "      <td>10011851.0</td>\n",
              "      <td>2 Moderately distorted depection of a clock</td>\n",
              "      <td>2 NO</td>\n",
              "      <td>4</td>\n",
              "    </tr>\n",
              "  </tbody>\n",
              "</table>\n",
              "<p>25856 rows × 4 columns</p>\n",
              "</div>"
            ],
            "text/plain": [
              "             spid  ... round\n",
              "0      10000003.0  ...     1\n",
              "1      10000004.0  ...     1\n",
              "2      10000005.0  ...     1\n",
              "3      10000006.0  ...     1\n",
              "4      10000007.0  ...     1\n",
              "...           ...  ...   ...\n",
              "25851  10000493.0  ...     4\n",
              "25852  10004106.0  ...     4\n",
              "25853  10007223.0  ...     4\n",
              "25854  10011759.0  ...     4\n",
              "25855  10011851.0  ...     4\n",
              "\n",
              "[25856 rows x 4 columns]"
            ]
          },
          "metadata": {},
          "execution_count": 3
        }
      ]
    },
    {
      "cell_type": "markdown",
      "metadata": {
        "id": "1cJwhTQih9Ko"
      },
      "source": [
        "###Check values for columns of interest\n",
        "- we used the user guide to determine which columns are required\n"
      ]
    },
    {
      "cell_type": "code",
      "metadata": {
        "colab": {
          "base_uri": "https://localhost:8080/",
          "height": 561
        },
        "id": "QFvCzHPwh_Ka",
        "outputId": "6d37e606-f497-486c-ddcc-3d46684a2eb3"
      },
      "source": [
        "print(\"Column values for clock scores: \\n\", rounds['cg1dclkdraw'].unique())\n",
        "print(\"\\nHealth score values: \\n\", rounds['hc1disescn9'].unique())\n",
        "print(\"\\nVariable types: \\n\", rounds.dtypes)\n",
        "rounds[rounds['cg1dclkdraw'] == '-1 Inapplicable'].head()"
      ],
      "execution_count": 4,
      "outputs": [
        {
          "output_type": "stream",
          "text": [
            "Column values for clock scores: \n",
            " ['3 Mildly distorted depiction of a clock'\n",
            " '4 Reasonably accurate depiction of a clock'\n",
            " '-2 Proxy says cannot ask SP'\n",
            " '2 Moderately distorted depection of a clock' '-1 Inapplicable'\n",
            " '-7 SP refused to draw clock'\n",
            " '5 Accurate depiction of a clock (circular or square)'\n",
            " '1 Severely distorted depiction of a clock'\n",
            " '-4 SP did not attempt to draw clock' '0 Not recognizable as a clock'\n",
            " '-3 Proxy says can ask SP but SP unable to answer' '-9 Missing']\n",
            "\n",
            "Health score values: \n",
            " [' 2 NO' '-1 Inapplicable' ' 1 YES' '-9 Missing' '-8 DK' '2 NO'\n",
            " '7 PREVIOUSLY REPORTED' '1 YES' '-7 RF']\n",
            "\n",
            "Variable types: \n",
            " spid           float64\n",
            "cg1dclkdraw     object\n",
            "hc1disescn9     object\n",
            "round            int64\n",
            "dtype: object\n"
          ],
          "name": "stdout"
        },
        {
          "output_type": "execute_result",
          "data": {
            "text/html": [
              "<div>\n",
              "<style scoped>\n",
              "    .dataframe tbody tr th:only-of-type {\n",
              "        vertical-align: middle;\n",
              "    }\n",
              "\n",
              "    .dataframe tbody tr th {\n",
              "        vertical-align: top;\n",
              "    }\n",
              "\n",
              "    .dataframe thead th {\n",
              "        text-align: right;\n",
              "    }\n",
              "</style>\n",
              "<table border=\"1\" class=\"dataframe\">\n",
              "  <thead>\n",
              "    <tr style=\"text-align: right;\">\n",
              "      <th></th>\n",
              "      <th>spid</th>\n",
              "      <th>cg1dclkdraw</th>\n",
              "      <th>hc1disescn9</th>\n",
              "      <th>round</th>\n",
              "    </tr>\n",
              "  </thead>\n",
              "  <tbody>\n",
              "    <tr>\n",
              "      <th>6</th>\n",
              "      <td>10000009.0</td>\n",
              "      <td>-1 Inapplicable</td>\n",
              "      <td>-1 Inapplicable</td>\n",
              "      <td>1</td>\n",
              "    </tr>\n",
              "    <tr>\n",
              "      <th>8</th>\n",
              "      <td>10000013.0</td>\n",
              "      <td>-1 Inapplicable</td>\n",
              "      <td>-1 Inapplicable</td>\n",
              "      <td>1</td>\n",
              "    </tr>\n",
              "    <tr>\n",
              "      <th>10</th>\n",
              "      <td>10000015.0</td>\n",
              "      <td>-1 Inapplicable</td>\n",
              "      <td>-1 Inapplicable</td>\n",
              "      <td>1</td>\n",
              "    </tr>\n",
              "    <tr>\n",
              "      <th>33</th>\n",
              "      <td>10000046.0</td>\n",
              "      <td>-1 Inapplicable</td>\n",
              "      <td>-9 Missing</td>\n",
              "      <td>1</td>\n",
              "    </tr>\n",
              "    <tr>\n",
              "      <th>47</th>\n",
              "      <td>10000067.0</td>\n",
              "      <td>-1 Inapplicable</td>\n",
              "      <td>-9 Missing</td>\n",
              "      <td>1</td>\n",
              "    </tr>\n",
              "  </tbody>\n",
              "</table>\n",
              "</div>"
            ],
            "text/plain": [
              "          spid      cg1dclkdraw      hc1disescn9  round\n",
              "6   10000009.0  -1 Inapplicable  -1 Inapplicable      1\n",
              "8   10000013.0  -1 Inapplicable  -1 Inapplicable      1\n",
              "10  10000015.0  -1 Inapplicable  -1 Inapplicable      1\n",
              "33  10000046.0  -1 Inapplicable       -9 Missing      1\n",
              "47  10000067.0  -1 Inapplicable       -9 Missing      1"
            ]
          },
          "metadata": {},
          "execution_count": 4
        }
      ]
    },
    {
      "cell_type": "code",
      "metadata": {
        "colab": {
          "base_uri": "https://localhost:8080/",
          "height": 419
        },
        "id": "muUutFNyiAn6",
        "outputId": "95386123-f89b-4e69-e638-ea558df99738"
      },
      "source": [
        "# Load the cleaned dataframe\n",
        "cleaned_rounds = cr.clean_data(rounds)\n",
        "cleaned_rounds"
      ],
      "execution_count": 5,
      "outputs": [
        {
          "output_type": "execute_result",
          "data": {
            "text/html": [
              "<div>\n",
              "<style scoped>\n",
              "    .dataframe tbody tr th:only-of-type {\n",
              "        vertical-align: middle;\n",
              "    }\n",
              "\n",
              "    .dataframe tbody tr th {\n",
              "        vertical-align: top;\n",
              "    }\n",
              "\n",
              "    .dataframe thead th {\n",
              "        text-align: right;\n",
              "    }\n",
              "</style>\n",
              "<table border=\"1\" class=\"dataframe\">\n",
              "  <thead>\n",
              "    <tr style=\"text-align: right;\">\n",
              "      <th></th>\n",
              "      <th>spid</th>\n",
              "      <th>cg1dclkdraw</th>\n",
              "      <th>hc1disescn9</th>\n",
              "      <th>round</th>\n",
              "    </tr>\n",
              "  </thead>\n",
              "  <tbody>\n",
              "    <tr>\n",
              "      <th>0</th>\n",
              "      <td>10000003</td>\n",
              "      <td>3 Mildly distorted depiction of a clock</td>\n",
              "      <td>2.0</td>\n",
              "      <td>1</td>\n",
              "    </tr>\n",
              "    <tr>\n",
              "      <th>1</th>\n",
              "      <td>10000004</td>\n",
              "      <td>3 Mildly distorted depiction of a clock</td>\n",
              "      <td>2.0</td>\n",
              "      <td>1</td>\n",
              "    </tr>\n",
              "    <tr>\n",
              "      <th>2</th>\n",
              "      <td>10000005</td>\n",
              "      <td>3 Mildly distorted depiction of a clock</td>\n",
              "      <td>2.0</td>\n",
              "      <td>1</td>\n",
              "    </tr>\n",
              "    <tr>\n",
              "      <th>3</th>\n",
              "      <td>10000006</td>\n",
              "      <td>4 Reasonably accurate depiction of a clock</td>\n",
              "      <td>2.0</td>\n",
              "      <td>1</td>\n",
              "    </tr>\n",
              "    <tr>\n",
              "      <th>5</th>\n",
              "      <td>10000008</td>\n",
              "      <td>2 Moderately distorted depection of a clock</td>\n",
              "      <td>2.0</td>\n",
              "      <td>1</td>\n",
              "    </tr>\n",
              "    <tr>\n",
              "      <th>...</th>\n",
              "      <td>...</td>\n",
              "      <td>...</td>\n",
              "      <td>...</td>\n",
              "      <td>...</td>\n",
              "    </tr>\n",
              "    <tr>\n",
              "      <th>25849</th>\n",
              "      <td>10011980</td>\n",
              "      <td>5 Accurate depiction of a clock (circular or s...</td>\n",
              "      <td>2.0</td>\n",
              "      <td>4</td>\n",
              "    </tr>\n",
              "    <tr>\n",
              "      <th>25850</th>\n",
              "      <td>10003785</td>\n",
              "      <td>4 Reasonably accurate depiction of a clock</td>\n",
              "      <td>2.0</td>\n",
              "      <td>4</td>\n",
              "    </tr>\n",
              "    <tr>\n",
              "      <th>25852</th>\n",
              "      <td>10004106</td>\n",
              "      <td>4 Reasonably accurate depiction of a clock</td>\n",
              "      <td>2.0</td>\n",
              "      <td>4</td>\n",
              "    </tr>\n",
              "    <tr>\n",
              "      <th>25853</th>\n",
              "      <td>10007223</td>\n",
              "      <td>3 Mildly distorted depiction of a clock</td>\n",
              "      <td>2.0</td>\n",
              "      <td>4</td>\n",
              "    </tr>\n",
              "    <tr>\n",
              "      <th>25855</th>\n",
              "      <td>10011851</td>\n",
              "      <td>2 Moderately distorted depection of a clock</td>\n",
              "      <td>2.0</td>\n",
              "      <td>4</td>\n",
              "    </tr>\n",
              "  </tbody>\n",
              "</table>\n",
              "<p>20540 rows × 4 columns</p>\n",
              "</div>"
            ],
            "text/plain": [
              "           spid  ... round\n",
              "0      10000003  ...     1\n",
              "1      10000004  ...     1\n",
              "2      10000005  ...     1\n",
              "3      10000006  ...     1\n",
              "5      10000008  ...     1\n",
              "...         ...  ...   ...\n",
              "25849  10011980  ...     4\n",
              "25850  10003785  ...     4\n",
              "25852  10004106  ...     4\n",
              "25853  10007223  ...     4\n",
              "25855  10011851  ...     4\n",
              "\n",
              "[20540 rows x 4 columns]"
            ]
          },
          "metadata": {},
          "execution_count": 5
        }
      ]
    },
    {
      "cell_type": "code",
      "metadata": {
        "colab": {
          "base_uri": "https://localhost:8080/"
        },
        "id": "QoZxMd9yiCvb",
        "outputId": "c8c29716-caf1-4b8d-9262-e199babbd227"
      },
      "source": [
        "#Check that we only have healthscores of 1, 2, 7 and subjects that have drawn clocks\n",
        "print(\"health score check: \\n\",cleaned_rounds.cg1dclkdraw.unique())\n",
        "print(\"\\n clock scores check: \\n\",cleaned_rounds['hc1disescn9'].unique())"
      ],
      "execution_count": 6,
      "outputs": [
        {
          "output_type": "stream",
          "text": [
            "health score check: \n",
            " ['3 Mildly distorted depiction of a clock'\n",
            " '4 Reasonably accurate depiction of a clock'\n",
            " '2 Moderately distorted depection of a clock'\n",
            " '5 Accurate depiction of a clock (circular or square)'\n",
            " '1 Severely distorted depiction of a clock'\n",
            " '0 Not recognizable as a clock']\n",
            "\n",
            " clock scores check: \n",
            " [2. 1. 7.]\n"
          ],
          "name": "stdout"
        }
      ]
    },
    {
      "cell_type": "code",
      "metadata": {
        "colab": {
          "base_uri": "https://localhost:8080/",
          "height": 770
        },
        "id": "hLa7vIiRiFB5",
        "outputId": "b49b2fd7-bcd6-4053-fa14-10fef409370a"
      },
      "source": [
        "# Check balance of dataset\n",
        "a = cleaned_rounds.hc1disescn9.hist() \n",
        "plt.xlabel(\"Health Score\")\n",
        "plt.ylabel(\"Counts\")\n",
        "plt.show(a) \n",
        "\n",
        "\n",
        "b = cleaned_rounds.cg1dclkdraw.hist()\n",
        "b.tick_params(axis='x', labelrotation = 90)\n",
        "plt.ylabel(\"Counts\")\n",
        "plt.show(b)"
      ],
      "execution_count": 7,
      "outputs": [
        {
          "output_type": "display_data",
          "data": {
            "image/png": "[encoded data removed]",
            "text/plain": [
              "<Figure size 432x288 with 1 Axes>"
            ]
          },
          "metadata": {
            "needs_background": "light"
          }
        },
        {
          "output_type": "display_data",
          "data": {
            "image/png": "[encoded data removed]",
            "text/plain": [
              "<Figure size 432x288 with 1 Axes>"
            ]
          },
          "metadata": {
            "needs_background": "light"
          }
        }
      ]
    },
    {
      "cell_type": "markdown",
      "metadata": {
        "id": "q1tASrUkiJHJ"
      },
      "source": [
        "###Create Labels for the rounds data"
      ]
    },
    {
      "cell_type": "code",
      "metadata": {
        "colab": {
          "base_uri": "https://localhost:8080/",
          "height": 419
        },
        "id": "-kLcAS67iGuL",
        "outputId": "d0196814-4881-45c7-b39e-7357208777ed"
      },
      "source": [
        "labeled_data = ld.create_labels(cleaned_rounds)\n",
        "labeled_data"
      ],
      "execution_count": 8,
      "outputs": [
        {
          "output_type": "execute_result",
          "data": {
            "text/html": [
              "<div>\n",
              "<style scoped>\n",
              "    .dataframe tbody tr th:only-of-type {\n",
              "        vertical-align: middle;\n",
              "    }\n",
              "\n",
              "    .dataframe tbody tr th {\n",
              "        vertical-align: top;\n",
              "    }\n",
              "\n",
              "    .dataframe thead th {\n",
              "        text-align: right;\n",
              "    }\n",
              "</style>\n",
              "<table border=\"1\" class=\"dataframe\">\n",
              "  <thead>\n",
              "    <tr style=\"text-align: right;\">\n",
              "      <th></th>\n",
              "      <th>spid</th>\n",
              "      <th>cg1dclkdraw</th>\n",
              "      <th>hc1disescn9</th>\n",
              "      <th>round</th>\n",
              "      <th>label</th>\n",
              "    </tr>\n",
              "  </thead>\n",
              "  <tbody>\n",
              "    <tr>\n",
              "      <th>0</th>\n",
              "      <td>10000003</td>\n",
              "      <td>3 Mildly distorted depiction of a clock</td>\n",
              "      <td>2.0</td>\n",
              "      <td>1</td>\n",
              "      <td>2</td>\n",
              "    </tr>\n",
              "    <tr>\n",
              "      <th>1</th>\n",
              "      <td>10000004</td>\n",
              "      <td>3 Mildly distorted depiction of a clock</td>\n",
              "      <td>2.0</td>\n",
              "      <td>1</td>\n",
              "      <td>2</td>\n",
              "    </tr>\n",
              "    <tr>\n",
              "      <th>2</th>\n",
              "      <td>10000005</td>\n",
              "      <td>3 Mildly distorted depiction of a clock</td>\n",
              "      <td>2.0</td>\n",
              "      <td>1</td>\n",
              "      <td>2</td>\n",
              "    </tr>\n",
              "    <tr>\n",
              "      <th>3</th>\n",
              "      <td>10000006</td>\n",
              "      <td>4 Reasonably accurate depiction of a clock</td>\n",
              "      <td>2.0</td>\n",
              "      <td>1</td>\n",
              "      <td>2</td>\n",
              "    </tr>\n",
              "    <tr>\n",
              "      <th>5</th>\n",
              "      <td>10000008</td>\n",
              "      <td>2 Moderately distorted depection of a clock</td>\n",
              "      <td>2.0</td>\n",
              "      <td>1</td>\n",
              "      <td>2</td>\n",
              "    </tr>\n",
              "    <tr>\n",
              "      <th>...</th>\n",
              "      <td>...</td>\n",
              "      <td>...</td>\n",
              "      <td>...</td>\n",
              "      <td>...</td>\n",
              "      <td>...</td>\n",
              "    </tr>\n",
              "    <tr>\n",
              "      <th>25849</th>\n",
              "      <td>10011980</td>\n",
              "      <td>5 Accurate depiction of a clock (circular or s...</td>\n",
              "      <td>2.0</td>\n",
              "      <td>4</td>\n",
              "      <td>2</td>\n",
              "    </tr>\n",
              "    <tr>\n",
              "      <th>25850</th>\n",
              "      <td>10003785</td>\n",
              "      <td>4 Reasonably accurate depiction of a clock</td>\n",
              "      <td>2.0</td>\n",
              "      <td>4</td>\n",
              "      <td>2</td>\n",
              "    </tr>\n",
              "    <tr>\n",
              "      <th>25852</th>\n",
              "      <td>10004106</td>\n",
              "      <td>4 Reasonably accurate depiction of a clock</td>\n",
              "      <td>2.0</td>\n",
              "      <td>4</td>\n",
              "      <td>2</td>\n",
              "    </tr>\n",
              "    <tr>\n",
              "      <th>25853</th>\n",
              "      <td>10007223</td>\n",
              "      <td>3 Mildly distorted depiction of a clock</td>\n",
              "      <td>2.0</td>\n",
              "      <td>4</td>\n",
              "      <td>2</td>\n",
              "    </tr>\n",
              "    <tr>\n",
              "      <th>25855</th>\n",
              "      <td>10011851</td>\n",
              "      <td>2 Moderately distorted depection of a clock</td>\n",
              "      <td>2.0</td>\n",
              "      <td>4</td>\n",
              "      <td>2</td>\n",
              "    </tr>\n",
              "  </tbody>\n",
              "</table>\n",
              "<p>20540 rows × 5 columns</p>\n",
              "</div>"
            ],
            "text/plain": [
              "           spid  ... label\n",
              "0      10000003  ...     2\n",
              "1      10000004  ...     2\n",
              "2      10000005  ...     2\n",
              "3      10000006  ...     2\n",
              "5      10000008  ...     2\n",
              "...         ...  ...   ...\n",
              "25849  10011980  ...     2\n",
              "25850  10003785  ...     2\n",
              "25852  10004106  ...     2\n",
              "25853  10007223  ...     2\n",
              "25855  10011851  ...     2\n",
              "\n",
              "[20540 rows x 5 columns]"
            ]
          },
          "metadata": {},
          "execution_count": 8
        }
      ]
    },
    {
      "cell_type": "code",
      "metadata": {
        "colab": {
          "base_uri": "https://localhost:8080/",
          "height": 282
        },
        "id": "k3qRf4kniK5_",
        "outputId": "4d86b32e-f887-4482-d676-a2c43e571951"
      },
      "source": [
        "# Look at distribution of labels\n",
        "labeled_data.label.hist() "
      ],
      "execution_count": 9,
      "outputs": [
        {
          "output_type": "execute_result",
          "data": {
            "text/plain": [
              "<matplotlib.axes._subplots.AxesSubplot at 0x7fd0802eda10>"
            ]
          },
          "metadata": {},
          "execution_count": 9
        },
        {
          "output_type": "display_data",
          "data": {
            "image/png": "[encoded data removed]",
            "text/plain": [
              "<Figure size 432x288 with 1 Axes>"
            ]
          },
          "metadata": {
            "needs_background": "light"
          }
        }
      ]
    },
    {
      "cell_type": "markdown",
      "metadata": {
        "id": "DEp2V5xyiPce"
      },
      "source": [
        "### Get Individual participant IDs per round\n",
        "- useful for pulling in exact images per round\n",
        "- create text file to store dictionary"
      ]
    },
    {
      "cell_type": "code",
      "metadata": {
        "colab": {
          "base_uri": "https://localhost:8080/"
        },
        "id": "LPeCooHQiM_k",
        "outputId": "061cde75-319f-413f-ba6e-681f0837d7ac"
      },
      "source": [
        "ids = ld.get_ids(labeled_data)\n",
        "ids[1]['10000003'] "
      ],
      "execution_count": 12,
      "outputs": [
        {
          "output_type": "execute_result",
          "data": {
            "text/plain": [
              "2"
            ]
          },
          "metadata": {},
          "execution_count": 12
        }
      ]
    },
    {
      "cell_type": "code",
      "metadata": {
        "id": "rz84zNjIiRpw"
      },
      "source": [
        ""
      ],
      "execution_count": null,
      "outputs": []
    }
  ]
}