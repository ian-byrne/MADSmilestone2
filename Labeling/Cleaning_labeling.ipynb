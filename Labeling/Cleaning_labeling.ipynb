{
  "nbformat": 4,
  "nbformat_minor": 0,
  "metadata": {
    "colab": {
      "name": "Cleaning_labeling.ipynb",
      "provenance": [],
      "collapsed_sections": [],
      "authorship_tag": "ABX9TyOBkTlTjmbankzi9JBfVUK0",
      "include_colab_link": true
    },
    "kernelspec": {
      "name": "python3",
      "display_name": "Python 3"
    },
    "language_info": {
      "name": "python"
    }
  },
  "cells": [
    {
      "cell_type": "markdown",
      "metadata": {
        "id": "view-in-github",
        "colab_type": "text"
      },
      "source": [
        "<a href=\"https://colab.research.google.com/github/ian-byrne/MADSmilestone2/blob/main/Labeling/Cleaning_labeling.ipynb\" target=\"_parent\"><img src=\"https://colab.research.google.com/assets/colab-badge.svg\" alt=\"Open In Colab\"/></a>"
      ]
    },
    {
      "cell_type": "markdown",
      "metadata": {
        "id": "DqglY6Rux9co"
      },
      "source": [
        "# Exploring, Cleaning and Labeling the data\n",
        "### Stacey Beck and Ian Byrne\n",
        "\n",
        "<br><br/>\n",
        "\n",
        "##### **AI Crowd Labeling Method**\n",
        "\n",
        "We received inspiration from the AI Crowd's Alzheimer's Clock Challenge and reached out to their data team inquiring about labeling the clock images for that challenge. Ankit < insert last name > explained that they use the values in the variable 'hc1disescn9' to help label the images. The variable 'hc1disescn9' contains values that indicate whether someone has dementia/Alzheimer's or not. A response of '1 YES' indicates that they have a confirmed diagnosis of Alzheimer's or Dementia and '2 NO' indicates no diagnosis has been given. A value of '7' indicates that a response of '1 YES' has already been recorded in a previous round. AI Crowd labeled each image as either:\n",
        "  - 0 - Pre-Alzheimers\n",
        "  - 1 - Post-Alzheimers \n",
        "  - 2 - Normal\n",
        "\n",
        "If a subject reports '1 YES' in the variable 'hc1disescn9' in a later round, all the previous rounds receive the label '0 - Pre-Alzheimers'. All 'hc1disescn9' reports of '1 YES' and '7' receive the label '1 - Post-Alzheimers' for the current and subsequent rounds.  All else receive the label '2 - Normal.' \n",
        "\n",
        "We provide code to produce labels using this algorithm. \n",
        "\n",
        " \n",
        "<br><br/>\n",
        " \n",
        "##### **NHATs Study Criteria used to help make Labels**\n",
        "\n",
        "In addition, we also feel that this way of labeling can lead to false negatives in terms of whether someone might have dementia/Alzheimer's disease. There may be participants whose diagnosis has gone undetected by medical professionals and who are able to complete the NHATs survey, thus leading to a label of '2 - Normal' for their drawings. \n",
        "\n",
        "In order to provide a potentially more robust set of label parameters, we will also implement a label strategy that mimicks the NHAT study found in this report. https://www.nhats.org/sites/default/files/inline-files/DementiaTechnicalPaperJuly_2_4_2013_10_23_15.pdf (page 2)\n",
        "\n",
        "\n",
        "We will use these specific labels to identify if someone has:\n",
        "- 0 - 'Possible Dementia'\n",
        "- 1 - 'Probable Dementia' (Likely Dementia)\n",
        "- 2 - 'No Dementia' \n",
        "\n",
        "**Variables used to help classify '0' for \"Possible Dementia\":**\n",
        "- One cognitive test score with cut off <= 1.5 SD below the mean. \n",
        "\n",
        "**Variables used to help classify '1' for 'Probable Dementia' include:**\n",
        "-  'hc1disescn9' for diagnosis ('1 YES', '2 NO', '7') and if this is not provided we will look at:\n",
        "  - 'cp1dad8dem' which provides a diagnosing like score through the use of a proxy. \n",
        "- Two cognitive test scores with cut offs <= 1.5 SD below the mean. \n",
        "\n",
        "\n",
        "**All else will be labeled as '2' for 'No Dementia.\"**\n",
        "\n",
        "<br><br/>\n",
        "The cognitive tests are based in three domains:\n",
        "- ***Orientation*** \n",
        "    - President and VP First and Last names: **'cg1presidna1', 'cg1presidna3', 'cg1vpname1', 'cg1vpname3'**\n",
        "    - Date, Month, Year, Day of the Week: **'cg1todaydat1' (Month), 'cg1todaydat2' (Day), 'cg1todaydat3' (Year), 'cg1todaydat4' (Day of the Week)**\n",
        "    - Each correct answer gets a point; Total points out of 8.\n",
        "    - Score cut point for <= 1.5 SD below the mean is <= 3 across all variables\n",
        "- ***Memory*** \n",
        "    - Delayed Word Recall: **'cg1dwrdimmrc' (total Score)**\n",
        "    - Immediate Word Recall: **'cg1dwrddlyrc' (total Score)** \n",
        "    - Total points out of 20\n",
        "    - Score cut off is <= 3 across all variables\n",
        "- ***Executive Functioning*** \n",
        "    - Clock Drawing Battery: **'cg1dclkdraw'**\n",
        "    - Total points out of 5\n",
        "    - Score cut off is <= 1 \n",
        "\n",
        "\n",
        "***Each variable is used for all 9 years of this study and change only by the number value located within the variable name.***\n"
      ]
    },
    {
      "cell_type": "code",
      "metadata": {
        "colab": {
          "base_uri": "https://localhost:8080/"
        },
        "id": "zGUytMofhoYc",
        "outputId": "fb8c8b8d-4944-4e60-a4e8-67ecbc1a9555"
      },
      "source": [
        "# Clone the entire repo.\n",
        "!git clone -l -s https://github.com/ian-byrne/MADSmilestone2.git\n",
        "\n",
        "# Change directory into cloned repo\n",
        "%cd MADSmilestone2\n",
        "\n",
        "# List repo contents\n",
        "!ls"
      ],
      "execution_count": 1,
      "outputs": [
        {
          "output_type": "stream",
          "name": "stdout",
          "text": [
            "Cloning into 'MADSmilestone2'...\n",
            "warning: --local is ignored\n",
            "remote: Enumerating objects: 257, done.\u001b[K\n",
            "remote: Counting objects: 100% (257/257), done.\u001b[K\n",
            "remote: Compressing objects: 100% (214/214), done.\u001b[K\n",
            "remote: Total 257 (delta 129), reused 102 (delta 37), pack-reused 0\u001b[K\n",
            "Receiving objects: 100% (257/257), 1.76 MiB | 5.01 MiB/s, done.\n",
            "Resolving deltas: 100% (129/129), done.\n",
            "/content/MADSmilestone2\n",
            "ian_testingground.ipynb  Images.py  Loading    Supervised_CNN.ipynb\n",
            "Images.ipynb\t\t Labeling   README.md\n"
          ]
        }
      ]
    },
    {
      "cell_type": "code",
      "metadata": {
        "id": "6mzXP-69htRa"
      },
      "source": [
        "#!rm -rf /content/MADSmilestone2"
      ],
      "execution_count": 16,
      "outputs": []
    },
    {
      "cell_type": "markdown",
      "metadata": {
        "id": "idWgB3oM5Elz"
      },
      "source": [
        "### AI Crowd Labeling Strategy\n",
        "\n",
        "---\n",
        "\n"
      ]
    },
    {
      "cell_type": "code",
      "metadata": {
        "colab": {
          "base_uri": "https://localhost:8080/",
          "height": 419
        },
        "id": "Oun-rTP7hxaV",
        "outputId": "487e09e9-c70e-46fb-ee23-77d524aaebbd"
      },
      "source": [
        "import pandas as pd\n",
        "import numpy as np\n",
        "import Labeling.clean_rounds as cr\n",
        "import Labeling.label_data as ld\n",
        "import matplotlib.pyplot as plt\n",
        "\n",
        "\n",
        "\n",
        "# Load Rounds data\n",
        "rounds = pd.read_csv('Loading/round_data.csv')\n",
        "rounds"
      ],
      "execution_count": 2,
      "outputs": [
        {
          "output_type": "execute_result",
          "data": {
            "text/html": [
              "<div>\n",
              "<style scoped>\n",
              "    .dataframe tbody tr th:only-of-type {\n",
              "        vertical-align: middle;\n",
              "    }\n",
              "\n",
              "    .dataframe tbody tr th {\n",
              "        vertical-align: top;\n",
              "    }\n",
              "\n",
              "    .dataframe thead th {\n",
              "        text-align: right;\n",
              "    }\n",
              "</style>\n",
              "<table border=\"1\" class=\"dataframe\">\n",
              "  <thead>\n",
              "    <tr style=\"text-align: right;\">\n",
              "      <th></th>\n",
              "      <th>spid</th>\n",
              "      <th>cg1dclkdraw</th>\n",
              "      <th>hc1disescn9</th>\n",
              "      <th>round</th>\n",
              "    </tr>\n",
              "  </thead>\n",
              "  <tbody>\n",
              "    <tr>\n",
              "      <th>0</th>\n",
              "      <td>10000003.0</td>\n",
              "      <td>3 Mildly distorted depiction of a clock</td>\n",
              "      <td>2 NO</td>\n",
              "      <td>1</td>\n",
              "    </tr>\n",
              "    <tr>\n",
              "      <th>1</th>\n",
              "      <td>10000004.0</td>\n",
              "      <td>3 Mildly distorted depiction of a clock</td>\n",
              "      <td>2 NO</td>\n",
              "      <td>1</td>\n",
              "    </tr>\n",
              "    <tr>\n",
              "      <th>2</th>\n",
              "      <td>10000005.0</td>\n",
              "      <td>3 Mildly distorted depiction of a clock</td>\n",
              "      <td>2 NO</td>\n",
              "      <td>1</td>\n",
              "    </tr>\n",
              "    <tr>\n",
              "      <th>3</th>\n",
              "      <td>10000006.0</td>\n",
              "      <td>4 Reasonably accurate depiction of a clock</td>\n",
              "      <td>2 NO</td>\n",
              "      <td>1</td>\n",
              "    </tr>\n",
              "    <tr>\n",
              "      <th>4</th>\n",
              "      <td>10000007.0</td>\n",
              "      <td>-2 Proxy says cannot ask SP</td>\n",
              "      <td>2 NO</td>\n",
              "      <td>1</td>\n",
              "    </tr>\n",
              "    <tr>\n",
              "      <th>...</th>\n",
              "      <td>...</td>\n",
              "      <td>...</td>\n",
              "      <td>...</td>\n",
              "      <td>...</td>\n",
              "    </tr>\n",
              "    <tr>\n",
              "      <th>62686</th>\n",
              "      <td>20007109.0</td>\n",
              "      <td>4 Reasonably accurate depiction of a clock</td>\n",
              "      <td>7 PREVIOUSLY REPORTED</td>\n",
              "      <td>10</td>\n",
              "    </tr>\n",
              "    <tr>\n",
              "      <th>62687</th>\n",
              "      <td>20007110.0</td>\n",
              "      <td>5 Accurate depiction of a clock (circular or s...</td>\n",
              "      <td>2 NO</td>\n",
              "      <td>10</td>\n",
              "    </tr>\n",
              "    <tr>\n",
              "      <th>62688</th>\n",
              "      <td>20007111.0</td>\n",
              "      <td>5 Accurate depiction of a clock (circular or s...</td>\n",
              "      <td>2 NO</td>\n",
              "      <td>10</td>\n",
              "    </tr>\n",
              "    <tr>\n",
              "      <th>62689</th>\n",
              "      <td>20007112.0</td>\n",
              "      <td>5 Accurate depiction of a clock (circular or s...</td>\n",
              "      <td>2 NO</td>\n",
              "      <td>10</td>\n",
              "    </tr>\n",
              "    <tr>\n",
              "      <th>62690</th>\n",
              "      <td>20007114.0</td>\n",
              "      <td>3 Mildly distorted depiction of a clock</td>\n",
              "      <td>2 NO</td>\n",
              "      <td>10</td>\n",
              "    </tr>\n",
              "  </tbody>\n",
              "</table>\n",
              "<p>62691 rows × 4 columns</p>\n",
              "</div>"
            ],
            "text/plain": [
              "             spid  ... round\n",
              "0      10000003.0  ...     1\n",
              "1      10000004.0  ...     1\n",
              "2      10000005.0  ...     1\n",
              "3      10000006.0  ...     1\n",
              "4      10000007.0  ...     1\n",
              "...           ...  ...   ...\n",
              "62686  20007109.0  ...    10\n",
              "62687  20007110.0  ...    10\n",
              "62688  20007111.0  ...    10\n",
              "62689  20007112.0  ...    10\n",
              "62690  20007114.0  ...    10\n",
              "\n",
              "[62691 rows x 4 columns]"
            ]
          },
          "metadata": {},
          "execution_count": 2
        }
      ]
    },
    {
      "cell_type": "markdown",
      "metadata": {
        "id": "1cJwhTQih9Ko"
      },
      "source": [
        "###Check values for columns of interest\n",
        "- we used the user guide to determine which columns are required\n"
      ]
    },
    {
      "cell_type": "code",
      "metadata": {
        "colab": {
          "base_uri": "https://localhost:8080/",
          "height": 578
        },
        "id": "QFvCzHPwh_Ka",
        "outputId": "69b33ae4-a6a6-43a5-86cc-da3798fc7f11"
      },
      "source": [
        "print(\"Column values for clock scores: \\n\", rounds['cg1dclkdraw'].unique())\n",
        "print(\"\\nHealth score values: \\n\", rounds['hc1disescn9'].unique())\n",
        "print(\"\\nVariable types: \\n\", rounds.dtypes)\n",
        "rounds[rounds['cg1dclkdraw'] == '-1 Inapplicable'].head()"
      ],
      "execution_count": 3,
      "outputs": [
        {
          "output_type": "stream",
          "name": "stdout",
          "text": [
            "Column values for clock scores: \n",
            " ['3 Mildly distorted depiction of a clock'\n",
            " '4 Reasonably accurate depiction of a clock'\n",
            " '-2 Proxy says cannot ask SP'\n",
            " '2 Moderately distorted depection of a clock' '-1 Inapplicable'\n",
            " '-7 SP refused to draw clock'\n",
            " '5 Accurate depiction of a clock (circular or square)'\n",
            " '1 Severely distorted depiction of a clock'\n",
            " '-4 SP did not attempt to draw clock' '0 Not recognizable as a clock'\n",
            " '-3 Proxy says can ask SP but SP unable to answer' '-9 Missing'\n",
            " '2 Moderately distorted depiction of a clock']\n",
            "\n",
            "Health score values: \n",
            " [' 2 NO' '-1 Inapplicable' ' 1 YES' '-9 Missing' '-8 DK' '2 NO'\n",
            " '7 PREVIOUSLY REPORTED' '1 YES' '-7 RF']\n",
            "\n",
            "Variable types: \n",
            " spid           float64\n",
            "cg1dclkdraw     object\n",
            "hc1disescn9     object\n",
            "round            int64\n",
            "dtype: object\n"
          ]
        },
        {
          "output_type": "execute_result",
          "data": {
            "text/html": [
              "<div>\n",
              "<style scoped>\n",
              "    .dataframe tbody tr th:only-of-type {\n",
              "        vertical-align: middle;\n",
              "    }\n",
              "\n",
              "    .dataframe tbody tr th {\n",
              "        vertical-align: top;\n",
              "    }\n",
              "\n",
              "    .dataframe thead th {\n",
              "        text-align: right;\n",
              "    }\n",
              "</style>\n",
              "<table border=\"1\" class=\"dataframe\">\n",
              "  <thead>\n",
              "    <tr style=\"text-align: right;\">\n",
              "      <th></th>\n",
              "      <th>spid</th>\n",
              "      <th>cg1dclkdraw</th>\n",
              "      <th>hc1disescn9</th>\n",
              "      <th>round</th>\n",
              "    </tr>\n",
              "  </thead>\n",
              "  <tbody>\n",
              "    <tr>\n",
              "      <th>6</th>\n",
              "      <td>10000009.0</td>\n",
              "      <td>-1 Inapplicable</td>\n",
              "      <td>-1 Inapplicable</td>\n",
              "      <td>1</td>\n",
              "    </tr>\n",
              "    <tr>\n",
              "      <th>8</th>\n",
              "      <td>10000013.0</td>\n",
              "      <td>-1 Inapplicable</td>\n",
              "      <td>-1 Inapplicable</td>\n",
              "      <td>1</td>\n",
              "    </tr>\n",
              "    <tr>\n",
              "      <th>10</th>\n",
              "      <td>10000015.0</td>\n",
              "      <td>-1 Inapplicable</td>\n",
              "      <td>-1 Inapplicable</td>\n",
              "      <td>1</td>\n",
              "    </tr>\n",
              "    <tr>\n",
              "      <th>33</th>\n",
              "      <td>10000046.0</td>\n",
              "      <td>-1 Inapplicable</td>\n",
              "      <td>-9 Missing</td>\n",
              "      <td>1</td>\n",
              "    </tr>\n",
              "    <tr>\n",
              "      <th>47</th>\n",
              "      <td>10000067.0</td>\n",
              "      <td>-1 Inapplicable</td>\n",
              "      <td>-9 Missing</td>\n",
              "      <td>1</td>\n",
              "    </tr>\n",
              "  </tbody>\n",
              "</table>\n",
              "</div>"
            ],
            "text/plain": [
              "          spid      cg1dclkdraw      hc1disescn9  round\n",
              "6   10000009.0  -1 Inapplicable  -1 Inapplicable      1\n",
              "8   10000013.0  -1 Inapplicable  -1 Inapplicable      1\n",
              "10  10000015.0  -1 Inapplicable  -1 Inapplicable      1\n",
              "33  10000046.0  -1 Inapplicable       -9 Missing      1\n",
              "47  10000067.0  -1 Inapplicable       -9 Missing      1"
            ]
          },
          "metadata": {},
          "execution_count": 3
        }
      ]
    },
    {
      "cell_type": "code",
      "metadata": {
        "colab": {
          "base_uri": "https://localhost:8080/",
          "height": 419
        },
        "id": "muUutFNyiAn6",
        "outputId": "5336babd-2609-46ae-df78-9f0332240bf4"
      },
      "source": [
        "# Load the cleaned dataframe\n",
        "cleaned_rounds = cr.clean_data(rounds)\n",
        "cleaned_rounds"
      ],
      "execution_count": 4,
      "outputs": [
        {
          "output_type": "execute_result",
          "data": {
            "text/html": [
              "<div>\n",
              "<style scoped>\n",
              "    .dataframe tbody tr th:only-of-type {\n",
              "        vertical-align: middle;\n",
              "    }\n",
              "\n",
              "    .dataframe tbody tr th {\n",
              "        vertical-align: top;\n",
              "    }\n",
              "\n",
              "    .dataframe thead th {\n",
              "        text-align: right;\n",
              "    }\n",
              "</style>\n",
              "<table border=\"1\" class=\"dataframe\">\n",
              "  <thead>\n",
              "    <tr style=\"text-align: right;\">\n",
              "      <th></th>\n",
              "      <th>spid</th>\n",
              "      <th>cg1dclkdraw</th>\n",
              "      <th>hc1disescn9</th>\n",
              "      <th>round</th>\n",
              "    </tr>\n",
              "  </thead>\n",
              "  <tbody>\n",
              "    <tr>\n",
              "      <th>0</th>\n",
              "      <td>10000003</td>\n",
              "      <td>3 Mildly distorted depiction of a clock</td>\n",
              "      <td>2.0</td>\n",
              "      <td>1</td>\n",
              "    </tr>\n",
              "    <tr>\n",
              "      <th>1</th>\n",
              "      <td>10000004</td>\n",
              "      <td>3 Mildly distorted depiction of a clock</td>\n",
              "      <td>2.0</td>\n",
              "      <td>1</td>\n",
              "    </tr>\n",
              "    <tr>\n",
              "      <th>2</th>\n",
              "      <td>10000005</td>\n",
              "      <td>3 Mildly distorted depiction of a clock</td>\n",
              "      <td>2.0</td>\n",
              "      <td>1</td>\n",
              "    </tr>\n",
              "    <tr>\n",
              "      <th>3</th>\n",
              "      <td>10000006</td>\n",
              "      <td>4 Reasonably accurate depiction of a clock</td>\n",
              "      <td>2.0</td>\n",
              "      <td>1</td>\n",
              "    </tr>\n",
              "    <tr>\n",
              "      <th>5</th>\n",
              "      <td>10000008</td>\n",
              "      <td>2 Moderately distorted depection of a clock</td>\n",
              "      <td>2.0</td>\n",
              "      <td>1</td>\n",
              "    </tr>\n",
              "    <tr>\n",
              "      <th>...</th>\n",
              "      <td>...</td>\n",
              "      <td>...</td>\n",
              "      <td>...</td>\n",
              "      <td>...</td>\n",
              "    </tr>\n",
              "    <tr>\n",
              "      <th>62686</th>\n",
              "      <td>20007109</td>\n",
              "      <td>4 Reasonably accurate depiction of a clock</td>\n",
              "      <td>7.0</td>\n",
              "      <td>10</td>\n",
              "    </tr>\n",
              "    <tr>\n",
              "      <th>62687</th>\n",
              "      <td>20007110</td>\n",
              "      <td>5 Accurate depiction of a clock (circular or s...</td>\n",
              "      <td>2.0</td>\n",
              "      <td>10</td>\n",
              "    </tr>\n",
              "    <tr>\n",
              "      <th>62688</th>\n",
              "      <td>20007111</td>\n",
              "      <td>5 Accurate depiction of a clock (circular or s...</td>\n",
              "      <td>2.0</td>\n",
              "      <td>10</td>\n",
              "    </tr>\n",
              "    <tr>\n",
              "      <th>62689</th>\n",
              "      <td>20007112</td>\n",
              "      <td>5 Accurate depiction of a clock (circular or s...</td>\n",
              "      <td>2.0</td>\n",
              "      <td>10</td>\n",
              "    </tr>\n",
              "    <tr>\n",
              "      <th>62690</th>\n",
              "      <td>20007114</td>\n",
              "      <td>3 Mildly distorted depiction of a clock</td>\n",
              "      <td>2.0</td>\n",
              "      <td>10</td>\n",
              "    </tr>\n",
              "  </tbody>\n",
              "</table>\n",
              "<p>51492 rows × 4 columns</p>\n",
              "</div>"
            ],
            "text/plain": [
              "           spid  ... round\n",
              "0      10000003  ...     1\n",
              "1      10000004  ...     1\n",
              "2      10000005  ...     1\n",
              "3      10000006  ...     1\n",
              "5      10000008  ...     1\n",
              "...         ...  ...   ...\n",
              "62686  20007109  ...    10\n",
              "62687  20007110  ...    10\n",
              "62688  20007111  ...    10\n",
              "62689  20007112  ...    10\n",
              "62690  20007114  ...    10\n",
              "\n",
              "[51492 rows x 4 columns]"
            ]
          },
          "metadata": {},
          "execution_count": 4
        }
      ]
    },
    {
      "cell_type": "code",
      "metadata": {
        "colab": {
          "base_uri": "https://localhost:8080/"
        },
        "id": "QoZxMd9yiCvb",
        "outputId": "fcced56b-d9f1-4bd1-a20d-d3d29f90e6ed"
      },
      "source": [
        "#Check that we only have healthscores of 1, 2, 7 and subjects that have drawn clocks\n",
        "print(\"health score check: \\n\",cleaned_rounds.cg1dclkdraw.unique())\n",
        "print(\"\\n clock scores check: \\n\",cleaned_rounds['hc1disescn9'].unique())"
      ],
      "execution_count": 5,
      "outputs": [
        {
          "output_type": "stream",
          "name": "stdout",
          "text": [
            "health score check: \n",
            " ['3 Mildly distorted depiction of a clock'\n",
            " '4 Reasonably accurate depiction of a clock'\n",
            " '2 Moderately distorted depection of a clock'\n",
            " '5 Accurate depiction of a clock (circular or square)'\n",
            " '1 Severely distorted depiction of a clock'\n",
            " '0 Not recognizable as a clock'\n",
            " '2 Moderately distorted depiction of a clock']\n",
            "\n",
            " clock scores check: \n",
            " [2. 1. 7.]\n"
          ]
        }
      ]
    },
    {
      "cell_type": "code",
      "metadata": {
        "colab": {
          "base_uri": "https://localhost:8080/",
          "height": 774
        },
        "id": "hLa7vIiRiFB5",
        "outputId": "106eefb7-1bde-4db9-9d31-29ddd30c2913"
      },
      "source": [
        "# Check balance of dataset\n",
        "a = cleaned_rounds.hc1disescn9.hist() \n",
        "plt.xlabel(\"Health Score\")\n",
        "plt.ylabel(\"Counts\")\n",
        "plt.show(a) \n",
        "\n",
        "\n",
        "b = cleaned_rounds.cg1dclkdraw.hist()\n",
        "b.tick_params(axis='x', labelrotation = 90)\n",
        "plt.ylabel(\"Counts\")\n",
        "plt.show(b)"
      ],
      "execution_count": 6,
      "outputs": [
        {
          "output_type": "display_data",
          "data": {
            "image/png": "[encoded data removed]",
            "text/plain": [
              "<Figure size 432x288 with 1 Axes>"
            ]
          },
          "metadata": {
            "needs_background": "light"
          }
        },
        {
          "output_type": "display_data",
          "data": {
            "image/png": "[encoded data removed]",
            "text/plain": [
              "<Figure size 432x288 with 1 Axes>"
            ]
          },
          "metadata": {
            "needs_background": "light"
          }
        }
      ]
    },
    {
      "cell_type": "markdown",
      "metadata": {
        "id": "q1tASrUkiJHJ"
      },
      "source": [
        "###Create Labels for the rounds data"
      ]
    },
    {
      "cell_type": "code",
      "metadata": {
        "colab": {
          "base_uri": "https://localhost:8080/",
          "height": 419
        },
        "id": "-kLcAS67iGuL",
        "outputId": "495bc709-bb34-456e-cb64-dee725bafdbf"
      },
      "source": [
        "labeled_data = ld.create_labels(cleaned_rounds)\n",
        "labeled_data"
      ],
      "execution_count": 7,
      "outputs": [
        {
          "output_type": "execute_result",
          "data": {
            "text/html": [
              "<div>\n",
              "<style scoped>\n",
              "    .dataframe tbody tr th:only-of-type {\n",
              "        vertical-align: middle;\n",
              "    }\n",
              "\n",
              "    .dataframe tbody tr th {\n",
              "        vertical-align: top;\n",
              "    }\n",
              "\n",
              "    .dataframe thead th {\n",
              "        text-align: right;\n",
              "    }\n",
              "</style>\n",
              "<table border=\"1\" class=\"dataframe\">\n",
              "  <thead>\n",
              "    <tr style=\"text-align: right;\">\n",
              "      <th></th>\n",
              "      <th>spid</th>\n",
              "      <th>cg1dclkdraw</th>\n",
              "      <th>hc1disescn9</th>\n",
              "      <th>round</th>\n",
              "      <th>label</th>\n",
              "    </tr>\n",
              "  </thead>\n",
              "  <tbody>\n",
              "    <tr>\n",
              "      <th>0</th>\n",
              "      <td>10000003</td>\n",
              "      <td>3 Mildly distorted depiction of a clock</td>\n",
              "      <td>2.0</td>\n",
              "      <td>1</td>\n",
              "      <td>2</td>\n",
              "    </tr>\n",
              "    <tr>\n",
              "      <th>1</th>\n",
              "      <td>10000004</td>\n",
              "      <td>3 Mildly distorted depiction of a clock</td>\n",
              "      <td>2.0</td>\n",
              "      <td>1</td>\n",
              "      <td>2</td>\n",
              "    </tr>\n",
              "    <tr>\n",
              "      <th>2</th>\n",
              "      <td>10000005</td>\n",
              "      <td>3 Mildly distorted depiction of a clock</td>\n",
              "      <td>2.0</td>\n",
              "      <td>1</td>\n",
              "      <td>2</td>\n",
              "    </tr>\n",
              "    <tr>\n",
              "      <th>3</th>\n",
              "      <td>10000006</td>\n",
              "      <td>4 Reasonably accurate depiction of a clock</td>\n",
              "      <td>2.0</td>\n",
              "      <td>1</td>\n",
              "      <td>2</td>\n",
              "    </tr>\n",
              "    <tr>\n",
              "      <th>5</th>\n",
              "      <td>10000008</td>\n",
              "      <td>2 Moderately distorted depection of a clock</td>\n",
              "      <td>2.0</td>\n",
              "      <td>1</td>\n",
              "      <td>2</td>\n",
              "    </tr>\n",
              "    <tr>\n",
              "      <th>...</th>\n",
              "      <td>...</td>\n",
              "      <td>...</td>\n",
              "      <td>...</td>\n",
              "      <td>...</td>\n",
              "      <td>...</td>\n",
              "    </tr>\n",
              "    <tr>\n",
              "      <th>62686</th>\n",
              "      <td>20007109</td>\n",
              "      <td>4 Reasonably accurate depiction of a clock</td>\n",
              "      <td>7.0</td>\n",
              "      <td>10</td>\n",
              "      <td>1</td>\n",
              "    </tr>\n",
              "    <tr>\n",
              "      <th>62687</th>\n",
              "      <td>20007110</td>\n",
              "      <td>5 Accurate depiction of a clock (circular or s...</td>\n",
              "      <td>2.0</td>\n",
              "      <td>10</td>\n",
              "      <td>2</td>\n",
              "    </tr>\n",
              "    <tr>\n",
              "      <th>62688</th>\n",
              "      <td>20007111</td>\n",
              "      <td>5 Accurate depiction of a clock (circular or s...</td>\n",
              "      <td>2.0</td>\n",
              "      <td>10</td>\n",
              "      <td>2</td>\n",
              "    </tr>\n",
              "    <tr>\n",
              "      <th>62689</th>\n",
              "      <td>20007112</td>\n",
              "      <td>5 Accurate depiction of a clock (circular or s...</td>\n",
              "      <td>2.0</td>\n",
              "      <td>10</td>\n",
              "      <td>2</td>\n",
              "    </tr>\n",
              "    <tr>\n",
              "      <th>62690</th>\n",
              "      <td>20007114</td>\n",
              "      <td>3 Mildly distorted depiction of a clock</td>\n",
              "      <td>2.0</td>\n",
              "      <td>10</td>\n",
              "      <td>2</td>\n",
              "    </tr>\n",
              "  </tbody>\n",
              "</table>\n",
              "<p>51492 rows × 5 columns</p>\n",
              "</div>"
            ],
            "text/plain": [
              "           spid  ... label\n",
              "0      10000003  ...     2\n",
              "1      10000004  ...     2\n",
              "2      10000005  ...     2\n",
              "3      10000006  ...     2\n",
              "5      10000008  ...     2\n",
              "...         ...  ...   ...\n",
              "62686  20007109  ...     1\n",
              "62687  20007110  ...     2\n",
              "62688  20007111  ...     2\n",
              "62689  20007112  ...     2\n",
              "62690  20007114  ...     2\n",
              "\n",
              "[51492 rows x 5 columns]"
            ]
          },
          "metadata": {},
          "execution_count": 7
        }
      ]
    },
    {
      "cell_type": "code",
      "metadata": {
        "colab": {
          "base_uri": "https://localhost:8080/",
          "height": 283
        },
        "id": "k3qRf4kniK5_",
        "outputId": "5701c74a-65ed-43d4-fd2c-ea657084c2cf"
      },
      "source": [
        "# Look at distribution of labels\n",
        "labeled_data.label.hist() "
      ],
      "execution_count": 8,
      "outputs": [
        {
          "output_type": "execute_result",
          "data": {
            "text/plain": [
              "<matplotlib.axes._subplots.AxesSubplot at 0x7fe942aaa950>"
            ]
          },
          "metadata": {},
          "execution_count": 8
        },
        {
          "output_type": "display_data",
          "data": {
            "image/png": "[encoded data removed]",
            "text/plain": [
              "<Figure size 432x288 with 1 Axes>"
            ]
          },
          "metadata": {
            "needs_background": "light"
          }
        }
      ]
    },
    {
      "cell_type": "code",
      "metadata": {
        "colab": {
          "base_uri": "https://localhost:8080/"
        },
        "id": "poYmGTkCdTFW",
        "outputId": "4cf132cb-e528-40eb-9ebf-0dcbff61dab2"
      },
      "source": [
        "labeled_data['label'].value_counts()"
      ],
      "execution_count": 9,
      "outputs": [
        {
          "output_type": "execute_result",
          "data": {
            "text/plain": [
              "2    48371\n",
              "1     2533\n",
              "0      588\n",
              "Name: label, dtype: int64"
            ]
          },
          "metadata": {},
          "execution_count": 9
        }
      ]
    },
    {
      "cell_type": "markdown",
      "metadata": {
        "id": "JP2W17bY5jwj"
      },
      "source": [
        "### NHATs Strategy for Labeling Data\n",
        "\n",
        "---\n",
        "\n"
      ]
    },
    {
      "cell_type": "code",
      "metadata": {
        "id": "UXZ4dEMqeGej"
      },
      "source": [
        "round_hat_data = pd.read_csv('Loading/hats_round_data.csv')\n",
        "round_hat_data.head()"
      ],
      "execution_count": 13,
      "outputs": []
    },
    {
      "cell_type": "code",
      "metadata": {
        "id": "bfvup7OZjxyq"
      },
      "source": [
        "# Check all values for each variable prior to cleaning; variables are picked from\n",
        "# NHATs User Guide\n",
        "columns_to_keep = ['cg1presidna1','cg1presidna3','cg1vpname1','cg1vpname3',\n",
        "           'cg1todaydat1','cg1todaydat2','cg1todaydat3', 'cg1todaydat4',\n",
        "           'cg1dclkdraw','hc1disescn9', 'cp1dad8dem', 'cg1dwrdimmrc',\n",
        "           'cg1dwrddlyrc']\n",
        "\n",
        "d = round_hat_data[columns_to_keep]\n",
        "\n",
        "for col in d.columns:\n",
        "  print(\"\\n{}: \\n\".format(col), d[col].unique())\n",
        "  for item in d[col].unique():\n",
        "    print(\"\\n\", item)"
      ],
      "execution_count": null,
      "outputs": []
    },
    {
      "cell_type": "code",
      "metadata": {
        "id": "kudQhXpY67W0"
      },
      "source": [
        "# Run cleaning script resave dataframe\n",
        "round_hat_clean = cr.clean_hats_rounds(round_hat_data)"
      ],
      "execution_count": null,
      "outputs": []
    },
    {
      "cell_type": "code",
      "metadata": {
        "id": "2XCrWNTwVMqL"
      },
      "source": [
        "# Check all column values again\n",
        "columns_to_keep = ['cg1presidna1','cg1presidna3','cg1vpname1','cg1vpname3',\n",
        "           'cg1todaydat1','cg1todaydat2','cg1todaydat3', 'cg1todaydat4',\n",
        "           'cg1dclkdraw','hc1disescn9', 'cp1dad8dem', 'cg1dwrdimmrc',\n",
        "           'cg1dwrddlyrc']\n",
        "\n",
        "d = round_hat_clean[columns_to_keep]\n",
        "\n",
        "for col in d.columns:\n",
        "  print(\"\\n{}: \\n\".format(col), d[col].unique())\n",
        "  for item in d[col].unique():\n",
        "    print(\"\\n\", item)"
      ],
      "execution_count": null,
      "outputs": []
    },
    {
      "cell_type": "code",
      "metadata": {
        "id": "LXmMvMFUUq2C"
      },
      "source": [
        "# Drop the rest of the NaN values since we do not have data for these subjects and\n",
        "# cannot conclude their scores\n",
        "round_hat_clean.dropna(inplace=True)\n",
        "\n",
        "# Check dtypes\n",
        "round_hat_clean.dtypes"
      ],
      "execution_count": null,
      "outputs": []
    },
    {
      "cell_type": "code",
      "metadata": {
        "id": "4r499IAWD5QU"
      },
      "source": [
        "# Change variable value types from Categorical to Int64 for later calculations\n",
        "col_to_change = ['cg1presidna1','cg1presidna3','cg1vpname1','cg1vpname3',\n",
        "           'cg1todaydat1','cg1todaydat2','cg1todaydat3', 'cg1todaydat4',\n",
        "           'cg1dclkdraw','hc1disescn9', 'cp1dad8dem', 'cg1dwrdimmrc',\n",
        "           'cg1dwrddlyrc']\n",
        "round_hat_clean[col_to_change] = round_hat_clean[col_to_change].apply(pd.to_numeric)\n",
        "round_hat_clean.dtypes"
      ],
      "execution_count": null,
      "outputs": []
    },
    {
      "cell_type": "code",
      "metadata": {
        "colab": {
          "base_uri": "https://localhost:8080/",
          "height": 419
        },
        "id": "pt8-yr_rZS6N",
        "outputId": "0e28c882-83e9-4283-e226-4fce74951190"
      },
      "source": [
        "# Create orientation and memory scores\n",
        "round_hat_clean['orientation_score'] = round_hat_clean['cg1presidna1'] + round_hat_clean['cg1presidna3'] \\\n",
        "+ round_hat_clean['cg1vpname1'] + round_hat_clean['cg1vpname3'] + round_hat_clean['cg1todaydat1']\\\n",
        "+ round_hat_clean['cg1todaydat2'] + round_hat_clean['cg1todaydat3'] + round_hat_clean['cg1todaydat4']\n",
        "\n",
        "round_hat_clean['memory_score'] = round_hat_clean['cg1dwrdimmrc'] + round_hat_clean['cg1dwrddlyrc']\n",
        "round_hat_clean.head()"
      ],
      "execution_count": null,
      "outputs": [
        {
          "output_type": "execute_result",
          "data": {
            "text/html": [
              "<div>\n",
              "<style scoped>\n",
              "    .dataframe tbody tr th:only-of-type {\n",
              "        vertical-align: middle;\n",
              "    }\n",
              "\n",
              "    .dataframe tbody tr th {\n",
              "        vertical-align: top;\n",
              "    }\n",
              "\n",
              "    .dataframe thead th {\n",
              "        text-align: right;\n",
              "    }\n",
              "</style>\n",
              "<table border=\"1\" class=\"dataframe\">\n",
              "  <thead>\n",
              "    <tr style=\"text-align: right;\">\n",
              "      <th></th>\n",
              "      <th>spid</th>\n",
              "      <th>cg1dclkdraw</th>\n",
              "      <th>hc1disescn9</th>\n",
              "      <th>cg1presidna1</th>\n",
              "      <th>cg1presidna3</th>\n",
              "      <th>cg1vpname1</th>\n",
              "      <th>cg1vpname3</th>\n",
              "      <th>cg1todaydat1</th>\n",
              "      <th>cg1todaydat2</th>\n",
              "      <th>cg1todaydat3</th>\n",
              "      <th>cg1todaydat4</th>\n",
              "      <th>cg1dwrdimmrc</th>\n",
              "      <th>cg1dwrddlyrc</th>\n",
              "      <th>round</th>\n",
              "      <th>cp1dad8dem</th>\n",
              "      <th>orientation_score</th>\n",
              "      <th>memory_score</th>\n",
              "    </tr>\n",
              "  </thead>\n",
              "  <tbody>\n",
              "    <tr>\n",
              "      <th>0</th>\n",
              "      <td>10000003</td>\n",
              "      <td>3.0</td>\n",
              "      <td>2</td>\n",
              "      <td>1</td>\n",
              "      <td>1</td>\n",
              "      <td>1</td>\n",
              "      <td>1</td>\n",
              "      <td>1.0</td>\n",
              "      <td>1.0</td>\n",
              "      <td>1.0</td>\n",
              "      <td>1.0</td>\n",
              "      <td>6.0</td>\n",
              "      <td>3.0</td>\n",
              "      <td>1</td>\n",
              "      <td>10</td>\n",
              "      <td>8.0</td>\n",
              "      <td>9.0</td>\n",
              "    </tr>\n",
              "    <tr>\n",
              "      <th>1</th>\n",
              "      <td>10000004</td>\n",
              "      <td>3.0</td>\n",
              "      <td>2</td>\n",
              "      <td>1</td>\n",
              "      <td>1</td>\n",
              "      <td>0</td>\n",
              "      <td>0</td>\n",
              "      <td>1.0</td>\n",
              "      <td>1.0</td>\n",
              "      <td>1.0</td>\n",
              "      <td>1.0</td>\n",
              "      <td>4.0</td>\n",
              "      <td>3.0</td>\n",
              "      <td>1</td>\n",
              "      <td>10</td>\n",
              "      <td>6.0</td>\n",
              "      <td>7.0</td>\n",
              "    </tr>\n",
              "    <tr>\n",
              "      <th>2</th>\n",
              "      <td>10000005</td>\n",
              "      <td>3.0</td>\n",
              "      <td>2</td>\n",
              "      <td>1</td>\n",
              "      <td>1</td>\n",
              "      <td>1</td>\n",
              "      <td>1</td>\n",
              "      <td>1.0</td>\n",
              "      <td>1.0</td>\n",
              "      <td>1.0</td>\n",
              "      <td>1.0</td>\n",
              "      <td>7.0</td>\n",
              "      <td>4.0</td>\n",
              "      <td>1</td>\n",
              "      <td>10</td>\n",
              "      <td>8.0</td>\n",
              "      <td>11.0</td>\n",
              "    </tr>\n",
              "    <tr>\n",
              "      <th>3</th>\n",
              "      <td>10000006</td>\n",
              "      <td>4.0</td>\n",
              "      <td>2</td>\n",
              "      <td>1</td>\n",
              "      <td>1</td>\n",
              "      <td>1</td>\n",
              "      <td>0</td>\n",
              "      <td>1.0</td>\n",
              "      <td>1.0</td>\n",
              "      <td>1.0</td>\n",
              "      <td>1.0</td>\n",
              "      <td>4.0</td>\n",
              "      <td>3.0</td>\n",
              "      <td>1</td>\n",
              "      <td>10</td>\n",
              "      <td>7.0</td>\n",
              "      <td>7.0</td>\n",
              "    </tr>\n",
              "    <tr>\n",
              "      <th>5</th>\n",
              "      <td>10000008</td>\n",
              "      <td>2.0</td>\n",
              "      <td>2</td>\n",
              "      <td>1</td>\n",
              "      <td>1</td>\n",
              "      <td>1</td>\n",
              "      <td>1</td>\n",
              "      <td>1.0</td>\n",
              "      <td>1.0</td>\n",
              "      <td>1.0</td>\n",
              "      <td>1.0</td>\n",
              "      <td>7.0</td>\n",
              "      <td>7.0</td>\n",
              "      <td>1</td>\n",
              "      <td>10</td>\n",
              "      <td>8.0</td>\n",
              "      <td>14.0</td>\n",
              "    </tr>\n",
              "    <tr>\n",
              "      <th>...</th>\n",
              "      <td>...</td>\n",
              "      <td>...</td>\n",
              "      <td>...</td>\n",
              "      <td>...</td>\n",
              "      <td>...</td>\n",
              "      <td>...</td>\n",
              "      <td>...</td>\n",
              "      <td>...</td>\n",
              "      <td>...</td>\n",
              "      <td>...</td>\n",
              "      <td>...</td>\n",
              "      <td>...</td>\n",
              "      <td>...</td>\n",
              "      <td>...</td>\n",
              "      <td>...</td>\n",
              "      <td>...</td>\n",
              "      <td>...</td>\n",
              "    </tr>\n",
              "    <tr>\n",
              "      <th>4383</th>\n",
              "      <td>20007107</td>\n",
              "      <td>5.0</td>\n",
              "      <td>2</td>\n",
              "      <td>1</td>\n",
              "      <td>1</td>\n",
              "      <td>1</td>\n",
              "      <td>1</td>\n",
              "      <td>1.0</td>\n",
              "      <td>1.0</td>\n",
              "      <td>1.0</td>\n",
              "      <td>1.0</td>\n",
              "      <td>4.0</td>\n",
              "      <td>4.0</td>\n",
              "      <td>10</td>\n",
              "      <td>0</td>\n",
              "      <td>8.0</td>\n",
              "      <td>8.0</td>\n",
              "    </tr>\n",
              "    <tr>\n",
              "      <th>4384</th>\n",
              "      <td>20007109</td>\n",
              "      <td>4.0</td>\n",
              "      <td>7</td>\n",
              "      <td>1</td>\n",
              "      <td>1</td>\n",
              "      <td>1</td>\n",
              "      <td>0</td>\n",
              "      <td>1.0</td>\n",
              "      <td>1.0</td>\n",
              "      <td>1.0</td>\n",
              "      <td>1.0</td>\n",
              "      <td>6.0</td>\n",
              "      <td>4.0</td>\n",
              "      <td>10</td>\n",
              "      <td>0</td>\n",
              "      <td>7.0</td>\n",
              "      <td>10.0</td>\n",
              "    </tr>\n",
              "    <tr>\n",
              "      <th>4385</th>\n",
              "      <td>20007110</td>\n",
              "      <td>5.0</td>\n",
              "      <td>2</td>\n",
              "      <td>1</td>\n",
              "      <td>1</td>\n",
              "      <td>1</td>\n",
              "      <td>1</td>\n",
              "      <td>1.0</td>\n",
              "      <td>0.0</td>\n",
              "      <td>1.0</td>\n",
              "      <td>0.0</td>\n",
              "      <td>4.0</td>\n",
              "      <td>3.0</td>\n",
              "      <td>10</td>\n",
              "      <td>0</td>\n",
              "      <td>6.0</td>\n",
              "      <td>7.0</td>\n",
              "    </tr>\n",
              "    <tr>\n",
              "      <th>4386</th>\n",
              "      <td>20007111</td>\n",
              "      <td>5.0</td>\n",
              "      <td>2</td>\n",
              "      <td>0</td>\n",
              "      <td>0</td>\n",
              "      <td>1</td>\n",
              "      <td>1</td>\n",
              "      <td>1.0</td>\n",
              "      <td>1.0</td>\n",
              "      <td>1.0</td>\n",
              "      <td>1.0</td>\n",
              "      <td>8.0</td>\n",
              "      <td>8.0</td>\n",
              "      <td>10</td>\n",
              "      <td>0</td>\n",
              "      <td>6.0</td>\n",
              "      <td>16.0</td>\n",
              "    </tr>\n",
              "    <tr>\n",
              "      <th>4387</th>\n",
              "      <td>20007112</td>\n",
              "      <td>5.0</td>\n",
              "      <td>2</td>\n",
              "      <td>1</td>\n",
              "      <td>1</td>\n",
              "      <td>1</td>\n",
              "      <td>1</td>\n",
              "      <td>1.0</td>\n",
              "      <td>1.0</td>\n",
              "      <td>1.0</td>\n",
              "      <td>1.0</td>\n",
              "      <td>2.0</td>\n",
              "      <td>2.0</td>\n",
              "      <td>10</td>\n",
              "      <td>0</td>\n",
              "      <td>8.0</td>\n",
              "      <td>4.0</td>\n",
              "    </tr>\n",
              "  </tbody>\n",
              "</table>\n",
              "<p>51361 rows × 17 columns</p>\n",
              "</div>"
            ],
            "text/plain": [
              "          spid  cg1dclkdraw  ...  orientation_score  memory_score\n",
              "0     10000003          3.0  ...                8.0           9.0\n",
              "1     10000004          3.0  ...                6.0           7.0\n",
              "2     10000005          3.0  ...                8.0          11.0\n",
              "3     10000006          4.0  ...                7.0           7.0\n",
              "5     10000008          2.0  ...                8.0          14.0\n",
              "...        ...          ...  ...                ...           ...\n",
              "4383  20007107          5.0  ...                8.0           8.0\n",
              "4384  20007109          4.0  ...                7.0          10.0\n",
              "4385  20007110          5.0  ...                6.0           7.0\n",
              "4386  20007111          5.0  ...                6.0          16.0\n",
              "4387  20007112          5.0  ...                8.0           4.0\n",
              "\n",
              "[51361 rows x 17 columns]"
            ]
          },
          "metadata": {},
          "execution_count": 10
        }
      ]
    },
    {
      "cell_type": "code",
      "metadata": {
        "id": "6Ze_GyMd9lQ8"
      },
      "source": [
        "# Call script that creates the labels for each subject\n",
        "round_hat_label = ld.create_hats_labels(round_hat_clean)\n",
        "round_hat_label.sample(10)"
      ],
      "execution_count": null,
      "outputs": []
    },
    {
      "cell_type": "code",
      "metadata": {
        "colab": {
          "base_uri": "https://localhost:8080/",
          "height": 282
        },
        "id": "pB8Bym0p0vsA",
        "outputId": "34a44d67-8163-4045-fb5c-a0a91bf902d4"
      },
      "source": [
        "round_hat_label.label.hist() "
      ],
      "execution_count": null,
      "outputs": [
        {
          "output_type": "execute_result",
          "data": {
            "text/plain": [
              "<matplotlib.axes._subplots.AxesSubplot at 0x7f20a85a8d50>"
            ]
          },
          "metadata": {},
          "execution_count": 12
        },
        {
          "output_type": "display_data",
          "data": {
            "image/png": "[encoded data removed]",
            "text/plain": [
              "<Figure size 432x288 with 1 Axes>"
            ]
          },
          "metadata": {
            "needs_background": "light"
          }
        }
      ]
    },
    {
      "cell_type": "code",
      "metadata": {
        "colab": {
          "base_uri": "https://localhost:8080/",
          "height": 419
        },
        "id": "yrMturFy5AVj",
        "outputId": "734919ac-afb2-461e-b08e-a1e2db3db547"
      },
      "source": [
        "final_data = round_hat_label[['round', 'spid', 'label']]\n",
        "final_data.sample(10)"
      ],
      "execution_count": null,
      "outputs": [
        {
          "output_type": "execute_result",
          "data": {
            "text/html": [
              "<div>\n",
              "<style scoped>\n",
              "    .dataframe tbody tr th:only-of-type {\n",
              "        vertical-align: middle;\n",
              "    }\n",
              "\n",
              "    .dataframe tbody tr th {\n",
              "        vertical-align: top;\n",
              "    }\n",
              "\n",
              "    .dataframe thead th {\n",
              "        text-align: right;\n",
              "    }\n",
              "</style>\n",
              "<table border=\"1\" class=\"dataframe\">\n",
              "  <thead>\n",
              "    <tr style=\"text-align: right;\">\n",
              "      <th></th>\n",
              "      <th>round</th>\n",
              "      <th>spid</th>\n",
              "      <th>label</th>\n",
              "    </tr>\n",
              "  </thead>\n",
              "  <tbody>\n",
              "    <tr>\n",
              "      <th>0</th>\n",
              "      <td>1</td>\n",
              "      <td>10000003</td>\n",
              "      <td>2</td>\n",
              "    </tr>\n",
              "    <tr>\n",
              "      <th>1</th>\n",
              "      <td>1</td>\n",
              "      <td>10000004</td>\n",
              "      <td>2</td>\n",
              "    </tr>\n",
              "    <tr>\n",
              "      <th>2</th>\n",
              "      <td>1</td>\n",
              "      <td>10000005</td>\n",
              "      <td>2</td>\n",
              "    </tr>\n",
              "    <tr>\n",
              "      <th>3</th>\n",
              "      <td>1</td>\n",
              "      <td>10000006</td>\n",
              "      <td>2</td>\n",
              "    </tr>\n",
              "    <tr>\n",
              "      <th>5</th>\n",
              "      <td>1</td>\n",
              "      <td>10000008</td>\n",
              "      <td>2</td>\n",
              "    </tr>\n",
              "    <tr>\n",
              "      <th>...</th>\n",
              "      <td>...</td>\n",
              "      <td>...</td>\n",
              "      <td>...</td>\n",
              "    </tr>\n",
              "    <tr>\n",
              "      <th>4383</th>\n",
              "      <td>10</td>\n",
              "      <td>20007107</td>\n",
              "      <td>2</td>\n",
              "    </tr>\n",
              "    <tr>\n",
              "      <th>4384</th>\n",
              "      <td>10</td>\n",
              "      <td>20007109</td>\n",
              "      <td>1</td>\n",
              "    </tr>\n",
              "    <tr>\n",
              "      <th>4385</th>\n",
              "      <td>10</td>\n",
              "      <td>20007110</td>\n",
              "      <td>2</td>\n",
              "    </tr>\n",
              "    <tr>\n",
              "      <th>4386</th>\n",
              "      <td>10</td>\n",
              "      <td>20007111</td>\n",
              "      <td>2</td>\n",
              "    </tr>\n",
              "    <tr>\n",
              "      <th>4387</th>\n",
              "      <td>10</td>\n",
              "      <td>20007112</td>\n",
              "      <td>2</td>\n",
              "    </tr>\n",
              "  </tbody>\n",
              "</table>\n",
              "<p>51361 rows × 3 columns</p>\n",
              "</div>"
            ],
            "text/plain": [
              "      round      spid  label\n",
              "0         1  10000003      2\n",
              "1         1  10000004      2\n",
              "2         1  10000005      2\n",
              "3         1  10000006      2\n",
              "5         1  10000008      2\n",
              "...     ...       ...    ...\n",
              "4383     10  20007107      2\n",
              "4384     10  20007109      1\n",
              "4385     10  20007110      2\n",
              "4386     10  20007111      2\n",
              "4387     10  20007112      2\n",
              "\n",
              "[51361 rows x 3 columns]"
            ]
          },
          "metadata": {},
          "execution_count": 13
        }
      ]
    },
    {
      "cell_type": "code",
      "metadata": {
        "colab": {
          "base_uri": "https://localhost:8080/"
        },
        "id": "gT8yihrT50a3",
        "outputId": "b4a5878a-f055-4584-896a-cb4badd58668"
      },
      "source": [
        "final_data['label'].value_counts()"
      ],
      "execution_count": null,
      "outputs": [
        {
          "output_type": "execute_result",
          "data": {
            "text/plain": [
              "2    41656\n",
              "0     5312\n",
              "1     4393\n",
              "Name: label, dtype: int64"
            ]
          },
          "metadata": {},
          "execution_count": 16
        }
      ]
    },
    {
      "cell_type": "markdown",
      "metadata": {
        "id": "DEp2V5xyiPce"
      },
      "source": [
        "### Get Individual participant IDs and labels per round\n",
        "- useful for pulling in exact images per round\n",
        "- create text file to store dictionary\n",
        "\n",
        "- create one dictionary file for AI Crowd method of labeling\n",
        "- create one dictionary file for NHAT Study Dementia Labeling method"
      ]
    },
    {
      "cell_type": "code",
      "metadata": {
        "id": "LPeCooHQiM_k"
      },
      "source": [
        "# get round, id, label for AI crowd method\n",
        "ids_ai = ld.get_ids(labeled_data)\n",
        "\n",
        "# get round, id, label for NHAT method\n",
        "ids_hats = ld.get_ids(final_data)"
      ],
      "execution_count": null,
      "outputs": []
    },
    {
      "cell_type": "code",
      "metadata": {
        "id": "rz84zNjIiRpw"
      },
      "source": [
        "# Writing dictionary to text file for AI Crowd method of labeling\n",
        "try:\n",
        "    id_file = open('roundIdLabelDict.txt', 'wt')\n",
        "    id_file.write(str(ids_ai))\n",
        "    id_file.close()\n",
        "  \n",
        "except:\n",
        "    print(\"Unable to write to file\")"
      ],
      "execution_count": 11,
      "outputs": []
    },
    {
      "cell_type": "code",
      "metadata": {
        "id": "8AoORXbLSz1W"
      },
      "source": [
        "# Writing dictionary to text file for NHATs method of labeling\n",
        "try:\n",
        "    id_file = open('hatRoundIdLabelDict.txt', 'wt')\n",
        "    id_file.write(str(ids_hats))\n",
        "    id_file.close()\n",
        "  \n",
        "except:\n",
        "    print(\"Unable to write to file\")"
      ],
      "execution_count": null,
      "outputs": []
    }
  ]
}