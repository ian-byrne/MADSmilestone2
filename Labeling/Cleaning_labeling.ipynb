{
  "nbformat": 4,
  "nbformat_minor": 0,
  "metadata": {
    "colab": {
      "name": "Cleaning_labeling.ipynb",
      "provenance": [],
      "collapsed_sections": [],
      "authorship_tag": "ABX9TyN5yaxDdcE25EEbf2I3P+Ss",
      "include_colab_link": true
    },
    "kernelspec": {
      "name": "python3",
      "display_name": "Python 3"
    },
    "language_info": {
      "name": "python"
    }
  },
  "cells": [
    {
      "cell_type": "markdown",
      "metadata": {
        "id": "view-in-github",
        "colab_type": "text"
      },
      "source": [
        "<a href=\"https://colab.research.google.com/github/ian-byrne/MADSmilestone2/blob/main/Labeling/Cleaning_labeling.ipynb\" target=\"_parent\"><img src=\"https://colab.research.google.com/assets/colab-badge.svg\" alt=\"Open In Colab\"/></a>"
      ]
    },
    {
      "cell_type": "markdown",
      "metadata": {
        "id": "DqglY6Rux9co"
      },
      "source": [
        "# Exploring, Cleaning and Labeling the data\n",
        "### Stacey Beck and Ian Byrne\n",
        "\n",
        "<br><br/>\n",
        "\n",
        "##### **AI Crowd Labeling Method**\n",
        "\n",
        "We received inspiration from the AI Crowd's Alzheimer's Clock Challenge and reached out to their data team inquiring about labeling the clock images for that challenge. Ankit < insert last name > explained that they use the values in the variable 'hc1disescn9' to help label the images. The variable 'hc1disescn9' contains values that indicate whether someone has dementia/Alzheimer's or not. A response of '1 YES' indicates that they have a confirmed diagnosis of Alzheimer's or Dementia and '2 NO' indicates no diagnosis has been given. A value of '7' indicates that a response of '1 YES' has already been recorded in a previous round. AI Crowd labeled each image as either:\n",
        "  - 0 - Pre-Alzheimers\n",
        "  - 1 - Post-Alzheimers \n",
        "  - 2 - Normal\n",
        "\n",
        "If a subject reports '1 YES' in the variable 'hc1disescn9' in a later round, all the previous rounds receive the label '0 - Pre-Alzheimers'. All 'hc1disescn9' reports of '1 YES' and '7' receive the label '1 - Post-Alzheimers' for the current and subsequent rounds.  All else receive the label '2 - Normal.' \n",
        "\n",
        "We provide code to produce labels using this algorithm. \n",
        "\n",
        " \n",
        "<br><br/>\n",
        " \n",
        "##### **NHATs Study Criteria used to help make Labels**\n",
        "\n",
        "In addition, we also feel that this way of labeling can lead to false negatives in terms of whether someone might have dementia/Alzheimer's disease. There may be participants whose diagnosis has gone undetected by medical professionals and who are able to complete the NHATs survey, thus leading to a label of '2 - Normal' for their drawings. \n",
        "\n",
        "In order to provide a potentially more robust set of label parameters, we will also implement a label strategy that mimicks the NHAT study found in this report. https://www.nhats.org/sites/default/files/inline-files/DementiaTechnicalPaperJuly_2_4_2013_10_23_15.pdf (page 2)\n",
        "\n",
        "\n",
        "We will use these specific labels to identify if someone has:\n",
        "- 0 - 'Possible Dementia'\n",
        "- 1 - 'Probable Dementia' (Likely Dementia)\n",
        "- 2 - 'No Dementia' \n",
        "\n",
        "**Variables used to help classify '0' for \"Possible Dementia\":**\n",
        "- One cognitive test score with cut off <= 1.5 SD below the mean. \n",
        "\n",
        "**Variables used to help classify '1' for 'Probable Dementia' include:**\n",
        "-  'hc1disescn9' for diagnosis ('1 YES', '2 NO', '7') and if this is not provided we will look at:\n",
        "  - 'cp1dad8dem' which provides a diagnosing like score through the use of a proxy. \n",
        "- Two cognitive test scores with cut offs <= 1.5 SD below the mean. \n",
        "\n",
        "\n",
        "**All else will be labeled as '2' for 'No Dementia.\"**\n",
        "\n",
        "<br><br/>\n",
        "The cognitive tests are based in three domains:\n",
        "- ***Orientation*** \n",
        "    - President and VP First and Last names: **'cg1presidna1', 'cg1presidna3', 'cg1vpname1', 'cg1vpname3'**\n",
        "    - Date, Month, Year, Day of the Week: **'cg1todaydat1' (Month), 'cg1todaydat2' (Day), 'cg1todaydat3' (Year), 'cg1todaydat4' (Day of the Week)**\n",
        "    - Each correct answer gets a point; Total points out of 8.\n",
        "    - Score cut point for <= 1.5 SD below the mean is <= 3 across all variables\n",
        "- ***Memory*** \n",
        "    - Delayed Word Recall: **'cg1dwrdimmrc' (total Score)**\n",
        "    - Immediate Word Recall: **'cg1dwrddlyrc' (total Score)** \n",
        "    - Total points out of 20\n",
        "    - Score cut off is <= 3 across all variables\n",
        "- ***Executive Functioning*** \n",
        "    - Clock Drawing Battery: **'cg1dclkdraw'**\n",
        "    - Total points out of 5\n",
        "    - Score cut off is <= 1 \n",
        "\n",
        "\n",
        "***Each variable is used for all 9 years of this study and change only by the number value located within the variable name.***\n"
      ]
    },
    {
      "cell_type": "code",
      "metadata": {
        "colab": {
          "base_uri": "https://localhost:8080/"
        },
        "id": "zGUytMofhoYc",
        "outputId": "814b3aae-b388-4982-fc8c-bae477d380fb"
      },
      "source": [
        "# Clone the entire repo.\n",
        "!git clone -l -s https://github.com/ian-byrne/MADSmilestone2.git\n",
        "\n",
        "# Change directory into cloned repo\n",
        "%cd MADSmilestone2\n",
        "\n",
        "# List repo contents\n",
        "!ls"
      ],
      "execution_count": 2,
      "outputs": [
        {
          "output_type": "stream",
          "name": "stdout",
          "text": [
            "Cloning into 'MADSmilestone2'...\n",
            "warning: --local is ignored\n",
            "remote: Enumerating objects: 335, done.\u001b[K\n",
            "remote: Counting objects: 100% (335/335), done.\u001b[K\n",
            "remote: Compressing objects: 100% (275/275), done.\u001b[K\n",
            "remote: Total 335 (delta 182), reused 134 (delta 54), pack-reused 0\u001b[K\n",
            "Receiving objects: 100% (335/335), 2.48 MiB | 4.28 MiB/s, done.\n",
            "Resolving deltas: 100% (182/182), done.\n",
            "/content/MADSmilestone2\n",
            "ian_testingground.ipynb  Images.py  Loading    Supervised_CNN.ipynb\n",
            "Images.ipynb\t\t Labeling   README.md\n"
          ]
        }
      ]
    },
    {
      "cell_type": "code",
      "metadata": {
        "id": "6mzXP-69htRa"
      },
      "source": [
        "#!rm -rf /content/MADSmilestone2"
      ],
      "execution_count": 3,
      "outputs": []
    },
    {
      "cell_type": "code",
      "metadata": {
        "id": "_asNjzxtda2y"
      },
      "source": [
        "import pandas as pd\n",
        "import numpy as np\n",
        "import Labeling.clean_rounds as cr\n",
        "import Labeling.label_data as ld\n",
        "import matplotlib.pyplot as plt"
      ],
      "execution_count": 4,
      "outputs": []
    },
    {
      "cell_type": "markdown",
      "metadata": {
        "id": "idWgB3oM5Elz"
      },
      "source": [
        "### AI Crowd Labeling Strategy\n",
        "\n",
        "---\n",
        "\n"
      ]
    },
    {
      "cell_type": "code",
      "metadata": {
        "colab": {
          "base_uri": "https://localhost:8080/",
          "height": 204
        },
        "id": "Oun-rTP7hxaV",
        "outputId": "f043de12-d446-4f5e-ac58-c30ff0b809d8"
      },
      "source": [
        "# Load Rounds data\n",
        "rounds = pd.read_csv('Loading/round_data.csv')\n",
        "rounds.head()"
      ],
      "execution_count": 4,
      "outputs": [
        {
          "output_type": "execute_result",
          "data": {
            "text/html": [
              "<div>\n",
              "<style scoped>\n",
              "    .dataframe tbody tr th:only-of-type {\n",
              "        vertical-align: middle;\n",
              "    }\n",
              "\n",
              "    .dataframe tbody tr th {\n",
              "        vertical-align: top;\n",
              "    }\n",
              "\n",
              "    .dataframe thead th {\n",
              "        text-align: right;\n",
              "    }\n",
              "</style>\n",
              "<table border=\"1\" class=\"dataframe\">\n",
              "  <thead>\n",
              "    <tr style=\"text-align: right;\">\n",
              "      <th></th>\n",
              "      <th>spid</th>\n",
              "      <th>cg1dclkdraw</th>\n",
              "      <th>hc1disescn9</th>\n",
              "      <th>round</th>\n",
              "    </tr>\n",
              "  </thead>\n",
              "  <tbody>\n",
              "    <tr>\n",
              "      <th>0</th>\n",
              "      <td>10000003.0</td>\n",
              "      <td>3 Mildly distorted depiction of a clock</td>\n",
              "      <td>2 NO</td>\n",
              "      <td>1</td>\n",
              "    </tr>\n",
              "    <tr>\n",
              "      <th>1</th>\n",
              "      <td>10000004.0</td>\n",
              "      <td>3 Mildly distorted depiction of a clock</td>\n",
              "      <td>2 NO</td>\n",
              "      <td>1</td>\n",
              "    </tr>\n",
              "    <tr>\n",
              "      <th>2</th>\n",
              "      <td>10000005.0</td>\n",
              "      <td>3 Mildly distorted depiction of a clock</td>\n",
              "      <td>2 NO</td>\n",
              "      <td>1</td>\n",
              "    </tr>\n",
              "    <tr>\n",
              "      <th>3</th>\n",
              "      <td>10000006.0</td>\n",
              "      <td>4 Reasonably accurate depiction of a clock</td>\n",
              "      <td>2 NO</td>\n",
              "      <td>1</td>\n",
              "    </tr>\n",
              "    <tr>\n",
              "      <th>4</th>\n",
              "      <td>10000007.0</td>\n",
              "      <td>-2 Proxy says cannot ask SP</td>\n",
              "      <td>2 NO</td>\n",
              "      <td>1</td>\n",
              "    </tr>\n",
              "  </tbody>\n",
              "</table>\n",
              "</div>"
            ],
            "text/plain": [
              "         spid                                 cg1dclkdraw hc1disescn9  round\n",
              "0  10000003.0     3 Mildly distorted depiction of a clock        2 NO      1\n",
              "1  10000004.0     3 Mildly distorted depiction of a clock        2 NO      1\n",
              "2  10000005.0     3 Mildly distorted depiction of a clock        2 NO      1\n",
              "3  10000006.0  4 Reasonably accurate depiction of a clock        2 NO      1\n",
              "4  10000007.0                 -2 Proxy says cannot ask SP        2 NO      1"
            ]
          },
          "metadata": {},
          "execution_count": 4
        }
      ]
    },
    {
      "cell_type": "markdown",
      "metadata": {
        "id": "1cJwhTQih9Ko"
      },
      "source": [
        "###Check values for columns of interest\n",
        "- we used the user guide to determine which columns are required\n"
      ]
    },
    {
      "cell_type": "code",
      "metadata": {
        "colab": {
          "base_uri": "https://localhost:8080/",
          "height": 578
        },
        "id": "QFvCzHPwh_Ka",
        "outputId": "b86970e8-eb5e-4f37-b2e2-6c8ff86c6223"
      },
      "source": [
        "print(\"Column values for clock scores: \\n\", rounds['cg1dclkdraw'].unique())\n",
        "print(\"\\nHealth score values: \\n\", rounds['hc1disescn9'].unique())\n",
        "print(\"\\nVariable types: \\n\", rounds.dtypes)\n",
        "rounds[rounds['cg1dclkdraw'] == '-1 Inapplicable'].head()"
      ],
      "execution_count": 5,
      "outputs": [
        {
          "output_type": "stream",
          "name": "stdout",
          "text": [
            "Column values for clock scores: \n",
            " ['3 Mildly distorted depiction of a clock'\n",
            " '4 Reasonably accurate depiction of a clock'\n",
            " '-2 Proxy says cannot ask SP'\n",
            " '2 Moderately distorted depection of a clock' '-1 Inapplicable'\n",
            " '-7 SP refused to draw clock'\n",
            " '5 Accurate depiction of a clock (circular or square)'\n",
            " '1 Severely distorted depiction of a clock'\n",
            " '-4 SP did not attempt to draw clock' '0 Not recognizable as a clock'\n",
            " '-3 Proxy says can ask SP but SP unable to answer' '-9 Missing'\n",
            " '2 Moderately distorted depiction of a clock']\n",
            "\n",
            "Health score values: \n",
            " [' 2 NO' '-1 Inapplicable' ' 1 YES' '-9 Missing' '-8 DK' '2 NO'\n",
            " '7 PREVIOUSLY REPORTED' '1 YES' '-7 RF']\n",
            "\n",
            "Variable types: \n",
            " spid           float64\n",
            "cg1dclkdraw     object\n",
            "hc1disescn9     object\n",
            "round            int64\n",
            "dtype: object\n"
          ]
        },
        {
          "output_type": "execute_result",
          "data": {
            "text/html": [
              "<div>\n",
              "<style scoped>\n",
              "    .dataframe tbody tr th:only-of-type {\n",
              "        vertical-align: middle;\n",
              "    }\n",
              "\n",
              "    .dataframe tbody tr th {\n",
              "        vertical-align: top;\n",
              "    }\n",
              "\n",
              "    .dataframe thead th {\n",
              "        text-align: right;\n",
              "    }\n",
              "</style>\n",
              "<table border=\"1\" class=\"dataframe\">\n",
              "  <thead>\n",
              "    <tr style=\"text-align: right;\">\n",
              "      <th></th>\n",
              "      <th>spid</th>\n",
              "      <th>cg1dclkdraw</th>\n",
              "      <th>hc1disescn9</th>\n",
              "      <th>round</th>\n",
              "    </tr>\n",
              "  </thead>\n",
              "  <tbody>\n",
              "    <tr>\n",
              "      <th>6</th>\n",
              "      <td>10000009.0</td>\n",
              "      <td>-1 Inapplicable</td>\n",
              "      <td>-1 Inapplicable</td>\n",
              "      <td>1</td>\n",
              "    </tr>\n",
              "    <tr>\n",
              "      <th>8</th>\n",
              "      <td>10000013.0</td>\n",
              "      <td>-1 Inapplicable</td>\n",
              "      <td>-1 Inapplicable</td>\n",
              "      <td>1</td>\n",
              "    </tr>\n",
              "    <tr>\n",
              "      <th>10</th>\n",
              "      <td>10000015.0</td>\n",
              "      <td>-1 Inapplicable</td>\n",
              "      <td>-1 Inapplicable</td>\n",
              "      <td>1</td>\n",
              "    </tr>\n",
              "    <tr>\n",
              "      <th>33</th>\n",
              "      <td>10000046.0</td>\n",
              "      <td>-1 Inapplicable</td>\n",
              "      <td>-9 Missing</td>\n",
              "      <td>1</td>\n",
              "    </tr>\n",
              "    <tr>\n",
              "      <th>47</th>\n",
              "      <td>10000067.0</td>\n",
              "      <td>-1 Inapplicable</td>\n",
              "      <td>-9 Missing</td>\n",
              "      <td>1</td>\n",
              "    </tr>\n",
              "  </tbody>\n",
              "</table>\n",
              "</div>"
            ],
            "text/plain": [
              "          spid      cg1dclkdraw      hc1disescn9  round\n",
              "6   10000009.0  -1 Inapplicable  -1 Inapplicable      1\n",
              "8   10000013.0  -1 Inapplicable  -1 Inapplicable      1\n",
              "10  10000015.0  -1 Inapplicable  -1 Inapplicable      1\n",
              "33  10000046.0  -1 Inapplicable       -9 Missing      1\n",
              "47  10000067.0  -1 Inapplicable       -9 Missing      1"
            ]
          },
          "metadata": {},
          "execution_count": 5
        }
      ]
    },
    {
      "cell_type": "code",
      "metadata": {
        "colab": {
          "base_uri": "https://localhost:8080/",
          "height": 204
        },
        "id": "muUutFNyiAn6",
        "outputId": "5e0ad99a-d4b5-420d-e675-d6b9c50f68bb"
      },
      "source": [
        "# Load the cleaned dataframe\n",
        "cleaned_rounds = cr.clean_data(rounds)\n",
        "cleaned_rounds.head()"
      ],
      "execution_count": 6,
      "outputs": [
        {
          "output_type": "execute_result",
          "data": {
            "text/html": [
              "<div>\n",
              "<style scoped>\n",
              "    .dataframe tbody tr th:only-of-type {\n",
              "        vertical-align: middle;\n",
              "    }\n",
              "\n",
              "    .dataframe tbody tr th {\n",
              "        vertical-align: top;\n",
              "    }\n",
              "\n",
              "    .dataframe thead th {\n",
              "        text-align: right;\n",
              "    }\n",
              "</style>\n",
              "<table border=\"1\" class=\"dataframe\">\n",
              "  <thead>\n",
              "    <tr style=\"text-align: right;\">\n",
              "      <th></th>\n",
              "      <th>spid</th>\n",
              "      <th>cg1dclkdraw</th>\n",
              "      <th>hc1disescn9</th>\n",
              "      <th>round</th>\n",
              "    </tr>\n",
              "  </thead>\n",
              "  <tbody>\n",
              "    <tr>\n",
              "      <th>0</th>\n",
              "      <td>10000003</td>\n",
              "      <td>3 Mildly distorted depiction of a clock</td>\n",
              "      <td>2.0</td>\n",
              "      <td>1</td>\n",
              "    </tr>\n",
              "    <tr>\n",
              "      <th>1</th>\n",
              "      <td>10000004</td>\n",
              "      <td>3 Mildly distorted depiction of a clock</td>\n",
              "      <td>2.0</td>\n",
              "      <td>1</td>\n",
              "    </tr>\n",
              "    <tr>\n",
              "      <th>2</th>\n",
              "      <td>10000005</td>\n",
              "      <td>3 Mildly distorted depiction of a clock</td>\n",
              "      <td>2.0</td>\n",
              "      <td>1</td>\n",
              "    </tr>\n",
              "    <tr>\n",
              "      <th>3</th>\n",
              "      <td>10000006</td>\n",
              "      <td>4 Reasonably accurate depiction of a clock</td>\n",
              "      <td>2.0</td>\n",
              "      <td>1</td>\n",
              "    </tr>\n",
              "    <tr>\n",
              "      <th>5</th>\n",
              "      <td>10000008</td>\n",
              "      <td>2 Moderately distorted depection of a clock</td>\n",
              "      <td>2.0</td>\n",
              "      <td>1</td>\n",
              "    </tr>\n",
              "  </tbody>\n",
              "</table>\n",
              "</div>"
            ],
            "text/plain": [
              "       spid                                  cg1dclkdraw  hc1disescn9  round\n",
              "0  10000003      3 Mildly distorted depiction of a clock          2.0      1\n",
              "1  10000004      3 Mildly distorted depiction of a clock          2.0      1\n",
              "2  10000005      3 Mildly distorted depiction of a clock          2.0      1\n",
              "3  10000006   4 Reasonably accurate depiction of a clock          2.0      1\n",
              "5  10000008  2 Moderately distorted depection of a clock          2.0      1"
            ]
          },
          "metadata": {},
          "execution_count": 6
        }
      ]
    },
    {
      "cell_type": "code",
      "metadata": {
        "colab": {
          "base_uri": "https://localhost:8080/"
        },
        "id": "QoZxMd9yiCvb",
        "outputId": "492e600e-ca05-4c2e-9113-bef37e71c62e"
      },
      "source": [
        "#Check that we only have healthscores of 1, 2, 7 and subjects that have drawn clocks\n",
        "print(\"health score check: \\n\",cleaned_rounds.cg1dclkdraw.unique())\n",
        "print(\"\\n clock scores check: \\n\",cleaned_rounds['hc1disescn9'].unique())"
      ],
      "execution_count": 7,
      "outputs": [
        {
          "output_type": "stream",
          "name": "stdout",
          "text": [
            "health score check: \n",
            " ['3 Mildly distorted depiction of a clock'\n",
            " '4 Reasonably accurate depiction of a clock'\n",
            " '2 Moderately distorted depection of a clock'\n",
            " '5 Accurate depiction of a clock (circular or square)'\n",
            " '1 Severely distorted depiction of a clock'\n",
            " '0 Not recognizable as a clock'\n",
            " '2 Moderately distorted depiction of a clock']\n",
            "\n",
            " clock scores check: \n",
            " [2. 1. 7.]\n"
          ]
        }
      ]
    },
    {
      "cell_type": "code",
      "metadata": {
        "colab": {
          "base_uri": "https://localhost:8080/",
          "height": 774
        },
        "id": "hLa7vIiRiFB5",
        "outputId": "d8a2220a-0c3e-4523-9249-c2a1c0acc052"
      },
      "source": [
        "# Check balance of dataset\n",
        "a = cleaned_rounds.hc1disescn9.hist() \n",
        "plt.xlabel(\"Health Score\")\n",
        "plt.ylabel(\"Counts\")\n",
        "plt.show(a) \n",
        "\n",
        "\n",
        "b = cleaned_rounds.cg1dclkdraw.hist()\n",
        "b.tick_params(axis='x', labelrotation = 90)\n",
        "plt.ylabel(\"Counts\")\n",
        "plt.show(b)"
      ],
      "execution_count": 8,
      "outputs": [
        {
          "output_type": "display_data",
          "data": {
            "image/png": "[encoded data removed]",
            "text/plain": [
              "<Figure size 432x288 with 1 Axes>"
            ]
          },
          "metadata": {
            "needs_background": "light"
          }
        },
        {
          "output_type": "display_data",
          "data": {
            "image/png": "[encoded data removed]",
            "text/plain": [
              "<Figure size 432x288 with 1 Axes>"
            ]
          },
          "metadata": {
            "needs_background": "light"
          }
        }
      ]
    },
    {
      "cell_type": "markdown",
      "metadata": {
        "id": "q1tASrUkiJHJ"
      },
      "source": [
        "###Create Labels for the rounds data"
      ]
    },
    {
      "cell_type": "code",
      "metadata": {
        "colab": {
          "base_uri": "https://localhost:8080/",
          "height": 204
        },
        "id": "-kLcAS67iGuL",
        "outputId": "246a4ede-787f-45c7-8bc4-0acffd46d614"
      },
      "source": [
        "labeled_data = ld.create_labels(cleaned_rounds)\n",
        "labeled_data.head()"
      ],
      "execution_count": 9,
      "outputs": [
        {
          "output_type": "execute_result",
          "data": {
            "text/html": [
              "<div>\n",
              "<style scoped>\n",
              "    .dataframe tbody tr th:only-of-type {\n",
              "        vertical-align: middle;\n",
              "    }\n",
              "\n",
              "    .dataframe tbody tr th {\n",
              "        vertical-align: top;\n",
              "    }\n",
              "\n",
              "    .dataframe thead th {\n",
              "        text-align: right;\n",
              "    }\n",
              "</style>\n",
              "<table border=\"1\" class=\"dataframe\">\n",
              "  <thead>\n",
              "    <tr style=\"text-align: right;\">\n",
              "      <th></th>\n",
              "      <th>spid</th>\n",
              "      <th>cg1dclkdraw</th>\n",
              "      <th>hc1disescn9</th>\n",
              "      <th>round</th>\n",
              "      <th>label</th>\n",
              "    </tr>\n",
              "  </thead>\n",
              "  <tbody>\n",
              "    <tr>\n",
              "      <th>0</th>\n",
              "      <td>10000003</td>\n",
              "      <td>3 Mildly distorted depiction of a clock</td>\n",
              "      <td>2.0</td>\n",
              "      <td>1</td>\n",
              "      <td>0</td>\n",
              "    </tr>\n",
              "    <tr>\n",
              "      <th>1</th>\n",
              "      <td>10000004</td>\n",
              "      <td>3 Mildly distorted depiction of a clock</td>\n",
              "      <td>2.0</td>\n",
              "      <td>1</td>\n",
              "      <td>2</td>\n",
              "    </tr>\n",
              "    <tr>\n",
              "      <th>2</th>\n",
              "      <td>10000005</td>\n",
              "      <td>3 Mildly distorted depiction of a clock</td>\n",
              "      <td>2.0</td>\n",
              "      <td>1</td>\n",
              "      <td>2</td>\n",
              "    </tr>\n",
              "    <tr>\n",
              "      <th>3</th>\n",
              "      <td>10000006</td>\n",
              "      <td>4 Reasonably accurate depiction of a clock</td>\n",
              "      <td>2.0</td>\n",
              "      <td>1</td>\n",
              "      <td>2</td>\n",
              "    </tr>\n",
              "    <tr>\n",
              "      <th>5</th>\n",
              "      <td>10000008</td>\n",
              "      <td>2 Moderately distorted depection of a clock</td>\n",
              "      <td>2.0</td>\n",
              "      <td>1</td>\n",
              "      <td>2</td>\n",
              "    </tr>\n",
              "  </tbody>\n",
              "</table>\n",
              "</div>"
            ],
            "text/plain": [
              "       spid                                  cg1dclkdraw  ...  round  label\n",
              "0  10000003      3 Mildly distorted depiction of a clock  ...      1      0\n",
              "1  10000004      3 Mildly distorted depiction of a clock  ...      1      2\n",
              "2  10000005      3 Mildly distorted depiction of a clock  ...      1      2\n",
              "3  10000006   4 Reasonably accurate depiction of a clock  ...      1      2\n",
              "5  10000008  2 Moderately distorted depection of a clock  ...      1      2\n",
              "\n",
              "[5 rows x 5 columns]"
            ]
          },
          "metadata": {},
          "execution_count": 9
        }
      ]
    },
    {
      "cell_type": "code",
      "metadata": {
        "colab": {
          "base_uri": "https://localhost:8080/",
          "height": 282
        },
        "id": "k3qRf4kniK5_",
        "outputId": "91169251-1fd9-44fb-a2d3-aaba13a18b6d"
      },
      "source": [
        "# Look at distribution of labels\n",
        "labeled_data.label.hist() "
      ],
      "execution_count": 10,
      "outputs": [
        {
          "output_type": "execute_result",
          "data": {
            "text/plain": [
              "<matplotlib.axes._subplots.AxesSubplot at 0x7fb340c36e50>"
            ]
          },
          "metadata": {},
          "execution_count": 10
        },
        {
          "output_type": "display_data",
          "data": {
            "image/png": "[encoded data removed]",
            "text/plain": [
              "<Figure size 432x288 with 1 Axes>"
            ]
          },
          "metadata": {
            "needs_background": "light"
          }
        }
      ]
    },
    {
      "cell_type": "code",
      "metadata": {
        "colab": {
          "base_uri": "https://localhost:8080/"
        },
        "id": "poYmGTkCdTFW",
        "outputId": "9eb16868-cfcf-4c66-f258-179a4fac7993"
      },
      "source": [
        "labeled_data['label'].value_counts()"
      ],
      "execution_count": 11,
      "outputs": [
        {
          "output_type": "execute_result",
          "data": {
            "text/plain": [
              "2    46490\n",
              "1     2533\n",
              "0     2469\n",
              "Name: label, dtype: int64"
            ]
          },
          "metadata": {},
          "execution_count": 11
        }
      ]
    },
    {
      "cell_type": "markdown",
      "metadata": {
        "id": "JP2W17bY5jwj"
      },
      "source": [
        "### NHATs Strategy for Labeling Data\n",
        "\n",
        "---\n",
        "\n"
      ]
    },
    {
      "cell_type": "code",
      "metadata": {
        "id": "UXZ4dEMqeGej",
        "colab": {
          "base_uri": "https://localhost:8080/",
          "height": 445
        },
        "outputId": "dd48899f-b1fd-450b-8513-8f3c3caf313f"
      },
      "source": [
        "round_hat_data = pd.read_csv('Loading/hats_round_data.csv')\n",
        "round_hat_data.head()"
      ],
      "execution_count": 5,
      "outputs": [
        {
          "output_type": "execute_result",
          "data": {
            "text/html": [
              "<div>\n",
              "<style scoped>\n",
              "    .dataframe tbody tr th:only-of-type {\n",
              "        vertical-align: middle;\n",
              "    }\n",
              "\n",
              "    .dataframe tbody tr th {\n",
              "        vertical-align: top;\n",
              "    }\n",
              "\n",
              "    .dataframe thead th {\n",
              "        text-align: right;\n",
              "    }\n",
              "</style>\n",
              "<table border=\"1\" class=\"dataframe\">\n",
              "  <thead>\n",
              "    <tr style=\"text-align: right;\">\n",
              "      <th></th>\n",
              "      <th>spid</th>\n",
              "      <th>cg1dclkdraw</th>\n",
              "      <th>hc1disescn9</th>\n",
              "      <th>cg1presidna1</th>\n",
              "      <th>cg1presidna3</th>\n",
              "      <th>cg1vpname1</th>\n",
              "      <th>cg1vpname3</th>\n",
              "      <th>cg1todaydat1</th>\n",
              "      <th>cg1todaydat2</th>\n",
              "      <th>cg1todaydat3</th>\n",
              "      <th>cg1todaydat4</th>\n",
              "      <th>cg1dwrdimmrc</th>\n",
              "      <th>cg1dwrddlyrc</th>\n",
              "      <th>round</th>\n",
              "      <th>cp1dad8dem</th>\n",
              "    </tr>\n",
              "  </thead>\n",
              "  <tbody>\n",
              "    <tr>\n",
              "      <th>0</th>\n",
              "      <td>10000003.0</td>\n",
              "      <td>3 Mildly distorted depiction of a clock</td>\n",
              "      <td>2 NO</td>\n",
              "      <td>1 YES</td>\n",
              "      <td>1 YES</td>\n",
              "      <td>1 YES</td>\n",
              "      <td>1 YES</td>\n",
              "      <td>1 YES</td>\n",
              "      <td>1 YES</td>\n",
              "      <td>1 YES</td>\n",
              "      <td>1 YES</td>\n",
              "      <td>6.0</td>\n",
              "      <td>3.0</td>\n",
              "      <td>1</td>\n",
              "      <td>NaN</td>\n",
              "    </tr>\n",
              "    <tr>\n",
              "      <th>1</th>\n",
              "      <td>10000004.0</td>\n",
              "      <td>3 Mildly distorted depiction of a clock</td>\n",
              "      <td>2 NO</td>\n",
              "      <td>1 YES</td>\n",
              "      <td>1 YES</td>\n",
              "      <td>2 NO</td>\n",
              "      <td>2 NO</td>\n",
              "      <td>1 YES</td>\n",
              "      <td>1 YES</td>\n",
              "      <td>1 YES</td>\n",
              "      <td>1 YES</td>\n",
              "      <td>4.0</td>\n",
              "      <td>3.0</td>\n",
              "      <td>1</td>\n",
              "      <td>NaN</td>\n",
              "    </tr>\n",
              "    <tr>\n",
              "      <th>2</th>\n",
              "      <td>10000005.0</td>\n",
              "      <td>3 Mildly distorted depiction of a clock</td>\n",
              "      <td>2 NO</td>\n",
              "      <td>1 YES</td>\n",
              "      <td>1 YES</td>\n",
              "      <td>1 YES</td>\n",
              "      <td>1 YES</td>\n",
              "      <td>1 YES</td>\n",
              "      <td>1 YES</td>\n",
              "      <td>1 YES</td>\n",
              "      <td>1 YES</td>\n",
              "      <td>7.0</td>\n",
              "      <td>4.0</td>\n",
              "      <td>1</td>\n",
              "      <td>NaN</td>\n",
              "    </tr>\n",
              "    <tr>\n",
              "      <th>3</th>\n",
              "      <td>10000006.0</td>\n",
              "      <td>4 Reasonably accurate depiction of a clock</td>\n",
              "      <td>2 NO</td>\n",
              "      <td>1 YES</td>\n",
              "      <td>1 YES</td>\n",
              "      <td>1 YES</td>\n",
              "      <td>2 NO</td>\n",
              "      <td>1 YES</td>\n",
              "      <td>1 YES</td>\n",
              "      <td>1 YES</td>\n",
              "      <td>1 YES</td>\n",
              "      <td>4.0</td>\n",
              "      <td>3.0</td>\n",
              "      <td>1</td>\n",
              "      <td>NaN</td>\n",
              "    </tr>\n",
              "    <tr>\n",
              "      <th>4</th>\n",
              "      <td>10000007.0</td>\n",
              "      <td>-2 Proxy says cannot ask SP</td>\n",
              "      <td>2 NO</td>\n",
              "      <td>-1 Inapplicable</td>\n",
              "      <td>-1 Inapplicable</td>\n",
              "      <td>-1 Inapplicable</td>\n",
              "      <td>-1 Inapplicable</td>\n",
              "      <td>-1 Inapplicable</td>\n",
              "      <td>-1 Inapplicable</td>\n",
              "      <td>-1 Inapplicable</td>\n",
              "      <td>-1 Inapplicable</td>\n",
              "      <td>-2 Proxy says cannot ask SP</td>\n",
              "      <td>-2 Proxy says cannot ask SP</td>\n",
              "      <td>1</td>\n",
              "      <td>NaN</td>\n",
              "    </tr>\n",
              "  </tbody>\n",
              "</table>\n",
              "</div>"
            ],
            "text/plain": [
              "         spid                                 cg1dclkdraw  ... round cp1dad8dem\n",
              "0  10000003.0     3 Mildly distorted depiction of a clock  ...     1        NaN\n",
              "1  10000004.0     3 Mildly distorted depiction of a clock  ...     1        NaN\n",
              "2  10000005.0     3 Mildly distorted depiction of a clock  ...     1        NaN\n",
              "3  10000006.0  4 Reasonably accurate depiction of a clock  ...     1        NaN\n",
              "4  10000007.0                 -2 Proxy says cannot ask SP  ...     1        NaN\n",
              "\n",
              "[5 rows x 15 columns]"
            ]
          },
          "metadata": {},
          "execution_count": 5
        }
      ]
    },
    {
      "cell_type": "code",
      "metadata": {
        "id": "bfvup7OZjxyq"
      },
      "source": [
        "# Check all values for each variable prior to cleaning; variables are picked from\n",
        "# NHATs User Guide\n",
        "columns_to_keep = ['cg1presidna1','cg1presidna3','cg1vpname1','cg1vpname3',\n",
        "           'cg1todaydat1','cg1todaydat2','cg1todaydat3', 'cg1todaydat4',\n",
        "           'cg1dclkdraw','hc1disescn9', 'cp1dad8dem', 'cg1dwrdimmrc',\n",
        "           'cg1dwrddlyrc']\n",
        "\n",
        "d = round_hat_data[columns_to_keep]\n",
        "\n",
        "for col in d.columns:\n",
        "  print(\"\\n{}: \\n\".format(col), d[col].unique())\n",
        "  for item in d[col].unique():\n",
        "    print(\"\\n\", item)"
      ],
      "execution_count": null,
      "outputs": []
    },
    {
      "cell_type": "code",
      "metadata": {
        "id": "kudQhXpY67W0",
        "colab": {
          "base_uri": "https://localhost:8080/",
          "height": 224
        },
        "outputId": "1aba8bc4-e2e7-4d0a-b65b-66b7ac5cf08f"
      },
      "source": [
        "# Run cleaning script resave dataframe\n",
        "round_hat_clean = cr.clean_hats_rounds(round_hat_data)\n",
        "round_hat_clean.head()"
      ],
      "execution_count": 7,
      "outputs": [
        {
          "output_type": "execute_result",
          "data": {
            "text/html": [
              "<div>\n",
              "<style scoped>\n",
              "    .dataframe tbody tr th:only-of-type {\n",
              "        vertical-align: middle;\n",
              "    }\n",
              "\n",
              "    .dataframe tbody tr th {\n",
              "        vertical-align: top;\n",
              "    }\n",
              "\n",
              "    .dataframe thead th {\n",
              "        text-align: right;\n",
              "    }\n",
              "</style>\n",
              "<table border=\"1\" class=\"dataframe\">\n",
              "  <thead>\n",
              "    <tr style=\"text-align: right;\">\n",
              "      <th></th>\n",
              "      <th>spid</th>\n",
              "      <th>cg1dclkdraw</th>\n",
              "      <th>hc1disescn9</th>\n",
              "      <th>cg1presidna1</th>\n",
              "      <th>cg1presidna3</th>\n",
              "      <th>cg1vpname1</th>\n",
              "      <th>cg1vpname3</th>\n",
              "      <th>cg1todaydat1</th>\n",
              "      <th>cg1todaydat2</th>\n",
              "      <th>cg1todaydat3</th>\n",
              "      <th>cg1todaydat4</th>\n",
              "      <th>cg1dwrdimmrc</th>\n",
              "      <th>cg1dwrddlyrc</th>\n",
              "      <th>round</th>\n",
              "      <th>cp1dad8dem</th>\n",
              "    </tr>\n",
              "  </thead>\n",
              "  <tbody>\n",
              "    <tr>\n",
              "      <th>0</th>\n",
              "      <td>10000003</td>\n",
              "      <td>3.0</td>\n",
              "      <td>2</td>\n",
              "      <td>1</td>\n",
              "      <td>1</td>\n",
              "      <td>1</td>\n",
              "      <td>1</td>\n",
              "      <td>1.0</td>\n",
              "      <td>1.0</td>\n",
              "      <td>1.0</td>\n",
              "      <td>1.0</td>\n",
              "      <td>6.0</td>\n",
              "      <td>3.0</td>\n",
              "      <td>1</td>\n",
              "      <td>10</td>\n",
              "    </tr>\n",
              "    <tr>\n",
              "      <th>1</th>\n",
              "      <td>10000004</td>\n",
              "      <td>3.0</td>\n",
              "      <td>2</td>\n",
              "      <td>1</td>\n",
              "      <td>1</td>\n",
              "      <td>0</td>\n",
              "      <td>0</td>\n",
              "      <td>1.0</td>\n",
              "      <td>1.0</td>\n",
              "      <td>1.0</td>\n",
              "      <td>1.0</td>\n",
              "      <td>4.0</td>\n",
              "      <td>3.0</td>\n",
              "      <td>1</td>\n",
              "      <td>10</td>\n",
              "    </tr>\n",
              "    <tr>\n",
              "      <th>2</th>\n",
              "      <td>10000005</td>\n",
              "      <td>3.0</td>\n",
              "      <td>2</td>\n",
              "      <td>1</td>\n",
              "      <td>1</td>\n",
              "      <td>1</td>\n",
              "      <td>1</td>\n",
              "      <td>1.0</td>\n",
              "      <td>1.0</td>\n",
              "      <td>1.0</td>\n",
              "      <td>1.0</td>\n",
              "      <td>7.0</td>\n",
              "      <td>4.0</td>\n",
              "      <td>1</td>\n",
              "      <td>10</td>\n",
              "    </tr>\n",
              "    <tr>\n",
              "      <th>3</th>\n",
              "      <td>10000006</td>\n",
              "      <td>4.0</td>\n",
              "      <td>2</td>\n",
              "      <td>1</td>\n",
              "      <td>1</td>\n",
              "      <td>1</td>\n",
              "      <td>0</td>\n",
              "      <td>1.0</td>\n",
              "      <td>1.0</td>\n",
              "      <td>1.0</td>\n",
              "      <td>1.0</td>\n",
              "      <td>4.0</td>\n",
              "      <td>3.0</td>\n",
              "      <td>1</td>\n",
              "      <td>10</td>\n",
              "    </tr>\n",
              "    <tr>\n",
              "      <th>5</th>\n",
              "      <td>10000008</td>\n",
              "      <td>2.0</td>\n",
              "      <td>2</td>\n",
              "      <td>1</td>\n",
              "      <td>1</td>\n",
              "      <td>1</td>\n",
              "      <td>1</td>\n",
              "      <td>1.0</td>\n",
              "      <td>1.0</td>\n",
              "      <td>1.0</td>\n",
              "      <td>1.0</td>\n",
              "      <td>7.0</td>\n",
              "      <td>7.0</td>\n",
              "      <td>1</td>\n",
              "      <td>10</td>\n",
              "    </tr>\n",
              "  </tbody>\n",
              "</table>\n",
              "</div>"
            ],
            "text/plain": [
              "       spid  cg1dclkdraw  hc1disescn9  ...  cg1dwrddlyrc  round  cp1dad8dem\n",
              "0  10000003          3.0            2  ...           3.0      1          10\n",
              "1  10000004          3.0            2  ...           3.0      1          10\n",
              "2  10000005          3.0            2  ...           4.0      1          10\n",
              "3  10000006          4.0            2  ...           3.0      1          10\n",
              "5  10000008          2.0            2  ...           7.0      1          10\n",
              "\n",
              "[5 rows x 15 columns]"
            ]
          },
          "metadata": {},
          "execution_count": 7
        }
      ]
    },
    {
      "cell_type": "code",
      "metadata": {
        "id": "2XCrWNTwVMqL",
        "colab": {
          "base_uri": "https://localhost:8080/"
        },
        "outputId": "96ac9169-b47e-4098-f428-3bbe1c7ff366"
      },
      "source": [
        "# Check all column values again\n",
        "columns_to_keep = ['cg1presidna1','cg1presidna3','cg1vpname1','cg1vpname3',\n",
        "           'cg1todaydat1','cg1todaydat2','cg1todaydat3', 'cg1todaydat4',\n",
        "           'cg1dclkdraw','hc1disescn9', 'cp1dad8dem', 'cg1dwrdimmrc',\n",
        "           'cg1dwrddlyrc']\n",
        "\n",
        "d = round_hat_clean[columns_to_keep]\n",
        "\n",
        "for col in d.columns:\n",
        "  print(\"\\n{}: \\n\".format(col), d[col].unique())\n",
        "  for item in d[col].unique():\n",
        "    print(\"\\n\", item)"
      ],
      "execution_count": 8,
      "outputs": [
        {
          "output_type": "stream",
          "name": "stdout",
          "text": [
            "\n",
            "cg1presidna1: \n",
            " [1 0]\n",
            "\n",
            " 1\n",
            "\n",
            " 0\n",
            "\n",
            "cg1presidna3: \n",
            " [1 0]\n",
            "\n",
            " 1\n",
            "\n",
            " 0\n",
            "\n",
            "cg1vpname1: \n",
            " [1 0]\n",
            "\n",
            " 1\n",
            "\n",
            " 0\n",
            "\n",
            "cg1vpname3: \n",
            " [1 0]\n",
            "\n",
            " 1\n",
            "\n",
            " 0\n",
            "\n",
            "cg1todaydat1: \n",
            " [ 1.  0. nan]\n",
            "\n",
            " 1.0\n",
            "\n",
            " 0.0\n",
            "\n",
            " nan\n",
            "\n",
            "cg1todaydat2: \n",
            " [ 1.  0. nan]\n",
            "\n",
            " 1.0\n",
            "\n",
            " 0.0\n",
            "\n",
            " nan\n",
            "\n",
            "cg1todaydat3: \n",
            " [ 1.  0. nan]\n",
            "\n",
            " 1.0\n",
            "\n",
            " 0.0\n",
            "\n",
            " nan\n",
            "\n",
            "cg1todaydat4: \n",
            " [ 1.  0. nan]\n",
            "\n",
            " 1.0\n",
            "\n",
            " 0.0\n",
            "\n",
            " nan\n",
            "\n",
            "cg1dclkdraw: \n",
            " [3. 4. 2. 5. 1. 0.]\n",
            "\n",
            " 3.0\n",
            "\n",
            " 4.0\n",
            "\n",
            " 2.0\n",
            "\n",
            " 5.0\n",
            "\n",
            " 1.0\n",
            "\n",
            " 0.0\n",
            "\n",
            "hc1disescn9: \n",
            " [ 2  1  0  7 10]\n",
            "\n",
            " 2\n",
            "\n",
            " 1\n",
            "\n",
            " 0\n",
            "\n",
            " 7\n",
            "\n",
            " 10\n",
            "\n",
            "cp1dad8dem: \n",
            " [10  0  1]\n",
            "\n",
            " 10\n",
            "\n",
            " 0\n",
            "\n",
            " 1\n",
            "\n",
            "cg1dwrdimmrc: \n",
            " ['6.0' '4.0' '7.0' '5.0' '3.0' '2.0' '0.0' '8.0' 0 '1.0' '9.0' '10.0' nan]\n",
            "\n",
            " 6.0\n",
            "\n",
            " 4.0\n",
            "\n",
            " 7.0\n",
            "\n",
            " 5.0\n",
            "\n",
            " 3.0\n",
            "\n",
            " 2.0\n",
            "\n",
            " 0.0\n",
            "\n",
            " 8.0\n",
            "\n",
            " 0\n",
            "\n",
            " 1.0\n",
            "\n",
            " 9.0\n",
            "\n",
            " 10.0\n",
            "\n",
            " nan\n",
            "\n",
            "cg1dwrddlyrc: \n",
            " ['3.0' '4.0' '7.0' '5.0' '2.0' '6.0' '0.0' '1.0' 0 '8.0' '9.0' '10.0' nan]\n",
            "\n",
            " 3.0\n",
            "\n",
            " 4.0\n",
            "\n",
            " 7.0\n",
            "\n",
            " 5.0\n",
            "\n",
            " 2.0\n",
            "\n",
            " 6.0\n",
            "\n",
            " 0.0\n",
            "\n",
            " 1.0\n",
            "\n",
            " 0\n",
            "\n",
            " 8.0\n",
            "\n",
            " 9.0\n",
            "\n",
            " 10.0\n",
            "\n",
            " nan\n"
          ]
        }
      ]
    },
    {
      "cell_type": "code",
      "metadata": {
        "id": "LXmMvMFUUq2C",
        "colab": {
          "base_uri": "https://localhost:8080/"
        },
        "outputId": "0ed736da-1fad-4951-8dde-46f902f9705b"
      },
      "source": [
        "# Drop the rest of the NaN values since we do not have data for these subjects and\n",
        "# cannot conclude their scores\n",
        "round_hat_clean.dropna(inplace=True)\n",
        "\n",
        "# Check dtypes\n",
        "round_hat_clean.dtypes"
      ],
      "execution_count": 9,
      "outputs": [
        {
          "output_type": "execute_result",
          "data": {
            "text/plain": [
              "spid             string\n",
              "cg1dclkdraw     float64\n",
              "hc1disescn9       int64\n",
              "cg1presidna1      int64\n",
              "cg1presidna3      int64\n",
              "cg1vpname1        int64\n",
              "cg1vpname3        int64\n",
              "cg1todaydat1    float64\n",
              "cg1todaydat2    float64\n",
              "cg1todaydat3    float64\n",
              "cg1todaydat4    float64\n",
              "cg1dwrdimmrc     object\n",
              "cg1dwrddlyrc     object\n",
              "round             int64\n",
              "cp1dad8dem        int64\n",
              "dtype: object"
            ]
          },
          "metadata": {},
          "execution_count": 9
        }
      ]
    },
    {
      "cell_type": "code",
      "metadata": {
        "id": "4r499IAWD5QU"
      },
      "source": [
        "# Change variable value types from Categorical to Int64 for later calculations\n",
        "col_to_change = ['cg1presidna1','cg1presidna3','cg1vpname1','cg1vpname3',\n",
        "           'cg1todaydat1','cg1todaydat2','cg1todaydat3', 'cg1todaydat4',\n",
        "           'cg1dclkdraw','hc1disescn9', 'cp1dad8dem', 'cg1dwrdimmrc',\n",
        "           'cg1dwrddlyrc']\n",
        "round_hat_clean[col_to_change] = round_hat_clean[col_to_change].apply(pd.to_numeric)"
      ],
      "execution_count": 10,
      "outputs": []
    },
    {
      "cell_type": "code",
      "metadata": {
        "id": "pt8-yr_rZS6N"
      },
      "source": [
        "# Create orientation and memory scores\n",
        "round_hat_clean['orientation_score'] = round_hat_clean['cg1presidna1'] + round_hat_clean['cg1presidna3'] \\\n",
        "+ round_hat_clean['cg1vpname1'] + round_hat_clean['cg1vpname3'] + round_hat_clean['cg1todaydat1']\\\n",
        "+ round_hat_clean['cg1todaydat2'] + round_hat_clean['cg1todaydat3'] + round_hat_clean['cg1todaydat4']\n",
        "\n",
        "round_hat_clean['memory_score'] = round_hat_clean['cg1dwrdimmrc'] + round_hat_clean['cg1dwrddlyrc']"
      ],
      "execution_count": 11,
      "outputs": []
    },
    {
      "cell_type": "code",
      "metadata": {
        "id": "6Ze_GyMd9lQ8",
        "colab": {
          "base_uri": "https://localhost:8080/",
          "height": 359
        },
        "outputId": "4a8d00a5-3f66-4c37-e1f2-2304875c9a17"
      },
      "source": [
        "# Call script that creates the labels for each subject\n",
        "round_hat_label = ld.create_hats_labels(round_hat_clean)[['round', 'spid', 'label']]\n",
        "round_hat_label.sample(10)"
      ],
      "execution_count": 12,
      "outputs": [
        {
          "output_type": "execute_result",
          "data": {
            "text/html": [
              "<div>\n",
              "<style scoped>\n",
              "    .dataframe tbody tr th:only-of-type {\n",
              "        vertical-align: middle;\n",
              "    }\n",
              "\n",
              "    .dataframe tbody tr th {\n",
              "        vertical-align: top;\n",
              "    }\n",
              "\n",
              "    .dataframe thead th {\n",
              "        text-align: right;\n",
              "    }\n",
              "</style>\n",
              "<table border=\"1\" class=\"dataframe\">\n",
              "  <thead>\n",
              "    <tr style=\"text-align: right;\">\n",
              "      <th></th>\n",
              "      <th>round</th>\n",
              "      <th>spid</th>\n",
              "      <th>label</th>\n",
              "    </tr>\n",
              "  </thead>\n",
              "  <tbody>\n",
              "    <tr>\n",
              "      <th>25119</th>\n",
              "      <td>4</td>\n",
              "      <td>10007985</td>\n",
              "      <td>2</td>\n",
              "    </tr>\n",
              "    <tr>\n",
              "      <th>35408</th>\n",
              "      <td>6</td>\n",
              "      <td>10004155</td>\n",
              "      <td>2</td>\n",
              "    </tr>\n",
              "    <tr>\n",
              "      <th>47133</th>\n",
              "      <td>7</td>\n",
              "      <td>20005666</td>\n",
              "      <td>0</td>\n",
              "    </tr>\n",
              "    <tr>\n",
              "      <th>60890</th>\n",
              "      <td>10</td>\n",
              "      <td>20001114</td>\n",
              "      <td>0</td>\n",
              "    </tr>\n",
              "    <tr>\n",
              "      <th>34556</th>\n",
              "      <td>6</td>\n",
              "      <td>10001200</td>\n",
              "      <td>2</td>\n",
              "    </tr>\n",
              "    <tr>\n",
              "      <th>61386</th>\n",
              "      <td>10</td>\n",
              "      <td>20002780</td>\n",
              "      <td>2</td>\n",
              "    </tr>\n",
              "    <tr>\n",
              "      <th>23930</th>\n",
              "      <td>4</td>\n",
              "      <td>10012326</td>\n",
              "      <td>2</td>\n",
              "    </tr>\n",
              "    <tr>\n",
              "      <th>22558</th>\n",
              "      <td>4</td>\n",
              "      <td>10004661</td>\n",
              "      <td>2</td>\n",
              "    </tr>\n",
              "    <tr>\n",
              "      <th>15470</th>\n",
              "      <td>3</td>\n",
              "      <td>10004250</td>\n",
              "      <td>0</td>\n",
              "    </tr>\n",
              "    <tr>\n",
              "      <th>676</th>\n",
              "      <td>1</td>\n",
              "      <td>10001034</td>\n",
              "      <td>2</td>\n",
              "    </tr>\n",
              "  </tbody>\n",
              "</table>\n",
              "</div>"
            ],
            "text/plain": [
              "       round      spid  label\n",
              "25119      4  10007985      2\n",
              "35408      6  10004155      2\n",
              "47133      7  20005666      0\n",
              "60890     10  20001114      0\n",
              "34556      6  10001200      2\n",
              "61386     10  20002780      2\n",
              "23930      4  10012326      2\n",
              "22558      4  10004661      2\n",
              "15470      3  10004250      0\n",
              "676        1  10001034      2"
            ]
          },
          "metadata": {},
          "execution_count": 12
        }
      ]
    },
    {
      "cell_type": "code",
      "metadata": {
        "colab": {
          "base_uri": "https://localhost:8080/",
          "height": 282
        },
        "id": "pB8Bym0p0vsA",
        "outputId": "4ed96165-716f-457e-c19a-0b42b5ac0c65"
      },
      "source": [
        "round_hat_label.label.hist() "
      ],
      "execution_count": 13,
      "outputs": [
        {
          "output_type": "execute_result",
          "data": {
            "text/plain": [
              "<matplotlib.axes._subplots.AxesSubplot at 0x7f52d3dad710>"
            ]
          },
          "metadata": {},
          "execution_count": 13
        },
        {
          "output_type": "display_data",
          "data": {
            "image/png": "[encoded data removed]",
            "text/plain": [
              "<Figure size 432x288 with 1 Axes>"
            ]
          },
          "metadata": {
            "needs_background": "light"
          }
        }
      ]
    },
    {
      "cell_type": "code",
      "metadata": {
        "colab": {
          "base_uri": "https://localhost:8080/"
        },
        "id": "gT8yihrT50a3",
        "outputId": "ad166be9-c952-4cef-ca8b-fa6bb97bc168"
      },
      "source": [
        "round_hat_label['label'].value_counts()"
      ],
      "execution_count": 14,
      "outputs": [
        {
          "output_type": "execute_result",
          "data": {
            "text/plain": [
              "2    41656\n",
              "0     5312\n",
              "1     4393\n",
              "Name: label, dtype: int64"
            ]
          },
          "metadata": {},
          "execution_count": 14
        }
      ]
    },
    {
      "cell_type": "markdown",
      "metadata": {
        "id": "oLIyJEUbcrpN"
      },
      "source": [
        "## Testing AI strategy of labeling on NHATs\n",
        "Logic: If an SPID for all rounds returns different labels, we want to make sure these labels consistently illustrate the cognitive trend. \n",
        "\n",
        "\n",
        "If and SPID's labels contain 2's, 0's and 1's, the most logical decision would be to assign all rounds before the appearance of a 1 as a 0. (Possible dementia preceeds a diagnosis classification of dementia). \n",
        "\n",
        "\n",
        "If the subject contains only 2's and 0 labels, all rounds prior to the first appearance of a label of 0 should keep the label of 2. (No dementia preceeds possible onset of dementia)\n",
        "\n",
        "We should then see different label combinations of either (2..., 0...), (2...), (0...), (0..., 1...), or (1...)\n",
        "\n"
      ]
    },
    {
      "cell_type": "code",
      "metadata": {
        "id": "c3OHr_OHmnER"
      },
      "source": [
        "final_df = round_hat_label.copy()"
      ],
      "execution_count": 15,
      "outputs": []
    },
    {
      "cell_type": "code",
      "metadata": {
        "colab": {
          "base_uri": "https://localhost:8080/"
        },
        "id": "-Opg-9axIz2n",
        "outputId": "46a35296-3cb0-4b84-daf5-b5ea89c5d2fc"
      },
      "source": [
        "# Pre-final labeling test \n",
        "ids_test = ['10000006','10000024','20006986', '10000041','10000131', '10000175', '10000047', '20007062' ]\n",
        "for nums in ids_test:\n",
        "  print(final_df[final_df['spid'] == nums])"
      ],
      "execution_count": 16,
      "outputs": [
        {
          "output_type": "stream",
          "name": "stdout",
          "text": [
            "   round      spid  label\n",
            "3      1  10000006      2\n",
            "       round      spid  label\n",
            "17         1  10000024      2\n",
            "8258       2  10000024      0\n",
            "16510      3  10000024      0\n",
            "22100      4  10000024      1\n",
            "       round      spid  label\n",
            "34111      5  20006986      1\n",
            "41398      6  20006986      2\n",
            "47726      7  20006986      2\n",
            "53278      8  20006986      0\n",
            "58262      9  20006986      1\n",
            "62655     10  20006986      0\n",
            "       round      spid  label\n",
            "28         1  10000041      0\n",
            "8268       2  10000041      2\n",
            "16744      3  10000041      2\n",
            "22301      4  10000041      2\n",
            "25869      5  10000041      0\n",
            "34203      6  10000041      2\n",
            "41477      7  10000041      0\n",
            "47788      8  10000041      0\n",
            "53333      9  10000041      2\n",
            "58309     10  10000041      2\n",
            "       round      spid  label\n",
            "8321       2  10000131      2\n",
            "18110      3  10000131      2\n",
            "23412      4  10000131      2\n",
            "25902      5  10000131      0\n",
            "34233      6  10000131      2\n",
            "41504      7  10000131      2\n",
            "       round      spid  label\n",
            "120        1  10000175      2\n",
            "8348       2  10000175      2\n",
            "19596      3  10000175      2\n",
            "24611      4  10000175      2\n",
            "25917      5  10000175      2\n",
            "34246      6  10000175      0\n",
            "41517      7  10000175      0\n",
            "       round      spid  label\n",
            "34         1  10000047      2\n",
            "8274       2  10000047      1\n",
            "20258      3  10000047      1\n",
            "25149      4  10000047      1\n",
            "25872      5  10000047      1\n",
            "34206      6  10000047      1\n",
            "41479      7  10000047      1\n",
            "53335      9  10000047      1\n",
            "       round      spid  label\n",
            "34152      5  20007062      1\n",
            "41432      6  20007062      0\n",
            "47753      7  20007062      0\n",
            "53302      8  20007062      1\n",
            "58281      9  20007062      1\n",
            "62673     10  20007062      1\n"
          ]
        }
      ]
    },
    {
      "cell_type": "code",
      "metadata": {
        "id": "tDVAvpUU2IFL"
      },
      "source": [
        "# final label strategy\n",
        "final_label_df = ld.custom_label(final_df)"
      ],
      "execution_count": 17,
      "outputs": []
    },
    {
      "cell_type": "code",
      "metadata": {
        "colab": {
          "base_uri": "https://localhost:8080/"
        },
        "id": "Pvh0JMcfLxXZ",
        "outputId": "12cbf2ee-78cf-43b4-9353-56511d87ac9d"
      },
      "source": [
        "# Post-final labeling test \n",
        "ids_test = ['10000006','10000024','20006986', '10000041','10000131', '10000175', '10000047', '20007062' ]\n",
        "for nums in ids_test:\n",
        "  print(final_label_df[final_label_df['spid'] == nums])"
      ],
      "execution_count": 18,
      "outputs": [
        {
          "output_type": "stream",
          "name": "stdout",
          "text": [
            "   round      spid  label\n",
            "3      1  10000006      2\n",
            "       round      spid  label\n",
            "17         1  10000024      0\n",
            "8258       2  10000024      0\n",
            "16510      3  10000024      0\n",
            "22100      4  10000024      1\n",
            "       round      spid  label\n",
            "34111      5  20006986      1\n",
            "41398      6  20006986      1\n",
            "47726      7  20006986      1\n",
            "53278      8  20006986      1\n",
            "58262      9  20006986      1\n",
            "62655     10  20006986      1\n",
            "       round      spid  label\n",
            "28         1  10000041      0\n",
            "8268       2  10000041      0\n",
            "16744      3  10000041      0\n",
            "22301      4  10000041      0\n",
            "25869      5  10000041      0\n",
            "34203      6  10000041      0\n",
            "41477      7  10000041      0\n",
            "47788      8  10000041      0\n",
            "53333      9  10000041      0\n",
            "58309     10  10000041      0\n",
            "       round      spid  label\n",
            "8321       2  10000131      2\n",
            "18110      3  10000131      2\n",
            "23412      4  10000131      2\n",
            "25902      5  10000131      0\n",
            "34233      6  10000131      0\n",
            "41504      7  10000131      0\n",
            "       round      spid  label\n",
            "120        1  10000175      2\n",
            "8348       2  10000175      2\n",
            "19596      3  10000175      2\n",
            "24611      4  10000175      2\n",
            "25917      5  10000175      2\n",
            "34246      6  10000175      0\n",
            "41517      7  10000175      0\n",
            "       round      spid  label\n",
            "34         1  10000047      0\n",
            "8274       2  10000047      1\n",
            "20258      3  10000047      1\n",
            "25149      4  10000047      1\n",
            "25872      5  10000047      1\n",
            "34206      6  10000047      1\n",
            "41479      7  10000047      1\n",
            "53335      9  10000047      1\n",
            "       round      spid  label\n",
            "34152      5  20007062      1\n",
            "41432      6  20007062      1\n",
            "47753      7  20007062      1\n",
            "53302      8  20007062      1\n",
            "58281      9  20007062      1\n",
            "62673     10  20007062      1\n"
          ]
        }
      ]
    },
    {
      "cell_type": "code",
      "metadata": {
        "colab": {
          "base_uri": "https://localhost:8080/",
          "height": 282
        },
        "id": "u2s3qNDcmLz6",
        "outputId": "12e14912-687e-4c0a-cf9e-756b81faf833"
      },
      "source": [
        "final_label_df.label.hist()"
      ],
      "execution_count": 19,
      "outputs": [
        {
          "output_type": "execute_result",
          "data": {
            "text/plain": [
              "<matplotlib.axes._subplots.AxesSubplot at 0x7f52d3ce54d0>"
            ]
          },
          "metadata": {},
          "execution_count": 19
        },
        {
          "output_type": "display_data",
          "data": {
            "image/png": "[encoded data removed]",
            "text/plain": [
              "<Figure size 432x288 with 1 Axes>"
            ]
          },
          "metadata": {
            "needs_background": "light"
          }
        }
      ]
    },
    {
      "cell_type": "code",
      "metadata": {
        "colab": {
          "base_uri": "https://localhost:8080/"
        },
        "id": "VWEIT0t0mM1q",
        "outputId": "d93c1773-85e5-47ec-c7d9-d29ed6cdff53"
      },
      "source": [
        "final_label_df['label'].value_counts()"
      ],
      "execution_count": 20,
      "outputs": [
        {
          "output_type": "execute_result",
          "data": {
            "text/plain": [
              "2    34483\n",
              "0    11658\n",
              "1     5220\n",
              "Name: label, dtype: int64"
            ]
          },
          "metadata": {},
          "execution_count": 20
        }
      ]
    },
    {
      "cell_type": "markdown",
      "metadata": {
        "id": "eDfLa9wuky9A"
      },
      "source": [
        "## Label strategy keeping only 4 combinations\n",
        "(2...), (0...), (0...,1...), (1...)\n"
      ]
    },
    {
      "cell_type": "code",
      "metadata": {
        "id": "aMqnn4hClCVf"
      },
      "source": [
        "# rounds greater than the round where 0 appears, get a 0, except if the value is a 1 (stays a 1)\n",
        "four_combo = ld.four_combo_label(final_df)"
      ],
      "execution_count": 28,
      "outputs": []
    },
    {
      "cell_type": "code",
      "metadata": {
        "colab": {
          "base_uri": "https://localhost:8080/"
        },
        "id": "q1Zs4FA5l7FO",
        "outputId": "c35b8be4-5e23-4a75-a1eb-8a7022469442"
      },
      "source": [
        "# Post-final labeling test \n",
        "ids_test = ['10000006','10000024','20006986', '10000041','10000131', '10000175', '10000047', '20007062' ]\n",
        "for nums in ids_test:\n",
        "  print(four_combo[four_combo['spid'] == nums])"
      ],
      "execution_count": 29,
      "outputs": [
        {
          "output_type": "stream",
          "name": "stdout",
          "text": [
            "   round      spid  label\n",
            "3      1  10000006      2\n",
            "       round      spid  label\n",
            "17         1  10000024      0\n",
            "8258       2  10000024      0\n",
            "16510      3  10000024      0\n",
            "22100      4  10000024      1\n",
            "       round      spid  label\n",
            "34111      5  20006986      1\n",
            "41398      6  20006986      1\n",
            "47726      7  20006986      1\n",
            "53278      8  20006986      1\n",
            "58262      9  20006986      1\n",
            "62655     10  20006986      1\n",
            "       round      spid  label\n",
            "28         1  10000041      0\n",
            "8268       2  10000041      0\n",
            "16744      3  10000041      0\n",
            "22301      4  10000041      0\n",
            "25869      5  10000041      0\n",
            "34203      6  10000041      0\n",
            "41477      7  10000041      0\n",
            "47788      8  10000041      0\n",
            "53333      9  10000041      0\n",
            "58309     10  10000041      0\n",
            "       round      spid  label\n",
            "8321       2  10000131      0\n",
            "18110      3  10000131      0\n",
            "23412      4  10000131      0\n",
            "25902      5  10000131      0\n",
            "34233      6  10000131      0\n",
            "41504      7  10000131      0\n",
            "       round      spid  label\n",
            "120        1  10000175      0\n",
            "8348       2  10000175      0\n",
            "19596      3  10000175      0\n",
            "24611      4  10000175      0\n",
            "25917      5  10000175      0\n",
            "34246      6  10000175      0\n",
            "41517      7  10000175      0\n",
            "       round      spid  label\n",
            "34         1  10000047      0\n",
            "8274       2  10000047      1\n",
            "20258      3  10000047      1\n",
            "25149      4  10000047      1\n",
            "25872      5  10000047      1\n",
            "34206      6  10000047      1\n",
            "41479      7  10000047      1\n",
            "53335      9  10000047      1\n",
            "       round      spid  label\n",
            "34152      5  20007062      1\n",
            "41432      6  20007062      1\n",
            "47753      7  20007062      1\n",
            "53302      8  20007062      1\n",
            "58281      9  20007062      1\n",
            "62673     10  20007062      1\n"
          ]
        }
      ]
    },
    {
      "cell_type": "code",
      "metadata": {
        "colab": {
          "base_uri": "https://localhost:8080/",
          "height": 282
        },
        "id": "X2WSkiOhlum7",
        "outputId": "7250c20f-50a2-48ec-d72e-533ad1f717c5"
      },
      "source": [
        "four_combo.label.hist()"
      ],
      "execution_count": 31,
      "outputs": [
        {
          "output_type": "execute_result",
          "data": {
            "text/plain": [
              "<matplotlib.axes._subplots.AxesSubplot at 0x7f52cf167390>"
            ]
          },
          "metadata": {},
          "execution_count": 31
        },
        {
          "output_type": "display_data",
          "data": {
            "image/png": "[encoded data removed]",
            "text/plain": [
              "<Figure size 432x288 with 1 Axes>"
            ]
          },
          "metadata": {
            "needs_background": "light"
          }
        }
      ]
    },
    {
      "cell_type": "code",
      "metadata": {
        "colab": {
          "base_uri": "https://localhost:8080/"
        },
        "id": "GXFr-w_pluwp",
        "outputId": "545721b6-87c5-4624-c204-35cda98c1115"
      },
      "source": [
        "four_combo['label'].value_counts()"
      ],
      "execution_count": 32,
      "outputs": [
        {
          "output_type": "execute_result",
          "data": {
            "text/plain": [
              "2    30019\n",
              "0    16122\n",
              "1     5220\n",
              "Name: label, dtype: int64"
            ]
          },
          "metadata": {},
          "execution_count": 32
        }
      ]
    },
    {
      "cell_type": "markdown",
      "metadata": {
        "id": "DEp2V5xyiPce"
      },
      "source": [
        "## Get Individual participant IDs and labels per round\n",
        "- useful for pulling in exact images per round\n",
        "- create text file to store dictionary\n",
        "\n",
        "- create one dictionary file for AI Crowd method of labeling\n",
        "- create one dictionary file for NHAT Study Dementia Labeling method\n",
        "- create final custom label dictionary"
      ]
    },
    {
      "cell_type": "code",
      "metadata": {
        "id": "rz84zNjIiRpw"
      },
      "source": [
        "# get round, id, label for AI crowd method\n",
        "ids_ai = ld.get_ids(labeled_data)\n",
        "\n",
        "# Writing dictionary to text file for AI Crowd method of labeling\n",
        "try:\n",
        "    id_file = open('roundIdLabelDict.txt', 'wt')\n",
        "    id_file.write(str(ids_ai))\n",
        "    id_file.close()\n",
        "  \n",
        "except:\n",
        "    print(\"Unable to write to file\")"
      ],
      "execution_count": 29,
      "outputs": []
    },
    {
      "cell_type": "code",
      "metadata": {
        "id": "8AoORXbLSz1W"
      },
      "source": [
        "# get round, id, label for NHAT method\n",
        "ids_hats = ld.get_ids(round_hat_label)\n",
        "\n",
        "# Writing dictionary to text file for NHATs method of labeling\n",
        "try:\n",
        "    id_file = open('hatRoundIdLabelDict.txt', 'wt')\n",
        "    id_file.write(str(ids_hats))\n",
        "    id_file.close()\n",
        "  \n",
        "except:\n",
        "    print(\"Unable to write to file\")"
      ],
      "execution_count": 30,
      "outputs": []
    },
    {
      "cell_type": "code",
      "metadata": {
        "id": "PsooUDYnNG2t"
      },
      "source": [
        "# get round, id, label for nhat, AI methods and custom method combined\n",
        "id_custom = ld.get_ids(final_label_df)\n",
        "\n",
        "# Writing dictionary to text file for custom labeling\n",
        "try:\n",
        "    id_file = open('customLabelDict.txt', 'wt')\n",
        "    id_file.write(str(id_custom))\n",
        "    id_file.close()\n",
        "  \n",
        "except:\n",
        "    print(\"Unable to write to file\")"
      ],
      "execution_count": 31,
      "outputs": []
    },
    {
      "cell_type": "code",
      "metadata": {
        "id": "ZN5Iwr2uizLB"
      },
      "source": [
        "# get round, id, label for custom four combo method \n",
        "id_four_combo = ld.get_ids(four_combo)\n",
        "\n",
        "# Writing dictionary to text file for custom four combo labeling\n",
        "try:\n",
        "    id_file = open('fourComboCustomLabelDict.txt', 'wt')\n",
        "    id_file.write(str(id_four_combo))\n",
        "    id_file.close()\n",
        "  \n",
        "except:\n",
        "    print(\"Unable to write to file\")"
      ],
      "execution_count": 35,
      "outputs": []
    },
    {
      "cell_type": "code",
      "metadata": {
        "id": "px8ih5UFpWVF"
      },
      "source": [
        ""
      ],
      "execution_count": null,
      "outputs": []
    }
  ]
}