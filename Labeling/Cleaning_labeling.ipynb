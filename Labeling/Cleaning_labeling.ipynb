{
  "nbformat": 4,
  "nbformat_minor": 0,
  "metadata": {
    "colab": {
      "name": "Cleaning_labeling.ipynb",
      "provenance": [],
      "collapsed_sections": [],
      "authorship_tag": "ABX9TyMEJFXdwogq2QDfZGRR0kww",
      "include_colab_link": true
    },
    "kernelspec": {
      "name": "python3",
      "display_name": "Python 3"
    },
    "language_info": {
      "name": "python"
    }
  },
  "cells": [
    {
      "cell_type": "markdown",
      "metadata": {
        "id": "view-in-github",
        "colab_type": "text"
      },
      "source": [
        "<a href=\"https://colab.research.google.com/github/ian-byrne/MADSmilestone2/blob/main/Labeling/Cleaning_labeling.ipynb\" target=\"_parent\"><img src=\"https://colab.research.google.com/assets/colab-badge.svg\" alt=\"Open In Colab\"/></a>"
      ]
    },
    {
      "cell_type": "markdown",
      "metadata": {
        "id": "DqglY6Rux9co"
      },
      "source": [
        "# Exploring, Cleaning and Labeling the data\n",
        "### Stacey Beck and Ian Byrne\n",
        "\n",
        "<br><br/>\n",
        "\n",
        "##### **AI Crowd Labeling Method**\n",
        "\n",
        "We received inspiration from the AI Crowd's Alzheimer's Clock Challenge and reached out to their data team inquiring about labeling the clock images for that challenge. Ankit < insert last name > explained that they use the values in the variable 'hc1disescn9' to help label the images. The variable 'hc1disescn9' contains values that indicate whether someone has dementia/Alzheimer's or not. A response of '1 YES' indicates that they have a confirmed diagnosis of Alzheimer's or Dementia and '2 NO' indicates no diagnosis has been given. A value of '7' indicates that a response of '1 YES' has already been recorded in a previous round. AI Crowd labeled each image as either:\n",
        "  - 0 - Pre-Alzheimers\n",
        "  - 1 - Post-Alzheimers \n",
        "  - 2 - Normal\n",
        "\n",
        "If a subject reports '1 YES' in the variable 'hc1disescn9' in a later round, all the previous rounds receive the label '0 - Pre-Alzheimers'. All 'hc1disescn9' reports of '1 YES' and '7' receive the label '1 - Post-Alzheimers' for the current and subsequent rounds.  All else receive the label '2 - Normal.' \n",
        "\n",
        "We provide code to produce labels using this algorithm. \n",
        "\n",
        " \n",
        "<br><br/>\n",
        " \n",
        "##### **NHATs Study Criteria used to help make Labels**\n",
        "\n",
        "In addition, we also feel that this way of labeling can lead to false negatives in terms of whether someone might have dementia/Alzheimer's disease. There may be participants whose diagnosis has gone undetected by medical professionals and who are able to complete the NHATs survey, thus leading to a label of '2 - Normal' for their drawings. \n",
        "\n",
        "In order to provide a potentially more robust set of label parameters, we will also implement a label strategy that mimicks the NHAT study found in this report. https://www.nhats.org/sites/default/files/inline-files/DementiaTechnicalPaperJuly_2_4_2013_10_23_15.pdf (page 2)\n",
        "\n",
        "\n",
        "We will use these specific labels to identify if someone has:\n",
        "- 0 - 'Possible Dementia'\n",
        "- 1 - 'Probable Dementia' (Likely Dementia)\n",
        "- 2 - 'No Dementia' \n",
        "\n",
        "**Variables used to help classify '0' for \"Possible Dementia\":**\n",
        "- One cognitive test score with cut off <= 1.5 SD below the mean. \n",
        "\n",
        "**Variables used to help classify '1' for 'Probable Dementia' include:**\n",
        "-  'hc1disescn9' for diagnosis ('1 YES', '2 NO', '7') and if this is not provided we will look at:\n",
        "  - 'cp1dad8dem' which provides a diagnosing like score through the use of a proxy. \n",
        "- Two cognitive test scores with cut offs <= 1.5 SD below the mean. \n",
        "\n",
        "\n",
        "**All else will be labeled as '2' for 'No Dementia.\"**\n",
        "\n",
        "<br><br/>\n",
        "The cognitive tests are based in three domains:\n",
        "- ***Orientation*** \n",
        "    - President and VP First and Last names: **'cg1presidna1', 'cg1presidna3', 'cg1vpname1', 'cg1vpname3'**\n",
        "    - Date, Month, Year, Day of the Week: **'cg1todaydat1' (Month), 'cg1todaydat2' (Day), 'cg1todaydat3' (Year), 'cg1todaydat4' (Day of the Week)**\n",
        "    - Each correct answer gets a point; Total points out of 8.\n",
        "    - Score cut point for <= 1.5 SD below the mean is <= 3 across all variables\n",
        "- ***Memory*** \n",
        "    - Delayed Word Recall: **'cg1dwrdimmrc' (total Score)**\n",
        "    - Immediate Word Recall: **'cg1dwrddlyrc' (total Score)** \n",
        "    - Total points out of 20\n",
        "    - Score cut off is <= 3 across all variables\n",
        "- ***Executive Functioning*** \n",
        "    - Clock Drawing Battery: **'cg1dclkdraw'**\n",
        "    - Total points out of 5\n",
        "    - Score cut off is <= 1 \n",
        "\n",
        "\n",
        "***Each variable is used for all 9 years of this study and change only by the number value located within the variable name.***\n"
      ]
    },
    {
      "cell_type": "code",
      "metadata": {
        "colab": {
          "base_uri": "https://localhost:8080/"
        },
        "id": "zGUytMofhoYc",
        "outputId": "00712ea6-e2a0-4ab2-bcbc-b6dd9c5d95e0"
      },
      "source": [
        "# Clone the entire repo.\n",
        "!git clone -l -s https://github.com/ian-byrne/MADSmilestone2.git\n",
        "\n",
        "# Change directory into cloned repo\n",
        "%cd MADSmilestone2\n",
        "\n",
        "# List repo contents\n",
        "!ls"
      ],
      "execution_count": 1,
      "outputs": [
        {
          "output_type": "stream",
          "name": "stdout",
          "text": [
            "Cloning into 'MADSmilestone2'...\n",
            "warning: --local is ignored\n",
            "remote: Enumerating objects: 449, done.\u001b[K\n",
            "remote: Counting objects: 100% (449/449), done.\u001b[K\n",
            "remote: Compressing objects: 100% (372/372), done.\u001b[K\n",
            "remote: Total 449 (delta 252), reused 170 (delta 71), pack-reused 0\u001b[K\n",
            "Receiving objects: 100% (449/449), 3.24 MiB | 5.70 MiB/s, done.\n",
            "Resolving deltas: 100% (252/252), done.\n",
            "/content/MADSmilestone2\n",
            "Data\t\t\t Images.ipynb  Labeling  README.md\n",
            "ian_testingground.ipynb  Images.py     Loading\t Supervised_CNN.ipynb\n"
          ]
        }
      ]
    },
    {
      "cell_type": "code",
      "metadata": {
        "id": "6mzXP-69htRa"
      },
      "source": [
        "#!rm -rf /content/MADSmilestone2"
      ],
      "execution_count": null,
      "outputs": []
    },
    {
      "cell_type": "code",
      "metadata": {
        "id": "_asNjzxtda2y"
      },
      "source": [
        "import pandas as pd\n",
        "import numpy as np\n",
        "import Labeling.clean_rounds as cr\n",
        "import Labeling.label_data as ld\n",
        "import matplotlib.pyplot as plt"
      ],
      "execution_count": 2,
      "outputs": []
    },
    {
      "cell_type": "markdown",
      "metadata": {
        "id": "idWgB3oM5Elz"
      },
      "source": [
        "### AI Crowd Labeling Strategy\n",
        "\n",
        "---\n",
        "\n"
      ]
    },
    {
      "cell_type": "code",
      "metadata": {
        "colab": {
          "base_uri": "https://localhost:8080/",
          "height": 204
        },
        "id": "Oun-rTP7hxaV",
        "outputId": "92afa1bd-f05a-4578-8936-bb70b389d33e"
      },
      "source": [
        "# Load Rounds data\n",
        "rounds = pd.read_csv('Data/round_data.csv')\n",
        "rounds.head()"
      ],
      "execution_count": null,
      "outputs": [
        {
          "output_type": "execute_result",
          "data": {
            "text/html": [
              "<div>\n",
              "<style scoped>\n",
              "    .dataframe tbody tr th:only-of-type {\n",
              "        vertical-align: middle;\n",
              "    }\n",
              "\n",
              "    .dataframe tbody tr th {\n",
              "        vertical-align: top;\n",
              "    }\n",
              "\n",
              "    .dataframe thead th {\n",
              "        text-align: right;\n",
              "    }\n",
              "</style>\n",
              "<table border=\"1\" class=\"dataframe\">\n",
              "  <thead>\n",
              "    <tr style=\"text-align: right;\">\n",
              "      <th></th>\n",
              "      <th>spid</th>\n",
              "      <th>cg1dclkdraw</th>\n",
              "      <th>hc1disescn9</th>\n",
              "      <th>round</th>\n",
              "    </tr>\n",
              "  </thead>\n",
              "  <tbody>\n",
              "    <tr>\n",
              "      <th>0</th>\n",
              "      <td>10000003.0</td>\n",
              "      <td>3 Mildly distorted depiction of a clock</td>\n",
              "      <td>2 NO</td>\n",
              "      <td>1</td>\n",
              "    </tr>\n",
              "    <tr>\n",
              "      <th>1</th>\n",
              "      <td>10000004.0</td>\n",
              "      <td>3 Mildly distorted depiction of a clock</td>\n",
              "      <td>2 NO</td>\n",
              "      <td>1</td>\n",
              "    </tr>\n",
              "    <tr>\n",
              "      <th>2</th>\n",
              "      <td>10000005.0</td>\n",
              "      <td>3 Mildly distorted depiction of a clock</td>\n",
              "      <td>2 NO</td>\n",
              "      <td>1</td>\n",
              "    </tr>\n",
              "    <tr>\n",
              "      <th>3</th>\n",
              "      <td>10000006.0</td>\n",
              "      <td>4 Reasonably accurate depiction of a clock</td>\n",
              "      <td>2 NO</td>\n",
              "      <td>1</td>\n",
              "    </tr>\n",
              "    <tr>\n",
              "      <th>4</th>\n",
              "      <td>10000007.0</td>\n",
              "      <td>-2 Proxy says cannot ask SP</td>\n",
              "      <td>2 NO</td>\n",
              "      <td>1</td>\n",
              "    </tr>\n",
              "  </tbody>\n",
              "</table>\n",
              "</div>"
            ],
            "text/plain": [
              "         spid                                 cg1dclkdraw hc1disescn9  round\n",
              "0  10000003.0     3 Mildly distorted depiction of a clock        2 NO      1\n",
              "1  10000004.0     3 Mildly distorted depiction of a clock        2 NO      1\n",
              "2  10000005.0     3 Mildly distorted depiction of a clock        2 NO      1\n",
              "3  10000006.0  4 Reasonably accurate depiction of a clock        2 NO      1\n",
              "4  10000007.0                 -2 Proxy says cannot ask SP        2 NO      1"
            ]
          },
          "metadata": {},
          "execution_count": 5
        }
      ]
    },
    {
      "cell_type": "markdown",
      "metadata": {
        "id": "1cJwhTQih9Ko"
      },
      "source": [
        "###Check values for columns of interest\n",
        "- we used the user guide to determine which columns are required\n"
      ]
    },
    {
      "cell_type": "code",
      "metadata": {
        "colab": {
          "base_uri": "https://localhost:8080/",
          "height": 578
        },
        "id": "QFvCzHPwh_Ka",
        "outputId": "0ef674e0-c5eb-42b1-9e80-dedd76e12757"
      },
      "source": [
        "print(\"Column values for clock scores: \\n\", rounds['cg1dclkdraw'].unique())\n",
        "print(\"\\nHealth score values: \\n\", rounds['hc1disescn9'].unique())\n",
        "print(\"\\nVariable types: \\n\", rounds.dtypes)\n",
        "rounds[rounds['cg1dclkdraw'] == '-1 Inapplicable'].head()"
      ],
      "execution_count": null,
      "outputs": [
        {
          "output_type": "stream",
          "name": "stdout",
          "text": [
            "Column values for clock scores: \n",
            " ['3 Mildly distorted depiction of a clock'\n",
            " '4 Reasonably accurate depiction of a clock'\n",
            " '-2 Proxy says cannot ask SP'\n",
            " '2 Moderately distorted depection of a clock' '-1 Inapplicable'\n",
            " '-7 SP refused to draw clock'\n",
            " '5 Accurate depiction of a clock (circular or square)'\n",
            " '1 Severely distorted depiction of a clock'\n",
            " '-4 SP did not attempt to draw clock' '0 Not recognizable as a clock'\n",
            " '-3 Proxy says can ask SP but SP unable to answer' '-9 Missing'\n",
            " '2 Moderately distorted depiction of a clock']\n",
            "\n",
            "Health score values: \n",
            " [' 2 NO' '-1 Inapplicable' ' 1 YES' '-9 Missing' '-8 DK' '2 NO'\n",
            " '7 PREVIOUSLY REPORTED' '1 YES' '-7 RF']\n",
            "\n",
            "Variable types: \n",
            " spid           float64\n",
            "cg1dclkdraw     object\n",
            "hc1disescn9     object\n",
            "round            int64\n",
            "dtype: object\n"
          ]
        },
        {
          "output_type": "execute_result",
          "data": {
            "text/html": [
              "<div>\n",
              "<style scoped>\n",
              "    .dataframe tbody tr th:only-of-type {\n",
              "        vertical-align: middle;\n",
              "    }\n",
              "\n",
              "    .dataframe tbody tr th {\n",
              "        vertical-align: top;\n",
              "    }\n",
              "\n",
              "    .dataframe thead th {\n",
              "        text-align: right;\n",
              "    }\n",
              "</style>\n",
              "<table border=\"1\" class=\"dataframe\">\n",
              "  <thead>\n",
              "    <tr style=\"text-align: right;\">\n",
              "      <th></th>\n",
              "      <th>spid</th>\n",
              "      <th>cg1dclkdraw</th>\n",
              "      <th>hc1disescn9</th>\n",
              "      <th>round</th>\n",
              "    </tr>\n",
              "  </thead>\n",
              "  <tbody>\n",
              "    <tr>\n",
              "      <th>6</th>\n",
              "      <td>10000009.0</td>\n",
              "      <td>-1 Inapplicable</td>\n",
              "      <td>-1 Inapplicable</td>\n",
              "      <td>1</td>\n",
              "    </tr>\n",
              "    <tr>\n",
              "      <th>8</th>\n",
              "      <td>10000013.0</td>\n",
              "      <td>-1 Inapplicable</td>\n",
              "      <td>-1 Inapplicable</td>\n",
              "      <td>1</td>\n",
              "    </tr>\n",
              "    <tr>\n",
              "      <th>10</th>\n",
              "      <td>10000015.0</td>\n",
              "      <td>-1 Inapplicable</td>\n",
              "      <td>-1 Inapplicable</td>\n",
              "      <td>1</td>\n",
              "    </tr>\n",
              "    <tr>\n",
              "      <th>33</th>\n",
              "      <td>10000046.0</td>\n",
              "      <td>-1 Inapplicable</td>\n",
              "      <td>-9 Missing</td>\n",
              "      <td>1</td>\n",
              "    </tr>\n",
              "    <tr>\n",
              "      <th>47</th>\n",
              "      <td>10000067.0</td>\n",
              "      <td>-1 Inapplicable</td>\n",
              "      <td>-9 Missing</td>\n",
              "      <td>1</td>\n",
              "    </tr>\n",
              "  </tbody>\n",
              "</table>\n",
              "</div>"
            ],
            "text/plain": [
              "          spid      cg1dclkdraw      hc1disescn9  round\n",
              "6   10000009.0  -1 Inapplicable  -1 Inapplicable      1\n",
              "8   10000013.0  -1 Inapplicable  -1 Inapplicable      1\n",
              "10  10000015.0  -1 Inapplicable  -1 Inapplicable      1\n",
              "33  10000046.0  -1 Inapplicable       -9 Missing      1\n",
              "47  10000067.0  -1 Inapplicable       -9 Missing      1"
            ]
          },
          "metadata": {},
          "execution_count": 6
        }
      ]
    },
    {
      "cell_type": "code",
      "metadata": {
        "colab": {
          "base_uri": "https://localhost:8080/",
          "height": 204
        },
        "id": "muUutFNyiAn6",
        "outputId": "1b2cca57-f494-4027-a0e6-acf6b3a7f4ce"
      },
      "source": [
        "# Load the cleaned dataframe\n",
        "cleaned_rounds = cr.clean_data(rounds)\n",
        "cleaned_rounds.head()"
      ],
      "execution_count": null,
      "outputs": [
        {
          "output_type": "execute_result",
          "data": {
            "text/html": [
              "<div>\n",
              "<style scoped>\n",
              "    .dataframe tbody tr th:only-of-type {\n",
              "        vertical-align: middle;\n",
              "    }\n",
              "\n",
              "    .dataframe tbody tr th {\n",
              "        vertical-align: top;\n",
              "    }\n",
              "\n",
              "    .dataframe thead th {\n",
              "        text-align: right;\n",
              "    }\n",
              "</style>\n",
              "<table border=\"1\" class=\"dataframe\">\n",
              "  <thead>\n",
              "    <tr style=\"text-align: right;\">\n",
              "      <th></th>\n",
              "      <th>spid</th>\n",
              "      <th>cg1dclkdraw</th>\n",
              "      <th>hc1disescn9</th>\n",
              "      <th>round</th>\n",
              "    </tr>\n",
              "  </thead>\n",
              "  <tbody>\n",
              "    <tr>\n",
              "      <th>0</th>\n",
              "      <td>10000003</td>\n",
              "      <td>3 Mildly distorted depiction of a clock</td>\n",
              "      <td>2.0</td>\n",
              "      <td>1</td>\n",
              "    </tr>\n",
              "    <tr>\n",
              "      <th>1</th>\n",
              "      <td>10000004</td>\n",
              "      <td>3 Mildly distorted depiction of a clock</td>\n",
              "      <td>2.0</td>\n",
              "      <td>1</td>\n",
              "    </tr>\n",
              "    <tr>\n",
              "      <th>2</th>\n",
              "      <td>10000005</td>\n",
              "      <td>3 Mildly distorted depiction of a clock</td>\n",
              "      <td>2.0</td>\n",
              "      <td>1</td>\n",
              "    </tr>\n",
              "    <tr>\n",
              "      <th>3</th>\n",
              "      <td>10000006</td>\n",
              "      <td>4 Reasonably accurate depiction of a clock</td>\n",
              "      <td>2.0</td>\n",
              "      <td>1</td>\n",
              "    </tr>\n",
              "    <tr>\n",
              "      <th>5</th>\n",
              "      <td>10000008</td>\n",
              "      <td>2 Moderately distorted depection of a clock</td>\n",
              "      <td>2.0</td>\n",
              "      <td>1</td>\n",
              "    </tr>\n",
              "  </tbody>\n",
              "</table>\n",
              "</div>"
            ],
            "text/plain": [
              "       spid                                  cg1dclkdraw  hc1disescn9  round\n",
              "0  10000003      3 Mildly distorted depiction of a clock          2.0      1\n",
              "1  10000004      3 Mildly distorted depiction of a clock          2.0      1\n",
              "2  10000005      3 Mildly distorted depiction of a clock          2.0      1\n",
              "3  10000006   4 Reasonably accurate depiction of a clock          2.0      1\n",
              "5  10000008  2 Moderately distorted depection of a clock          2.0      1"
            ]
          },
          "metadata": {},
          "execution_count": 7
        }
      ]
    },
    {
      "cell_type": "code",
      "metadata": {
        "colab": {
          "base_uri": "https://localhost:8080/"
        },
        "id": "QoZxMd9yiCvb",
        "outputId": "d0156333-8e30-4f9d-fa15-de5fbaed7f7d"
      },
      "source": [
        "#Check that we only have healthscores of 1, 2, 7 and subjects that have drawn clocks\n",
        "print(\"health score check: \\n\",cleaned_rounds.cg1dclkdraw.unique())\n",
        "print(\"\\n clock scores check: \\n\",cleaned_rounds['hc1disescn9'].unique())"
      ],
      "execution_count": null,
      "outputs": [
        {
          "output_type": "stream",
          "name": "stdout",
          "text": [
            "health score check: \n",
            " ['3 Mildly distorted depiction of a clock'\n",
            " '4 Reasonably accurate depiction of a clock'\n",
            " '2 Moderately distorted depection of a clock'\n",
            " '5 Accurate depiction of a clock (circular or square)'\n",
            " '1 Severely distorted depiction of a clock'\n",
            " '0 Not recognizable as a clock'\n",
            " '2 Moderately distorted depiction of a clock']\n",
            "\n",
            " clock scores check: \n",
            " [2. 1. 7.]\n"
          ]
        }
      ]
    },
    {
      "cell_type": "code",
      "metadata": {
        "colab": {
          "base_uri": "https://localhost:8080/",
          "height": 774
        },
        "id": "hLa7vIiRiFB5",
        "outputId": "8cb7e079-cdae-46e5-8451-56621318513e"
      },
      "source": [
        "# Check balance of dataset\n",
        "a = cleaned_rounds.hc1disescn9.hist() \n",
        "plt.xlabel(\"Health Score\")\n",
        "plt.ylabel(\"Counts\")\n",
        "plt.show(a) \n",
        "\n",
        "\n",
        "b = cleaned_rounds.cg1dclkdraw.hist()\n",
        "b.tick_params(axis='x', labelrotation = 90)\n",
        "plt.ylabel(\"Counts\")\n",
        "plt.show(b)"
      ],
      "execution_count": null,
      "outputs": [
        {
          "output_type": "display_data",
          "data": {
            "image/png": "[encoded data removed]",
            "text/plain": [
              "<Figure size 432x288 with 1 Axes>"
            ]
          },
          "metadata": {
            "needs_background": "light"
          }
        },
        {
          "output_type": "display_data",
          "data": {
            "image/png": "[encoded data removed]",
            "text/plain": [
              "<Figure size 432x288 with 1 Axes>"
            ]
          },
          "metadata": {
            "needs_background": "light"
          }
        }
      ]
    },
    {
      "cell_type": "markdown",
      "metadata": {
        "id": "q1tASrUkiJHJ"
      },
      "source": [
        "###Create Labels for the rounds data"
      ]
    },
    {
      "cell_type": "code",
      "metadata": {
        "colab": {
          "base_uri": "https://localhost:8080/",
          "height": 204
        },
        "id": "-kLcAS67iGuL",
        "outputId": "f923d008-261f-460f-ed14-a9678f39195a"
      },
      "source": [
        "labeled_data = ld.create_labels(cleaned_rounds)\n",
        "labeled_data.head()"
      ],
      "execution_count": null,
      "outputs": [
        {
          "output_type": "execute_result",
          "data": {
            "text/html": [
              "<div>\n",
              "<style scoped>\n",
              "    .dataframe tbody tr th:only-of-type {\n",
              "        vertical-align: middle;\n",
              "    }\n",
              "\n",
              "    .dataframe tbody tr th {\n",
              "        vertical-align: top;\n",
              "    }\n",
              "\n",
              "    .dataframe thead th {\n",
              "        text-align: right;\n",
              "    }\n",
              "</style>\n",
              "<table border=\"1\" class=\"dataframe\">\n",
              "  <thead>\n",
              "    <tr style=\"text-align: right;\">\n",
              "      <th></th>\n",
              "      <th>spid</th>\n",
              "      <th>cg1dclkdraw</th>\n",
              "      <th>hc1disescn9</th>\n",
              "      <th>round</th>\n",
              "      <th>label</th>\n",
              "    </tr>\n",
              "  </thead>\n",
              "  <tbody>\n",
              "    <tr>\n",
              "      <th>0</th>\n",
              "      <td>10000003</td>\n",
              "      <td>3 Mildly distorted depiction of a clock</td>\n",
              "      <td>2.0</td>\n",
              "      <td>1</td>\n",
              "      <td>0</td>\n",
              "    </tr>\n",
              "    <tr>\n",
              "      <th>1</th>\n",
              "      <td>10000004</td>\n",
              "      <td>3 Mildly distorted depiction of a clock</td>\n",
              "      <td>2.0</td>\n",
              "      <td>1</td>\n",
              "      <td>2</td>\n",
              "    </tr>\n",
              "    <tr>\n",
              "      <th>2</th>\n",
              "      <td>10000005</td>\n",
              "      <td>3 Mildly distorted depiction of a clock</td>\n",
              "      <td>2.0</td>\n",
              "      <td>1</td>\n",
              "      <td>2</td>\n",
              "    </tr>\n",
              "    <tr>\n",
              "      <th>3</th>\n",
              "      <td>10000006</td>\n",
              "      <td>4 Reasonably accurate depiction of a clock</td>\n",
              "      <td>2.0</td>\n",
              "      <td>1</td>\n",
              "      <td>2</td>\n",
              "    </tr>\n",
              "    <tr>\n",
              "      <th>5</th>\n",
              "      <td>10000008</td>\n",
              "      <td>2 Moderately distorted depection of a clock</td>\n",
              "      <td>2.0</td>\n",
              "      <td>1</td>\n",
              "      <td>2</td>\n",
              "    </tr>\n",
              "  </tbody>\n",
              "</table>\n",
              "</div>"
            ],
            "text/plain": [
              "       spid                                  cg1dclkdraw  ...  round  label\n",
              "0  10000003      3 Mildly distorted depiction of a clock  ...      1      0\n",
              "1  10000004      3 Mildly distorted depiction of a clock  ...      1      2\n",
              "2  10000005      3 Mildly distorted depiction of a clock  ...      1      2\n",
              "3  10000006   4 Reasonably accurate depiction of a clock  ...      1      2\n",
              "5  10000008  2 Moderately distorted depection of a clock  ...      1      2\n",
              "\n",
              "[5 rows x 5 columns]"
            ]
          },
          "metadata": {},
          "execution_count": 10
        }
      ]
    },
    {
      "cell_type": "code",
      "metadata": {
        "colab": {
          "base_uri": "https://localhost:8080/",
          "height": 282
        },
        "id": "k3qRf4kniK5_",
        "outputId": "980adc1c-c40d-4855-cf86-7fc17b829df8"
      },
      "source": [
        "# Look at distribution of labels\n",
        "labeled_data.label.hist() "
      ],
      "execution_count": null,
      "outputs": [
        {
          "output_type": "execute_result",
          "data": {
            "text/plain": [
              "<matplotlib.axes._subplots.AxesSubplot at 0x7f1439af7410>"
            ]
          },
          "metadata": {},
          "execution_count": 11
        },
        {
          "output_type": "display_data",
          "data": {
            "image/png": "[encoded data removed]",
            "text/plain": [
              "<Figure size 432x288 with 1 Axes>"
            ]
          },
          "metadata": {
            "needs_background": "light"
          }
        }
      ]
    },
    {
      "cell_type": "code",
      "metadata": {
        "colab": {
          "base_uri": "https://localhost:8080/"
        },
        "id": "poYmGTkCdTFW",
        "outputId": "125ed87d-669c-4fa6-a7a3-4c53bc074884"
      },
      "source": [
        "labeled_data['label'].value_counts()"
      ],
      "execution_count": null,
      "outputs": [
        {
          "output_type": "execute_result",
          "data": {
            "text/plain": [
              "2    46490\n",
              "1     2533\n",
              "0     2469\n",
              "Name: label, dtype: int64"
            ]
          },
          "metadata": {},
          "execution_count": 12
        }
      ]
    },
    {
      "cell_type": "markdown",
      "metadata": {
        "id": "JP2W17bY5jwj"
      },
      "source": [
        "### NHATs Strategy for Labeling Data\n",
        "\n",
        "---\n",
        "\n"
      ]
    },
    {
      "cell_type": "code",
      "metadata": {
        "id": "UXZ4dEMqeGej",
        "colab": {
          "base_uri": "https://localhost:8080/",
          "height": 289
        },
        "outputId": "304a9b6c-5db8-4779-c08a-a5e6cdd8024c"
      },
      "source": [
        "round_hat_data = pd.read_csv('Data/hats_round_data.csv')\n",
        "round_hat_data.head()"
      ],
      "execution_count": 3,
      "outputs": [
        {
          "output_type": "execute_result",
          "data": {
            "text/html": [
              "<div>\n",
              "<style scoped>\n",
              "    .dataframe tbody tr th:only-of-type {\n",
              "        vertical-align: middle;\n",
              "    }\n",
              "\n",
              "    .dataframe tbody tr th {\n",
              "        vertical-align: top;\n",
              "    }\n",
              "\n",
              "    .dataframe thead th {\n",
              "        text-align: right;\n",
              "    }\n",
              "</style>\n",
              "<table border=\"1\" class=\"dataframe\">\n",
              "  <thead>\n",
              "    <tr style=\"text-align: right;\">\n",
              "      <th></th>\n",
              "      <th>spid</th>\n",
              "      <th>cg1dclkdraw</th>\n",
              "      <th>hc1disescn9</th>\n",
              "      <th>cg1presidna1</th>\n",
              "      <th>cg1presidna3</th>\n",
              "      <th>cg1vpname1</th>\n",
              "      <th>cg1vpname3</th>\n",
              "      <th>cg1todaydat1</th>\n",
              "      <th>cg1todaydat2</th>\n",
              "      <th>cg1todaydat3</th>\n",
              "      <th>cg1todaydat4</th>\n",
              "      <th>cg1dwrdimmrc</th>\n",
              "      <th>cg1dwrddlyrc</th>\n",
              "      <th>round</th>\n",
              "      <th>cp1dad8dem</th>\n",
              "    </tr>\n",
              "  </thead>\n",
              "  <tbody>\n",
              "    <tr>\n",
              "      <th>0</th>\n",
              "      <td>10000003.0</td>\n",
              "      <td>3 Mildly distorted depiction of a clock</td>\n",
              "      <td>2 NO</td>\n",
              "      <td>1 YES</td>\n",
              "      <td>1 YES</td>\n",
              "      <td>1 YES</td>\n",
              "      <td>1 YES</td>\n",
              "      <td>1 YES</td>\n",
              "      <td>1 YES</td>\n",
              "      <td>1 YES</td>\n",
              "      <td>1 YES</td>\n",
              "      <td>6.0</td>\n",
              "      <td>3.0</td>\n",
              "      <td>1</td>\n",
              "      <td>NaN</td>\n",
              "    </tr>\n",
              "    <tr>\n",
              "      <th>1</th>\n",
              "      <td>10000004.0</td>\n",
              "      <td>3 Mildly distorted depiction of a clock</td>\n",
              "      <td>2 NO</td>\n",
              "      <td>1 YES</td>\n",
              "      <td>1 YES</td>\n",
              "      <td>2 NO</td>\n",
              "      <td>2 NO</td>\n",
              "      <td>1 YES</td>\n",
              "      <td>1 YES</td>\n",
              "      <td>1 YES</td>\n",
              "      <td>1 YES</td>\n",
              "      <td>4.0</td>\n",
              "      <td>3.0</td>\n",
              "      <td>1</td>\n",
              "      <td>NaN</td>\n",
              "    </tr>\n",
              "    <tr>\n",
              "      <th>2</th>\n",
              "      <td>10000005.0</td>\n",
              "      <td>3 Mildly distorted depiction of a clock</td>\n",
              "      <td>2 NO</td>\n",
              "      <td>1 YES</td>\n",
              "      <td>1 YES</td>\n",
              "      <td>1 YES</td>\n",
              "      <td>1 YES</td>\n",
              "      <td>1 YES</td>\n",
              "      <td>1 YES</td>\n",
              "      <td>1 YES</td>\n",
              "      <td>1 YES</td>\n",
              "      <td>7.0</td>\n",
              "      <td>4.0</td>\n",
              "      <td>1</td>\n",
              "      <td>NaN</td>\n",
              "    </tr>\n",
              "    <tr>\n",
              "      <th>3</th>\n",
              "      <td>10000006.0</td>\n",
              "      <td>4 Reasonably accurate depiction of a clock</td>\n",
              "      <td>2 NO</td>\n",
              "      <td>1 YES</td>\n",
              "      <td>1 YES</td>\n",
              "      <td>1 YES</td>\n",
              "      <td>2 NO</td>\n",
              "      <td>1 YES</td>\n",
              "      <td>1 YES</td>\n",
              "      <td>1 YES</td>\n",
              "      <td>1 YES</td>\n",
              "      <td>4.0</td>\n",
              "      <td>3.0</td>\n",
              "      <td>1</td>\n",
              "      <td>NaN</td>\n",
              "    </tr>\n",
              "    <tr>\n",
              "      <th>4</th>\n",
              "      <td>10000007.0</td>\n",
              "      <td>-2 Proxy says cannot ask SP</td>\n",
              "      <td>2 NO</td>\n",
              "      <td>-1 Inapplicable</td>\n",
              "      <td>-1 Inapplicable</td>\n",
              "      <td>-1 Inapplicable</td>\n",
              "      <td>-1 Inapplicable</td>\n",
              "      <td>-1 Inapplicable</td>\n",
              "      <td>-1 Inapplicable</td>\n",
              "      <td>-1 Inapplicable</td>\n",
              "      <td>-1 Inapplicable</td>\n",
              "      <td>-2 Proxy says cannot ask SP</td>\n",
              "      <td>-2 Proxy says cannot ask SP</td>\n",
              "      <td>1</td>\n",
              "      <td>NaN</td>\n",
              "    </tr>\n",
              "  </tbody>\n",
              "</table>\n",
              "</div>"
            ],
            "text/plain": [
              "         spid                                 cg1dclkdraw  ... round cp1dad8dem\n",
              "0  10000003.0     3 Mildly distorted depiction of a clock  ...     1        NaN\n",
              "1  10000004.0     3 Mildly distorted depiction of a clock  ...     1        NaN\n",
              "2  10000005.0     3 Mildly distorted depiction of a clock  ...     1        NaN\n",
              "3  10000006.0  4 Reasonably accurate depiction of a clock  ...     1        NaN\n",
              "4  10000007.0                 -2 Proxy says cannot ask SP  ...     1        NaN\n",
              "\n",
              "[5 rows x 15 columns]"
            ]
          },
          "metadata": {},
          "execution_count": 3
        }
      ]
    },
    {
      "cell_type": "code",
      "metadata": {
        "id": "bfvup7OZjxyq",
        "colab": {
          "base_uri": "https://localhost:8080/"
        },
        "outputId": "454b3c16-ac63-4710-fcfd-dbc9db803323"
      },
      "source": [
        "# Check all values for each variable prior to cleaning; variables are picked from\n",
        "# NHATs User Guide\n",
        "columns_to_keep = ['cg1presidna1','cg1presidna3','cg1vpname1','cg1vpname3',\n",
        "           'cg1todaydat1','cg1todaydat2','cg1todaydat3', 'cg1todaydat4',\n",
        "           'cg1dclkdraw','hc1disescn9', 'cp1dad8dem', 'cg1dwrdimmrc',\n",
        "           'cg1dwrddlyrc']\n",
        "\n",
        "d = round_hat_data[columns_to_keep]\n",
        "\n",
        "for col in d.columns:\n",
        "  print(\"\\n{}: \\n\".format(col), d[col].unique())"
      ],
      "execution_count": 4,
      "outputs": [
        {
          "output_type": "stream",
          "name": "stdout",
          "text": [
            "\n",
            "cg1presidna1: \n",
            " [' 1 YES' '-1 Inapplicable' ' 2 NO' '-9 Missing' '-7 RF' ' 1 Yes' ' 2 No']\n",
            "\n",
            "cg1presidna3: \n",
            " [' 1 YES' '-1 Inapplicable' ' 2 NO' '-9 Missing' '-7 RF' ' 1 Yes' ' 2 No']\n",
            "\n",
            "cg1vpname1: \n",
            " [' 1 YES' ' 2 NO' '-1 Inapplicable' '-9 Missing' '-7 RF' ' 1 Yes' ' 2 No']\n",
            "\n",
            "cg1vpname3: \n",
            " [' 1 YES' ' 2 NO' '-1 Inapplicable' '-9 Missing' '-7 RF' ' 1 Yes' ' 2 No']\n",
            "\n",
            "cg1todaydat1: \n",
            " [' 1 YES' '-1 Inapplicable' '-9 Missing' \" 2 NO/DON'T KNOW\" '-7 RF'\n",
            " '1 YES' \"2 NO/DON'T KNOW\"]\n",
            "\n",
            "cg1todaydat2: \n",
            " [' 1 YES' '-1 Inapplicable' \" 2 NO/DON'T KNOW\" '-9 Missing' '-7 RF'\n",
            " '1 YES' \"2 NO/DON'T KNOW\"]\n",
            "\n",
            "cg1todaydat3: \n",
            " [' 1 YES' '-1 Inapplicable' '-9 Missing' \" 2 NO/DON'T KNOW\" '-7 RF'\n",
            " '1 YES' \"2 NO/DON'T KNOW\"]\n",
            "\n",
            "cg1todaydat4: \n",
            " [' 1 YES' '-1 Inapplicable' '-9 Missing' \" 2 NO/DON'T KNOW\" '-7 RF'\n",
            " '1 YES' \"2 NO/DON'T KNOW\"]\n",
            "\n",
            "cg1dclkdraw: \n",
            " ['3 Mildly distorted depiction of a clock'\n",
            " '4 Reasonably accurate depiction of a clock'\n",
            " '-2 Proxy says cannot ask SP'\n",
            " '2 Moderately distorted depection of a clock' '-1 Inapplicable'\n",
            " '-7 SP refused to draw clock'\n",
            " '5 Accurate depiction of a clock (circular or square)'\n",
            " '1 Severely distorted depiction of a clock'\n",
            " '-4 SP did not attempt to draw clock' '0 Not recognizable as a clock'\n",
            " '-3 Proxy says can ask SP but SP unable to answer' '-9 Missing'\n",
            " '2 Moderately distorted depiction of a clock']\n",
            "\n",
            "hc1disescn9: \n",
            " [' 2 NO' '-1 Inapplicable' ' 1 YES' '-9 Missing' '-8 DK' '2 NO'\n",
            " '7 PREVIOUSLY REPORTED' '1 YES' '-7 RF']\n",
            "\n",
            "cp1dad8dem: \n",
            " [nan '-1 Inapplicable'\n",
            " '1 DEMENTIA RESPONSE TO ANY AD8 ITEMS IN PRIOR ROUND'\n",
            " '1 DEMENTIA RESPONSE TO ANY AD8 ITEMS IN PRIOR ROUNDS']\n",
            "\n",
            "cg1dwrdimmrc: \n",
            " ['6.0' '4.0' '7.0' '-2 Proxy says cannot ask SP' '-1 Inapplicable' '3.0'\n",
            " '5.0' '2.0' '0.0' '8.0' '-7 SP refused activity' '1.0'\n",
            " '-3 Proxy says can ask SP but SP unable to answer' '9.0' '10.0'\n",
            " '-9 Missing']\n",
            "\n",
            "cg1dwrddlyrc: \n",
            " ['3.0' '4.0' '-2 Proxy says cannot ask SP' '7.0' '-1 Inapplicable' '5.0'\n",
            " '2.0' '6.0' '0.0' '1.0' '-7 SP refused activity' '8.0'\n",
            " '-3 Proxy says can ask SP but SP unable to answer' '9.0' '10.0'\n",
            " '-9 Missing']\n"
          ]
        }
      ]
    },
    {
      "cell_type": "code",
      "metadata": {
        "id": "kudQhXpY67W0",
        "colab": {
          "base_uri": "https://localhost:8080/",
          "height": 204
        },
        "outputId": "c04e807a-486d-414b-d113-8153683cb2b1"
      },
      "source": [
        "# Run cleaning script resave dataframe\n",
        "round_hat_clean = cr.clean_hats_rounds(round_hat_data)\n",
        "round_hat_clean.head()"
      ],
      "execution_count": 5,
      "outputs": [
        {
          "output_type": "execute_result",
          "data": {
            "text/html": [
              "<div>\n",
              "<style scoped>\n",
              "    .dataframe tbody tr th:only-of-type {\n",
              "        vertical-align: middle;\n",
              "    }\n",
              "\n",
              "    .dataframe tbody tr th {\n",
              "        vertical-align: top;\n",
              "    }\n",
              "\n",
              "    .dataframe thead th {\n",
              "        text-align: right;\n",
              "    }\n",
              "</style>\n",
              "<table border=\"1\" class=\"dataframe\">\n",
              "  <thead>\n",
              "    <tr style=\"text-align: right;\">\n",
              "      <th></th>\n",
              "      <th>spid</th>\n",
              "      <th>cg1dclkdraw</th>\n",
              "      <th>hc1disescn9</th>\n",
              "      <th>cg1presidna1</th>\n",
              "      <th>cg1presidna3</th>\n",
              "      <th>cg1vpname1</th>\n",
              "      <th>cg1vpname3</th>\n",
              "      <th>cg1todaydat1</th>\n",
              "      <th>cg1todaydat2</th>\n",
              "      <th>cg1todaydat3</th>\n",
              "      <th>cg1todaydat4</th>\n",
              "      <th>cg1dwrdimmrc</th>\n",
              "      <th>cg1dwrddlyrc</th>\n",
              "      <th>round</th>\n",
              "      <th>cp1dad8dem</th>\n",
              "    </tr>\n",
              "  </thead>\n",
              "  <tbody>\n",
              "    <tr>\n",
              "      <th>0</th>\n",
              "      <td>10000003</td>\n",
              "      <td>3.0</td>\n",
              "      <td>2</td>\n",
              "      <td>1</td>\n",
              "      <td>1</td>\n",
              "      <td>1</td>\n",
              "      <td>1</td>\n",
              "      <td>1.0</td>\n",
              "      <td>1.0</td>\n",
              "      <td>1.0</td>\n",
              "      <td>1.0</td>\n",
              "      <td>6.0</td>\n",
              "      <td>3.0</td>\n",
              "      <td>1</td>\n",
              "      <td>10</td>\n",
              "    </tr>\n",
              "    <tr>\n",
              "      <th>1</th>\n",
              "      <td>10000004</td>\n",
              "      <td>3.0</td>\n",
              "      <td>2</td>\n",
              "      <td>1</td>\n",
              "      <td>1</td>\n",
              "      <td>0</td>\n",
              "      <td>0</td>\n",
              "      <td>1.0</td>\n",
              "      <td>1.0</td>\n",
              "      <td>1.0</td>\n",
              "      <td>1.0</td>\n",
              "      <td>4.0</td>\n",
              "      <td>3.0</td>\n",
              "      <td>1</td>\n",
              "      <td>10</td>\n",
              "    </tr>\n",
              "    <tr>\n",
              "      <th>2</th>\n",
              "      <td>10000005</td>\n",
              "      <td>3.0</td>\n",
              "      <td>2</td>\n",
              "      <td>1</td>\n",
              "      <td>1</td>\n",
              "      <td>1</td>\n",
              "      <td>1</td>\n",
              "      <td>1.0</td>\n",
              "      <td>1.0</td>\n",
              "      <td>1.0</td>\n",
              "      <td>1.0</td>\n",
              "      <td>7.0</td>\n",
              "      <td>4.0</td>\n",
              "      <td>1</td>\n",
              "      <td>10</td>\n",
              "    </tr>\n",
              "    <tr>\n",
              "      <th>3</th>\n",
              "      <td>10000006</td>\n",
              "      <td>4.0</td>\n",
              "      <td>2</td>\n",
              "      <td>1</td>\n",
              "      <td>1</td>\n",
              "      <td>1</td>\n",
              "      <td>0</td>\n",
              "      <td>1.0</td>\n",
              "      <td>1.0</td>\n",
              "      <td>1.0</td>\n",
              "      <td>1.0</td>\n",
              "      <td>4.0</td>\n",
              "      <td>3.0</td>\n",
              "      <td>1</td>\n",
              "      <td>10</td>\n",
              "    </tr>\n",
              "    <tr>\n",
              "      <th>5</th>\n",
              "      <td>10000008</td>\n",
              "      <td>2.0</td>\n",
              "      <td>2</td>\n",
              "      <td>1</td>\n",
              "      <td>1</td>\n",
              "      <td>1</td>\n",
              "      <td>1</td>\n",
              "      <td>1.0</td>\n",
              "      <td>1.0</td>\n",
              "      <td>1.0</td>\n",
              "      <td>1.0</td>\n",
              "      <td>7.0</td>\n",
              "      <td>7.0</td>\n",
              "      <td>1</td>\n",
              "      <td>10</td>\n",
              "    </tr>\n",
              "  </tbody>\n",
              "</table>\n",
              "</div>"
            ],
            "text/plain": [
              "       spid  cg1dclkdraw  hc1disescn9  ...  cg1dwrddlyrc  round  cp1dad8dem\n",
              "0  10000003          3.0            2  ...           3.0      1          10\n",
              "1  10000004          3.0            2  ...           3.0      1          10\n",
              "2  10000005          3.0            2  ...           4.0      1          10\n",
              "3  10000006          4.0            2  ...           3.0      1          10\n",
              "5  10000008          2.0            2  ...           7.0      1          10\n",
              "\n",
              "[5 rows x 15 columns]"
            ]
          },
          "metadata": {},
          "execution_count": 5
        }
      ]
    },
    {
      "cell_type": "code",
      "metadata": {
        "id": "2XCrWNTwVMqL",
        "colab": {
          "base_uri": "https://localhost:8080/"
        },
        "outputId": "e4868b59-e842-49b9-ae0a-9cbaf8e0867e"
      },
      "source": [
        "# Check all column values again\n",
        "columns_to_keep = ['cg1presidna1','cg1presidna3','cg1vpname1','cg1vpname3',\n",
        "           'cg1todaydat1','cg1todaydat2','cg1todaydat3', 'cg1todaydat4',\n",
        "           'cg1dclkdraw','hc1disescn9', 'cp1dad8dem', 'cg1dwrdimmrc',\n",
        "           'cg1dwrddlyrc']\n",
        "\n",
        "d = round_hat_clean[columns_to_keep]\n",
        "\n",
        "for col in d.columns:\n",
        "  print(\"\\n{}: \\n\".format(col), d[col].unique())"
      ],
      "execution_count": 6,
      "outputs": [
        {
          "output_type": "stream",
          "name": "stdout",
          "text": [
            "\n",
            "cg1presidna1: \n",
            " [1 0]\n",
            "\n",
            "cg1presidna3: \n",
            " [1 0]\n",
            "\n",
            "cg1vpname1: \n",
            " [1 0]\n",
            "\n",
            "cg1vpname3: \n",
            " [1 0]\n",
            "\n",
            "cg1todaydat1: \n",
            " [ 1.  0. nan]\n",
            "\n",
            "cg1todaydat2: \n",
            " [ 1.  0. nan]\n",
            "\n",
            "cg1todaydat3: \n",
            " [ 1.  0. nan]\n",
            "\n",
            "cg1todaydat4: \n",
            " [ 1.  0. nan]\n",
            "\n",
            "cg1dclkdraw: \n",
            " [3. 4. 2. 5. 1. 0.]\n",
            "\n",
            "hc1disescn9: \n",
            " [ 2  1  0  7 10]\n",
            "\n",
            "cp1dad8dem: \n",
            " [10  0  1]\n",
            "\n",
            "cg1dwrdimmrc: \n",
            " ['6.0' '4.0' '7.0' '5.0' '3.0' '2.0' '0.0' '8.0' 0 '1.0' '9.0' '10.0' nan]\n",
            "\n",
            "cg1dwrddlyrc: \n",
            " ['3.0' '4.0' '7.0' '5.0' '2.0' '6.0' '0.0' '1.0' 0 '8.0' '9.0' '10.0' nan]\n"
          ]
        }
      ]
    },
    {
      "cell_type": "code",
      "metadata": {
        "id": "LXmMvMFUUq2C",
        "colab": {
          "base_uri": "https://localhost:8080/"
        },
        "outputId": "393aa43e-23c6-494f-baaa-d6e3b6b08cfb"
      },
      "source": [
        "# Drop the rest of the NaN values since we do not have data for these subjects and\n",
        "# cannot conclude their scores\n",
        "round_hat_clean.dropna(inplace=True)\n",
        "\n",
        "# Check dtypes\n",
        "round_hat_clean.dtypes"
      ],
      "execution_count": 7,
      "outputs": [
        {
          "output_type": "execute_result",
          "data": {
            "text/plain": [
              "spid             string\n",
              "cg1dclkdraw     float64\n",
              "hc1disescn9       int64\n",
              "cg1presidna1      int64\n",
              "cg1presidna3      int64\n",
              "cg1vpname1        int64\n",
              "cg1vpname3        int64\n",
              "cg1todaydat1    float64\n",
              "cg1todaydat2    float64\n",
              "cg1todaydat3    float64\n",
              "cg1todaydat4    float64\n",
              "cg1dwrdimmrc     object\n",
              "cg1dwrddlyrc     object\n",
              "round             int64\n",
              "cp1dad8dem        int64\n",
              "dtype: object"
            ]
          },
          "metadata": {},
          "execution_count": 7
        }
      ]
    },
    {
      "cell_type": "code",
      "metadata": {
        "id": "4r499IAWD5QU"
      },
      "source": [
        "# Change variable value types from Categorical to Int64 for later calculations\n",
        "col_to_change = ['cg1presidna1','cg1presidna3','cg1vpname1','cg1vpname3',\n",
        "           'cg1todaydat1','cg1todaydat2','cg1todaydat3', 'cg1todaydat4',\n",
        "           'cg1dclkdraw','hc1disescn9', 'cp1dad8dem', 'cg1dwrdimmrc',\n",
        "           'cg1dwrddlyrc']\n",
        "round_hat_clean[col_to_change] = round_hat_clean[col_to_change].apply(pd.to_numeric)"
      ],
      "execution_count": 8,
      "outputs": []
    },
    {
      "cell_type": "code",
      "metadata": {
        "id": "pt8-yr_rZS6N"
      },
      "source": [
        "# Create orientation and memory scores\n",
        "round_hat_clean['orientation_score'] = round_hat_clean['cg1presidna1'] + round_hat_clean['cg1presidna3'] \\\n",
        "+ round_hat_clean['cg1vpname1'] + round_hat_clean['cg1vpname3'] + round_hat_clean['cg1todaydat1']\\\n",
        "+ round_hat_clean['cg1todaydat2'] + round_hat_clean['cg1todaydat3'] + round_hat_clean['cg1todaydat4']\n",
        "\n",
        "round_hat_clean['memory_score'] = round_hat_clean['cg1dwrdimmrc'] + round_hat_clean['cg1dwrddlyrc']"
      ],
      "execution_count": 9,
      "outputs": []
    },
    {
      "cell_type": "code",
      "metadata": {
        "id": "GjCBBcNj-6id"
      },
      "source": [
        "round_hat_clean['cg1dclkdraw'] = round_hat_clean.cg1dclkdraw.astype('int64')"
      ],
      "execution_count": 13,
      "outputs": []
    },
    {
      "cell_type": "code",
      "metadata": {
        "colab": {
          "base_uri": "https://localhost:8080/"
        },
        "id": "lbgCJSL2_ElF",
        "outputId": "7adc512a-d3f1-4cbc-f53a-d9282ca9afe1"
      },
      "source": [
        "round_hat_clean.dtypes"
      ],
      "execution_count": 14,
      "outputs": [
        {
          "output_type": "execute_result",
          "data": {
            "text/plain": [
              "spid                  string\n",
              "cg1dclkdraw            int64\n",
              "hc1disescn9            int64\n",
              "cg1presidna1           int64\n",
              "cg1presidna3           int64\n",
              "cg1vpname1             int64\n",
              "cg1vpname3             int64\n",
              "cg1todaydat1         float64\n",
              "cg1todaydat2         float64\n",
              "cg1todaydat3         float64\n",
              "cg1todaydat4         float64\n",
              "cg1dwrdimmrc         float64\n",
              "cg1dwrddlyrc         float64\n",
              "round                  int64\n",
              "cp1dad8dem             int64\n",
              "orientation_score    float64\n",
              "memory_score         float64\n",
              "dtype: object"
            ]
          },
          "metadata": {},
          "execution_count": 14
        }
      ]
    },
    {
      "cell_type": "code",
      "metadata": {
        "id": "pJ7i0x6pOR1g"
      },
      "source": [
        "# Save a copy of hats_cleaned_data as csv\n",
        "#round_hat_clean.to_csv(\"Data/cleaned_nhat_data.csv\", index = False)"
      ],
      "execution_count": null,
      "outputs": []
    },
    {
      "cell_type": "code",
      "metadata": {
        "id": "6Ze_GyMd9lQ8",
        "colab": {
          "base_uri": "https://localhost:8080/",
          "height": 359
        },
        "outputId": "9e78afd7-ccf5-4fea-8811-607fe31507e4"
      },
      "source": [
        "# Call script that creates the labels for each subject\n",
        "round_hat_label = ld.create_hats_labels(round_hat_clean)[['round', 'spid', 'label']]\n",
        "round_hat_label.sample(10)"
      ],
      "execution_count": 16,
      "outputs": [
        {
          "output_type": "execute_result",
          "data": {
            "text/html": [
              "<div>\n",
              "<style scoped>\n",
              "    .dataframe tbody tr th:only-of-type {\n",
              "        vertical-align: middle;\n",
              "    }\n",
              "\n",
              "    .dataframe tbody tr th {\n",
              "        vertical-align: top;\n",
              "    }\n",
              "\n",
              "    .dataframe thead th {\n",
              "        text-align: right;\n",
              "    }\n",
              "</style>\n",
              "<table border=\"1\" class=\"dataframe\">\n",
              "  <thead>\n",
              "    <tr style=\"text-align: right;\">\n",
              "      <th></th>\n",
              "      <th>round</th>\n",
              "      <th>spid</th>\n",
              "      <th>label</th>\n",
              "    </tr>\n",
              "  </thead>\n",
              "  <tbody>\n",
              "    <tr>\n",
              "      <th>4869</th>\n",
              "      <td>1</td>\n",
              "      <td>10007353</td>\n",
              "      <td>2</td>\n",
              "    </tr>\n",
              "    <tr>\n",
              "      <th>13174</th>\n",
              "      <td>2</td>\n",
              "      <td>10008646</td>\n",
              "      <td>2</td>\n",
              "    </tr>\n",
              "    <tr>\n",
              "      <th>33471</th>\n",
              "      <td>5</td>\n",
              "      <td>20005903</td>\n",
              "      <td>2</td>\n",
              "    </tr>\n",
              "    <tr>\n",
              "      <th>20222</th>\n",
              "      <td>3</td>\n",
              "      <td>10010346</td>\n",
              "      <td>0</td>\n",
              "    </tr>\n",
              "    <tr>\n",
              "      <th>13234</th>\n",
              "      <td>2</td>\n",
              "      <td>10008747</td>\n",
              "      <td>2</td>\n",
              "    </tr>\n",
              "    <tr>\n",
              "      <th>4571</th>\n",
              "      <td>1</td>\n",
              "      <td>10006906</td>\n",
              "      <td>2</td>\n",
              "    </tr>\n",
              "    <tr>\n",
              "      <th>3442</th>\n",
              "      <td>1</td>\n",
              "      <td>10005268</td>\n",
              "      <td>2</td>\n",
              "    </tr>\n",
              "    <tr>\n",
              "      <th>31712</th>\n",
              "      <td>5</td>\n",
              "      <td>20002858</td>\n",
              "      <td>2</td>\n",
              "    </tr>\n",
              "    <tr>\n",
              "      <th>13152</th>\n",
              "      <td>2</td>\n",
              "      <td>10008603</td>\n",
              "      <td>1</td>\n",
              "    </tr>\n",
              "    <tr>\n",
              "      <th>51606</th>\n",
              "      <td>8</td>\n",
              "      <td>20002556</td>\n",
              "      <td>2</td>\n",
              "    </tr>\n",
              "  </tbody>\n",
              "</table>\n",
              "</div>"
            ],
            "text/plain": [
              "       round      spid  label\n",
              "4869       1  10007353      2\n",
              "13174      2  10008646      2\n",
              "33471      5  20005903      2\n",
              "20222      3  10010346      0\n",
              "13234      2  10008747      2\n",
              "4571       1  10006906      2\n",
              "3442       1  10005268      2\n",
              "31712      5  20002858      2\n",
              "13152      2  10008603      1\n",
              "51606      8  20002556      2"
            ]
          },
          "metadata": {},
          "execution_count": 16
        }
      ]
    },
    {
      "cell_type": "code",
      "metadata": {
        "colab": {
          "base_uri": "https://localhost:8080/",
          "height": 282
        },
        "id": "pB8Bym0p0vsA",
        "outputId": "33ee0967-2c73-4e79-d03b-fcff4b03a8f9"
      },
      "source": [
        "round_hat_label.label.hist() "
      ],
      "execution_count": 17,
      "outputs": [
        {
          "output_type": "execute_result",
          "data": {
            "text/plain": [
              "<matplotlib.axes._subplots.AxesSubplot at 0x7f0b598f5950>"
            ]
          },
          "metadata": {},
          "execution_count": 17
        },
        {
          "output_type": "display_data",
          "data": {
            "image/png": "[encoded data removed]",
            "text/plain": [
              "<Figure size 432x288 with 1 Axes>"
            ]
          },
          "metadata": {
            "needs_background": "light"
          }
        }
      ]
    },
    {
      "cell_type": "code",
      "metadata": {
        "colab": {
          "base_uri": "https://localhost:8080/"
        },
        "id": "gT8yihrT50a3",
        "outputId": "8342175f-d000-4892-f6af-b7ac82b9592f"
      },
      "source": [
        "round_hat_label['label'].value_counts()"
      ],
      "execution_count": 18,
      "outputs": [
        {
          "output_type": "execute_result",
          "data": {
            "text/plain": [
              "2    41656\n",
              "0     5312\n",
              "1     4393\n",
              "Name: label, dtype: int64"
            ]
          },
          "metadata": {},
          "execution_count": 18
        }
      ]
    },
    {
      "cell_type": "markdown",
      "metadata": {
        "id": "oLIyJEUbcrpN"
      },
      "source": [
        "## Testing AI strategy of labeling on NHATs\n",
        "Logic: If an SPID for all rounds returns different labels, we want to make sure these labels consistently illustrate the cognitive trend. \n",
        "\n",
        "\n",
        "If and SPID's labels contain 2's, 0's and 1's, the most logical decision would be to assign all rounds before the appearance of a 1 as a 0. (Possible dementia preceeds a diagnosis classification of dementia). \n",
        "\n",
        "\n",
        "If the subject contains only 2's and 0 labels, all rounds prior to the first appearance of a label of 0 should keep the label of 2. (No dementia preceeds possible onset of dementia)\n",
        "\n",
        "We should then see different label combinations of either (2..., 0...), (2...), (0...), (0..., 1...), or (1...)\n",
        "\n"
      ]
    },
    {
      "cell_type": "code",
      "metadata": {
        "id": "c3OHr_OHmnER"
      },
      "source": [
        "final_df = round_hat_label.copy()"
      ],
      "execution_count": 19,
      "outputs": []
    },
    {
      "cell_type": "code",
      "metadata": {
        "colab": {
          "base_uri": "https://localhost:8080/"
        },
        "id": "-Opg-9axIz2n",
        "outputId": "cdb07d7d-757f-4a96-80c4-d4123fdca787"
      },
      "source": [
        "# Pre-final labeling test \n",
        "ids_test = ['10000006','10000024','20006986', '10000041','10000131', '10000175', '10000047', '20007062' ]\n",
        "for nums in ids_test:\n",
        "  print(final_df[final_df['spid'] == nums])"
      ],
      "execution_count": 20,
      "outputs": [
        {
          "output_type": "stream",
          "name": "stdout",
          "text": [
            "   round      spid  label\n",
            "3      1  10000006      2\n",
            "       round      spid  label\n",
            "17         1  10000024      2\n",
            "8258       2  10000024      0\n",
            "16510      3  10000024      0\n",
            "22100      4  10000024      1\n",
            "       round      spid  label\n",
            "34111      5  20006986      1\n",
            "41398      6  20006986      2\n",
            "47726      7  20006986      2\n",
            "53278      8  20006986      0\n",
            "58262      9  20006986      1\n",
            "62655     10  20006986      0\n",
            "       round      spid  label\n",
            "28         1  10000041      0\n",
            "8268       2  10000041      2\n",
            "16744      3  10000041      2\n",
            "22301      4  10000041      2\n",
            "25869      5  10000041      0\n",
            "34203      6  10000041      2\n",
            "41477      7  10000041      0\n",
            "47788      8  10000041      0\n",
            "53333      9  10000041      2\n",
            "58309     10  10000041      2\n",
            "       round      spid  label\n",
            "8321       2  10000131      2\n",
            "18110      3  10000131      2\n",
            "23412      4  10000131      2\n",
            "25902      5  10000131      0\n",
            "34233      6  10000131      2\n",
            "41504      7  10000131      2\n",
            "       round      spid  label\n",
            "120        1  10000175      2\n",
            "8348       2  10000175      2\n",
            "19596      3  10000175      2\n",
            "24611      4  10000175      2\n",
            "25917      5  10000175      2\n",
            "34246      6  10000175      0\n",
            "41517      7  10000175      0\n",
            "       round      spid  label\n",
            "34         1  10000047      2\n",
            "8274       2  10000047      1\n",
            "20258      3  10000047      1\n",
            "25149      4  10000047      1\n",
            "25872      5  10000047      1\n",
            "34206      6  10000047      1\n",
            "41479      7  10000047      1\n",
            "53335      9  10000047      1\n",
            "       round      spid  label\n",
            "34152      5  20007062      1\n",
            "41432      6  20007062      0\n",
            "47753      7  20007062      0\n",
            "53302      8  20007062      1\n",
            "58281      9  20007062      1\n",
            "62673     10  20007062      1\n"
          ]
        }
      ]
    },
    {
      "cell_type": "code",
      "metadata": {
        "id": "tDVAvpUU2IFL"
      },
      "source": [
        "# final label strategy\n",
        "final_label_df = ld.custom_label(final_df)"
      ],
      "execution_count": 21,
      "outputs": []
    },
    {
      "cell_type": "code",
      "metadata": {
        "colab": {
          "base_uri": "https://localhost:8080/"
        },
        "id": "Pvh0JMcfLxXZ",
        "outputId": "15847d80-f088-4624-e806-96ce76a5fb79"
      },
      "source": [
        "# Post-final labeling test \n",
        "ids_test = ['10000006','10000024','20006986', '10000041','10000131', '10000175', '10000047', '20007062' ]\n",
        "for nums in ids_test:\n",
        "  print(final_label_df[final_label_df['spid'] == nums])"
      ],
      "execution_count": 22,
      "outputs": [
        {
          "output_type": "stream",
          "name": "stdout",
          "text": [
            "   round      spid  label\n",
            "3      1  10000006      2\n",
            "       round      spid  label\n",
            "17         1  10000024      0\n",
            "8258       2  10000024      0\n",
            "16510      3  10000024      0\n",
            "22100      4  10000024      1\n",
            "       round      spid  label\n",
            "34111      5  20006986      1\n",
            "41398      6  20006986      1\n",
            "47726      7  20006986      1\n",
            "53278      8  20006986      1\n",
            "58262      9  20006986      1\n",
            "62655     10  20006986      1\n",
            "       round      spid  label\n",
            "28         1  10000041      0\n",
            "8268       2  10000041      0\n",
            "16744      3  10000041      0\n",
            "22301      4  10000041      0\n",
            "25869      5  10000041      0\n",
            "34203      6  10000041      0\n",
            "41477      7  10000041      0\n",
            "47788      8  10000041      0\n",
            "53333      9  10000041      0\n",
            "58309     10  10000041      0\n",
            "       round      spid  label\n",
            "8321       2  10000131      2\n",
            "18110      3  10000131      2\n",
            "23412      4  10000131      2\n",
            "25902      5  10000131      0\n",
            "34233      6  10000131      0\n",
            "41504      7  10000131      0\n",
            "       round      spid  label\n",
            "120        1  10000175      2\n",
            "8348       2  10000175      2\n",
            "19596      3  10000175      2\n",
            "24611      4  10000175      2\n",
            "25917      5  10000175      2\n",
            "34246      6  10000175      0\n",
            "41517      7  10000175      0\n",
            "       round      spid  label\n",
            "34         1  10000047      0\n",
            "8274       2  10000047      1\n",
            "20258      3  10000047      1\n",
            "25149      4  10000047      1\n",
            "25872      5  10000047      1\n",
            "34206      6  10000047      1\n",
            "41479      7  10000047      1\n",
            "53335      9  10000047      1\n",
            "       round      spid  label\n",
            "34152      5  20007062      1\n",
            "41432      6  20007062      1\n",
            "47753      7  20007062      1\n",
            "53302      8  20007062      1\n",
            "58281      9  20007062      1\n",
            "62673     10  20007062      1\n"
          ]
        }
      ]
    },
    {
      "cell_type": "code",
      "metadata": {
        "colab": {
          "base_uri": "https://localhost:8080/",
          "height": 282
        },
        "id": "u2s3qNDcmLz6",
        "outputId": "42d26664-5643-40f1-b8ce-7bd5f56185b4"
      },
      "source": [
        "final_label_df.label.hist()"
      ],
      "execution_count": 23,
      "outputs": [
        {
          "output_type": "execute_result",
          "data": {
            "text/plain": [
              "<matplotlib.axes._subplots.AxesSubplot at 0x7f0b59f4e9d0>"
            ]
          },
          "metadata": {},
          "execution_count": 23
        },
        {
          "output_type": "display_data",
          "data": {
            "image/png": "[encoded data removed]",
            "text/plain": [
              "<Figure size 432x288 with 1 Axes>"
            ]
          },
          "metadata": {
            "needs_background": "light"
          }
        }
      ]
    },
    {
      "cell_type": "code",
      "metadata": {
        "colab": {
          "base_uri": "https://localhost:8080/"
        },
        "id": "VWEIT0t0mM1q",
        "outputId": "6c681477-bc74-4296-8b0b-cf896370eb6b"
      },
      "source": [
        "final_label_df['label'].value_counts()"
      ],
      "execution_count": 24,
      "outputs": [
        {
          "output_type": "execute_result",
          "data": {
            "text/plain": [
              "2    34483\n",
              "0    11658\n",
              "1     5220\n",
              "Name: label, dtype: int64"
            ]
          },
          "metadata": {},
          "execution_count": 24
        }
      ]
    },
    {
      "cell_type": "markdown",
      "metadata": {
        "id": "eDfLa9wuky9A"
      },
      "source": [
        "## Label strategy keeping only 4 combinations\n",
        "(2...), (0...), (0...,1...), (1...)\n"
      ]
    },
    {
      "cell_type": "code",
      "metadata": {
        "id": "aMqnn4hClCVf"
      },
      "source": [
        "# rounds greater than the round where 0 appears, get a 0, except if the value is a 1 (stays a 1)\n",
        "four_combo = ld.four_combo_label(final_df)"
      ],
      "execution_count": null,
      "outputs": []
    },
    {
      "cell_type": "code",
      "metadata": {
        "colab": {
          "base_uri": "https://localhost:8080/"
        },
        "id": "q1Zs4FA5l7FO",
        "outputId": "c35b8be4-5e23-4a75-a1eb-8a7022469442"
      },
      "source": [
        "# Post-final labeling test \n",
        "ids_test = ['10000006','10000024','20006986', '10000041','10000131', '10000175', '10000047', '20007062' ]\n",
        "for nums in ids_test:\n",
        "  print(four_combo[four_combo['spid'] == nums])"
      ],
      "execution_count": null,
      "outputs": [
        {
          "output_type": "stream",
          "name": "stdout",
          "text": [
            "   round      spid  label\n",
            "3      1  10000006      2\n",
            "       round      spid  label\n",
            "17         1  10000024      0\n",
            "8258       2  10000024      0\n",
            "16510      3  10000024      0\n",
            "22100      4  10000024      1\n",
            "       round      spid  label\n",
            "34111      5  20006986      1\n",
            "41398      6  20006986      1\n",
            "47726      7  20006986      1\n",
            "53278      8  20006986      1\n",
            "58262      9  20006986      1\n",
            "62655     10  20006986      1\n",
            "       round      spid  label\n",
            "28         1  10000041      0\n",
            "8268       2  10000041      0\n",
            "16744      3  10000041      0\n",
            "22301      4  10000041      0\n",
            "25869      5  10000041      0\n",
            "34203      6  10000041      0\n",
            "41477      7  10000041      0\n",
            "47788      8  10000041      0\n",
            "53333      9  10000041      0\n",
            "58309     10  10000041      0\n",
            "       round      spid  label\n",
            "8321       2  10000131      0\n",
            "18110      3  10000131      0\n",
            "23412      4  10000131      0\n",
            "25902      5  10000131      0\n",
            "34233      6  10000131      0\n",
            "41504      7  10000131      0\n",
            "       round      spid  label\n",
            "120        1  10000175      0\n",
            "8348       2  10000175      0\n",
            "19596      3  10000175      0\n",
            "24611      4  10000175      0\n",
            "25917      5  10000175      0\n",
            "34246      6  10000175      0\n",
            "41517      7  10000175      0\n",
            "       round      spid  label\n",
            "34         1  10000047      0\n",
            "8274       2  10000047      1\n",
            "20258      3  10000047      1\n",
            "25149      4  10000047      1\n",
            "25872      5  10000047      1\n",
            "34206      6  10000047      1\n",
            "41479      7  10000047      1\n",
            "53335      9  10000047      1\n",
            "       round      spid  label\n",
            "34152      5  20007062      1\n",
            "41432      6  20007062      1\n",
            "47753      7  20007062      1\n",
            "53302      8  20007062      1\n",
            "58281      9  20007062      1\n",
            "62673     10  20007062      1\n"
          ]
        }
      ]
    },
    {
      "cell_type": "code",
      "metadata": {
        "colab": {
          "base_uri": "https://localhost:8080/",
          "height": 282
        },
        "id": "X2WSkiOhlum7",
        "outputId": "7250c20f-50a2-48ec-d72e-533ad1f717c5"
      },
      "source": [
        "four_combo.label.hist()"
      ],
      "execution_count": null,
      "outputs": [
        {
          "output_type": "execute_result",
          "data": {
            "text/plain": [
              "<matplotlib.axes._subplots.AxesSubplot at 0x7f52cf167390>"
            ]
          },
          "metadata": {},
          "execution_count": 31
        },
        {
          "output_type": "display_data",
          "data": {
            "image/png": "[encoded data removed]",
            "text/plain": [
              "<Figure size 432x288 with 1 Axes>"
            ]
          },
          "metadata": {
            "needs_background": "light"
          }
        }
      ]
    },
    {
      "cell_type": "code",
      "metadata": {
        "colab": {
          "base_uri": "https://localhost:8080/"
        },
        "id": "GXFr-w_pluwp",
        "outputId": "545721b6-87c5-4624-c204-35cda98c1115"
      },
      "source": [
        "four_combo['label'].value_counts()"
      ],
      "execution_count": null,
      "outputs": [
        {
          "output_type": "execute_result",
          "data": {
            "text/plain": [
              "2    30019\n",
              "0    16122\n",
              "1     5220\n",
              "Name: label, dtype: int64"
            ]
          },
          "metadata": {},
          "execution_count": 32
        }
      ]
    },
    {
      "cell_type": "markdown",
      "metadata": {
        "id": "DEp2V5xyiPce"
      },
      "source": [
        "## Get Individual participant IDs and labels per round\n",
        "- useful for pulling in exact images per round\n",
        "- create text file to store dictionary\n",
        "\n",
        "- create one dictionary file for AI Crowd method of labeling\n",
        "- create one dictionary file for NHAT Study Dementia Labeling method\n",
        "- create final custom label dictionary"
      ]
    },
    {
      "cell_type": "code",
      "metadata": {
        "id": "v8Bla478Hj6w",
        "colab": {
          "base_uri": "https://localhost:8080/"
        },
        "outputId": "99139568-69fb-44ba-fbd7-f63908deccde"
      },
      "source": [
        "#print(labeled_data['round'].value_counts(), len(labeled_data)) # AI CROWD\n",
        "print(round_hat_label['round'].value_counts(), len(round_hat_data)) # NHATS\n",
        "#print(final_label_df['round'].value_counts(), len(final_label_df)) # COMBO AI and NHATS\n",
        "#print(round_hat_clean['cg1dclkdraw'].value_counts())"
      ],
      "execution_count": null,
      "outputs": [
        {
          "output_type": "stream",
          "name": "stdout",
          "text": [
            "5     7067\n",
            "1     6918\n",
            "6     5997\n",
            "2     5504\n",
            "7     5256\n",
            "8     4658\n",
            "3     4459\n",
            "9     4186\n",
            "4     3671\n",
            "10    3645\n",
            "Name: round, dtype: int64 51361\n"
          ]
        }
      ]
    },
    {
      "cell_type": "code",
      "metadata": {
        "id": "rz84zNjIiRpw"
      },
      "source": [
        "# get round, id, label for AI crowd method\n",
        "ids_ai = ld.get_ids(labeled_data, 'label')\n",
        "\n",
        "# Writing dictionary to text file for AI Crowd method of labeling\n",
        "try:\n",
        "    id_file = open('roundIdLabelDict.txt', 'wt')\n",
        "    id_file.write(str(ids_ai))\n",
        "    id_file.close()\n",
        "  \n",
        "except:\n",
        "    print(\"Unable to write to file\")"
      ],
      "execution_count": null,
      "outputs": []
    },
    {
      "cell_type": "code",
      "metadata": {
        "id": "8AoORXbLSz1W"
      },
      "source": [
        "# get round, id, label for NHAT method\n",
        "ids_hats = ld.get_ids(round_hat_label, 'label')\n",
        "\n",
        "# Writing dictionary to text file for NHATs method of labeling\n",
        "try:\n",
        "    id_file = open('hatRoundIdLabelDict.txt', 'wt')\n",
        "    id_file.write(str(ids_hats))\n",
        "    id_file.close()\n",
        "  \n",
        "except:\n",
        "    print(\"Unable to write to file\")"
      ],
      "execution_count": null,
      "outputs": []
    },
    {
      "cell_type": "code",
      "metadata": {
        "id": "PsooUDYnNG2t"
      },
      "source": [
        "# get round, id, label for nhat, AI methods and custom method combined\n",
        "id_custom = ld.get_ids(final_label_df, 'label')\n",
        "\n",
        "# Writing dictionary to text file for custom labeling\n",
        "try:\n",
        "    id_file = open('customLabelDict.txt', 'wt')\n",
        "    id_file.write(str(id_custom))\n",
        "    id_file.close()\n",
        "  \n",
        "except:\n",
        "    print(\"Unable to write to file\")"
      ],
      "execution_count": null,
      "outputs": []
    },
    {
      "cell_type": "code",
      "metadata": {
        "id": "ZN5Iwr2uizLB"
      },
      "source": [
        "# get round, id, label for custom four combo method \n",
        "id_four_combo = ld.get_ids(four_combo, 'label')\n",
        "\n",
        "# Writing dictionary to text file for custom four combo labeling\n",
        "try:\n",
        "    id_file = open('fourComboCustomLabelDict.txt', 'wt')\n",
        "    id_file.write(str(id_four_combo))\n",
        "    id_file.close()\n",
        "  \n",
        "except:\n",
        "    print(\"Unable to write to file\")"
      ],
      "execution_count": null,
      "outputs": []
    },
    {
      "cell_type": "code",
      "metadata": {
        "id": "px8ih5UFpWVF"
      },
      "source": [
        "# get round, id, clockdrawing (cg1dclkdraw) score (as labels)\n",
        "clock_score = ld.get_ids(round_hat_clean, 'cg1dclkdraw')\n",
        "\n",
        "# Writing dictionary to text file for custom four combo labeling\n",
        "try:\n",
        "    id_file = open('Data/clockScoreDict.txt', 'wt')\n",
        "    id_file.write(str(clock_score))\n",
        "    id_file.close()\n",
        "  \n",
        "except:\n",
        "    print(\"Unable to write to file\")"
      ],
      "execution_count": 15,
      "outputs": []
    },
    {
      "cell_type": "markdown",
      "metadata": {
        "id": "Dj0jBwh-QJ7h"
      },
      "source": [
        "# Split final df data and check balance\n",
        "splitting on 80, 10, 10"
      ]
    },
    {
      "cell_type": "code",
      "metadata": {
        "id": "l0RVCMetpw0l"
      },
      "source": [
        "train_df = final_label_df[:41089]\n",
        "temp = final_label_df[41089:]\n",
        "val_df = temp[:5136]\n",
        "test_df = temp[5136:]"
      ],
      "execution_count": 68,
      "outputs": []
    },
    {
      "cell_type": "code",
      "metadata": {
        "colab": {
          "base_uri": "https://localhost:8080/"
        },
        "id": "sLqeLxVxJzyN",
        "outputId": "53e53aa4-a18c-49e3-d533-6f605bcf6774"
      },
      "source": [
        "print(len(train_df))\n",
        "print(len(val_df))\n",
        "print(len(test_df))\n",
        "print(len(train_df)+len(val_df)+len(test_df))\n"
      ],
      "execution_count": 69,
      "outputs": [
        {
          "output_type": "stream",
          "name": "stdout",
          "text": [
            "41089\n",
            "5136\n",
            "5136\n",
            "51361\n"
          ]
        }
      ]
    },
    {
      "cell_type": "code",
      "metadata": {
        "colab": {
          "base_uri": "https://localhost:8080/",
          "height": 863
        },
        "id": "uMLM7OqXMjJw",
        "outputId": "670f873b-9602-4ad7-869c-0e013dc1d062"
      },
      "source": [
        "print(\"Train data: \\n\")\n",
        "plt.hist(train_df.label)\n",
        "plt.show()\n",
        "print(\"Val data: \\n\")\n",
        "plt.hist(val_df.label)\n",
        "plt.show()\n",
        "print(\"Test data: \\n\")\n",
        "plt.hist(test_df.label)\n",
        "plt.show()"
      ],
      "execution_count": 70,
      "outputs": [
        {
          "output_type": "stream",
          "name": "stdout",
          "text": [
            "Train data: \n",
            "\n"
          ]
        },
        {
          "output_type": "display_data",
          "data": {
            "image/png": "[encoded data removed]",
            "text/plain": [
              "<Figure size 432x288 with 1 Axes>"
            ]
          },
          "metadata": {
            "needs_background": "light"
          }
        },
        {
          "output_type": "stream",
          "name": "stdout",
          "text": [
            "Val data: \n",
            "\n"
          ]
        },
        {
          "output_type": "display_data",
          "data": {
            "image/png": "[encoded data removed]",
            "text/plain": [
              "<Figure size 432x288 with 1 Axes>"
            ]
          },
          "metadata": {
            "needs_background": "light"
          }
        },
        {
          "output_type": "stream",
          "name": "stdout",
          "text": [
            "Test data: \n",
            "\n"
          ]
        },
        {
          "output_type": "display_data",
          "data": {
            "image/png": "[encoded data removed]",
            "text/plain": [
              "<Figure size 432x288 with 1 Axes>"
            ]
          },
          "metadata": {
            "needs_background": "light"
          }
        }
      ]
    },
    {
      "cell_type": "markdown",
      "metadata": {
        "id": "7FCEL-cRMqAb"
      },
      "source": [
        "## Undersample the imbalanced in Training set only"
      ]
    },
    {
      "cell_type": "code",
      "metadata": {
        "colab": {
          "base_uri": "https://localhost:8080/",
          "height": 392
        },
        "id": "yKtlOkimHSaV",
        "outputId": "99c8be1c-dd4e-4d38-b55b-eff79bf9f280"
      },
      "source": [
        "# import the Random Under Sampler object.\n",
        "from imblearn.under_sampling import RandomUnderSampler\n",
        "\n",
        "# create the object.\n",
        "under_sampler = RandomUnderSampler(sampling_strategy = 'majority', random_state = 42)\n",
        "\n",
        "# fit the object to the training data.\n",
        "x_train_under, y_train_under = under_sampler.fit_sample(train_df.spid, train_df.label)"
      ],
      "execution_count": 105,
      "outputs": [
        {
          "output_type": "error",
          "ename": "ValueError",
          "evalue": "ignored",
          "traceback": [
            "\u001b[0;31m---------------------------------------------------------------------------\u001b[0m",
            "\u001b[0;31mValueError\u001b[0m                                Traceback (most recent call last)",
            "\u001b[0;32m<ipython-input-105-31a8320b39b1>\u001b[0m in \u001b[0;36m<module>\u001b[0;34m()\u001b[0m\n\u001b[1;32m      6\u001b[0m \u001b[0;34m\u001b[0m\u001b[0m\n\u001b[1;32m      7\u001b[0m \u001b[0;31m# fit the object to the training data.\u001b[0m\u001b[0;34m\u001b[0m\u001b[0;34m\u001b[0m\u001b[0;34m\u001b[0m\u001b[0m\n\u001b[0;32m----> 8\u001b[0;31m \u001b[0mx_train_under\u001b[0m\u001b[0;34m,\u001b[0m \u001b[0my_train_under\u001b[0m \u001b[0;34m=\u001b[0m \u001b[0munder_sampler\u001b[0m\u001b[0;34m.\u001b[0m\u001b[0mfit_sample\u001b[0m\u001b[0;34m(\u001b[0m\u001b[0mtrain_df\u001b[0m\u001b[0;34m.\u001b[0m\u001b[0mspid\u001b[0m\u001b[0;34m,\u001b[0m \u001b[0mtrain_df\u001b[0m\u001b[0;34m.\u001b[0m\u001b[0mlabel\u001b[0m\u001b[0;34m)\u001b[0m\u001b[0;34m\u001b[0m\u001b[0;34m\u001b[0m\u001b[0m\n\u001b[0m",
            "\u001b[0;32m/usr/local/lib/python3.7/dist-packages/imblearn/base.py\u001b[0m in \u001b[0;36mfit_resample\u001b[0;34m(self, X, y)\u001b[0m\n\u001b[1;32m     78\u001b[0m         \u001b[0mself\u001b[0m\u001b[0;34m.\u001b[0m\u001b[0m_deprecate_ratio\u001b[0m\u001b[0;34m(\u001b[0m\u001b[0;34m)\u001b[0m\u001b[0;34m\u001b[0m\u001b[0;34m\u001b[0m\u001b[0m\n\u001b[1;32m     79\u001b[0m \u001b[0;34m\u001b[0m\u001b[0m\n\u001b[0;32m---> 80\u001b[0;31m         \u001b[0mX\u001b[0m\u001b[0;34m,\u001b[0m \u001b[0my\u001b[0m\u001b[0;34m,\u001b[0m \u001b[0mbinarize_y\u001b[0m \u001b[0;34m=\u001b[0m \u001b[0mself\u001b[0m\u001b[0;34m.\u001b[0m\u001b[0m_check_X_y\u001b[0m\u001b[0;34m(\u001b[0m\u001b[0mX\u001b[0m\u001b[0;34m,\u001b[0m \u001b[0my\u001b[0m\u001b[0;34m)\u001b[0m\u001b[0;34m\u001b[0m\u001b[0;34m\u001b[0m\u001b[0m\n\u001b[0m\u001b[1;32m     81\u001b[0m \u001b[0;34m\u001b[0m\u001b[0m\n\u001b[1;32m     82\u001b[0m         self.sampling_strategy_ = check_sampling_strategy(\n",
            "\u001b[0;32m/usr/local/lib/python3.7/dist-packages/imblearn/under_sampling/_prototype_selection/_random_under_sampler.py\u001b[0m in \u001b[0;36m_check_X_y\u001b[0;34m(X, y)\u001b[0m\n\u001b[1;32m    101\u001b[0m     \u001b[0;32mdef\u001b[0m \u001b[0m_check_X_y\u001b[0m\u001b[0;34m(\u001b[0m\u001b[0mX\u001b[0m\u001b[0;34m,\u001b[0m \u001b[0my\u001b[0m\u001b[0;34m)\u001b[0m\u001b[0;34m:\u001b[0m\u001b[0;34m\u001b[0m\u001b[0;34m\u001b[0m\u001b[0m\n\u001b[1;32m    102\u001b[0m         \u001b[0my\u001b[0m\u001b[0;34m,\u001b[0m \u001b[0mbinarize_y\u001b[0m \u001b[0;34m=\u001b[0m \u001b[0mcheck_target_type\u001b[0m\u001b[0;34m(\u001b[0m\u001b[0my\u001b[0m\u001b[0;34m,\u001b[0m \u001b[0mindicate_one_vs_all\u001b[0m\u001b[0;34m=\u001b[0m\u001b[0;32mTrue\u001b[0m\u001b[0;34m)\u001b[0m\u001b[0;34m\u001b[0m\u001b[0;34m\u001b[0m\u001b[0m\n\u001b[0;32m--> 103\u001b[0;31m         \u001b[0mX\u001b[0m \u001b[0;34m=\u001b[0m \u001b[0mcheck_array\u001b[0m\u001b[0;34m(\u001b[0m\u001b[0mX\u001b[0m\u001b[0;34m,\u001b[0m \u001b[0maccept_sparse\u001b[0m\u001b[0;34m=\u001b[0m\u001b[0;34m[\u001b[0m\u001b[0;34m'csr'\u001b[0m\u001b[0;34m,\u001b[0m \u001b[0;34m'csc'\u001b[0m\u001b[0;34m]\u001b[0m\u001b[0;34m,\u001b[0m \u001b[0mdtype\u001b[0m\u001b[0;34m=\u001b[0m\u001b[0;32mNone\u001b[0m\u001b[0;34m)\u001b[0m\u001b[0;34m\u001b[0m\u001b[0;34m\u001b[0m\u001b[0m\n\u001b[0m\u001b[1;32m    104\u001b[0m         y = check_array(y, accept_sparse=['csr', 'csc'], dtype=None,\n\u001b[1;32m    105\u001b[0m                         ensure_2d=False)\n",
            "\u001b[0;32m/usr/local/lib/python3.7/dist-packages/sklearn/utils/validation.py\u001b[0m in \u001b[0;36mcheck_array\u001b[0;34m(array, accept_sparse, accept_large_sparse, dtype, order, copy, force_all_finite, ensure_2d, allow_nd, ensure_min_samples, ensure_min_features, warn_on_dtype, estimator)\u001b[0m\n\u001b[1;32m    554\u001b[0m                     \u001b[0;34m\"Reshape your data either using array.reshape(-1, 1) if \"\u001b[0m\u001b[0;34m\u001b[0m\u001b[0;34m\u001b[0m\u001b[0m\n\u001b[1;32m    555\u001b[0m                     \u001b[0;34m\"your data has a single feature or array.reshape(1, -1) \"\u001b[0m\u001b[0;34m\u001b[0m\u001b[0;34m\u001b[0m\u001b[0m\n\u001b[0;32m--> 556\u001b[0;31m                     \"if it contains a single sample.\".format(array))\n\u001b[0m\u001b[1;32m    557\u001b[0m \u001b[0;34m\u001b[0m\u001b[0m\n\u001b[1;32m    558\u001b[0m         \u001b[0;31m# in the future np.flexible dtypes will be handled like object dtypes\u001b[0m\u001b[0;34m\u001b[0m\u001b[0;34m\u001b[0m\u001b[0;34m\u001b[0m\u001b[0m\n",
            "\u001b[0;31mValueError\u001b[0m: Expected 2D array, got 1D array instead:\narray=['10000003' '10000004' '10000005' ... '10011693' '10011707' '10011708'].\nReshape your data either using array.reshape(-1, 1) if your data has a single feature or array.reshape(1, -1) if it contains a single sample."
          ]
        }
      ]
    },
    {
      "cell_type": "code",
      "metadata": {
        "colab": {
          "base_uri": "https://localhost:8080/"
        },
        "id": "Dl1_J7hRbH-I",
        "outputId": "e01e5dbb-129e-4737-f398-a029540dbab8"
      },
      "source": [
        "train_df.spid"
      ],
      "execution_count": 106,
      "outputs": [
        {
          "output_type": "execute_result",
          "data": {
            "text/plain": [
              "0        10000003\n",
              "1        10000004\n",
              "2        10000005\n",
              "3        10000006\n",
              "5        10000008\n",
              "           ...   \n",
              "50455    10011682\n",
              "50456    10011689\n",
              "50457    10011693\n",
              "50459    10011707\n",
              "50460    10011708\n",
              "Name: spid, Length: 41089, dtype: string"
            ]
          },
          "metadata": {},
          "execution_count": 106
        }
      ]
    },
    {
      "cell_type": "code",
      "metadata": {
        "colab": {
          "base_uri": "https://localhost:8080/",
          "height": 265
        },
        "id": "x3Qt1mfEVOc4",
        "outputId": "f1356b96-6c19-4b90-e843-5f95953028be"
      },
      "source": [
        "plt.hist(bal_train.label)\n",
        "plt.show()\n"
      ],
      "execution_count": 92,
      "outputs": [
        {
          "output_type": "display_data",
          "data": {
            "image/png": "[encoded data removed]",
            "text/plain": [
              "<Figure size 432x288 with 1 Axes>"
            ]
          },
          "metadata": {
            "needs_background": "light"
          }
        }
      ]
    },
    {
      "cell_type": "code",
      "metadata": {
        "colab": {
          "base_uri": "https://localhost:8080/"
        },
        "id": "zU3xzZJDVZ-E",
        "outputId": "c014fc6d-ae62-4952-80f6-2759036ba0fe"
      },
      "source": [
        "len(bal_train)\n",
        "2536/12321"
      ],
      "execution_count": 95,
      "outputs": [
        {
          "output_type": "execute_result",
          "data": {
            "text/plain": [
              "0.2058274490706923"
            ]
          },
          "metadata": {},
          "execution_count": 95
        }
      ]
    },
    {
      "cell_type": "code",
      "metadata": {
        "id": "AFegysRqQMLd"
      },
      "source": [
        "# Create Training dictionary\n",
        "train_dict = ld.get_ids(train_df, 'label')\n",
        "\n",
        "# Writing dictionary to text file for training\n",
        "try:\n",
        "    id_file = open('train_dict.txt', 'wt')\n",
        "    id_file.write(str(train_dict))\n",
        "    id_file.close()\n",
        "  \n",
        "except:\n",
        "    print(\"Unable to write to file\")"
      ],
      "execution_count": null,
      "outputs": []
    },
    {
      "cell_type": "code",
      "metadata": {
        "id": "YUtbLv7GpaaE"
      },
      "source": [
        "# Create validation dictionary\n",
        "val_dict = ld.get_ids(val_df, 'label')\n",
        "\n",
        "# Writing dictionary to text file for validating\n",
        "try:\n",
        "    id_file = open('val_dict.txt', 'wt')\n",
        "    id_file.write(str(val_dict))\n",
        "    id_file.close()\n",
        "  \n",
        "except:\n",
        "    print(\"Unable to write to file\")"
      ],
      "execution_count": null,
      "outputs": []
    },
    {
      "cell_type": "code",
      "metadata": {
        "id": "q0NBEnNLpap9"
      },
      "source": [
        "# Create test dictionary\n",
        "test_dict = ld.get_ids(test_df, 'label')\n",
        "\n",
        "# Writing dictionary to text file for testing\n",
        "try:\n",
        "    id_file = open('test_dict.txt', 'wt')\n",
        "    id_file.write(str(test_dict))\n",
        "    id_file.close()\n",
        "  \n",
        "except:\n",
        "    print(\"Unable to write to file\")"
      ],
      "execution_count": null,
      "outputs": []
    },
    {
      "cell_type": "code",
      "metadata": {
        "id": "9qi0Ho8xqJ0Z"
      },
      "source": [
        ""
      ],
      "execution_count": null,
      "outputs": []
    }
  ]
}