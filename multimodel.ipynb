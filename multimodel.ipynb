{
  "nbformat": 4,
  "nbformat_minor": 0,
  "metadata": {
    "colab": {
      "name": "multimodel.ipynb",
      "provenance": [],
      "machine_shape": "hm",
      "authorship_tag": "ABX9TyPe8j/KAZH2b07GMWmcsZax",
      "include_colab_link": true
    },
    "kernelspec": {
      "name": "python3",
      "display_name": "Python 3"
    },
    "language_info": {
      "name": "python"
    },
    "accelerator": "GPU"
  },
  "cells": [
    {
      "cell_type": "markdown",
      "metadata": {
        "id": "view-in-github",
        "colab_type": "text"
      },
      "source": [
        "<a href=\"https://colab.research.google.com/github/ian-byrne/MADSmilestone2/blob/main/multimodel.ipynb\" target=\"_parent\"><img src=\"https://colab.research.google.com/assets/colab-badge.svg\" alt=\"Open In Colab\"/></a>"
      ]
    },
    {
      "cell_type": "markdown",
      "metadata": {
        "id": "6WJ-YY1RBAgi"
      },
      "source": [
        "Multiple Model Option"
      ]
    },
    {
      "cell_type": "code",
      "metadata": {
        "colab": {
          "base_uri": "https://localhost:8080/"
        },
        "id": "l1FoRQ6XYh-E",
        "outputId": "27a6bc61-83e9-4b55-f1b6-242fc42d1379"
      },
      "source": [
        "from google.colab import drive\n",
        "drive.mount('/content/gdrive')"
      ],
      "execution_count": 1,
      "outputs": [
        {
          "output_type": "stream",
          "name": "stdout",
          "text": [
            "Drive already mounted at /content/gdrive; to attempt to forcibly remount, call drive.mount(\"/content/gdrive\", force_remount=True).\n"
          ]
        }
      ]
    },
    {
      "cell_type": "code",
      "metadata": {
        "colab": {
          "base_uri": "https://localhost:8080/"
        },
        "id": "Flfv_Cqa4at-",
        "outputId": "aed61da3-0190-4a59-a452-1c93e0d6deb1"
      },
      "source": [
        "# Clone the entire repo.\n",
        "!git clone -l -s https://github.com/ian-byrne/MADSmilestone2.git\n",
        "# Change directory into cloned repo\n",
        "%cd MADSmilestone2"
      ],
      "execution_count": 2,
      "outputs": [
        {
          "output_type": "stream",
          "name": "stdout",
          "text": [
            "fatal: destination path 'MADSmilestone2' already exists and is not an empty directory.\n",
            "/content/MADSmilestone2\n"
          ]
        }
      ]
    },
    {
      "cell_type": "code",
      "metadata": {
        "colab": {
          "base_uri": "https://localhost:8080/"
        },
        "id": "0ouIghrj2PN7",
        "outputId": "e5228b6c-bbbc-422f-e422-c16a7ecb3412"
      },
      "source": [
        "!git pull"
      ],
      "execution_count": 3,
      "outputs": [
        {
          "output_type": "stream",
          "name": "stdout",
          "text": [
            "remote: Enumerating objects: 4, done.\u001b[K\n",
            "remote: Counting objects:  25% (1/4)\u001b[K\rremote: Counting objects:  50% (2/4)\u001b[K\rremote: Counting objects:  75% (3/4)\u001b[K\rremote: Counting objects: 100% (4/4)\u001b[K\rremote: Counting objects: 100% (4/4), done.\u001b[K\n",
            "remote: Compressing objects:  33% (1/3)\u001b[K\rremote: Compressing objects:  66% (2/3)\u001b[K\rremote: Compressing objects: 100% (3/3)\u001b[K\rremote: Compressing objects: 100% (3/3), done.\u001b[K\n",
            "remote: Total 3 (delta 1), reused 0 (delta 0), pack-reused 0\u001b[K\n",
            "Unpacking objects:  33% (1/3)   \rUnpacking objects:  66% (2/3)   \rUnpacking objects: 100% (3/3)   \rUnpacking objects: 100% (3/3), done.\n",
            "From https://github.com/ian-byrne/MADSmilestone2\n",
            "   29e4d56..3a3f93f  main       -> origin/main\n",
            "Updating 29e4d56..3a3f93f\n",
            "Fast-forward\n",
            " multimodel1.ipynb | 842 \u001b[32m++++++++++++++++++++++++++++++++++++++++++++++++++++++\u001b[m\n",
            " 1 file changed, 842 insertions(+)\n",
            " create mode 100644 multimodel1.ipynb\n"
          ]
        }
      ]
    },
    {
      "cell_type": "code",
      "metadata": {
        "colab": {
          "base_uri": "https://localhost:8080/"
        },
        "id": "rRCdqp64T5CV",
        "outputId": "14772a3b-4c31-4576-8846-67f21f1b0a49"
      },
      "source": [
        "!pip install boto3"
      ],
      "execution_count": 4,
      "outputs": [
        {
          "output_type": "stream",
          "name": "stdout",
          "text": [
            "Requirement already satisfied: boto3 in /usr/local/lib/python3.7/dist-packages (1.18.44)\n",
            "Requirement already satisfied: botocore<1.22.0,>=1.21.44 in /usr/local/lib/python3.7/dist-packages (from boto3) (1.21.44)\n",
            "Requirement already satisfied: jmespath<1.0.0,>=0.7.1 in /usr/local/lib/python3.7/dist-packages (from boto3) (0.10.0)\n",
            "Requirement already satisfied: s3transfer<0.6.0,>=0.5.0 in /usr/local/lib/python3.7/dist-packages (from boto3) (0.5.0)\n",
            "Requirement already satisfied: urllib3<1.27,>=1.25.4 in /usr/local/lib/python3.7/dist-packages (from botocore<1.22.0,>=1.21.44->boto3) (1.26.6)\n",
            "Requirement already satisfied: python-dateutil<3.0.0,>=2.1 in /usr/local/lib/python3.7/dist-packages (from botocore<1.22.0,>=1.21.44->boto3) (2.8.2)\n",
            "Requirement already satisfied: six>=1.5 in /usr/local/lib/python3.7/dist-packages (from python-dateutil<3.0.0,>=2.1->botocore<1.22.0,>=1.21.44->boto3) (1.15.0)\n"
          ]
        }
      ]
    },
    {
      "cell_type": "code",
      "metadata": {
        "colab": {
          "base_uri": "https://localhost:8080/"
        },
        "id": "UyEMNGgmWTFo",
        "outputId": "37594031-d5be-4bd9-f9c9-1aa6e9c73bc6"
      },
      "source": [
        "!ls"
      ],
      "execution_count": 5,
      "outputs": [
        {
          "output_type": "stream",
          "name": "stdout",
          "text": [
            "Data\t\t\t Loading\t       Supervised\n",
            "ian_testingground.ipynb  Model_Datasets.ipynb  Supervised_CNN.ipynb\n",
            "ImagePlayground\t\t multimodel1.ipynb\n",
            "Labeling\t\t README.md\n"
          ]
        }
      ]
    },
    {
      "cell_type": "code",
      "metadata": {
        "colab": {
          "base_uri": "https://localhost:8080/"
        },
        "id": "PogN9gqzcOEx",
        "outputId": "31944647-58be-4abd-dca8-b2f4826fbbc6"
      },
      "source": [
        "# General Libraries\n",
        "import pandas as pd\n",
        "import numpy as np\n",
        "import ast\n",
        "# Custom Libraries\n",
        "import Loading.load_data as ld\n",
        "\n",
        "# Pytroch Libraries\n",
        "import torch\n",
        "import torch.nn as nn\n",
        "import torch.nn.functional as F\n",
        "import torchvision\n",
        "import torchvision.transforms as transforms\n",
        "from torch.nn import Linear, ReLU, CrossEntropyLoss, Sequential, Conv2d, MaxPool2d, Module, Softmax, BatchNorm2d, Dropout\n",
        "from torch.optim import Adam, SGD\n",
        "\n",
        "# To Evaluate model\n",
        "from tqdm import tqdm\n",
        "# import torchmetrics\n",
        "# from torchmetrics import ConfusionMatrix\n",
        "from sklearn.metrics import multilabel_confusion_matrix\n",
        "from sklearn.metrics import plot_confusion_matrix\n",
        "from sklearn.metrics import confusion_matrix\n",
        "from sklearn.metrics import classification_report\n",
        "\n",
        "# To visualize model\n",
        "import matplotlib.pyplot as plt\n",
        "import seaborn as sns\n",
        "from PIL import Image\n",
        "from skimage.io import imread\n",
        "\n",
        "# To split the data\n",
        "from sklearn.model_selection import train_test_split"
      ],
      "execution_count": 6,
      "outputs": [
        {
          "output_type": "stream",
          "name": "stderr",
          "text": [
            "/usr/local/lib/python3.7/dist-packages/requests/__init__.py:91: RequestsDependencyWarning: urllib3 (1.26.6) or chardet (3.0.4) doesn't match a supported version!\n",
            "  RequestsDependencyWarning)\n"
          ]
        }
      ]
    },
    {
      "cell_type": "code",
      "metadata": {
        "id": "GcxL35AcBpHR"
      },
      "source": [
        "from botocore.exceptions import ClientError\n",
        "from torch.nn.modules.activation import ReLU\n",
        "# Set to GPU\n",
        "device = torch.device('cuda:0' if torch.cuda.is_available() else 'cpu')\n"
      ],
      "execution_count": 7,
      "outputs": []
    },
    {
      "cell_type": "code",
      "metadata": {
        "id": "Gq2Fj5cGUvlm"
      },
      "source": [
        "from torch.utils.data import Dataset, DataLoader\n",
        "# import from module later\n",
        "class ResizedClocks(Dataset):\n",
        "    #Resized clock drawing dataset\n",
        "\n",
        "    def __init__(self, round, round_labels):\n",
        "        \n",
        "       # Args:\n",
        "           # round (int): Round to grab images from. \n",
        "           # values (list of tuples): Corresponding values for the round.\n",
        "        \n",
        "        self.round = round\n",
        "        self.vals = round_labels\n",
        "        self.client = boto3.client('s3', \n",
        "                                    aws_access_key_id=pubkey, \n",
        "                                    aws_secret_access_key=seckey)\n",
        "    \n",
        "    def __len__(self):\n",
        "        return len(self.vals)\n",
        "\n",
        "    def __getitem__(self, idx):\n",
        "        spid = self.vals[idx][0]\n",
        "        label = self.vals[idx][1]\n",
        "        bucket = \"clockimages\" #\"test-bucket-clockids-aicrowd\"\n",
        "        obj_name = f\"NHATS_R{self.round}_ClockDrawings/{spid}.tif\" #f\"{self.round}_{spid}.tif\"\n",
        "        #filename = str(spid)+\".tif\"\n",
        "        temp = tempfile.NamedTemporaryFile()\n",
        "\n",
        "        try:\n",
        "          client.download_file(bucket, obj_name, temp.name)\n",
        "\n",
        "          im = Image.open(temp.name)\n",
        "\n",
        "          gray = im.convert('1')\n",
        "          resized = gray.resize((160, 207)) \n",
        "          im_arr = np.array(resized).astype(int)\n",
        "\n",
        "          sample = {'image': im_arr, 'label': label}\n",
        "        \n",
        "          temp.close()\n",
        "\n",
        "          return sample\n",
        "          \n",
        "        except botocore.exceptions.ClientError as e:\n",
        "          #logging.error(e)\n",
        "          pass"
      ],
      "execution_count": 8,
      "outputs": []
    },
    {
      "cell_type": "code",
      "metadata": {
        "id": "t1JK1NXXV1DZ"
      },
      "source": [
        "file = open(\"Data/Dictionaries/score_dicts/tr_scor_dict_bal.txt\", \"r\")\n",
        "\n",
        "contents = file.read()\n",
        "im_scores = ast.literal_eval(contents)"
      ],
      "execution_count": 9,
      "outputs": []
    },
    {
      "cell_type": "code",
      "metadata": {
        "id": "tAVQQwk8PrPG"
      },
      "source": [
        "batch_size = 8\n",
        "learning_rate = .001\n",
        "kernel_size = 3\n",
        "stride = 1\n",
        "padding = 1 #2*floor(3/2)\n",
        "\n",
        "accuracy_stats = {\n",
        "    'train': [],\n",
        "    'val': []\n",
        "}\n",
        "\n",
        "loss_stats = {\n",
        "    'train': [],\n",
        "    'val': []\n",
        "}"
      ],
      "execution_count": 10,
      "outputs": []
    },
    {
      "cell_type": "code",
      "metadata": {
        "colab": {
          "base_uri": "https://localhost:8080/"
        },
        "id": "JNHnJYysXnqV",
        "outputId": "6cf1f6da-39bb-494b-ccb1-3b81ac7a1cf8"
      },
      "source": [
        "path = \"/content/gdrive/MyDrive/numpy_files/Score_data/\"\n",
        "training_data, y_train_tensor = ld.load_np_files(path+\"train_score_im.npy\", path+\"train_score_labels.npy\")"
      ],
      "execution_count": 11,
      "outputs": [
        {
          "output_type": "stream",
          "name": "stdout",
          "text": [
            "(23621, 1, 368, 284)\n"
          ]
        }
      ]
    },
    {
      "cell_type": "code",
      "metadata": {
        "colab": {
          "base_uri": "https://localhost:8080/"
        },
        "id": "gu8kAT744xRy",
        "outputId": "7a184541-d367-40bb-9185-c56f5d5c5db2"
      },
      "source": [
        "validation_data, y_val_tensor = ld.load_np_files(path+\"val_score_im.npy\", path+\"val_score_labels.npy\")\n",
        "test_data, y_test_tensor = ld.load_np_files(path+\"tst_score_im.npy\", path+\"tst_score_labels.npy\")"
      ],
      "execution_count": 12,
      "outputs": [
        {
          "output_type": "stream",
          "name": "stdout",
          "text": [
            "(2544, 1, 368, 284)\n",
            "(2541, 1, 368, 284)\n"
          ]
        }
      ]
    },
    {
      "cell_type": "code",
      "metadata": {
        "id": "Z1cMZCzp9wK2"
      },
      "source": [
        "y_train_tensor = y_train_tensor.to(torch.long)\n",
        "y_test_tensor = y_test_tensor.to(torch.long)\n",
        "y_test_tensor = y_test_tensor.to(torch.long)"
      ],
      "execution_count": 13,
      "outputs": []
    },
    {
      "cell_type": "code",
      "metadata": {
        "colab": {
          "base_uri": "https://localhost:8080/"
        },
        "id": "pqI32aaA_0yU",
        "outputId": "8f9e60be-d901-47f5-946d-6e71e60639a4"
      },
      "source": [
        "y_train_tensor.dtype"
      ],
      "execution_count": 14,
      "outputs": [
        {
          "output_type": "execute_result",
          "data": {
            "text/plain": [
              "torch.int64"
            ]
          },
          "metadata": {},
          "execution_count": 14
        }
      ]
    },
    {
      "cell_type": "code",
      "metadata": {
        "id": "IjYDHApzc07a"
      },
      "source": [
        "train_loader = torch.utils.data.DataLoader(training_data, batch_size = batch_size, shuffle = True) \n",
        "validate_loader = torch.utils.data.DataLoader(validation_data, batch_size = batch_size, shuffle = True)\n",
        "test_loader = torch.utils.data.DataLoader(test_data, batch_size = batch_size, shuffle = True)\n",
        "#Labels \n",
        "#classes = (0.0, 1.0, 2.0, 3.0, 4.0, 5.0)\n",
        "classes = (0, 1, 2, 3, 4, 5)"
      ],
      "execution_count": 24,
      "outputs": []
    },
    {
      "cell_type": "code",
      "metadata": {
        "id": "lSbSa2U3Bo72"
      },
      "source": [
        "class ConvNet(nn.Module):\n",
        "  def __init__(self):\n",
        "    super(ConvNet, self).__init__()\n",
        "    # without considering batch size: Input shape : (None,368, 284, 1) , parameters: (3*3*1*16+16) = 160\n",
        "    self.conv1 = nn.Conv2d(in_channels = 1, out_channels = 16, # one input channel gray scale, 16 filters out\n",
        "                            kernel_size = 3, stride = 1, padding = 1) #Out:(None,386, 284, 16)\n",
        "    self.conv2 = nn.Conv2d(in_channels = 16, out_channels = 32, \n",
        "                          kernel_size = 3, stride = 1, padding = 1) #params: (3*3*16*32+32) = 4640                        \n",
        "    self.pool1 = nn.MaxPool2d(2, 2) #Out: (None, 184, 142, 32)\n",
        "    self.bn1 = nn.BatchNorm2d(32)\n",
        "\n",
        "    self.conv3 = nn.Conv2d(in_channels = 32, out_channels = 64, \n",
        "                          kernel_size = 3, stride = 1, padding = 1) #params: (3*3*16*32+32) = 4640    \n",
        "    self.conv4 = nn.Conv2d(in_channels = 64, out_channels = 64, \n",
        "                          kernel_size = 3, stride = 1, padding = 1) # params: (3*3*32*32+32) = 9248                     \n",
        "    self.pool2 = nn.MaxPool2d(2, 2) #Output shape = (None, 92, 71, 64)\n",
        "    self.bn2 = nn.BatchNorm2d(64) \n",
        "\n",
        "    self.conv5 = nn.Conv2d(in_channels = 64, out_channels = 128, \n",
        "                          kernel_size = 3, stride = 1, padding = 1) # params: (3*3*32*32+32) = 9248 \n",
        "    self.conv6 = nn.Conv2d(in_channels = 128, out_channels = 128, \n",
        "                          kernel_size = 3, stride = 1, padding = 1) # params: (3*3*32*32+32) = 9248\n",
        "    self.pool3 = nn.MaxPool2d(2, 2) #Output shape = (None, 46, 35, 128)\n",
        "    self.bn3 = nn.BatchNorm2d(128)\n",
        "    \n",
        "    # Fully connected layer\n",
        "    self.fc1 = nn.Linear(128*46*35,6)\n",
        "    #self.fc2 = nn.Linear(120, 60)\n",
        "    #self.fc3 = nn.Linear(60, 30)\n",
        "    #self.fc4 = nn.Linear(30, 3) # left with 3 for the three classes \n",
        "\n",
        "  def forward(self, x):\n",
        "    x = self.bn1(self.pool1(F.relu(self.conv2(F.relu(self.conv1(x))))))\n",
        "    x = self.bn2(self.pool2(F.relu(self.conv4(F.relu(self.conv3(x))))))\n",
        "    x = self.bn3(self.pool3(F.relu(self.conv6(F.relu(self.conv5(x))))))\n",
        "    x = x.view(x.size(0),128*46*35)\n",
        "    x = self.fc1(x)\n",
        "\n",
        "\n",
        "    return x "
      ],
      "execution_count": 16,
      "outputs": []
    },
    {
      "cell_type": "code",
      "metadata": {
        "id": "uRLTUIbpBoWQ"
      },
      "source": [
        "def accuracy(y_pred, y_test):\n",
        "  y_pred_softmax = torch.log_softmax(y_pred, dim = 1)\n",
        "  _, y_pred_prob = torch.max(y_pred_softmax, dim = 1)\n",
        "  \n",
        "  #y_preds = y_pred.argmax(dim=1)\n",
        "\n",
        "  correct_pred = (y_pred_prob == y_test).float()\n",
        "  #print(\"correct sum: \", correct_pred.sum())\n",
        "  #print('correct total length: ', len(correct_pred))\n",
        "  #print(correct_pred)\n",
        "  acc = correct_pred.sum() / len(correct_pred)\n",
        "  \n",
        "  #acc = correct_pred.sum().float() / float( y_test.size(0) )\n",
        "\n",
        "  acc = torch.round(acc * 100)\n",
        "\n",
        "  return acc"
      ],
      "execution_count": 17,
      "outputs": []
    },
    {
      "cell_type": "code",
      "metadata": {
        "colab": {
          "base_uri": "https://localhost:8080/"
        },
        "id": "Wvp-oYUuBozP",
        "outputId": "b0d8b2da-e90e-4337-defb-2b8572a489ad"
      },
      "source": [
        "# Create model object \n",
        "model = ConvNet()\n",
        "if torch.cuda.is_available():\n",
        "    model = model.to(float).cuda()\n",
        "    print('Model training on GPU')\n",
        "else:\n",
        "    print(\"CUDA is not available. Training on CPU...\")\n",
        "\n",
        "#for param in model.parameters():\n",
        "  #print(str(param.data.numpy().shape)+'\\n')\n",
        "  #print(\"weights fc1: \", model.fc1.weight)\n",
        "\n",
        "# Loss function\n",
        "criterion = nn.CrossEntropyLoss(reduction=\"mean\")\n",
        "\n",
        "# Optimizer (can use SGD or ADAM)\n",
        "#optimizer = torch.optim.Adam(model.parameters(), lr = learning_rate)#, momentum = 0.9) #or ADAM/ momentum\n",
        "optimizer = torch.optim.SGD(model.parameters(), lr = learning_rate, momentum = 0.9) #or ADAM/ momentum\n",
        "\n",
        "print(model) "
      ],
      "execution_count": 18,
      "outputs": [
        {
          "output_type": "stream",
          "name": "stdout",
          "text": [
            "Model training on GPU\n",
            "ConvNet(\n",
            "  (conv1): Conv2d(1, 16, kernel_size=(3, 3), stride=(1, 1), padding=(1, 1))\n",
            "  (conv2): Conv2d(16, 32, kernel_size=(3, 3), stride=(1, 1), padding=(1, 1))\n",
            "  (pool1): MaxPool2d(kernel_size=2, stride=2, padding=0, dilation=1, ceil_mode=False)\n",
            "  (bn1): BatchNorm2d(32, eps=1e-05, momentum=0.1, affine=True, track_running_stats=True)\n",
            "  (conv3): Conv2d(32, 64, kernel_size=(3, 3), stride=(1, 1), padding=(1, 1))\n",
            "  (conv4): Conv2d(64, 64, kernel_size=(3, 3), stride=(1, 1), padding=(1, 1))\n",
            "  (pool2): MaxPool2d(kernel_size=2, stride=2, padding=0, dilation=1, ceil_mode=False)\n",
            "  (bn2): BatchNorm2d(64, eps=1e-05, momentum=0.1, affine=True, track_running_stats=True)\n",
            "  (conv5): Conv2d(64, 128, kernel_size=(3, 3), stride=(1, 1), padding=(1, 1))\n",
            "  (conv6): Conv2d(128, 128, kernel_size=(3, 3), stride=(1, 1), padding=(1, 1))\n",
            "  (pool3): MaxPool2d(kernel_size=2, stride=2, padding=0, dilation=1, ceil_mode=False)\n",
            "  (bn3): BatchNorm2d(128, eps=1e-05, momentum=0.1, affine=True, track_running_stats=True)\n",
            "  (fc1): Linear(in_features=206080, out_features=6, bias=True)\n",
            ")\n"
          ]
        }
      ]
    },
    {
      "cell_type": "code",
      "metadata": {
        "id": "N5qNtmj2Bop7"
      },
      "source": [
        "def train_val_model(epochs):\n",
        "  for epoch in range(1, epochs + 1):\n",
        "\n",
        "    # TRAINING ********************************\n",
        "    train_epoch_loss = 0\n",
        "    train_epoch_acc = 0\n",
        "\n",
        "    # set model in training mode (recommended)\n",
        "    model.train()\n",
        "\n",
        "    \n",
        "    # Double check\n",
        "    tr_run_loss=0\n",
        "    tr_correct=0\n",
        "    tr_total=0\n",
        "    train_accu = []\n",
        "    train_losses = []\n",
        "    \n",
        "    print('\\nEpoch$ : %d'%epoch)\n",
        "    for x_train_batch, y_train_batch in tqdm(train_loader):\n",
        "        x_train_batch = x_train_batch.to(torch.double).to(device) # for GPU support\n",
        "        y_train_batch = y_train_batch.to(torch.long).to(device) \n",
        "\n",
        "        #print(x_train_batch.shape)\n",
        "\n",
        "        # sets gradients to 0 to prevent interference with previous epoch\n",
        "        optimizer.zero_grad()\n",
        "\n",
        "        # Forward pass through NN\n",
        "        y_train_pred = model(x_train_batch)\n",
        "        train_loss = criterion(y_train_pred, y_train_batch)\n",
        "        train_acc = accuracy(y_train_pred, y_train_batch)\n",
        "\n",
        "        # Backward pass, updating weights\n",
        "        train_loss.backward()\n",
        "        optimizer.step()\n",
        "\n",
        "        # Statistics\n",
        "        train_epoch_loss += train_loss.item()\n",
        "        train_epoch_acc += train_acc.item()\n",
        "\n",
        "        # Double check scores\n",
        "        tr_run_loss += train_loss.item()\n",
        "        \n",
        "        _, predicted = y_train_pred.max(1)\n",
        "        tr_total += y_train_batch.size(0)\n",
        "        tr_correct += predicted.eq(y_train_batch).sum().item()\n",
        "       \n",
        "    tr_loss = tr_run_loss/len(train_loader)\n",
        "    accu = 100.*tr_correct/tr_total\n",
        "   \n",
        "    train_accu.append(accu)\n",
        "    train_losses.append(tr_loss)\n",
        "    print('Train Loss: %.3f | Train Accuracy: %.3f'%(tr_loss,accu))\n",
        "    # VALIDATION****************************************   \n",
        "    \n",
        "    with torch.set_grad_enabled(False):\n",
        "        val_epoch_loss = 0\n",
        "        val_epoch_acc = 0\n",
        "\n",
        "        # Double check\n",
        "        val_run_loss=0\n",
        "        val_correct=0\n",
        "        val_total=0\n",
        "        val_accu = []\n",
        "        val_losses = []\n",
        "\n",
        "\n",
        "        model.eval()\n",
        "        for x_val_batch, y_val_batch in tqdm(validate_loader):\n",
        "      \n",
        "            x_val_batch =  x_val_batch.to(torch.double).to(device)\n",
        "            y_val_batch = y_val_batch.to(torch.long).to(device)\n",
        "                \n",
        "            # Forward pass\n",
        "            y_val_pred = model(x_val_batch)   \n",
        "            val_loss = criterion(y_val_pred, y_val_batch)\n",
        "            val_acc = accuracy(y_val_pred, y_val_batch)\n",
        "                \n",
        "            val_epoch_loss += val_loss.item()\n",
        "            val_epoch_acc += val_acc.item()\n",
        "\n",
        "            # Double check\n",
        "            \n",
        "            val_run_loss += val_loss.item()\n",
        "        \n",
        "            _, predictedv = y_val_pred.max(1)\n",
        "            val_total += y_train_batch.size(0)\n",
        "            val_correct += predictedv.eq(y_val_batch).sum().item()\n",
        "        \n",
        "        vl_loss = val_run_loss/len(validate_loader)\n",
        "        accuv = 100.*val_correct/val_total\n",
        "    \n",
        "        val_accu.append(accuv)\n",
        "        val_losses.append(vl_loss)\n",
        "        print('Validation Loss: %.3f | Validation Accuracy: %.3f'%(vl_loss,accuv))\n",
        "\n",
        "\n",
        "    loss_stats['train'].append(train_epoch_loss/len(train_loader))\n",
        "    loss_stats['val'].append(val_epoch_loss/len(validate_loader))\n",
        "    accuracy_stats['train'].append(train_epoch_acc/len(train_loader))\n",
        "    accuracy_stats['val'].append(val_epoch_acc/len(validate_loader))\n",
        "                              \n",
        "    \n",
        "    print(f'Epoch {epoch+0:03}: Train Loss: {train_epoch_loss/len(train_loader):.5f} | \\\n",
        "    Val Loss: {val_epoch_loss/len(validate_loader):.5f}')\n",
        "\n",
        "    print(f'Train Acc: {train_epoch_acc/len(train_loader):.3f} | \\\n",
        "    Val Acc: {val_epoch_acc/len(validate_loader):.3f}')"
      ],
      "execution_count": 25,
      "outputs": []
    },
    {
      "cell_type": "code",
      "metadata": {
        "colab": {
          "base_uri": "https://localhost:8080/"
        },
        "id": "PKoBD-EJIQL-",
        "outputId": "b740e079-857c-4bea-b3a7-6397bef331ec"
      },
      "source": [
        "train_val_model(20)"
      ],
      "execution_count": 27,
      "outputs": [
        {
          "output_type": "stream",
          "name": "stdout",
          "text": [
            "\n",
            "Epoch$ : 1\n"
          ]
        },
        {
          "output_type": "stream",
          "name": "stderr",
          "text": [
            "100%|██████████| 2953/2953 [04:05<00:00, 12.04it/s]\n"
          ]
        },
        {
          "output_type": "stream",
          "name": "stdout",
          "text": [
            "Train Loss: 552850610913439590773846930620416.000 | Train Accuracy: 16.807\n"
          ]
        },
        {
          "output_type": "stream",
          "name": "stderr",
          "text": [
            "100%|██████████| 318/318 [00:05<00:00, 54.70it/s]\n"
          ]
        },
        {
          "output_type": "stream",
          "name": "stdout",
          "text": [
            "Validation Loss: 2160178959221558136417687376440636473344.000 | Validation Accuracy: 19.057\n",
            "Epoch 001: Train Loss: 552850610913439590773846930620416.00000 |     Val Loss: 2160178959221558136417687376440636473344.00000\n",
            "Train Acc: 16.675 |     Val Acc: 11.755\n",
            "\n",
            "Epoch$ : 2\n"
          ]
        },
        {
          "output_type": "stream",
          "name": "stderr",
          "text": [
            "100%|██████████| 2953/2953 [04:05<00:00, 12.04it/s]\n"
          ]
        },
        {
          "output_type": "stream",
          "name": "stdout",
          "text": [
            "Train Loss: 575883748318565395032712136359936.000 | Train Accuracy: 16.735\n"
          ]
        },
        {
          "output_type": "stream",
          "name": "stderr",
          "text": [
            "100%|██████████| 318/318 [00:05<00:00, 54.62it/s]\n"
          ]
        },
        {
          "output_type": "stream",
          "name": "stdout",
          "text": [
            "Validation Loss: 1623635520435457961743123049687029907456.000 | Validation Accuracy: 19.057\n",
            "Epoch 002: Train Loss: 575883748318565395032712136359936.00000 |     Val Loss: 1623635520435457961743123049687029907456.00000\n",
            "Train Acc: 16.595 |     Val Acc: 11.733\n",
            "\n",
            "Epoch$ : 3\n"
          ]
        },
        {
          "output_type": "stream",
          "name": "stderr",
          "text": [
            "100%|██████████| 2953/2953 [04:05<00:00, 12.04it/s]\n"
          ]
        },
        {
          "output_type": "stream",
          "name": "stdout",
          "text": [
            "Train Loss: 586381131458722838094888996700160.000 | Train Accuracy: 16.625\n"
          ]
        },
        {
          "output_type": "stream",
          "name": "stderr",
          "text": [
            "100%|██████████| 318/318 [00:05<00:00, 54.44it/s]\n"
          ]
        },
        {
          "output_type": "stream",
          "name": "stdout",
          "text": [
            "Validation Loss: 2494177164681698320437323991115005689856.000 | Validation Accuracy: 5.094\n",
            "Epoch 003: Train Loss: 586381131458722838094888996700160.00000 |     Val Loss: 2494177164681698320437323991115005689856.00000\n",
            "Train Acc: 16.494 |     Val Acc: 3.066\n",
            "\n",
            "Epoch$ : 4\n"
          ]
        },
        {
          "output_type": "stream",
          "name": "stderr",
          "text": [
            "100%|██████████| 2953/2953 [04:05<00:00, 12.04it/s]\n"
          ]
        },
        {
          "output_type": "stream",
          "name": "stdout",
          "text": [
            "Train Loss: 580946251335354734404347954724864.000 | Train Accuracy: 16.761\n"
          ]
        },
        {
          "output_type": "stream",
          "name": "stderr",
          "text": [
            "100%|██████████| 318/318 [00:05<00:00, 54.55it/s]\n"
          ]
        },
        {
          "output_type": "stream",
          "name": "stdout",
          "text": [
            "Validation Loss: 396574384205919215124253654507315003392.000 | Validation Accuracy: 5.094\n",
            "Epoch 004: Train Loss: 580946251335354734404347954724864.00000 |     Val Loss: 396574384205919215124253654507315003392.00000\n",
            "Train Acc: 16.630 |     Val Acc: 3.085\n",
            "\n",
            "Epoch$ : 5\n"
          ]
        },
        {
          "output_type": "stream",
          "name": "stderr",
          "text": [
            "100%|██████████| 2953/2953 [04:05<00:00, 12.04it/s]\n"
          ]
        },
        {
          "output_type": "stream",
          "name": "stdout",
          "text": [
            "Train Loss: 552895786194343942094232779489280.000 | Train Accuracy: 16.244\n"
          ]
        },
        {
          "output_type": "stream",
          "name": "stderr",
          "text": [
            "100%|██████████| 318/318 [00:05<00:00, 54.52it/s]\n"
          ]
        },
        {
          "output_type": "stream",
          "name": "stdout",
          "text": [
            "Validation Loss: 700999347340773638507084526453805547520.000 | Validation Accuracy: 5.094\n",
            "Epoch 005: Train Loss: 552895786194343942094232779489280.00000 |     Val Loss: 700999347340773638507084526453805547520.00000\n",
            "Train Acc: 16.104 |     Val Acc: 3.082\n",
            "\n",
            "Epoch$ : 6\n"
          ]
        },
        {
          "output_type": "stream",
          "name": "stderr",
          "text": [
            "100%|██████████| 2953/2953 [04:05<00:00, 12.02it/s]\n"
          ]
        },
        {
          "output_type": "stream",
          "name": "stdout",
          "text": [
            "Train Loss: 612470357480482723447353460654080.000 | Train Accuracy: 16.574\n"
          ]
        },
        {
          "output_type": "stream",
          "name": "stderr",
          "text": [
            "100%|██████████| 318/318 [00:05<00:00, 54.37it/s]\n"
          ]
        },
        {
          "output_type": "stream",
          "name": "stdout",
          "text": [
            "Validation Loss: 481262678154596885786022497990230409216.000 | Validation Accuracy: 5.094\n",
            "Epoch 006: Train Loss: 612470357480482723447353460654080.00000 |     Val Loss: 481262678154596885786022497990230409216.00000\n",
            "Train Acc: 16.442 |     Val Acc: 3.085\n",
            "\n",
            "Epoch$ : 7\n"
          ]
        },
        {
          "output_type": "stream",
          "name": "stderr",
          "text": [
            "100%|██████████| 2953/2953 [04:05<00:00, 12.02it/s]\n"
          ]
        },
        {
          "output_type": "stream",
          "name": "stdout",
          "text": [
            "Train Loss: 477078166740170309933210888306688.000 | Train Accuracy: 16.909\n"
          ]
        },
        {
          "output_type": "stream",
          "name": "stderr",
          "text": [
            "100%|██████████| 318/318 [00:05<00:00, 54.34it/s]\n"
          ]
        },
        {
          "output_type": "stream",
          "name": "stdout",
          "text": [
            "Validation Loss: 2588136660027171974692897570264860065792.000 | Validation Accuracy: 5.094\n",
            "Epoch 007: Train Loss: 477078166740170309933210888306688.00000 |     Val Loss: 2588136660027171974692897570264860065792.00000\n",
            "Train Acc: 16.787 |     Val Acc: 3.097\n",
            "\n",
            "Epoch$ : 8\n"
          ]
        },
        {
          "output_type": "stream",
          "name": "stderr",
          "text": [
            "100%|██████████| 2953/2953 [04:05<00:00, 12.02it/s]\n"
          ]
        },
        {
          "output_type": "stream",
          "name": "stdout",
          "text": [
            "Train Loss: 488212204909424889558253992673280.000 | Train Accuracy: 16.367\n"
          ]
        },
        {
          "output_type": "stream",
          "name": "stderr",
          "text": [
            "100%|██████████| 318/318 [00:05<00:00, 54.64it/s]\n"
          ]
        },
        {
          "output_type": "stream",
          "name": "stdout",
          "text": [
            "Validation Loss: 4468014679516538560378693217480249180160.000 | Validation Accuracy: 5.094\n",
            "Epoch 008: Train Loss: 488212204909424889558253992673280.00000 |     Val Loss: 4468014679516538560378693217480249180160.00000\n",
            "Train Acc: 16.231 |     Val Acc: 3.085\n",
            "\n",
            "Epoch$ : 9\n"
          ]
        },
        {
          "output_type": "stream",
          "name": "stderr",
          "text": [
            "100%|██████████| 2953/2953 [04:05<00:00, 12.04it/s]\n"
          ]
        },
        {
          "output_type": "stream",
          "name": "stdout",
          "text": [
            "Train Loss: 614624844526045551130350972829696.000 | Train Accuracy: 16.642\n"
          ]
        },
        {
          "output_type": "stream",
          "name": "stderr",
          "text": [
            "100%|██████████| 318/318 [00:05<00:00, 54.49it/s]\n"
          ]
        },
        {
          "output_type": "stream",
          "name": "stdout",
          "text": [
            "Validation Loss: 1844260897014536692583641276893953523712.000 | Validation Accuracy: 5.094\n",
            "Epoch 009: Train Loss: 614624844526045551130350972829696.00000 |     Val Loss: 1844260897014536692583641276893953523712.00000\n",
            "Train Acc: 16.512 |     Val Acc: 3.085\n",
            "\n",
            "Epoch$ : 10\n"
          ]
        },
        {
          "output_type": "stream",
          "name": "stderr",
          "text": [
            "100%|██████████| 2953/2953 [04:05<00:00, 12.04it/s]\n"
          ]
        },
        {
          "output_type": "stream",
          "name": "stdout",
          "text": [
            "Train Loss: 563087435341407409837638491832320.000 | Train Accuracy: 16.714\n"
          ]
        },
        {
          "output_type": "stream",
          "name": "stderr",
          "text": [
            "100%|██████████| 318/318 [00:05<00:00, 54.63it/s]\n"
          ]
        },
        {
          "output_type": "stream",
          "name": "stdout",
          "text": [
            "Validation Loss: 548441271189785120338861897230384627712.000 | Validation Accuracy: 5.094\n",
            "Epoch 010: Train Loss: 563087435341407409837638491832320.00000 |     Val Loss: 548441271189785120338861897230384627712.00000\n",
            "Train Acc: 16.576 |     Val Acc: 3.079\n",
            "\n",
            "Epoch$ : 11\n"
          ]
        },
        {
          "output_type": "stream",
          "name": "stderr",
          "text": [
            "100%|██████████| 2953/2953 [04:05<00:00, 12.05it/s]\n"
          ]
        },
        {
          "output_type": "stream",
          "name": "stdout",
          "text": [
            "Train Loss: 643785278463564976959127963041792.000 | Train Accuracy: 16.739\n"
          ]
        },
        {
          "output_type": "stream",
          "name": "stderr",
          "text": [
            "100%|██████████| 318/318 [00:05<00:00, 54.57it/s]\n"
          ]
        },
        {
          "output_type": "stream",
          "name": "stdout",
          "text": [
            "Validation Loss: 12365310880001576820045916977919973916672.000 | Validation Accuracy: 5.094\n",
            "Epoch 011: Train Loss: 643785278463564976959127963041792.00000 |     Val Loss: 12365310880001576820045916977919973916672.00000\n",
            "Train Acc: 16.600 |     Val Acc: 3.088\n",
            "\n",
            "Epoch$ : 12\n"
          ]
        },
        {
          "output_type": "stream",
          "name": "stderr",
          "text": [
            "100%|██████████| 2953/2953 [04:05<00:00, 12.05it/s]\n"
          ]
        },
        {
          "output_type": "stream",
          "name": "stdout",
          "text": [
            "Train Loss: 561602981420774411037067068833792.000 | Train Accuracy: 16.879\n"
          ]
        },
        {
          "output_type": "stream",
          "name": "stderr",
          "text": [
            "100%|██████████| 318/318 [00:05<00:00, 54.67it/s]\n"
          ]
        },
        {
          "output_type": "stream",
          "name": "stdout",
          "text": [
            "Validation Loss: 5183208425573568443394747328790785949696.000 | Validation Accuracy: 19.057\n",
            "Epoch 012: Train Loss: 561602981420774411037067068833792.00000 |     Val Loss: 5183208425573568443394747328790785949696.00000\n",
            "Train Acc: 16.745 |     Val Acc: 11.717\n",
            "\n",
            "Epoch$ : 13\n"
          ]
        },
        {
          "output_type": "stream",
          "name": "stderr",
          "text": [
            "100%|██████████| 2953/2953 [04:05<00:00, 12.04it/s]\n"
          ]
        },
        {
          "output_type": "stream",
          "name": "stdout",
          "text": [
            "Train Loss: 646129771962863406708620259229696.000 | Train Accuracy: 17.044\n"
          ]
        },
        {
          "output_type": "stream",
          "name": "stderr",
          "text": [
            "100%|██████████| 318/318 [00:05<00:00, 54.63it/s]\n"
          ]
        },
        {
          "output_type": "stream",
          "name": "stdout",
          "text": [
            "Validation Loss: 3354797756641554960648307461895929987072.000 | Validation Accuracy: 5.094\n",
            "Epoch 013: Train Loss: 646129771962863406708620259229696.00000 |     Val Loss: 3354797756641554960648307461895929987072.00000\n",
            "Train Acc: 16.920 |     Val Acc: 3.079\n",
            "\n",
            "Epoch$ : 14\n"
          ]
        },
        {
          "output_type": "stream",
          "name": "stderr",
          "text": [
            "100%|██████████| 2953/2953 [04:05<00:00, 12.05it/s]\n"
          ]
        },
        {
          "output_type": "stream",
          "name": "stdout",
          "text": [
            "Train Loss: 600060146510060121723500897501184.000 | Train Accuracy: 16.291\n"
          ]
        },
        {
          "output_type": "stream",
          "name": "stderr",
          "text": [
            "100%|██████████| 318/318 [00:05<00:00, 54.67it/s]\n"
          ]
        },
        {
          "output_type": "stream",
          "name": "stdout",
          "text": [
            "Validation Loss: 1970478701018190989215637150282163421184.000 | Validation Accuracy: 5.094\n",
            "Epoch 014: Train Loss: 600060146510060121723500897501184.00000 |     Val Loss: 1970478701018190989215637150282163421184.00000\n",
            "Train Acc: 16.148 |     Val Acc: 3.101\n",
            "\n",
            "Epoch$ : 15\n"
          ]
        },
        {
          "output_type": "stream",
          "name": "stderr",
          "text": [
            "100%|██████████| 2953/2953 [04:05<00:00, 12.04it/s]\n"
          ]
        },
        {
          "output_type": "stream",
          "name": "stdout",
          "text": [
            "Train Loss: 591394744236569343267689092612096.000 | Train Accuracy: 16.511\n"
          ]
        },
        {
          "output_type": "stream",
          "name": "stderr",
          "text": [
            "100%|██████████| 318/318 [00:05<00:00, 54.64it/s]\n"
          ]
        },
        {
          "output_type": "stream",
          "name": "stdout",
          "text": [
            "Validation Loss: 326673849265417111770329228069503500288.000 | Validation Accuracy: 19.057\n",
            "Epoch 015: Train Loss: 591394744236569343267689092612096.00000 |     Val Loss: 326673849265417111770329228069503500288.00000\n",
            "Train Acc: 16.369 |     Val Acc: 11.745\n",
            "\n",
            "Epoch$ : 16\n"
          ]
        },
        {
          "output_type": "stream",
          "name": "stderr",
          "text": [
            "100%|██████████| 2953/2953 [04:05<00:00, 12.04it/s]\n"
          ]
        },
        {
          "output_type": "stream",
          "name": "stdout",
          "text": [
            "Train Loss: 485456600073759118304927367036928.000 | Train Accuracy: 16.731\n"
          ]
        },
        {
          "output_type": "stream",
          "name": "stderr",
          "text": [
            "100%|██████████| 318/318 [00:05<00:00, 54.64it/s]\n"
          ]
        },
        {
          "output_type": "stream",
          "name": "stdout",
          "text": [
            "Validation Loss: 1002124688565158625298601369849917603840.000 | Validation Accuracy: 5.094\n",
            "Epoch 016: Train Loss: 485456600073759118304927367036928.00000 |     Val Loss: 1002124688565158625298601369849917603840.00000\n",
            "Train Acc: 16.588 |     Val Acc: 3.075\n",
            "\n",
            "Epoch$ : 17\n"
          ]
        },
        {
          "output_type": "stream",
          "name": "stderr",
          "text": [
            "100%|██████████| 2953/2953 [04:04<00:00, 12.06it/s]\n"
          ]
        },
        {
          "output_type": "stream",
          "name": "stdout",
          "text": [
            "Train Loss: 509017358427519252374896118857728.000 | Train Accuracy: 16.269\n"
          ]
        },
        {
          "output_type": "stream",
          "name": "stderr",
          "text": [
            "100%|██████████| 318/318 [00:05<00:00, 54.75it/s]\n"
          ]
        },
        {
          "output_type": "stream",
          "name": "stdout",
          "text": [
            "Validation Loss: 6952554037334427038426665438571546017792.000 | Validation Accuracy: 19.057\n",
            "Epoch 017: Train Loss: 509017358427519252374896118857728.00000 |     Val Loss: 6952554037334427038426665438571546017792.00000\n",
            "Train Acc: 16.144 |     Val Acc: 11.726\n",
            "\n",
            "Epoch$ : 18\n"
          ]
        },
        {
          "output_type": "stream",
          "name": "stderr",
          "text": [
            "100%|██████████| 2953/2953 [04:05<00:00, 12.04it/s]\n"
          ]
        },
        {
          "output_type": "stream",
          "name": "stdout",
          "text": [
            "Train Loss: 511634718135699957929953625899008.000 | Train Accuracy: 16.142\n"
          ]
        },
        {
          "output_type": "stream",
          "name": "stderr",
          "text": [
            "100%|██████████| 318/318 [00:05<00:00, 54.16it/s]\n"
          ]
        },
        {
          "output_type": "stream",
          "name": "stdout",
          "text": [
            "Validation Loss: 1965921456002988109453964213671845429248.000 | Validation Accuracy: 5.094\n",
            "Epoch 018: Train Loss: 511634718135699957929953625899008.00000 |     Val Loss: 1965921456002988109453964213671845429248.00000\n",
            "Train Acc: 16.001 |     Val Acc: 3.082\n",
            "\n",
            "Epoch$ : 19\n"
          ]
        },
        {
          "output_type": "stream",
          "name": "stderr",
          "text": [
            "100%|██████████| 2953/2953 [04:05<00:00, 12.03it/s]\n"
          ]
        },
        {
          "output_type": "stream",
          "name": "stdout",
          "text": [
            "Train Loss: 520077427832283934388977693360128.000 | Train Accuracy: 17.027\n"
          ]
        },
        {
          "output_type": "stream",
          "name": "stderr",
          "text": [
            "100%|██████████| 318/318 [00:05<00:00, 54.39it/s]\n"
          ]
        },
        {
          "output_type": "stream",
          "name": "stdout",
          "text": [
            "Validation Loss: 10720682704598965831227084816924301852672.000 | Validation Accuracy: 19.057\n",
            "Epoch 019: Train Loss: 520077427832283934388977693360128.00000 |     Val Loss: 10720682704598965831227084816924301852672.00000\n",
            "Train Acc: 16.896 |     Val Acc: 11.742\n",
            "\n",
            "Epoch$ : 20\n"
          ]
        },
        {
          "output_type": "stream",
          "name": "stderr",
          "text": [
            "100%|██████████| 2953/2953 [04:05<00:00, 12.02it/s]\n"
          ]
        },
        {
          "output_type": "stream",
          "name": "stdout",
          "text": [
            "Train Loss: 573398343167253461229711885598720.000 | Train Accuracy: 16.790\n"
          ]
        },
        {
          "output_type": "stream",
          "name": "stderr",
          "text": [
            "100%|██████████| 318/318 [00:05<00:00, 54.48it/s]"
          ]
        },
        {
          "output_type": "stream",
          "name": "stdout",
          "text": [
            "Validation Loss: 1201267722444574419689619465981705322496.000 | Validation Accuracy: 5.094\n",
            "Epoch 020: Train Loss: 573398343167253461229711885598720.00000 |     Val Loss: 1201267722444574419689619465981705322496.00000\n",
            "Train Acc: 16.654 |     Val Acc: 3.101\n"
          ]
        },
        {
          "output_type": "stream",
          "name": "stderr",
          "text": [
            "\n"
          ]
        }
      ]
    },
    {
      "cell_type": "code",
      "metadata": {
        "colab": {
          "base_uri": "https://localhost:8080/",
          "height": 473
        },
        "id": "BQIPgSt4IQE7",
        "outputId": "15279b74-79fa-422b-cd73-b4be8720fd96"
      },
      "source": [
        "# Create dataframes\n",
        "train_val_acc_df = pd.DataFrame.from_dict(accuracy_stats).reset_index().melt(id_vars=['index']).rename(columns={\"index\":\"epochs\"})\n",
        "train_val_loss_df = pd.DataFrame.from_dict(loss_stats).reset_index().melt(id_vars=['index']).rename(columns={\"index\":\"epochs\"})\n",
        "# train_val_acc_df.to_csv('/content/gdrive/MyDrive/Colab Notebooks/acc_loss/acc.csv', index = False)\n",
        "# train_val_loss_df.to_csv('/content/gdrive/MyDrive/Colab Notebooks/acc_loss/loss.csv', index = False)\n",
        "# Plot the dataframes\n",
        "fig, axes = plt.subplots(nrows=1, ncols=2, figsize=(20,7))\n",
        "sns.lineplot(data=train_val_acc_df, x = \"epochs\", y=\"value\", hue=\"variable\",  ax=axes[0]).set_title('Train-Val Accuracy/Epoch')\n",
        "sns.lineplot(data=train_val_loss_df, x = \"epochs\", y=\"value\", hue=\"variable\", ax=axes[1]).set_title('Train-Val Loss/Epoch')"
      ],
      "execution_count": 21,
      "outputs": [
        {
          "output_type": "execute_result",
          "data": {
            "text/plain": [
              "Text(0.5, 1.0, 'Train-Val Loss/Epoch')"
            ]
          },
          "metadata": {},
          "execution_count": 21
        },
        {
          "output_type": "display_data",
          "data": {
            "image/png": "[encoded data removed]",
            "text/plain": [
              "<Figure size 1440x504 with 2 Axes>"
            ]
          },
          "metadata": {
            "needs_background": "light"
          }
        }
      ]
    },
    {
      "cell_type": "code",
      "metadata": {
        "id": "Ai0YQ-zcIP9M"
      },
      "source": [
        ""
      ],
      "execution_count": 21,
      "outputs": []
    },
    {
      "cell_type": "code",
      "metadata": {
        "id": "YIQ9i36NIPiV"
      },
      "source": [
        ""
      ],
      "execution_count": 21,
      "outputs": []
    }
  ]
}