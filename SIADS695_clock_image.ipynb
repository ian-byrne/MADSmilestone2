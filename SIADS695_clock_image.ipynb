{
  "nbformat": 4,
  "nbformat_minor": 0,
  "metadata": {
    "colab": {
      "name": "SIADS695_clock_image.ipynb",
      "provenance": [],
      "collapsed_sections": [],
      "machine_shape": "hm",
      "include_colab_link": true
    },
    "kernelspec": {
      "name": "python3",
      "display_name": "Python 3"
    },
    "language_info": {
      "name": "python"
    }
  },
  "cells": [
    {
      "cell_type": "markdown",
      "metadata": {
        "id": "view-in-github",
        "colab_type": "text"
      },
      "source": [
        "<a href=\"https://colab.research.google.com/github/ian-byrne/MADSmilestone2/blob/main/SIADS695_clock_image.ipynb\" target=\"_parent\"><img src=\"https://colab.research.google.com/assets/colab-badge.svg\" alt=\"Open In Colab\"/></a>"
      ]
    },
    {
      "cell_type": "markdown",
      "metadata": {
        "id": "jJv-oziaqOJN"
      },
      "source": [
        "This project is inspired by the AI Crowd Challenge: https://www.aicrowd.com/challenges/addi-alzheimers-detection-challenge\n",
        "\n",
        "Data from NHATs: https://nhats.org/researcher/data-access\n",
        "\n",
        "\n",
        "Meta file crosswalk: https://www.nhats.org/sites/default/files/2021-07/NHATS_R10_Final_Crosswalk_between_Instruments_and_Codebook.pdf\n",
        "\n",
        "User Guide: https://www.nhats.org/sites/default/files/2021-07/NHATS_User_Guide_R10_Final_Release.pdf"
      ]
    },
    {
      "cell_type": "code",
      "metadata": {
        "id": "CFFWMAsCyHHn"
      },
      "source": [
        "# contains all the clock images for round 1.  arn:aws:s3:::clockdrawingimages1\n",
        "# URL of a single clock image from round 1 (not all image file names increment by 1): https://clockdrawingimages1.s3.us-west-1.amazonaws.com/10000003.tif\n",
        "# URI of a single clock image from round 1: s3://clockdrawingimages1/10000003.tif\n",
        "\n",
        "# URL of a single clock image from round 2 (not all image file names increment by 1):https://clockdrawingimages2.s3.us-west-1.amazonaws.com/10000003.tif\n",
        "\n",
        "\n",
        "# URL of a single clock image from round 2 (not all image file names increment by 1): https://clockdrawingimages3.s3.us-west-1.amazonaws.com/10000003.tif"
      ],
      "execution_count": null,
      "outputs": []
    },
    {
      "cell_type": "code",
      "metadata": {
        "id": "eDcyd6MydVjv"
      },
      "source": [
        "!pip install boto3\n",
        "!pip install awscli"
      ],
      "execution_count": null,
      "outputs": []
    },
    {
      "cell_type": "code",
      "metadata": {
        "id": "FBv7Le5m6dsB"
      },
      "source": [
        "import pandas as pd\n",
        "import numpy as np\n",
        "import matplotlib.pyplot as plt\n",
        "from PIL import Image\n",
        "#from io import BytesIO\n",
        "import boto3\n",
        "import cv2 \n",
        "import awscli\n"
      ],
      "execution_count": 4,
      "outputs": []
    },
    {
      "cell_type": "code",
      "metadata": {
        "id": "vxEE8JWxheJW"
      },
      "source": [
        "def load_data():\n",
        "  \"\"\"Load stata data from S3, rounds 1 - 10; contains diagnoses, scoring, subject ID to map to images\n",
        "  hc1disescn9 : 1 - YES to dementia/Alzheimers, 2 - NO Dementia, may want to drop -9 and -1?, may need to relabel 7. \n",
        "  cg1dclkdraw: score of drawing\n",
        "  spid: Subject ID, number maps to number in image file names\"\"\"\n",
        "\n",
        "  values = [1,2]#, 3, 4, 5, 6, 7, 8, 9, 10] \n",
        "  round_data = pd.DataFrame()\n",
        "\n",
        "  for val in values:\n",
        "    data = pd.io.stata.read_stata('https://clockdrawingbattery.s3.us-west-1.amazonaws.com/NHATS_Round_'+str(val)+'_SP_File.dta')\n",
        "    data = data[['spid','cg'+str(val)+'dclkdraw', 'hc'+str(val)+'disescn9']]\n",
        "    data['round'] = val\n",
        "\n",
        "    # Rename columns\n",
        "    data.rename(columns={'cg'+str(val)+'dclkdraw': 'cg'+str(int(val/val))+'dclkdraw', 'hc'+str(val)+'disescn9': 'hc'+str(int(val/val))+'disescn9'}, inplace = True)\n",
        "    round_data = round_data.append(data)\n",
        "  \n",
        " \n",
        "  return round_data\n",
        "\n",
        "\n",
        "\n",
        "\n",
        "\n",
        "rounds_df = load_data()"
      ],
      "execution_count": 15,
      "outputs": []
    },
    {
      "cell_type": "code",
      "metadata": {
        "colab": {
          "base_uri": "https://localhost:8080/"
        },
        "id": "L7A2NHCgBJGj",
        "outputId": "eaaaac61-b917-4a3e-975c-701064dd5fa9"
      },
      "source": [
        "print(rounds_df['cg1dclkdraw'].unique())\n",
        "print(rounds_df['hc1disescn9'].unique())"
      ],
      "execution_count": 16,
      "outputs": [
        {
          "output_type": "stream",
          "text": [
            "['3 Mildly distorted depiction of a clock', '4 Reasonably accurate depiction of a clock', '-2 Proxy says cannot ask SP', '2 Moderately distorted depection of a clock', '-1 Inapplicable', ..., '1 Severely distorted depiction of a clock', '-4 SP did not attempt to draw clock', '0 Not recognizable as a clock', '-3 Proxy says can ask SP but SP unable to ans..., '-9 Missing']\n",
            "Length: 12\n",
            "Categories (12, object): ['-9 Missing' < '-7 SP refused to draw clock' <\n",
            "                          '-4 SP did not attempt to draw clock' < '-3 Proxy says can ask SP but SP unable to ans... <\n",
            "                          ... < '2 Moderately distorted depection of a clock' <\n",
            "                          '3 Mildly distorted depiction of a clock' < '4 Reasonably accurate depiction of a clock' <\n",
            "                          '5 Accurate depiction of a clock (circular or ...]\n",
            "[' 2 NO' '-1 Inapplicable' ' 1 YES' '-9 Missing' '-8 DK' '2 NO'\n",
            " '7 PREVIOUSLY REPORTED' '1 YES']\n"
          ],
          "name": "stdout"
        }
      ]
    },
    {
      "cell_type": "code",
      "metadata": {
        "colab": {
          "base_uri": "https://localhost:8080/",
          "height": 416
        },
        "id": "RCxn9K1_eIML",
        "outputId": "e0be571c-e99a-4e10-ca17-5e7fef4878a8"
      },
      "source": [
        "rounds_df[rounds_df['cg1dclkdraw'] == '-1 Inapplicable']"
      ],
      "execution_count": 17,
      "outputs": [
        {
          "output_type": "execute_result",
          "data": {
            "text/html": [
              "<div>\n",
              "<style scoped>\n",
              "    .dataframe tbody tr th:only-of-type {\n",
              "        vertical-align: middle;\n",
              "    }\n",
              "\n",
              "    .dataframe tbody tr th {\n",
              "        vertical-align: top;\n",
              "    }\n",
              "\n",
              "    .dataframe thead th {\n",
              "        text-align: right;\n",
              "    }\n",
              "</style>\n",
              "<table border=\"1\" class=\"dataframe\">\n",
              "  <thead>\n",
              "    <tr style=\"text-align: right;\">\n",
              "      <th></th>\n",
              "      <th>spid</th>\n",
              "      <th>cg1dclkdraw</th>\n",
              "      <th>hc1disescn9</th>\n",
              "      <th>round</th>\n",
              "    </tr>\n",
              "  </thead>\n",
              "  <tbody>\n",
              "    <tr>\n",
              "      <th>6</th>\n",
              "      <td>10000009.0</td>\n",
              "      <td>-1 Inapplicable</td>\n",
              "      <td>-1 Inapplicable</td>\n",
              "      <td>1</td>\n",
              "    </tr>\n",
              "    <tr>\n",
              "      <th>8</th>\n",
              "      <td>10000013.0</td>\n",
              "      <td>-1 Inapplicable</td>\n",
              "      <td>-1 Inapplicable</td>\n",
              "      <td>1</td>\n",
              "    </tr>\n",
              "    <tr>\n",
              "      <th>10</th>\n",
              "      <td>10000015.0</td>\n",
              "      <td>-1 Inapplicable</td>\n",
              "      <td>-1 Inapplicable</td>\n",
              "      <td>1</td>\n",
              "    </tr>\n",
              "    <tr>\n",
              "      <th>33</th>\n",
              "      <td>10000046.0</td>\n",
              "      <td>-1 Inapplicable</td>\n",
              "      <td>-9 Missing</td>\n",
              "      <td>1</td>\n",
              "    </tr>\n",
              "    <tr>\n",
              "      <th>47</th>\n",
              "      <td>10000067.0</td>\n",
              "      <td>-1 Inapplicable</td>\n",
              "      <td>-9 Missing</td>\n",
              "      <td>1</td>\n",
              "    </tr>\n",
              "    <tr>\n",
              "      <th>...</th>\n",
              "      <td>...</td>\n",
              "      <td>...</td>\n",
              "      <td>...</td>\n",
              "      <td>...</td>\n",
              "    </tr>\n",
              "    <tr>\n",
              "      <th>7063</th>\n",
              "      <td>10012393.0</td>\n",
              "      <td>-1 Inapplicable</td>\n",
              "      <td>-1 Inapplicable</td>\n",
              "      <td>2</td>\n",
              "    </tr>\n",
              "    <tr>\n",
              "      <th>7066</th>\n",
              "      <td>10012396.0</td>\n",
              "      <td>-1 Inapplicable</td>\n",
              "      <td>-9 Missing</td>\n",
              "      <td>2</td>\n",
              "    </tr>\n",
              "    <tr>\n",
              "      <th>7069</th>\n",
              "      <td>10012402.0</td>\n",
              "      <td>-1 Inapplicable</td>\n",
              "      <td>-1 Inapplicable</td>\n",
              "      <td>2</td>\n",
              "    </tr>\n",
              "    <tr>\n",
              "      <th>7070</th>\n",
              "      <td>10012404.0</td>\n",
              "      <td>-1 Inapplicable</td>\n",
              "      <td>-1 Inapplicable</td>\n",
              "      <td>2</td>\n",
              "    </tr>\n",
              "    <tr>\n",
              "      <th>7073</th>\n",
              "      <td>10012410.0</td>\n",
              "      <td>-1 Inapplicable</td>\n",
              "      <td>-9 Missing</td>\n",
              "      <td>2</td>\n",
              "    </tr>\n",
              "  </tbody>\n",
              "</table>\n",
              "<p>1655 rows × 4 columns</p>\n",
              "</div>"
            ],
            "text/plain": [
              "            spid      cg1dclkdraw      hc1disescn9  round\n",
              "6     10000009.0  -1 Inapplicable  -1 Inapplicable      1\n",
              "8     10000013.0  -1 Inapplicable  -1 Inapplicable      1\n",
              "10    10000015.0  -1 Inapplicable  -1 Inapplicable      1\n",
              "33    10000046.0  -1 Inapplicable       -9 Missing      1\n",
              "47    10000067.0  -1 Inapplicable       -9 Missing      1\n",
              "...          ...              ...              ...    ...\n",
              "7063  10012393.0  -1 Inapplicable  -1 Inapplicable      2\n",
              "7066  10012396.0  -1 Inapplicable       -9 Missing      2\n",
              "7069  10012402.0  -1 Inapplicable  -1 Inapplicable      2\n",
              "7070  10012404.0  -1 Inapplicable  -1 Inapplicable      2\n",
              "7073  10012410.0  -1 Inapplicable       -9 Missing      2\n",
              "\n",
              "[1655 rows x 4 columns]"
            ]
          },
          "metadata": {},
          "execution_count": 17
        }
      ]
    },
    {
      "cell_type": "code",
      "metadata": {
        "id": "lRdpvUoq-3Wt"
      },
      "source": [
        "def clean_data(df):\n",
        "  # Clean the row values in hc1disescn9 , cg1dclkdraw\n",
        "  # hc1disescn9 asks if subject has dementia or alzheimers: 1 YES, 2 NO\n",
        "  hc_items = [('2 NO', 2),(' 2 NO', 2), ('1 YES', 1),(' 1 YES', 1),\n",
        "              ('-9 Missing', np.nan),('-8 DK', np.nan),('7 PREVIOUSLY REPORTED', 7),\n",
        "              ('-1 Inapplicable', np.nan),('-7 RF', np.nan)]\n",
        "\n",
        "  cg_items = [('-2 Proxy says cannot ask SP', np.nan), ('-7 SP refused to draw clock', np.nan), \n",
        "              ('-4 SP did not attempt to draw clock', np.nan), ('-3 Proxy says can ask SP but SP unable to answer', np.nan), \n",
        "              ('-1 Inapplicable', np.nan), ('-9 Missing', np.nan)]\n",
        "\n",
        "  for item in hc_items:\n",
        "    df.hc1disescn9.replace(item[0], item[1], inplace = True)\n",
        "\n",
        "  # Remove cg1dclkdraw subjects that did not draw a clock, or image data is missing\n",
        "  for item in cg_items:\n",
        "    df.cg1dclkdraw.replace(item[0], item[1], inplace = True)\n",
        "\n",
        "  \n",
        "  # Drop all NaN\n",
        "  df.dropna(inplace = True)\n",
        "\n",
        "  return df\n",
        "\n",
        "\n",
        "rounds_clean = clean_data(rounds_df)"
      ],
      "execution_count": 18,
      "outputs": []
    },
    {
      "cell_type": "code",
      "metadata": {
        "colab": {
          "base_uri": "https://localhost:8080/"
        },
        "id": "458L4W9oDsSw",
        "outputId": "3558979c-d773-45ef-9e0c-b6659409dec8"
      },
      "source": [
        "#Check that we only have 1, 2, 7 data points and subjects that have drawn clocks\n",
        "print(rounds_clean.cg1dclkdraw.unique())\n",
        "print(rounds_clean['hc1disescn9'].unique())"
      ],
      "execution_count": 19,
      "outputs": [
        {
          "output_type": "stream",
          "text": [
            "['3 Mildly distorted depiction of a clock', '4 Reasonably accurate depiction of a clock', '2 Moderately distorted depection of a clock', '5 Accurate depiction of a clock (circular or ..., '1 Severely distorted depiction of a clock', '0 Not recognizable as a clock']\n",
            "Categories (6, object): ['0 Not recognizable as a clock' < '1 Severely distorted depiction of a clock' <\n",
            "                         '2 Moderately distorted depection of a clock' < '3 Mildly distorted depiction of a clock' <\n",
            "                         '4 Reasonably accurate depiction of a clock' < '5 Accurate depiction of a clock (circular or ...]\n",
            "[2. 1. 7.]\n"
          ],
          "name": "stdout"
        }
      ]
    },
    {
      "cell_type": "code",
      "metadata": {
        "colab": {
          "base_uri": "https://localhost:8080/",
          "height": 756
        },
        "id": "9qRYnULqD6t4",
        "outputId": "fac7269b-76f1-439a-a293-67ec5ba421e6"
      },
      "source": [
        "# Check balance of dataset\n",
        "a = rounds_clean.hc1disescn9.hist() \n",
        "plt.show(a) \n",
        "b = rounds_clean.cg1dclkdraw.hist()\n",
        "b.tick_params(axis='x', labelrotation = 90)\n",
        "plt.show(b)"
      ],
      "execution_count": 28,
      "outputs": [
        {
          "output_type": "display_data",
          "data": {
            "image/png": "[encoded data removed]",
            "text/plain": [
              "<Figure size 432x288 with 1 Axes>"
            ]
          },
          "metadata": {
            "needs_background": "light"
          }
        },
        {
          "output_type": "display_data",
          "data": {
            "image/png": "[encoded data removed]",
            "text/plain": [
              "<Figure size 432x288 with 1 Axes>"
            ]
          },
          "metadata": {
            "needs_background": "light"
          }
        }
      ]
    },
    {
      "cell_type": "markdown",
      "metadata": {
        "id": "njPUIYdo-gVi"
      },
      "source": [
        "###Create Labels for the data. "
      ]
    },
    {
      "cell_type": "code",
      "metadata": {
        "colab": {
          "base_uri": "https://localhost:8080/",
          "height": 416
        },
        "id": "VwC4d8c1Mc7c",
        "outputId": "daa7d795-f1e6-4af5-b5da-ac37d4c6720c"
      },
      "source": [
        "##NEED TO FIX Will need to create method for more than 2 rounds\n",
        "\n",
        "\n",
        "# Create labels: label 0 = pre-dementia, 1 = post-dementia, 2 = normal\n",
        "# Create Normal Label for all entries, base case, then assign value of 1 to 1's and 7's\n",
        "rounds_clean['label'] = [2 if x == 2 else 1 for x in rounds_clean['hc1disescn9']]\n",
        "\n",
        "# Will need to create method for more than 2 rounds\n",
        "round_val = 2\n",
        "\n",
        "round_current = rounds_clean[rounds_clean['round'] == round_val]\n",
        "\n",
        "# assign label value of 0 to the previous round where diagnosis changed from a 2.0 to 1.0\n",
        "# appears that a diagnoses value of 7 corresponds to previous round value of 1, so label stays a 1 for that subject\n",
        "#post = rounds1_2.query('hc1disescn9==7 | hc1disescn9==1 & round =='+str(round_val))['spid']\n",
        "\n",
        "\n",
        "post1 = round_current[(round_current['hc1disescn9'] == 1) & (round_current['round'] == round_val)]\n",
        "#rounds_clean.loc[rounds_clean['spid'].isin(post1['spid']), 'label'] = 0\n",
        "#rounds_clean.head()\n",
        "post1\n",
        "round_current"
      ],
      "execution_count": 32,
      "outputs": [
        {
          "output_type": "execute_result",
          "data": {
            "text/html": [
              "<div>\n",
              "<style scoped>\n",
              "    .dataframe tbody tr th:only-of-type {\n",
              "        vertical-align: middle;\n",
              "    }\n",
              "\n",
              "    .dataframe tbody tr th {\n",
              "        vertical-align: top;\n",
              "    }\n",
              "\n",
              "    .dataframe thead th {\n",
              "        text-align: right;\n",
              "    }\n",
              "</style>\n",
              "<table border=\"1\" class=\"dataframe\">\n",
              "  <thead>\n",
              "    <tr style=\"text-align: right;\">\n",
              "      <th></th>\n",
              "      <th>spid</th>\n",
              "      <th>cg1dclkdraw</th>\n",
              "      <th>hc1disescn9</th>\n",
              "      <th>round</th>\n",
              "      <th>label</th>\n",
              "    </tr>\n",
              "  </thead>\n",
              "  <tbody>\n",
              "    <tr>\n",
              "      <th>0</th>\n",
              "      <td>10000003.0</td>\n",
              "      <td>4 Reasonably accurate depiction of a clock</td>\n",
              "      <td>2.0</td>\n",
              "      <td>2</td>\n",
              "      <td>2</td>\n",
              "    </tr>\n",
              "    <tr>\n",
              "      <th>1</th>\n",
              "      <td>10000007.0</td>\n",
              "      <td>3 Mildly distorted depiction of a clock</td>\n",
              "      <td>2.0</td>\n",
              "      <td>2</td>\n",
              "      <td>2</td>\n",
              "    </tr>\n",
              "    <tr>\n",
              "      <th>2</th>\n",
              "      <td>10000008.0</td>\n",
              "      <td>2 Moderately distorted depection of a clock</td>\n",
              "      <td>2.0</td>\n",
              "      <td>2</td>\n",
              "      <td>2</td>\n",
              "    </tr>\n",
              "    <tr>\n",
              "      <th>4</th>\n",
              "      <td>10000010.0</td>\n",
              "      <td>4 Reasonably accurate depiction of a clock</td>\n",
              "      <td>7.0</td>\n",
              "      <td>2</td>\n",
              "      <td>1</td>\n",
              "    </tr>\n",
              "    <tr>\n",
              "      <th>8</th>\n",
              "      <td>10000017.0</td>\n",
              "      <td>5 Accurate depiction of a clock (circular or s...</td>\n",
              "      <td>2.0</td>\n",
              "      <td>2</td>\n",
              "      <td>2</td>\n",
              "    </tr>\n",
              "    <tr>\n",
              "      <th>...</th>\n",
              "      <td>...</td>\n",
              "      <td>...</td>\n",
              "      <td>...</td>\n",
              "      <td>...</td>\n",
              "      <td>...</td>\n",
              "    </tr>\n",
              "    <tr>\n",
              "      <th>7067</th>\n",
              "      <td>10012399.0</td>\n",
              "      <td>4 Reasonably accurate depiction of a clock</td>\n",
              "      <td>2.0</td>\n",
              "      <td>2</td>\n",
              "      <td>2</td>\n",
              "    </tr>\n",
              "    <tr>\n",
              "      <th>7068</th>\n",
              "      <td>10012400.0</td>\n",
              "      <td>3 Mildly distorted depiction of a clock</td>\n",
              "      <td>2.0</td>\n",
              "      <td>2</td>\n",
              "      <td>2</td>\n",
              "    </tr>\n",
              "    <tr>\n",
              "      <th>7071</th>\n",
              "      <td>10012406.0</td>\n",
              "      <td>3 Mildly distorted depiction of a clock</td>\n",
              "      <td>2.0</td>\n",
              "      <td>2</td>\n",
              "      <td>2</td>\n",
              "    </tr>\n",
              "    <tr>\n",
              "      <th>7072</th>\n",
              "      <td>10012407.0</td>\n",
              "      <td>4 Reasonably accurate depiction of a clock</td>\n",
              "      <td>2.0</td>\n",
              "      <td>2</td>\n",
              "      <td>2</td>\n",
              "    </tr>\n",
              "    <tr>\n",
              "      <th>7074</th>\n",
              "      <td>10012411.0</td>\n",
              "      <td>4 Reasonably accurate depiction of a clock</td>\n",
              "      <td>2.0</td>\n",
              "      <td>2</td>\n",
              "      <td>2</td>\n",
              "    </tr>\n",
              "  </tbody>\n",
              "</table>\n",
              "<p>5501 rows × 5 columns</p>\n",
              "</div>"
            ],
            "text/plain": [
              "            spid  ... label\n",
              "0     10000003.0  ...     2\n",
              "1     10000007.0  ...     2\n",
              "2     10000008.0  ...     2\n",
              "4     10000010.0  ...     1\n",
              "8     10000017.0  ...     2\n",
              "...          ...  ...   ...\n",
              "7067  10012399.0  ...     2\n",
              "7068  10012400.0  ...     2\n",
              "7071  10012406.0  ...     2\n",
              "7072  10012407.0  ...     2\n",
              "7074  10012411.0  ...     2\n",
              "\n",
              "[5501 rows x 5 columns]"
            ]
          },
          "metadata": {},
          "execution_count": 32
        }
      ]
    },
    {
      "cell_type": "code",
      "metadata": {
        "id": "4coVSfzh-VNa",
        "colab": {
          "base_uri": "https://localhost:8080/",
          "height": 416
        },
        "outputId": "8c21d647-c2e2-456d-a9ef-760d782ac700"
      },
      "source": [
        "##NEED TO FIX Will need to create method for more than 2 rounds\n",
        "\n",
        "\n",
        "# Create labels: label 0 = pre-dementia, 1 = post-dementia, 2 = normal\n",
        "# Create Normal Label for all entries, base case, then assign value of 1 to 1's and 7's\n",
        "rounds_clean['label'] = [2 if x == 2 else 1 for x in rounds_clean['hc1disescn9']]\n",
        "\n",
        "# Will need to create method for more than 2 rounds\n",
        "round_val = 2\n",
        "\n",
        "# assign label value of 0 to the previous round where diagnosis changed from a 2.0 to 1.0\n",
        "# appears that a diagnoses value of 7 corresponds to previous round value of 1, so label stays a 1 for that subject\n",
        "#post = rounds1_2.query('hc1disescn9==7 | hc1disescn9==1 & round =='+str(round_val))['spid']\n",
        "post1 = rounds_clean[(rounds_clean['hc1disescn9'] == 1) & (rounds_clean['round'] == round_val)]\n",
        "rounds_clean.loc[rounds_clean['spid'].isin(post1['spid']), 'label'] = 0\n",
        "rounds_clean.head()"
      ],
      "execution_count": 29,
      "outputs": [
        {
          "output_type": "execute_result",
          "data": {
            "text/html": [
              "<div>\n",
              "<style scoped>\n",
              "    .dataframe tbody tr th:only-of-type {\n",
              "        vertical-align: middle;\n",
              "    }\n",
              "\n",
              "    .dataframe tbody tr th {\n",
              "        vertical-align: top;\n",
              "    }\n",
              "\n",
              "    .dataframe thead th {\n",
              "        text-align: right;\n",
              "    }\n",
              "</style>\n",
              "<table border=\"1\" class=\"dataframe\">\n",
              "  <thead>\n",
              "    <tr style=\"text-align: right;\">\n",
              "      <th></th>\n",
              "      <th>spid</th>\n",
              "      <th>cg1dclkdraw</th>\n",
              "      <th>hc1disescn9</th>\n",
              "      <th>round</th>\n",
              "      <th>label</th>\n",
              "    </tr>\n",
              "  </thead>\n",
              "  <tbody>\n",
              "    <tr>\n",
              "      <th>29</th>\n",
              "      <td>10000047.0</td>\n",
              "      <td>3 Mildly distorted depiction of a clock</td>\n",
              "      <td>1.0</td>\n",
              "      <td>2</td>\n",
              "      <td>1</td>\n",
              "    </tr>\n",
              "    <tr>\n",
              "      <th>75</th>\n",
              "      <td>10000130.0</td>\n",
              "      <td>5 Accurate depiction of a clock (circular or s...</td>\n",
              "      <td>1.0</td>\n",
              "      <td>2</td>\n",
              "      <td>1</td>\n",
              "    </tr>\n",
              "    <tr>\n",
              "      <th>343</th>\n",
              "      <td>10000583.0</td>\n",
              "      <td>4 Reasonably accurate depiction of a clock</td>\n",
              "      <td>1.0</td>\n",
              "      <td>2</td>\n",
              "      <td>1</td>\n",
              "    </tr>\n",
              "    <tr>\n",
              "      <th>954</th>\n",
              "      <td>10001636.0</td>\n",
              "      <td>4 Reasonably accurate depiction of a clock</td>\n",
              "      <td>1.0</td>\n",
              "      <td>2</td>\n",
              "      <td>1</td>\n",
              "    </tr>\n",
              "    <tr>\n",
              "      <th>1160</th>\n",
              "      <td>10002002.0</td>\n",
              "      <td>3 Mildly distorted depiction of a clock</td>\n",
              "      <td>1.0</td>\n",
              "      <td>2</td>\n",
              "      <td>1</td>\n",
              "    </tr>\n",
              "    <tr>\n",
              "      <th>...</th>\n",
              "      <td>...</td>\n",
              "      <td>...</td>\n",
              "      <td>...</td>\n",
              "      <td>...</td>\n",
              "      <td>...</td>\n",
              "    </tr>\n",
              "    <tr>\n",
              "      <th>6486</th>\n",
              "      <td>10011363.0</td>\n",
              "      <td>1 Severely distorted depiction of a clock</td>\n",
              "      <td>1.0</td>\n",
              "      <td>2</td>\n",
              "      <td>1</td>\n",
              "    </tr>\n",
              "    <tr>\n",
              "      <th>6512</th>\n",
              "      <td>10011404.0</td>\n",
              "      <td>2 Moderately distorted depection of a clock</td>\n",
              "      <td>1.0</td>\n",
              "      <td>2</td>\n",
              "      <td>1</td>\n",
              "    </tr>\n",
              "    <tr>\n",
              "      <th>6594</th>\n",
              "      <td>10011553.0</td>\n",
              "      <td>3 Mildly distorted depiction of a clock</td>\n",
              "      <td>1.0</td>\n",
              "      <td>2</td>\n",
              "      <td>1</td>\n",
              "    </tr>\n",
              "    <tr>\n",
              "      <th>6676</th>\n",
              "      <td>10011705.0</td>\n",
              "      <td>5 Accurate depiction of a clock (circular or s...</td>\n",
              "      <td>1.0</td>\n",
              "      <td>2</td>\n",
              "      <td>1</td>\n",
              "    </tr>\n",
              "    <tr>\n",
              "      <th>6868</th>\n",
              "      <td>10012046.0</td>\n",
              "      <td>3 Mildly distorted depiction of a clock</td>\n",
              "      <td>1.0</td>\n",
              "      <td>2</td>\n",
              "      <td>1</td>\n",
              "    </tr>\n",
              "  </tbody>\n",
              "</table>\n",
              "<p>79 rows × 5 columns</p>\n",
              "</div>"
            ],
            "text/plain": [
              "            spid  ... label\n",
              "29    10000047.0  ...     1\n",
              "75    10000130.0  ...     1\n",
              "343   10000583.0  ...     1\n",
              "954   10001636.0  ...     1\n",
              "1160  10002002.0  ...     1\n",
              "...          ...  ...   ...\n",
              "6486  10011363.0  ...     1\n",
              "6512  10011404.0  ...     1\n",
              "6594  10011553.0  ...     1\n",
              "6676  10011705.0  ...     1\n",
              "6868  10012046.0  ...     1\n",
              "\n",
              "[79 rows x 5 columns]"
            ]
          },
          "metadata": {},
          "execution_count": 29
        }
      ]
    },
    {
      "cell_type": "code",
      "metadata": {
        "colab": {
          "base_uri": "https://localhost:8080/",
          "height": 1000
        },
        "id": "smpg9MtVLoFB",
        "outputId": "84240a7a-ef61-4e0a-a953-0b5f1ab56cb8"
      },
      "source": [
        "post1.head(50)"
      ],
      "execution_count": 30,
      "outputs": [
        {
          "output_type": "execute_result",
          "data": {
            "text/html": [
              "<div>\n",
              "<style scoped>\n",
              "    .dataframe tbody tr th:only-of-type {\n",
              "        vertical-align: middle;\n",
              "    }\n",
              "\n",
              "    .dataframe tbody tr th {\n",
              "        vertical-align: top;\n",
              "    }\n",
              "\n",
              "    .dataframe thead th {\n",
              "        text-align: right;\n",
              "    }\n",
              "</style>\n",
              "<table border=\"1\" class=\"dataframe\">\n",
              "  <thead>\n",
              "    <tr style=\"text-align: right;\">\n",
              "      <th></th>\n",
              "      <th>spid</th>\n",
              "      <th>cg1dclkdraw</th>\n",
              "      <th>hc1disescn9</th>\n",
              "      <th>round</th>\n",
              "      <th>label</th>\n",
              "    </tr>\n",
              "  </thead>\n",
              "  <tbody>\n",
              "    <tr>\n",
              "      <th>29</th>\n",
              "      <td>10000047.0</td>\n",
              "      <td>3 Mildly distorted depiction of a clock</td>\n",
              "      <td>1.0</td>\n",
              "      <td>2</td>\n",
              "      <td>1</td>\n",
              "    </tr>\n",
              "    <tr>\n",
              "      <th>75</th>\n",
              "      <td>10000130.0</td>\n",
              "      <td>5 Accurate depiction of a clock (circular or s...</td>\n",
              "      <td>1.0</td>\n",
              "      <td>2</td>\n",
              "      <td>1</td>\n",
              "    </tr>\n",
              "    <tr>\n",
              "      <th>343</th>\n",
              "      <td>10000583.0</td>\n",
              "      <td>4 Reasonably accurate depiction of a clock</td>\n",
              "      <td>1.0</td>\n",
              "      <td>2</td>\n",
              "      <td>1</td>\n",
              "    </tr>\n",
              "    <tr>\n",
              "      <th>954</th>\n",
              "      <td>10001636.0</td>\n",
              "      <td>4 Reasonably accurate depiction of a clock</td>\n",
              "      <td>1.0</td>\n",
              "      <td>2</td>\n",
              "      <td>1</td>\n",
              "    </tr>\n",
              "    <tr>\n",
              "      <th>1160</th>\n",
              "      <td>10002002.0</td>\n",
              "      <td>3 Mildly distorted depiction of a clock</td>\n",
              "      <td>1.0</td>\n",
              "      <td>2</td>\n",
              "      <td>1</td>\n",
              "    </tr>\n",
              "    <tr>\n",
              "      <th>1219</th>\n",
              "      <td>10002101.0</td>\n",
              "      <td>2 Moderately distorted depection of a clock</td>\n",
              "      <td>1.0</td>\n",
              "      <td>2</td>\n",
              "      <td>1</td>\n",
              "    </tr>\n",
              "    <tr>\n",
              "      <th>1277</th>\n",
              "      <td>10002197.0</td>\n",
              "      <td>3 Mildly distorted depiction of a clock</td>\n",
              "      <td>1.0</td>\n",
              "      <td>2</td>\n",
              "      <td>1</td>\n",
              "    </tr>\n",
              "    <tr>\n",
              "      <th>1280</th>\n",
              "      <td>10002200.0</td>\n",
              "      <td>1 Severely distorted depiction of a clock</td>\n",
              "      <td>1.0</td>\n",
              "      <td>2</td>\n",
              "      <td>1</td>\n",
              "    </tr>\n",
              "    <tr>\n",
              "      <th>1297</th>\n",
              "      <td>10002229.0</td>\n",
              "      <td>0 Not recognizable as a clock</td>\n",
              "      <td>1.0</td>\n",
              "      <td>2</td>\n",
              "      <td>1</td>\n",
              "    </tr>\n",
              "    <tr>\n",
              "      <th>1404</th>\n",
              "      <td>10002433.0</td>\n",
              "      <td>1 Severely distorted depiction of a clock</td>\n",
              "      <td>1.0</td>\n",
              "      <td>2</td>\n",
              "      <td>1</td>\n",
              "    </tr>\n",
              "    <tr>\n",
              "      <th>1511</th>\n",
              "      <td>10002642.0</td>\n",
              "      <td>5 Accurate depiction of a clock (circular or s...</td>\n",
              "      <td>1.0</td>\n",
              "      <td>2</td>\n",
              "      <td>1</td>\n",
              "    </tr>\n",
              "    <tr>\n",
              "      <th>1575</th>\n",
              "      <td>10002775.0</td>\n",
              "      <td>3 Mildly distorted depiction of a clock</td>\n",
              "      <td>1.0</td>\n",
              "      <td>2</td>\n",
              "      <td>1</td>\n",
              "    </tr>\n",
              "    <tr>\n",
              "      <th>1681</th>\n",
              "      <td>10002940.0</td>\n",
              "      <td>3 Mildly distorted depiction of a clock</td>\n",
              "      <td>1.0</td>\n",
              "      <td>2</td>\n",
              "      <td>1</td>\n",
              "    </tr>\n",
              "    <tr>\n",
              "      <th>1831</th>\n",
              "      <td>10003209.0</td>\n",
              "      <td>1 Severely distorted depiction of a clock</td>\n",
              "      <td>1.0</td>\n",
              "      <td>2</td>\n",
              "      <td>1</td>\n",
              "    </tr>\n",
              "    <tr>\n",
              "      <th>1858</th>\n",
              "      <td>10003252.0</td>\n",
              "      <td>4 Reasonably accurate depiction of a clock</td>\n",
              "      <td>1.0</td>\n",
              "      <td>2</td>\n",
              "      <td>1</td>\n",
              "    </tr>\n",
              "    <tr>\n",
              "      <th>1866</th>\n",
              "      <td>10003268.0</td>\n",
              "      <td>2 Moderately distorted depection of a clock</td>\n",
              "      <td>1.0</td>\n",
              "      <td>2</td>\n",
              "      <td>1</td>\n",
              "    </tr>\n",
              "    <tr>\n",
              "      <th>1946</th>\n",
              "      <td>10003395.0</td>\n",
              "      <td>2 Moderately distorted depection of a clock</td>\n",
              "      <td>1.0</td>\n",
              "      <td>2</td>\n",
              "      <td>1</td>\n",
              "    </tr>\n",
              "    <tr>\n",
              "      <th>2008</th>\n",
              "      <td>10003517.0</td>\n",
              "      <td>2 Moderately distorted depection of a clock</td>\n",
              "      <td>1.0</td>\n",
              "      <td>2</td>\n",
              "      <td>1</td>\n",
              "    </tr>\n",
              "    <tr>\n",
              "      <th>2067</th>\n",
              "      <td>10003619.0</td>\n",
              "      <td>4 Reasonably accurate depiction of a clock</td>\n",
              "      <td>1.0</td>\n",
              "      <td>2</td>\n",
              "      <td>1</td>\n",
              "    </tr>\n",
              "    <tr>\n",
              "      <th>2161</th>\n",
              "      <td>10003776.0</td>\n",
              "      <td>2 Moderately distorted depection of a clock</td>\n",
              "      <td>1.0</td>\n",
              "      <td>2</td>\n",
              "      <td>1</td>\n",
              "    </tr>\n",
              "    <tr>\n",
              "      <th>2306</th>\n",
              "      <td>10004065.0</td>\n",
              "      <td>3 Mildly distorted depiction of a clock</td>\n",
              "      <td>1.0</td>\n",
              "      <td>2</td>\n",
              "      <td>1</td>\n",
              "    </tr>\n",
              "    <tr>\n",
              "      <th>2321</th>\n",
              "      <td>10004096.0</td>\n",
              "      <td>4 Reasonably accurate depiction of a clock</td>\n",
              "      <td>1.0</td>\n",
              "      <td>2</td>\n",
              "      <td>1</td>\n",
              "    </tr>\n",
              "    <tr>\n",
              "      <th>2367</th>\n",
              "      <td>10004185.0</td>\n",
              "      <td>3 Mildly distorted depiction of a clock</td>\n",
              "      <td>1.0</td>\n",
              "      <td>2</td>\n",
              "      <td>1</td>\n",
              "    </tr>\n",
              "    <tr>\n",
              "      <th>2605</th>\n",
              "      <td>10004632.0</td>\n",
              "      <td>2 Moderately distorted depection of a clock</td>\n",
              "      <td>1.0</td>\n",
              "      <td>2</td>\n",
              "      <td>1</td>\n",
              "    </tr>\n",
              "    <tr>\n",
              "      <th>2812</th>\n",
              "      <td>10005020.0</td>\n",
              "      <td>1 Severely distorted depiction of a clock</td>\n",
              "      <td>1.0</td>\n",
              "      <td>2</td>\n",
              "      <td>1</td>\n",
              "    </tr>\n",
              "    <tr>\n",
              "      <th>2945</th>\n",
              "      <td>10005262.0</td>\n",
              "      <td>3 Mildly distorted depiction of a clock</td>\n",
              "      <td>1.0</td>\n",
              "      <td>2</td>\n",
              "      <td>1</td>\n",
              "    </tr>\n",
              "    <tr>\n",
              "      <th>2972</th>\n",
              "      <td>10005303.0</td>\n",
              "      <td>4 Reasonably accurate depiction of a clock</td>\n",
              "      <td>1.0</td>\n",
              "      <td>2</td>\n",
              "      <td>1</td>\n",
              "    </tr>\n",
              "    <tr>\n",
              "      <th>3079</th>\n",
              "      <td>10005472.0</td>\n",
              "      <td>0 Not recognizable as a clock</td>\n",
              "      <td>1.0</td>\n",
              "      <td>2</td>\n",
              "      <td>1</td>\n",
              "    </tr>\n",
              "    <tr>\n",
              "      <th>3090</th>\n",
              "      <td>10005494.0</td>\n",
              "      <td>2 Moderately distorted depection of a clock</td>\n",
              "      <td>1.0</td>\n",
              "      <td>2</td>\n",
              "      <td>1</td>\n",
              "    </tr>\n",
              "    <tr>\n",
              "      <th>3189</th>\n",
              "      <td>10005664.0</td>\n",
              "      <td>4 Reasonably accurate depiction of a clock</td>\n",
              "      <td>1.0</td>\n",
              "      <td>2</td>\n",
              "      <td>1</td>\n",
              "    </tr>\n",
              "    <tr>\n",
              "      <th>3271</th>\n",
              "      <td>10005800.0</td>\n",
              "      <td>3 Mildly distorted depiction of a clock</td>\n",
              "      <td>1.0</td>\n",
              "      <td>2</td>\n",
              "      <td>1</td>\n",
              "    </tr>\n",
              "    <tr>\n",
              "      <th>3283</th>\n",
              "      <td>10005821.0</td>\n",
              "      <td>5 Accurate depiction of a clock (circular or s...</td>\n",
              "      <td>1.0</td>\n",
              "      <td>2</td>\n",
              "      <td>1</td>\n",
              "    </tr>\n",
              "    <tr>\n",
              "      <th>3341</th>\n",
              "      <td>10005925.0</td>\n",
              "      <td>4 Reasonably accurate depiction of a clock</td>\n",
              "      <td>1.0</td>\n",
              "      <td>2</td>\n",
              "      <td>1</td>\n",
              "    </tr>\n",
              "    <tr>\n",
              "      <th>3500</th>\n",
              "      <td>10006205.0</td>\n",
              "      <td>2 Moderately distorted depection of a clock</td>\n",
              "      <td>1.0</td>\n",
              "      <td>2</td>\n",
              "      <td>1</td>\n",
              "    </tr>\n",
              "    <tr>\n",
              "      <th>3581</th>\n",
              "      <td>10006354.0</td>\n",
              "      <td>3 Mildly distorted depiction of a clock</td>\n",
              "      <td>1.0</td>\n",
              "      <td>2</td>\n",
              "      <td>1</td>\n",
              "    </tr>\n",
              "    <tr>\n",
              "      <th>3653</th>\n",
              "      <td>10006453.0</td>\n",
              "      <td>2 Moderately distorted depection of a clock</td>\n",
              "      <td>1.0</td>\n",
              "      <td>2</td>\n",
              "      <td>1</td>\n",
              "    </tr>\n",
              "    <tr>\n",
              "      <th>3753</th>\n",
              "      <td>10006616.0</td>\n",
              "      <td>1 Severely distorted depiction of a clock</td>\n",
              "      <td>1.0</td>\n",
              "      <td>2</td>\n",
              "      <td>1</td>\n",
              "    </tr>\n",
              "    <tr>\n",
              "      <th>3764</th>\n",
              "      <td>10006632.0</td>\n",
              "      <td>1 Severely distorted depiction of a clock</td>\n",
              "      <td>1.0</td>\n",
              "      <td>2</td>\n",
              "      <td>1</td>\n",
              "    </tr>\n",
              "    <tr>\n",
              "      <th>3797</th>\n",
              "      <td>10006688.0</td>\n",
              "      <td>4 Reasonably accurate depiction of a clock</td>\n",
              "      <td>1.0</td>\n",
              "      <td>2</td>\n",
              "      <td>1</td>\n",
              "    </tr>\n",
              "    <tr>\n",
              "      <th>3924</th>\n",
              "      <td>10006910.0</td>\n",
              "      <td>3 Mildly distorted depiction of a clock</td>\n",
              "      <td>1.0</td>\n",
              "      <td>2</td>\n",
              "      <td>1</td>\n",
              "    </tr>\n",
              "    <tr>\n",
              "      <th>4198</th>\n",
              "      <td>10007394.0</td>\n",
              "      <td>4 Reasonably accurate depiction of a clock</td>\n",
              "      <td>1.0</td>\n",
              "      <td>2</td>\n",
              "      <td>1</td>\n",
              "    </tr>\n",
              "    <tr>\n",
              "      <th>4285</th>\n",
              "      <td>10007531.0</td>\n",
              "      <td>2 Moderately distorted depection of a clock</td>\n",
              "      <td>1.0</td>\n",
              "      <td>2</td>\n",
              "      <td>1</td>\n",
              "    </tr>\n",
              "    <tr>\n",
              "      <th>4532</th>\n",
              "      <td>10007932.0</td>\n",
              "      <td>2 Moderately distorted depection of a clock</td>\n",
              "      <td>1.0</td>\n",
              "      <td>2</td>\n",
              "      <td>1</td>\n",
              "    </tr>\n",
              "    <tr>\n",
              "      <th>4569</th>\n",
              "      <td>10008004.0</td>\n",
              "      <td>2 Moderately distorted depection of a clock</td>\n",
              "      <td>1.0</td>\n",
              "      <td>2</td>\n",
              "      <td>1</td>\n",
              "    </tr>\n",
              "    <tr>\n",
              "      <th>4863</th>\n",
              "      <td>10008531.0</td>\n",
              "      <td>4 Reasonably accurate depiction of a clock</td>\n",
              "      <td>1.0</td>\n",
              "      <td>2</td>\n",
              "      <td>1</td>\n",
              "    </tr>\n",
              "    <tr>\n",
              "      <th>4975</th>\n",
              "      <td>10008718.0</td>\n",
              "      <td>2 Moderately distorted depection of a clock</td>\n",
              "      <td>1.0</td>\n",
              "      <td>2</td>\n",
              "      <td>1</td>\n",
              "    </tr>\n",
              "    <tr>\n",
              "      <th>5100</th>\n",
              "      <td>10008936.0</td>\n",
              "      <td>2 Moderately distorted depection of a clock</td>\n",
              "      <td>1.0</td>\n",
              "      <td>2</td>\n",
              "      <td>1</td>\n",
              "    </tr>\n",
              "    <tr>\n",
              "      <th>5185</th>\n",
              "      <td>10009073.0</td>\n",
              "      <td>4 Reasonably accurate depiction of a clock</td>\n",
              "      <td>1.0</td>\n",
              "      <td>2</td>\n",
              "      <td>1</td>\n",
              "    </tr>\n",
              "    <tr>\n",
              "      <th>5211</th>\n",
              "      <td>10009119.0</td>\n",
              "      <td>3 Mildly distorted depiction of a clock</td>\n",
              "      <td>1.0</td>\n",
              "      <td>2</td>\n",
              "      <td>1</td>\n",
              "    </tr>\n",
              "    <tr>\n",
              "      <th>5250</th>\n",
              "      <td>10009185.0</td>\n",
              "      <td>4 Reasonably accurate depiction of a clock</td>\n",
              "      <td>1.0</td>\n",
              "      <td>2</td>\n",
              "      <td>1</td>\n",
              "    </tr>\n",
              "  </tbody>\n",
              "</table>\n",
              "</div>"
            ],
            "text/plain": [
              "            spid  ... label\n",
              "29    10000047.0  ...     1\n",
              "75    10000130.0  ...     1\n",
              "343   10000583.0  ...     1\n",
              "954   10001636.0  ...     1\n",
              "1160  10002002.0  ...     1\n",
              "1219  10002101.0  ...     1\n",
              "1277  10002197.0  ...     1\n",
              "1280  10002200.0  ...     1\n",
              "1297  10002229.0  ...     1\n",
              "1404  10002433.0  ...     1\n",
              "1511  10002642.0  ...     1\n",
              "1575  10002775.0  ...     1\n",
              "1681  10002940.0  ...     1\n",
              "1831  10003209.0  ...     1\n",
              "1858  10003252.0  ...     1\n",
              "1866  10003268.0  ...     1\n",
              "1946  10003395.0  ...     1\n",
              "2008  10003517.0  ...     1\n",
              "2067  10003619.0  ...     1\n",
              "2161  10003776.0  ...     1\n",
              "2306  10004065.0  ...     1\n",
              "2321  10004096.0  ...     1\n",
              "2367  10004185.0  ...     1\n",
              "2605  10004632.0  ...     1\n",
              "2812  10005020.0  ...     1\n",
              "2945  10005262.0  ...     1\n",
              "2972  10005303.0  ...     1\n",
              "3079  10005472.0  ...     1\n",
              "3090  10005494.0  ...     1\n",
              "3189  10005664.0  ...     1\n",
              "3271  10005800.0  ...     1\n",
              "3283  10005821.0  ...     1\n",
              "3341  10005925.0  ...     1\n",
              "3500  10006205.0  ...     1\n",
              "3581  10006354.0  ...     1\n",
              "3653  10006453.0  ...     1\n",
              "3753  10006616.0  ...     1\n",
              "3764  10006632.0  ...     1\n",
              "3797  10006688.0  ...     1\n",
              "3924  10006910.0  ...     1\n",
              "4198  10007394.0  ...     1\n",
              "4285  10007531.0  ...     1\n",
              "4532  10007932.0  ...     1\n",
              "4569  10008004.0  ...     1\n",
              "4863  10008531.0  ...     1\n",
              "4975  10008718.0  ...     1\n",
              "5100  10008936.0  ...     1\n",
              "5185  10009073.0  ...     1\n",
              "5211  10009119.0  ...     1\n",
              "5250  10009185.0  ...     1\n",
              "\n",
              "[50 rows x 5 columns]"
            ]
          },
          "metadata": {},
          "execution_count": 30
        }
      ]
    },
    {
      "cell_type": "code",
      "metadata": {
        "id": "UNHF76y_LA98"
      },
      "source": [
        "#Checking for \n",
        "#rounds1_10.reset_index(inplace = True)\n",
        "#rounds1_10.drop(columns=[\"index\",\"cg1dclkdraw\"], inplace = True)\n",
        "#ids = rounds1_10[rounds1_10['hc1disescn9'] == 2]['spid'].values\n",
        "#stop = 0\n",
        "\n",
        "#for id in ids:\n",
        "  #print(rounds1_10.loc[rounds1_10['spid'] == id])\n",
        "  #stop +=1\n",
        "  #if stop == 10:\n",
        "    #break\n",
        "\n",
        "\n"
      ],
      "execution_count": null,
      "outputs": []
    },
    {
      "cell_type": "code",
      "metadata": {
        "colab": {
          "base_uri": "https://localhost:8080/",
          "height": 282
        },
        "id": "Iq3vbvbrtERv",
        "outputId": "7bca420c-b4ba-4749-c1ec-5e17a3244579"
      },
      "source": [
        "# Look at distribution of labels\n",
        "import matplotlib.pyplot as plt\n",
        "\n",
        "rounds1_10.label.hist() #Highly unbalanced dataset - good case for generating synthetic data to rebalance"
      ],
      "execution_count": null,
      "outputs": [
        {
          "output_type": "execute_result",
          "data": {
            "text/plain": [
              "<matplotlib.axes._subplots.AxesSubplot at 0x7faafe203c50>"
            ]
          },
          "metadata": {},
          "execution_count": 14
        },
        {
          "output_type": "display_data",
          "data": {
            "image/png": "[encoded data removed]",
            "text/plain": [
              "<Figure size 432x288 with 1 Axes>"
            ]
          },
          "metadata": {
            "needs_background": "light"
          }
        }
      ]
    },
    {
      "cell_type": "markdown",
      "metadata": {
        "id": "zN3zudHi6SCd"
      },
      "source": [
        "###Loading Image Data from AWS S3 Bucket\n"
      ]
    },
    {
      "cell_type": "code",
      "metadata": {
        "colab": {
          "base_uri": "https://localhost:8080/"
        },
        "id": "T0A04Llad-PE",
        "outputId": "71083d94-5b62-4677-ee7d-6e805d3d2671"
      },
      "source": [
        "!aws s3 ls s3://clockdrawingimages1/10000003.tif\n",
        "#!aws configure"
      ],
      "execution_count": 34,
      "outputs": [
        {
          "output_type": "stream",
          "text": [
            "Unable to locate credentials. You can configure credentials by running \"aws configure\".\n"
          ],
          "name": "stdout"
        }
      ]
    },
    {
      "cell_type": "code",
      "metadata": {
        "colab": {
          "base_uri": "https://localhost:8080/"
        },
        "id": "DUVaDYpWlpfd",
        "outputId": "86e6aef1-c41c-40fe-c964-24f76a9db3fa"
      },
      "source": [
        "s3 = boto3.resource('s3', region_name = 'us-west-1')\n",
        "bucket = s3.Bucket('clockdrawingimages1')\n",
        "object = bucket.Object('10000003.tif')\n",
        "response = object.get()\n",
        "\n",
        "# Read single image data into memory and save to variable\n",
        "file_stream = response['Body']\n",
        "im = Image.open(file_stream) #Actual image\n",
        "\n",
        "# Convert image to array as binary values, black values will \n",
        "#get the true value using np.logical_not\n",
        "r1_image = np.logical_not(np.array(im)).astype(int) # Binary Array\n",
        "r1_image2 = np.array(im) #Bool Array\n",
        "#image = cv2.imread('/content/drive/MyDrive/Colab_Notebooks/10000003.tif', cv2.IMREAD_GRAYSCALE)\n",
        "r1_image"
      ],
      "execution_count": null,
      "outputs": [
        {
          "output_type": "execute_result",
          "data": {
            "text/plain": [
              "array([[0, 0, 0, ..., 0, 0, 0],\n",
              "       [0, 0, 0, ..., 0, 0, 0],\n",
              "       [0, 0, 0, ..., 0, 0, 0],\n",
              "       ...,\n",
              "       [1, 1, 1, ..., 0, 0, 0],\n",
              "       [1, 1, 1, ..., 0, 0, 0],\n",
              "       [1, 1, 1, ..., 0, 0, 0]])"
            ]
          },
          "metadata": {
            "tags": []
          },
          "execution_count": 39
        }
      ]
    },
    {
      "cell_type": "code",
      "metadata": {
        "colab": {
          "base_uri": "https://localhost:8080/",
          "height": 1000
        },
        "id": "NGGqVZEe4HID",
        "outputId": "a08d36b0-869a-4e16-ba33-74d292fe96fe"
      },
      "source": [
        "# revert\n",
        "im = Image.fromarray(r1_image2)\n",
        "im"
      ],
      "execution_count": null,
      "outputs": [
        {
          "output_type": "execute_result",
          "data": {
            "image/png": "[encoded data removed]",
            "text/plain": [
              "<PIL.Image.Image image mode=1 size=2560x3312 at 0x7F4BA9B97D10>"
            ]
          },
          "metadata": {
            "tags": []
          },
          "execution_count": 40
        }
      ]
    },
    {
      "cell_type": "code",
      "metadata": {
        "colab": {
          "base_uri": "https://localhost:8080/",
          "height": 286
        },
        "id": "OZpd8RePstMK",
        "outputId": "686959ee-80e2-4c1e-9554-9cd60ecf186c"
      },
      "source": [
        "plt.imshow(r1_image2)"
      ],
      "execution_count": null,
      "outputs": [
        {
          "output_type": "execute_result",
          "data": {
            "text/plain": [
              "<matplotlib.image.AxesImage at 0x7f4b992b4f90>"
            ]
          },
          "metadata": {
            "tags": []
          },
          "execution_count": 43
        },
        {
          "output_type": "display_data",
          "data": {
            "image/png": "[encoded data removed]",
            "text/plain": [
              "<Figure size 432x288 with 1 Axes>"
            ]
          },
          "metadata": {
            "tags": [],
            "needs_background": "light"
          }
        }
      ]
    },
    {
      "cell_type": "code",
      "metadata": {
        "id": "V-OsIURo63Sz"
      },
      "source": [
        "--"
      ],
      "execution_count": null,
      "outputs": []
    }
  ]
}