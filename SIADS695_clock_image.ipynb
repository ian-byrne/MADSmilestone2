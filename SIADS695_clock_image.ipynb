{
  "nbformat": 4,
  "nbformat_minor": 0,
  "metadata": {
    "colab": {
      "name": "SIADS695_clock_image.ipynb",
      "provenance": [],
      "collapsed_sections": [],
      "toc_visible": true,
      "machine_shape": "hm",
      "include_colab_link": true
    },
    "kernelspec": {
      "name": "python3",
      "display_name": "Python 3"
    },
    "language_info": {
      "name": "python"
    }
  },
  "cells": [
    {
      "cell_type": "markdown",
      "metadata": {
        "id": "view-in-github",
        "colab_type": "text"
      },
      "source": [
        "<a href=\"https://colab.research.google.com/github/ian-byrne/MADSmilestone2/blob/main/SIADS695_clock_image.ipynb\" target=\"_parent\"><img src=\"https://colab.research.google.com/assets/colab-badge.svg\" alt=\"Open In Colab\"/></a>"
      ]
    },
    {
      "cell_type": "markdown",
      "metadata": {
        "id": "jJv-oziaqOJN"
      },
      "source": [
        "This project is inspired by the AI Crowd Challenge: https://www.aicrowd.com/challenges/addi-alzheimers-detection-challenge\n",
        "\n",
        "Data from NHATs: https://nhats.org/researcher/data-access\n",
        "\n",
        "\n",
        "Meta file crosswalk: https://www.nhats.org/sites/default/files/2021-07/NHATS_R10_Final_Crosswalk_between_Instruments_and_Codebook.pdf\n",
        "\n",
        "User Guide: https://www.nhats.org/sites/default/files/2021-07/NHATS_User_Guide_R10_Final_Release.pdf"
      ]
    },
    {
      "cell_type": "code",
      "metadata": {
        "id": "CFFWMAsCyHHn"
      },
      "source": [
        "# contains all the clock images for round 1.  arn:aws:s3:::clockdrawingimages1\n",
        "# URL of a single clock image from round 1 (not all image file names increment by 1): https://clockdrawingimages1.s3.us-west-1.amazonaws.com/10000003.tif\n",
        "# URI of a single clock image from round 1: s3://clockdrawingimages1/10000003.tif\n",
        "\n",
        "# URL of a single clock image from round 2 (not all image file names increment by 1):https://clockdrawingimages2.s3.us-west-1.amazonaws.com/10000003.tif\n",
        "\n",
        "\n",
        "# URL of a single clock image from round 2 (not all image file names increment by 1): https://clockdrawingimages3.s3.us-west-1.amazonaws.com/10000003.tif"
      ],
      "execution_count": null,
      "outputs": []
    },
    {
      "cell_type": "code",
      "metadata": {
        "id": "FBv7Le5m6dsB"
      },
      "source": [
        "import pandas as pd\n",
        "import numpy as np\n",
        "import matplotlib.pyplot as plt\n",
        "from PIL import Image\n",
        "import io\n",
        "from io import BytesIO\n",
        "import requests\n",
        "from PIL import Image\n",
        "\n"
      ],
      "execution_count": 1,
      "outputs": []
    },
    {
      "cell_type": "code",
      "metadata": {
        "colab": {
          "base_uri": "https://localhost:8080/"
        },
        "id": "yZvpOMW9m2Uj",
        "outputId": "cea86278-dc50-4469-974d-acabc063d962"
      },
      "source": [
        "# Clone the entire repo.\n",
        "!git clone -l -s https://github.com/ian-byrne/MADSmilestone2.git\n",
        "\n",
        "# Change directory into cloned repo\n",
        "%cd MADSmilestone2\n",
        "\n",
        "# List repo contents\n",
        "!ls"
      ],
      "execution_count": null,
      "outputs": [
        {
          "output_type": "stream",
          "text": [
            "fatal: destination path 'MADSmilestone2' already exists and is not an empty directory.\n",
            "/content/MADSmilestone2\n",
            "ian_testingground.ipynb  load_data.py  README.md  SIADS695_clock_image.ipynb\n"
          ],
          "name": "stdout"
        }
      ]
    },
    {
      "cell_type": "code",
      "metadata": {
        "colab": {
          "base_uri": "https://localhost:8080/"
        },
        "id": "SRpaumt1sJRy",
        "outputId": "d55bc772-7164-4fb4-ce96-65566c375376"
      },
      "source": [
        "import load_data\n",
        "#load_data.load_data()\n",
        "load_data.load_images()"
      ],
      "execution_count": null,
      "outputs": [
        {
          "output_type": "execute_result",
          "data": {
            "text/plain": [
              "array([[0, 0, 0, ..., 0, 0, 0],\n",
              "       [0, 0, 0, ..., 0, 0, 0],\n",
              "       [0, 0, 0, ..., 0, 0, 0],\n",
              "       ...,\n",
              "       [1, 1, 1, ..., 0, 0, 0],\n",
              "       [1, 1, 1, ..., 0, 0, 0],\n",
              "       [1, 1, 1, ..., 0, 0, 0]])"
            ]
          },
          "metadata": {},
          "execution_count": 18
        }
      ]
    },
    {
      "cell_type": "code",
      "metadata": {
        "id": "vxEE8JWxheJW"
      },
      "source": [
        "def load_data():\n",
        "  \"\"\"Load stata data from S3, rounds 1 - 10; contains diagnoses, scoring, subject ID to map to images\n",
        "  hc1disescn9 : 1 - YES to dementia/Alzheimers, 2 - NO Dementia, may want to drop -9 and -1?, may need to relabel 7. \n",
        "  cg1dclkdraw: score of drawing\n",
        "  spid: Subject ID, number maps to number in image file names\"\"\"\n",
        "\n",
        "  values = [1, 2, 3, 4]#, 5, 6, 7, 8, 9, 10] \n",
        "  round_data = pd.DataFrame()\n",
        "\n",
        "  for val in values:\n",
        "    data = pd.io.stata.read_stata('https://clockdrawingbattery.s3.us-west-1.amazonaws.com/NHATS_Round_'+str(val)+'_SP_File.dta')\n",
        "    data = data[['spid','cg'+str(val)+'dclkdraw', 'hc'+str(val)+'disescn9']]\n",
        "    data['round'] = val\n",
        "\n",
        "    # Rename columns\n",
        "    data.rename(columns={'cg'+str(val)+'dclkdraw': 'cg'+str(int(val/val))+'dclkdraw', 'hc'+str(val)+'disescn9': 'hc'+str(int(val/val))+'disescn9'}, inplace = True)\n",
        "    round_data = round_data.append(data)\n",
        "  \n",
        " \n",
        "  return round_data\n",
        "\n",
        "\n",
        "\n",
        "\n",
        "\n",
        "rounds_df = load_data()"
      ],
      "execution_count": 54,
      "outputs": []
    },
    {
      "cell_type": "code",
      "metadata": {
        "colab": {
          "base_uri": "https://localhost:8080/",
          "height": 324
        },
        "id": "L7A2NHCgBJGj",
        "outputId": "6725083f-3837-4d81-915c-08102e417588"
      },
      "source": [
        "print(\"Column values for clock scores: \\n\", rounds_df['cg1dclkdraw'].unique())\n",
        "print(\"\\nHealth score values: \\n\", rounds_df['hc1disescn9'].unique())\n",
        "print(\"\\nVariable types: \\n\", rounds_df.dtypes)\n",
        "rounds_df[rounds_df['cg1dclkdraw'] == '-1 Inapplicable'].head()"
      ],
      "execution_count": 57,
      "outputs": [
        {
          "output_type": "stream",
          "text": [
            "Column values for clock scores: \n",
            " ['3 Mildly distorted depiction of a clock', '4 Reasonably accurate depiction of a clock', '2 Moderately distorted depection of a clock', '5 Accurate depiction of a clock (circular or ..., '1 Severely distorted depiction of a clock', '0 Not recognizable as a clock']\n",
            "Categories (6, object): ['0 Not recognizable as a clock' < '1 Severely distorted depiction of a clock' <\n",
            "                         '2 Moderately distorted depection of a clock' < '3 Mildly distorted depiction of a clock' <\n",
            "                         '4 Reasonably accurate depiction of a clock' < '5 Accurate depiction of a clock (circular or ...]\n",
            "\n",
            "Health score values: \n",
            " [2. 1. 7.]\n",
            "\n",
            "Variable types: \n",
            " spid             string\n",
            "cg1dclkdraw    category\n",
            "hc1disescn9     float64\n",
            "round             int64\n",
            "dtype: object\n"
          ],
          "name": "stdout"
        },
        {
          "output_type": "execute_result",
          "data": {
            "text/html": [
              "<div>\n",
              "<style scoped>\n",
              "    .dataframe tbody tr th:only-of-type {\n",
              "        vertical-align: middle;\n",
              "    }\n",
              "\n",
              "    .dataframe tbody tr th {\n",
              "        vertical-align: top;\n",
              "    }\n",
              "\n",
              "    .dataframe thead th {\n",
              "        text-align: right;\n",
              "    }\n",
              "</style>\n",
              "<table border=\"1\" class=\"dataframe\">\n",
              "  <thead>\n",
              "    <tr style=\"text-align: right;\">\n",
              "      <th></th>\n",
              "      <th>spid</th>\n",
              "      <th>cg1dclkdraw</th>\n",
              "      <th>hc1disescn9</th>\n",
              "      <th>round</th>\n",
              "    </tr>\n",
              "  </thead>\n",
              "  <tbody>\n",
              "  </tbody>\n",
              "</table>\n",
              "</div>"
            ],
            "text/plain": [
              "Empty DataFrame\n",
              "Columns: [spid, cg1dclkdraw, hc1disescn9, round]\n",
              "Index: []"
            ]
          },
          "metadata": {},
          "execution_count": 57
        }
      ]
    },
    {
      "cell_type": "code",
      "metadata": {
        "id": "lRdpvUoq-3Wt"
      },
      "source": [
        "def clean_data(rounds_df):\n",
        "  # Clean the row values in hc1disescn9 , cg1dclkdraw\n",
        "  # hc1disescn9 asks if subject has dementia or alzheimers: 1 YES, 2 NO\n",
        "\n",
        "  df = rounds_df\n",
        "  hc_items = [('2 NO', 2),(' 2 NO', 2), ('1 YES', 1),(' 1 YES', 1),\n",
        "              ('-9 Missing', np.nan),('-8 DK', np.nan),('7 PREVIOUSLY REPORTED', 7),\n",
        "              ('-1 Inapplicable', np.nan),('-7 RF', np.nan)]\n",
        "\n",
        "  cg_items = [('-2 Proxy says cannot ask SP', np.nan), ('-7 SP refused to draw clock', np.nan), \n",
        "              ('-4 SP did not attempt to draw clock', np.nan), ('-3 Proxy says can ask SP but SP unable to answer', np.nan), \n",
        "              ('-1 Inapplicable', np.nan), ('-9 Missing', np.nan)]\n",
        "\n",
        "  for item in hc_items:\n",
        "    df.hc1disescn9.replace(item[0], item[1], inplace = True)\n",
        "\n",
        "  # Remove cg1dclkdraw subjects that did not draw a clock, or image data is missing\n",
        "  for item in cg_items:\n",
        "    df.cg1dclkdraw.replace(item[0], item[1], inplace = True)\n",
        "\n",
        "  \n",
        "  # Drop all NaN\n",
        "  df.dropna(inplace = True)\n",
        "\n",
        "  # Change IDs to string value for streaming images\n",
        "  df['spid'] = df['spid'].astype('string')\n",
        "\n",
        "  # Keep just the 8 digit value in spid, removing float value\n",
        "  df['spid']= df['spid'].str.extract('(\\d+).', expand = False)\n",
        "\n",
        "  return df\n",
        "\n",
        "\n",
        "rounds_clean = clean_data(rounds_df)"
      ],
      "execution_count": 56,
      "outputs": []
    },
    {
      "cell_type": "code",
      "metadata": {
        "colab": {
          "base_uri": "https://localhost:8080/"
        },
        "id": "458L4W9oDsSw",
        "outputId": "74a52934-5cb4-4344-b3fd-484bdf32fd3a"
      },
      "source": [
        "#Check that we only have 1, 2, 7 data points and subjects that have drawn clocks\n",
        "print(rounds_clean.cg1dclkdraw.unique())\n",
        "print(rounds_clean['hc1disescn9'].unique())"
      ],
      "execution_count": 23,
      "outputs": [
        {
          "output_type": "stream",
          "text": [
            "['3 Mildly distorted depiction of a clock', '4 Reasonably accurate depiction of a clock', '2 Moderately distorted depection of a clock', '5 Accurate depiction of a clock (circular or ..., '1 Severely distorted depiction of a clock', '0 Not recognizable as a clock']\n",
            "Categories (6, object): ['0 Not recognizable as a clock' < '1 Severely distorted depiction of a clock' <\n",
            "                         '2 Moderately distorted depection of a clock' < '3 Mildly distorted depiction of a clock' <\n",
            "                         '4 Reasonably accurate depiction of a clock' < '5 Accurate depiction of a clock (circular or ...]\n",
            "[2. 1. 7.]\n"
          ],
          "name": "stdout"
        }
      ]
    },
    {
      "cell_type": "code",
      "metadata": {
        "colab": {
          "base_uri": "https://localhost:8080/",
          "height": 770
        },
        "id": "9qRYnULqD6t4",
        "outputId": "1be683f9-3e35-49a4-bd5e-45195764a23a"
      },
      "source": [
        "# Check balance of dataset\n",
        "a = rounds_clean.hc1disescn9.hist() \n",
        "plt.xlabel(\"Health Score\")\n",
        "plt.ylabel(\"Counts\")\n",
        "plt.show(a) \n",
        "b = rounds_clean.cg1dclkdraw.hist()\n",
        "b.tick_params(axis='x', labelrotation = 90)\n",
        "plt.ylabel(\"Counts\")\n",
        "plt.show(b)"
      ],
      "execution_count": null,
      "outputs": [
        {
          "output_type": "display_data",
          "data": {
            "image/png": "[encoded data removed]",
            "text/plain": [
              "<Figure size 432x288 with 1 Axes>"
            ]
          },
          "metadata": {
            "needs_background": "light"
          }
        },
        {
          "output_type": "display_data",
          "data": {
            "image/png": "[encoded data removed]",
            "text/plain": [
              "<Figure size 432x288 with 1 Axes>"
            ]
          },
          "metadata": {
            "needs_background": "light"
          }
        }
      ]
    },
    {
      "cell_type": "markdown",
      "metadata": {
        "id": "njPUIYdo-gVi"
      },
      "source": [
        "###Create Labels for the data. "
      ]
    },
    {
      "cell_type": "code",
      "metadata": {
        "id": "Hgjv2v6uFdK-"
      },
      "source": [
        "def create_labels(rounds_clean):\n",
        "  \"\"\"Create labels: label 0 = pre-dementia, 1 = post-dementia, 2 = normal\n",
        "  Create Normal Label for all entries, base case, then assign value \n",
        "  of 1 to 1's and 7's\"\"\"\n",
        "  \n",
        "  df = rounds_clean\n",
        "  \n",
        "  # Assign label of 2 or 1\n",
        "  df['label'] = [2 if x == 2 else 1 for x in df['hc1disescn9']]\n",
        "\n",
        "  # Changing Round 1-3\n",
        "  for rounds in df['round'].unique()[:-1]:\n",
        "    round_val = rounds\n",
        "\n",
        "    round_post = df[df['round'] == (round_val + 1)]\n",
        "    # assign label value of 0 to the previous round where diagnosis changed from a 2.0 to 1.0\n",
        "    # diagnoses value of 7 corresponds to previous round value of 1, label stays a 1 \n",
        "\n",
        "    post1 = round_post[round_post['hc1disescn9'] == 1]\n",
        "    df.loc[(df['round'] == round_val) & df['spid'].isin(post1['spid']), 'label'] = 0\n",
        "  \n",
        "  return df\n",
        "\n",
        " \n",
        "   \n",
        "rounds_labeled = create_labels(rounds_clean)  "
      ],
      "execution_count": 58,
      "outputs": []
    },
    {
      "cell_type": "code",
      "metadata": {
        "id": "4dFl0l0Q9IfK",
        "colab": {
          "base_uri": "https://localhost:8080/",
          "height": 173
        },
        "outputId": "808ffeb3-eaa5-4684-c040-c44bcd717114"
      },
      "source": [
        "#@title test code\n",
        "rounds_labeled[(rounds_labeled['hc1disescn9'] == 2) & (rounds_labeled['label'] == 0)]\n",
        "rounds_labeled[rounds_labeled['spid'] == '10007575']"
      ],
      "execution_count": 59,
      "outputs": [
        {
          "output_type": "execute_result",
          "data": {
            "text/html": [
              "<div>\n",
              "<style scoped>\n",
              "    .dataframe tbody tr th:only-of-type {\n",
              "        vertical-align: middle;\n",
              "    }\n",
              "\n",
              "    .dataframe tbody tr th {\n",
              "        vertical-align: top;\n",
              "    }\n",
              "\n",
              "    .dataframe thead th {\n",
              "        text-align: right;\n",
              "    }\n",
              "</style>\n",
              "<table border=\"1\" class=\"dataframe\">\n",
              "  <thead>\n",
              "    <tr style=\"text-align: right;\">\n",
              "      <th></th>\n",
              "      <th>spid</th>\n",
              "      <th>cg1dclkdraw</th>\n",
              "      <th>hc1disescn9</th>\n",
              "      <th>round</th>\n",
              "      <th>label</th>\n",
              "    </tr>\n",
              "  </thead>\n",
              "  <tbody>\n",
              "    <tr>\n",
              "      <th>5034</th>\n",
              "      <td>10007575</td>\n",
              "      <td>1 Severely distorted depiction of a clock</td>\n",
              "      <td>2.0</td>\n",
              "      <td>1</td>\n",
              "      <td>2</td>\n",
              "    </tr>\n",
              "    <tr>\n",
              "      <th>4316</th>\n",
              "      <td>10007575</td>\n",
              "      <td>2 Moderately distorted depection of a clock</td>\n",
              "      <td>2.0</td>\n",
              "      <td>2</td>\n",
              "      <td>2</td>\n",
              "    </tr>\n",
              "    <tr>\n",
              "      <th>5102</th>\n",
              "      <td>10007575</td>\n",
              "      <td>5 Accurate depiction of a clock (circular or s...</td>\n",
              "      <td>2.0</td>\n",
              "      <td>3</td>\n",
              "      <td>0</td>\n",
              "    </tr>\n",
              "    <tr>\n",
              "      <th>4172</th>\n",
              "      <td>10007575</td>\n",
              "      <td>4 Reasonably accurate depiction of a clock</td>\n",
              "      <td>1.0</td>\n",
              "      <td>4</td>\n",
              "      <td>1</td>\n",
              "    </tr>\n",
              "  </tbody>\n",
              "</table>\n",
              "</div>"
            ],
            "text/plain": [
              "          spid                                        cg1dclkdraw  ...  round  label\n",
              "5034  10007575          1 Severely distorted depiction of a clock  ...      1      2\n",
              "4316  10007575        2 Moderately distorted depection of a clock  ...      2      2\n",
              "5102  10007575  5 Accurate depiction of a clock (circular or s...  ...      3      0\n",
              "4172  10007575         4 Reasonably accurate depiction of a clock  ...      4      1\n",
              "\n",
              "[4 rows x 5 columns]"
            ]
          },
          "metadata": {},
          "execution_count": 59
        }
      ]
    },
    {
      "cell_type": "code",
      "metadata": {
        "id": "UNHF76y_LA98",
        "cellView": "form"
      },
      "source": [
        "#@title test code\n",
        "#Checking for \n",
        "#rounds1_10.reset_index(inplace = True)\n",
        "#rounds1_10.drop(columns=[\"index\",\"cg1dclkdraw\"], inplace = True)\n",
        "#ids = rounds1_10[rounds1_10['hc1disescn9'] == 2]['spid'].values\n",
        "#stop = 0\n",
        "\n",
        "#for id in ids:\n",
        "  #print(rounds1_10.loc[rounds1_10['spid'] == id])\n",
        "  #stop +=1\n",
        "  #if stop == 10:\n",
        "    #break\n",
        "\n",
        "\n"
      ],
      "execution_count": null,
      "outputs": []
    },
    {
      "cell_type": "code",
      "metadata": {
        "colab": {
          "base_uri": "https://localhost:8080/",
          "height": 282
        },
        "id": "Iq3vbvbrtERv",
        "outputId": "cc98a981-e743-436c-ed85-b5a99d92dbfe"
      },
      "source": [
        "# Look at distribution of labels\n",
        "import matplotlib.pyplot as plt\n",
        "\n",
        "rounds_labeled.label.hist() #Highly unbalanced dataset - good case for generating synthetic data to rebalance"
      ],
      "execution_count": 25,
      "outputs": [
        {
          "output_type": "execute_result",
          "data": {
            "text/plain": [
              "<matplotlib.axes._subplots.AxesSubplot at 0x7f8f94650290>"
            ]
          },
          "metadata": {},
          "execution_count": 25
        },
        {
          "output_type": "display_data",
          "data": {
            "image/png": "[encoded data removed]",
            "text/plain": [
              "<Figure size 432x288 with 1 Axes>"
            ]
          },
          "metadata": {
            "needs_background": "light"
          }
        }
      ]
    },
    {
      "cell_type": "markdown",
      "metadata": {
        "id": "8djkzObD-T-7"
      },
      "source": [
        "### Get Individual participant IDs per round\n",
        "Could be useful for pulling in exact images per round"
      ]
    },
    {
      "cell_type": "code",
      "metadata": {
        "colab": {
          "base_uri": "https://localhost:8080/"
        },
        "id": "eCB-a4vAsYGu",
        "outputId": "ae72ec04-a9e5-4feb-8c5d-cc482f4a9c97"
      },
      "source": [
        "def get_ids(df):\n",
        "  \"\"\" Creates dictionary of IDs per round\"\"\"\n",
        "\n",
        "  id_dict = {}\n",
        "  for val in df['round'].unique():\n",
        "    id_dict[val] = df[df['round'] == val]['spid'].values\n",
        "  return id_dict\n",
        "\n",
        "id_rounds = get_ids(rounds_labeled)\n",
        "id_rounds"
      ],
      "execution_count": 60,
      "outputs": [
        {
          "output_type": "execute_result",
          "data": {
            "text/plain": [
              "{1: <StringArray>\n",
              " ['10000003', '10000004', '10000005', '10000006', '10000008', '10000010',\n",
              "  '10000016', '10000017', '10000019', '10000020',\n",
              "  ...\n",
              "  '10012395', '10012398', '10012399', '10012400', '10012401', '10012402',\n",
              "  '10012406', '10012407', '10012410', '10012411']\n",
              " Length: 6913, dtype: string, 2: <StringArray>\n",
              " ['10000003', '10000007', '10000008', '10000010', '10000017', '10000019',\n",
              "  '10000020', '10000021', '10000022', '10000024',\n",
              "  ...\n",
              "  '10012382', '10012384', '10012388', '10012394', '10012395', '10012399',\n",
              "  '10012400', '10012406', '10012407', '10012411']\n",
              " Length: 5501, dtype: string, 3: <StringArray>\n",
              " ['10001875', '10005977', '10002720', '10004997', '10008945', '10012329',\n",
              "  '10004064', '10001846', '10005642', '10009717',\n",
              "  ...\n",
              "  '10003406', '10007851', '10012277', '10002122', '10005469', '10011980',\n",
              "  '10003785', '10004106', '10007223', '10011851']\n",
              " Length: 4455, dtype: string, 4: <StringArray>\n",
              " ['10001875', '10002720', '10004997', '10012329', '10004064', '10001846',\n",
              "  '10005642', '10009717', '10001830', '10011045',\n",
              "  ...\n",
              "  '10005080', '10006023', '10007851', '10012277', '10002122', '10011980',\n",
              "  '10003785', '10004106', '10007223', '10011851']\n",
              " Length: 3671, dtype: string}"
            ]
          },
          "metadata": {},
          "execution_count": 60
        }
      ]
    },
    {
      "cell_type": "code",
      "metadata": {
        "colab": {
          "base_uri": "https://localhost:8080/",
          "height": 35
        },
        "id": "r56YMf3ILPg6",
        "outputId": "e4b568e2-033d-4bad-fe12-09345419e44e"
      },
      "source": [
        "id_rounds[1][0]"
      ],
      "execution_count": 62,
      "outputs": [
        {
          "output_type": "execute_result",
          "data": {
            "application/vnd.google.colaboratory.intrinsic+json": {
              "type": "string"
            },
            "text/plain": [
              "'10000003'"
            ]
          },
          "metadata": {},
          "execution_count": 62
        }
      ]
    },
    {
      "cell_type": "markdown",
      "metadata": {
        "id": "zN3zudHi6SCd"
      },
      "source": [
        "###Loading Image Data from AWS S3 Bucket\n",
        "Testing basic function of getting data - will need to set up datastream"
      ]
    },
    {
      "cell_type": "code",
      "metadata": {
        "id": "pcTcGc9hWjY5"
      },
      "source": [
        "def get_images_test():\n",
        "  counter = 0\n",
        "  store_images = []\n",
        "\n",
        "  for id, array in id_rounds.items(): \n",
        "    for value in array:\n",
        "      if counter < 5:\n",
        "      \n",
        "        url = 'https://clockimages.s3.us-west-1.amazonaws.com/NHATS_R'+str(id)+'_ClockDrawings/'+value+'.tif'\n",
        "\n",
        "        response = requests.get(url)#, stream = True)\n",
        "        f = io.BytesIO(response.content)  \n",
        "        im = Image.open(f)\n",
        "        imarray = np.logical_not(np.array(im)).astype(int)\n",
        "        viz_image(imarray, im)\n",
        "        store_images.append(imarray)\n",
        "        counter+=1\n",
        "\n",
        "  return store_images\n",
        "\n"
      ],
      "execution_count": 79,
      "outputs": []
    },
    {
      "cell_type": "code",
      "metadata": {
        "colab": {
          "base_uri": "https://localhost:8080/",
          "height": 1000
        },
        "id": "b70HbFcuZVd2",
        "outputId": "a9265ebd-620c-4d54-bb3e-4575dbaf7128"
      },
      "source": [
        "def viz_image(image, image_bool):\n",
        "  print(\"shape: \", image.shape)\n",
        "\n",
        "  # revert\n",
        "  im2 = Image.fromarray(np.array(image_bool))\n",
        "  plt.imshow(im2)\n",
        "  plt.show()\n",
        " \n",
        "\n",
        "image_array = get_images_test()"
      ],
      "execution_count": 87,
      "outputs": [
        {
          "output_type": "stream",
          "text": [
            "shape:  (3312, 2560)\n"
          ],
          "name": "stdout"
        },
        {
          "output_type": "display_data",
          "data": {
            "image/png": "[encoded data removed]",
            "text/plain": [
              "<Figure size 432x288 with 1 Axes>"
            ]
          },
          "metadata": {
            "needs_background": "light"
          }
        },
        {
          "output_type": "stream",
          "text": [
            "shape:  (3312, 2560)\n"
          ],
          "name": "stdout"
        },
        {
          "output_type": "display_data",
          "data": {
            "image/png": "[encoded data removed]",
            "text/plain": [
              "<Figure size 432x288 with 1 Axes>"
            ]
          },
          "metadata": {
            "needs_background": "light"
          }
        },
        {
          "output_type": "stream",
          "text": [
            "shape:  (3312, 2560)\n"
          ],
          "name": "stdout"
        },
        {
          "output_type": "display_data",
          "data": {
            "image/png": "[encoded data removed]",
            "text/plain": [
              "<Figure size 432x288 with 1 Axes>"
            ]
          },
          "metadata": {
            "needs_background": "light"
          }
        },
        {
          "output_type": "stream",
          "text": [
            "shape:  (3312, 2560)\n"
          ],
          "name": "stdout"
        },
        {
          "output_type": "display_data",
          "data": {
            "image/png": "[encoded data removed]",
            "text/plain": [
              "<Figure size 432x288 with 1 Axes>"
            ]
          },
          "metadata": {
            "needs_background": "light"
          }
        },
        {
          "output_type": "stream",
          "text": [
            "shape:  (3312, 2560)\n"
          ],
          "name": "stdout"
        },
        {
          "output_type": "display_data",
          "data": {
            "image/png": "[encoded data removed]",
            "text/plain": [
              "<Figure size 432x288 with 1 Axes>"
            ]
          },
          "metadata": {
            "needs_background": "light"
          }
        }
      ]
    },
    {
      "cell_type": "code",
      "metadata": {
        "id": "HMc1_cPGSLjE"
      },
      "source": [
        ""
      ],
      "execution_count": null,
      "outputs": []
    }
  ]
}