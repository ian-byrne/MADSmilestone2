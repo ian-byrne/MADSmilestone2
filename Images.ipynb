{
  "nbformat": 4,
  "nbformat_minor": 0,
  "metadata": {
    "colab": {
      "name": "Images.ipynb",
      "provenance": [],
      "include_colab_link": true
    },
    "kernelspec": {
      "name": "python3",
      "display_name": "Python 3"
    },
    "language_info": {
      "name": "python"
    }
  },
  "cells": [
    {
      "cell_type": "markdown",
      "metadata": {
        "id": "view-in-github",
        "colab_type": "text"
      },
      "source": [
        "<a href=\"https://colab.research.google.com/github/ian-byrne/MADSmilestone2/blob/main/Images.ipynb\" target=\"_parent\"><img src=\"https://colab.research.google.com/assets/colab-badge.svg\" alt=\"Open In Colab\"/></a>"
      ]
    },
    {
      "cell_type": "code",
      "metadata": {
        "id": "h9sukXLSAVye"
      },
      "source": [
        "# Clone the entire repo.\n",
        "!git clone -l -s https://github.com/ian-byrne/MADSmilestone2.git\n",
        "\n",
        "# Change directory into cloned repo\n",
        "%cd MADSmilestone2\n",
        "\n",
        "# List repo contents\n",
        "!ls"
      ],
      "execution_count": null,
      "outputs": []
    },
    {
      "cell_type": "code",
      "metadata": {
        "id": "P6KKO2EbmFvY"
      },
      "source": [
        "#!rm -rf "
      ],
      "execution_count": null,
      "outputs": []
    },
    {
      "cell_type": "code",
      "metadata": {
        "id": "EZiPijjnAPrP"
      },
      "source": [
        "import numpy as np\n",
        "import matplotlib.pyplot as plt\n",
        "import io\n",
        "import requests\n",
        "from PIL import Image\n",
        "import Images \n"
      ],
      "execution_count": null,
      "outputs": []
    },
    {
      "cell_type": "code",
      "metadata": {
        "id": "fjKtZqXXNJSo"
      },
      "source": [
        "def get_images_test():\n",
        "    counter = 0\n",
        "    store_images = []\n",
        "    image_data = []\n",
        "\n",
        "    for id, array in id_rounds.items():\n",
        "        for value in array:\n",
        "            if counter < 1:\n",
        "                url = 'https://clockimages.s3.us-west-1.amazonaws.com/NHATS_R' + str(\n",
        "                    id) + '_ClockDrawings/' + value + '.tif'\n",
        "\n",
        "                response = requests.get(url)  # , stream = True)\n",
        "                f = io.BytesIO(response.content)\n",
        "                im_pil = Image.open(f)\n",
        "                imarray1 = np.array(im_pil)\n",
        "                # imarray = np.logical_not(np.array(im)).astype(int) #bool to int, inverts values\n",
        "                # store_images.append(imarray1)\n",
        "                image_data.append(get_coordinates(imarray1))  # , imarray1.shape[0], imarray1.shape[1]))\n",
        "                viz_image(imarray1, im_pil)\n",
        "                counter += 1\n",
        "\n",
        "    return image_data\n",
        "\n",
        "\n",
        "def get_coordinates(data):#, height, width):\n",
        "  image = data\n",
        "  image_array = []\n",
        "\n",
        "  #for y in range(0, height):\n",
        "    #for x in range(0, width):\n",
        "      #if image[y][x] == False:\n",
        "        #image_array.append((y, x))\n",
        "  image_array = np.where(image == False) #np.argwhere( image == False)\n",
        "  return image_array\n",
        "\n",
        "\n",
        "def viz_image(image, image_pil):\n",
        "  print(\"shape: \", image.shape)\n",
        "\n",
        "  # revert\n",
        "  im2 = Image.fromarray(np.array(image_pil))\n",
        "  plt.imshow(im2)\n",
        "  plt.show()\n",
        "\n"
      ],
      "execution_count": null,
      "outputs": []
    }
  ]
}